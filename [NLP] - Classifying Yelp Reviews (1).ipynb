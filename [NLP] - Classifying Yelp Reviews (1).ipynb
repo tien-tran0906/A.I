{
 "cells":[
  {
   "cell_type":"markdown",
   "source":[
    "# Natural Language Processing\n",
    "Classifying Yelp Reviews into 1 star through 5 star categories, based on the text content in the reviews."
   ],
   "attachments":{
    
   },
   "metadata":{
    "datalore":{
     "node_id":"gaow9e4gB0ZwtSGRYA3F1E",
     "type":"MD",
     "hide_input_from_viewers":true,
     "hide_output_from_viewers":true
    }
   }
  },
  {
   "cell_type":"code",
   "source":[
    "!pip install nltk"
   ],
   "execution_count":2,
   "outputs":[
    {
     "name":"stdout",
     "text":[
      "Collecting nltk\r\n",
      "  Downloading nltk-3.8.1-py3-none-any.whl (1.5 MB)\r\n",
      "\u001b[?25l     \u001b[90m━━━━━━━━━━━━━━━━━━━━━━━━━━━━━━━━━━━━━━━━\u001b[0m \u001b[32m0.0\/1.5 MB\u001b[0m \u001b[31m?\u001b[0m eta \u001b[36m-:--:--\u001b[0m\r\u001b[2K     \u001b[90m━━━━━━━━━━━━━━━━━━━━━━━━━━━━━━━━━━━━━━━━\u001b[0m \u001b[32m1.5\/1.5 MB\u001b[0m \u001b[31m53.1 MB\/s\u001b[0m eta \u001b[36m0:00:00\u001b[0m\r\n",
      "\u001b[?25hRequirement already satisfied: click in \/opt\/python\/envs\/default\/lib\/python3.8\/site-packages (from nltk) (8.1.7)\r\n",
      "Requirement already satisfied: joblib in \/opt\/python\/envs\/default\/lib\/python3.8\/site-packages (from nltk) (1.3.2)\r\n",
      "Requirement already satisfied: regex>=2021.8.3 in \/opt\/python\/envs\/default\/lib\/python3.8\/site-packages (from nltk) (2023.8.8)\r\n",
      "Requirement already satisfied: tqdm in \/opt\/python\/envs\/default\/lib\/python3.8\/site-packages (from nltk) (4.66.1)\r\n",
      "Installing collected packages: nltk\r\n",
      "Successfully installed nltk-3.8.1\r\n",
      "\r\n",
      "\u001b[1m[\u001b[0m\u001b[34;49mnotice\u001b[0m\u001b[1;39;49m]\u001b[0m\u001b[39;49m A new release of pip is available: \u001b[0m\u001b[31;49m23.1.2\u001b[0m\u001b[39;49m -> \u001b[0m\u001b[32;49m23.2.1\u001b[0m\r\n",
      "\u001b[1m[\u001b[0m\u001b[34;49mnotice\u001b[0m\u001b[1;39;49m]\u001b[0m\u001b[39;49m To update, run: \u001b[0m\u001b[32;49mpip install --upgrade pip\u001b[0m\r\n"
     ],
     "output_type":"stream"
    }
   ],
   "metadata":{
    "datalore":{
     "node_id":"a3vUw1T0rDUHJEd9I8lO5q",
     "type":"CODE",
     "hide_input_from_viewers":true,
     "hide_output_from_viewers":true
    }
   }
  },
  {
   "cell_type":"code",
   "source":[
    "import pandas as pd\n",
    "import numpy as np\n",
    "import seaborn as sns\n",
    "import nltk\n",
    "import matplotlib.pyplot as plt"
   ],
   "execution_count":7,
   "outputs":[
    
   ],
   "metadata":{
    "datalore":{
     "node_id":"CR1lQK4QIgEbgPjiV5ZH2N",
     "type":"CODE",
     "hide_input_from_viewers":true,
     "hide_output_from_viewers":true
    }
   }
  },
  {
   "cell_type":"code",
   "source":[
    "df = pd.read_csv('\/data\/notebook_files\/yelp.csv')\n",
    "df"
   ],
   "execution_count":2,
   "outputs":[
    {
     "data":{
      "text\/html":[
       "<div>\n",
       "<style scoped>\n",
       "    .dataframe tbody tr th:only-of-type {\n",
       "        vertical-align: middle;\n",
       "    }\n",
       "\n",
       "    .dataframe tbody tr th {\n",
       "        vertical-align: top;\n",
       "    }\n",
       "\n",
       "    .dataframe thead th {\n",
       "        text-align: right;\n",
       "    }\n",
       "<\/style>\n",
       "<table border=\"1\" class=\"dataframe\">\n",
       "  <thead>\n",
       "    <tr style=\"text-align: right;\">\n",
       "      <th><\/th>\n",
       "      <th>business_id<\/th>\n",
       "      <th>date<\/th>\n",
       "      <th>review_id<\/th>\n",
       "      <th>stars<\/th>\n",
       "      <th>text<\/th>\n",
       "      <th>type<\/th>\n",
       "      <th>user_id<\/th>\n",
       "      <th>cool<\/th>\n",
       "      <th>useful<\/th>\n",
       "      <th>funny<\/th>\n",
       "    <\/tr>\n",
       "  <\/thead>\n",
       "  <tbody>\n",
       "    <tr>\n",
       "      <th>0<\/th>\n",
       "      <td>9yKzy9PApeiPPOUJEtnvkg<\/td>\n",
       "      <td>2011-01-26<\/td>\n",
       "      <td>fWKvX83p0-ka4JS3dc6E5A<\/td>\n",
       "      <td>5<\/td>\n",
       "      <td>My wife took me here on my birthday for breakf...<\/td>\n",
       "      <td>review<\/td>\n",
       "      <td>rLtl8ZkDX5vH5nAx9C3q5Q<\/td>\n",
       "      <td>2<\/td>\n",
       "      <td>5<\/td>\n",
       "      <td>0<\/td>\n",
       "    <\/tr>\n",
       "    <tr>\n",
       "      <th>1<\/th>\n",
       "      <td>ZRJwVLyzEJq1VAihDhYiow<\/td>\n",
       "      <td>2011-07-27<\/td>\n",
       "      <td>IjZ33sJrzXqU-0X6U8NwyA<\/td>\n",
       "      <td>5<\/td>\n",
       "      <td>I have no idea why some people give bad review...<\/td>\n",
       "      <td>review<\/td>\n",
       "      <td>0a2KyEL0d3Yb1V6aivbIuQ<\/td>\n",
       "      <td>0<\/td>\n",
       "      <td>0<\/td>\n",
       "      <td>0<\/td>\n",
       "    <\/tr>\n",
       "    <tr>\n",
       "      <th>2<\/th>\n",
       "      <td>6oRAC4uyJCsJl1X0WZpVSA<\/td>\n",
       "      <td>2012-06-14<\/td>\n",
       "      <td>IESLBzqUCLdSzSqm0eCSxQ<\/td>\n",
       "      <td>4<\/td>\n",
       "      <td>love the gyro plate. Rice is so good and I als...<\/td>\n",
       "      <td>review<\/td>\n",
       "      <td>0hT2KtfLiobPvh6cDC8JQg<\/td>\n",
       "      <td>0<\/td>\n",
       "      <td>1<\/td>\n",
       "      <td>0<\/td>\n",
       "    <\/tr>\n",
       "    <tr>\n",
       "      <th>3<\/th>\n",
       "      <td>_1QQZuf4zZOyFCvXc0o6Vg<\/td>\n",
       "      <td>2010-05-27<\/td>\n",
       "      <td>G-WvGaISbqqaMHlNnByodA<\/td>\n",
       "      <td>5<\/td>\n",
       "      <td>Rosie, Dakota, and I LOVE Chaparral Dog Park!!...<\/td>\n",
       "      <td>review<\/td>\n",
       "      <td>uZetl9T0NcROGOyFfughhg<\/td>\n",
       "      <td>1<\/td>\n",
       "      <td>2<\/td>\n",
       "      <td>0<\/td>\n",
       "    <\/tr>\n",
       "    <tr>\n",
       "      <th>4<\/th>\n",
       "      <td>6ozycU1RpktNG2-1BroVtw<\/td>\n",
       "      <td>2012-01-05<\/td>\n",
       "      <td>1uJFq2r5QfJG_6ExMRCaGw<\/td>\n",
       "      <td>5<\/td>\n",
       "      <td>General Manager Scott Petello is a good egg!!!...<\/td>\n",
       "      <td>review<\/td>\n",
       "      <td>vYmM4KTsC8ZfQBg-j5MWkw<\/td>\n",
       "      <td>0<\/td>\n",
       "      <td>0<\/td>\n",
       "      <td>0<\/td>\n",
       "    <\/tr>\n",
       "    <tr>\n",
       "      <th>...<\/th>\n",
       "      <td>...<\/td>\n",
       "      <td>...<\/td>\n",
       "      <td>...<\/td>\n",
       "      <td>...<\/td>\n",
       "      <td>...<\/td>\n",
       "      <td>...<\/td>\n",
       "      <td>...<\/td>\n",
       "      <td>...<\/td>\n",
       "      <td>...<\/td>\n",
       "      <td>...<\/td>\n",
       "    <\/tr>\n",
       "    <tr>\n",
       "      <th>9995<\/th>\n",
       "      <td>VY_tvNUCCXGXQeSvJl757Q<\/td>\n",
       "      <td>2012-07-28<\/td>\n",
       "      <td>Ubyfp2RSDYW0g7Mbr8N3iA<\/td>\n",
       "      <td>3<\/td>\n",
       "      <td>First visit...Had lunch here today - used my G...<\/td>\n",
       "      <td>review<\/td>\n",
       "      <td>_eqQoPtQ3e3UxLE4faT6ow<\/td>\n",
       "      <td>1<\/td>\n",
       "      <td>2<\/td>\n",
       "      <td>0<\/td>\n",
       "    <\/tr>\n",
       "    <tr>\n",
       "      <th>9996<\/th>\n",
       "      <td>EKzMHI1tip8rC1-ZAy64yg<\/td>\n",
       "      <td>2012-01-18<\/td>\n",
       "      <td>2XyIOQKbVFb6uXQdJ0RzlQ<\/td>\n",
       "      <td>4<\/td>\n",
       "      <td>Should be called house of deliciousness!\\n\\nI ...<\/td>\n",
       "      <td>review<\/td>\n",
       "      <td>ROru4uk5SaYc3rg8IU7SQw<\/td>\n",
       "      <td>0<\/td>\n",
       "      <td>0<\/td>\n",
       "      <td>0<\/td>\n",
       "    <\/tr>\n",
       "    <tr>\n",
       "      <th>9997<\/th>\n",
       "      <td>53YGfwmbW73JhFiemNeyzQ<\/td>\n",
       "      <td>2010-11-16<\/td>\n",
       "      <td>jyznYkIbpqVmlsZxSDSypA<\/td>\n",
       "      <td>4<\/td>\n",
       "      <td>I recently visited Olive and Ivy for business ...<\/td>\n",
       "      <td>review<\/td>\n",
       "      <td>gGbN1aKQHMgfQZkqlsuwzg<\/td>\n",
       "      <td>0<\/td>\n",
       "      <td>0<\/td>\n",
       "      <td>0<\/td>\n",
       "    <\/tr>\n",
       "    <tr>\n",
       "      <th>9998<\/th>\n",
       "      <td>9SKdOoDHcFoxK5ZtsgHJoA<\/td>\n",
       "      <td>2012-12-02<\/td>\n",
       "      <td>5UKq9WQE1qQbJ0DJbc-B6Q<\/td>\n",
       "      <td>2<\/td>\n",
       "      <td>My nephew just moved to Scottsdale recently so...<\/td>\n",
       "      <td>review<\/td>\n",
       "      <td>0lyVoNazXa20WzUyZPLaQQ<\/td>\n",
       "      <td>0<\/td>\n",
       "      <td>0<\/td>\n",
       "      <td>0<\/td>\n",
       "    <\/tr>\n",
       "    <tr>\n",
       "      <th>9999<\/th>\n",
       "      <td>pF7uRzygyZsltbmVpjIyvw<\/td>\n",
       "      <td>2010-10-16<\/td>\n",
       "      <td>vWSmOhg2ID1MNZHaWapGbA<\/td>\n",
       "      <td>5<\/td>\n",
       "      <td>4-5 locations.. all 4.5 star average.. I think...<\/td>\n",
       "      <td>review<\/td>\n",
       "      <td>KSBFytcdjPKZgXKQnYQdkA<\/td>\n",
       "      <td>0<\/td>\n",
       "      <td>0<\/td>\n",
       "      <td>0<\/td>\n",
       "    <\/tr>\n",
       "  <\/tbody>\n",
       "<\/table>\n",
       "<p>10000 rows × 10 columns<\/p>\n",
       "<\/div>"
      ]
     },
     "metadata":{
      
     },
     "output_type":"display_data"
    }
   ],
   "metadata":{
    "datalore":{
     "node_id":"mBR5GsXkChz0ELFP87fydR",
     "type":"CODE",
     "hide_input_from_viewers":true,
     "hide_output_from_viewers":true
    }
   }
  },
  {
   "cell_type":"code",
   "source":[
    "df.info()"
   ],
   "execution_count":3,
   "outputs":[
    {
     "name":"stdout",
     "text":[
      "<class 'pandas.core.frame.DataFrame'>\n",
      "RangeIndex: 10000 entries, 0 to 9999\n",
      "Data columns (total 10 columns):\n",
      " #   Column       Non-Null Count  Dtype \n",
      "---  ------       --------------  ----- \n",
      " 0   business_id  10000 non-null  object\n",
      " 1   date         10000 non-null  object\n",
      " 2   review_id    10000 non-null  object\n",
      " 3   stars        10000 non-null  int64 \n",
      " 4   text         10000 non-null  object\n",
      " 5   type         10000 non-null  object\n",
      " 6   user_id      10000 non-null  object\n",
      " 7   cool         10000 non-null  int64 \n",
      " 8   useful       10000 non-null  int64 \n",
      " 9   funny        10000 non-null  int64 \n",
      "dtypes: int64(4), object(6)\n",
      "memory usage: 781.4+ KB\n"
     ],
     "output_type":"stream"
    }
   ],
   "metadata":{
    "datalore":{
     "node_id":"ANFh0BM3WRuCM4XdwmF8WG",
     "type":"CODE",
     "hide_input_from_viewers":true,
     "hide_output_from_viewers":true
    }
   }
  },
  {
   "cell_type":"code",
   "source":[
    "# Create a new column contains the number of words in the text column\n",
    "df['text length'] = df['text'].apply(lambda x: len(x.split()))\n",
    "df"
   ],
   "execution_count":6,
   "outputs":[
    {
     "data":{
      "text\/html":[
       "<div>\n",
       "<style scoped>\n",
       "    .dataframe tbody tr th:only-of-type {\n",
       "        vertical-align: middle;\n",
       "    }\n",
       "\n",
       "    .dataframe tbody tr th {\n",
       "        vertical-align: top;\n",
       "    }\n",
       "\n",
       "    .dataframe thead th {\n",
       "        text-align: right;\n",
       "    }\n",
       "<\/style>\n",
       "<table border=\"1\" class=\"dataframe\">\n",
       "  <thead>\n",
       "    <tr style=\"text-align: right;\">\n",
       "      <th><\/th>\n",
       "      <th>business_id<\/th>\n",
       "      <th>date<\/th>\n",
       "      <th>review_id<\/th>\n",
       "      <th>stars<\/th>\n",
       "      <th>text<\/th>\n",
       "      <th>type<\/th>\n",
       "      <th>user_id<\/th>\n",
       "      <th>cool<\/th>\n",
       "      <th>useful<\/th>\n",
       "      <th>funny<\/th>\n",
       "      <th>text length<\/th>\n",
       "    <\/tr>\n",
       "  <\/thead>\n",
       "  <tbody>\n",
       "    <tr>\n",
       "      <th>0<\/th>\n",
       "      <td>9yKzy9PApeiPPOUJEtnvkg<\/td>\n",
       "      <td>2011-01-26<\/td>\n",
       "      <td>fWKvX83p0-ka4JS3dc6E5A<\/td>\n",
       "      <td>5<\/td>\n",
       "      <td>My wife took me here on my birthday for breakf...<\/td>\n",
       "      <td>review<\/td>\n",
       "      <td>rLtl8ZkDX5vH5nAx9C3q5Q<\/td>\n",
       "      <td>2<\/td>\n",
       "      <td>5<\/td>\n",
       "      <td>0<\/td>\n",
       "      <td>155<\/td>\n",
       "    <\/tr>\n",
       "    <tr>\n",
       "      <th>1<\/th>\n",
       "      <td>ZRJwVLyzEJq1VAihDhYiow<\/td>\n",
       "      <td>2011-07-27<\/td>\n",
       "      <td>IjZ33sJrzXqU-0X6U8NwyA<\/td>\n",
       "      <td>5<\/td>\n",
       "      <td>I have no idea why some people give bad review...<\/td>\n",
       "      <td>review<\/td>\n",
       "      <td>0a2KyEL0d3Yb1V6aivbIuQ<\/td>\n",
       "      <td>0<\/td>\n",
       "      <td>0<\/td>\n",
       "      <td>0<\/td>\n",
       "      <td>257<\/td>\n",
       "    <\/tr>\n",
       "    <tr>\n",
       "      <th>2<\/th>\n",
       "      <td>6oRAC4uyJCsJl1X0WZpVSA<\/td>\n",
       "      <td>2012-06-14<\/td>\n",
       "      <td>IESLBzqUCLdSzSqm0eCSxQ<\/td>\n",
       "      <td>4<\/td>\n",
       "      <td>love the gyro plate. Rice is so good and I als...<\/td>\n",
       "      <td>review<\/td>\n",
       "      <td>0hT2KtfLiobPvh6cDC8JQg<\/td>\n",
       "      <td>0<\/td>\n",
       "      <td>1<\/td>\n",
       "      <td>0<\/td>\n",
       "      <td>16<\/td>\n",
       "    <\/tr>\n",
       "    <tr>\n",
       "      <th>3<\/th>\n",
       "      <td>_1QQZuf4zZOyFCvXc0o6Vg<\/td>\n",
       "      <td>2010-05-27<\/td>\n",
       "      <td>G-WvGaISbqqaMHlNnByodA<\/td>\n",
       "      <td>5<\/td>\n",
       "      <td>Rosie, Dakota, and I LOVE Chaparral Dog Park!!...<\/td>\n",
       "      <td>review<\/td>\n",
       "      <td>uZetl9T0NcROGOyFfughhg<\/td>\n",
       "      <td>1<\/td>\n",
       "      <td>2<\/td>\n",
       "      <td>0<\/td>\n",
       "      <td>76<\/td>\n",
       "    <\/tr>\n",
       "    <tr>\n",
       "      <th>4<\/th>\n",
       "      <td>6ozycU1RpktNG2-1BroVtw<\/td>\n",
       "      <td>2012-01-05<\/td>\n",
       "      <td>1uJFq2r5QfJG_6ExMRCaGw<\/td>\n",
       "      <td>5<\/td>\n",
       "      <td>General Manager Scott Petello is a good egg!!!...<\/td>\n",
       "      <td>review<\/td>\n",
       "      <td>vYmM4KTsC8ZfQBg-j5MWkw<\/td>\n",
       "      <td>0<\/td>\n",
       "      <td>0<\/td>\n",
       "      <td>0<\/td>\n",
       "      <td>86<\/td>\n",
       "    <\/tr>\n",
       "    <tr>\n",
       "      <th>...<\/th>\n",
       "      <td>...<\/td>\n",
       "      <td>...<\/td>\n",
       "      <td>...<\/td>\n",
       "      <td>...<\/td>\n",
       "      <td>...<\/td>\n",
       "      <td>...<\/td>\n",
       "      <td>...<\/td>\n",
       "      <td>...<\/td>\n",
       "      <td>...<\/td>\n",
       "      <td>...<\/td>\n",
       "      <td>...<\/td>\n",
       "    <\/tr>\n",
       "    <tr>\n",
       "      <th>9995<\/th>\n",
       "      <td>VY_tvNUCCXGXQeSvJl757Q<\/td>\n",
       "      <td>2012-07-28<\/td>\n",
       "      <td>Ubyfp2RSDYW0g7Mbr8N3iA<\/td>\n",
       "      <td>3<\/td>\n",
       "      <td>First visit...Had lunch here today - used my G...<\/td>\n",
       "      <td>review<\/td>\n",
       "      <td>_eqQoPtQ3e3UxLE4faT6ow<\/td>\n",
       "      <td>1<\/td>\n",
       "      <td>2<\/td>\n",
       "      <td>0<\/td>\n",
       "      <td>120<\/td>\n",
       "    <\/tr>\n",
       "    <tr>\n",
       "      <th>9996<\/th>\n",
       "      <td>EKzMHI1tip8rC1-ZAy64yg<\/td>\n",
       "      <td>2012-01-18<\/td>\n",
       "      <td>2XyIOQKbVFb6uXQdJ0RzlQ<\/td>\n",
       "      <td>4<\/td>\n",
       "      <td>Should be called house of deliciousness!\\n\\nI ...<\/td>\n",
       "      <td>review<\/td>\n",
       "      <td>ROru4uk5SaYc3rg8IU7SQw<\/td>\n",
       "      <td>0<\/td>\n",
       "      <td>0<\/td>\n",
       "      <td>0<\/td>\n",
       "      <td>161<\/td>\n",
       "    <\/tr>\n",
       "    <tr>\n",
       "      <th>9997<\/th>\n",
       "      <td>53YGfwmbW73JhFiemNeyzQ<\/td>\n",
       "      <td>2010-11-16<\/td>\n",
       "      <td>jyznYkIbpqVmlsZxSDSypA<\/td>\n",
       "      <td>4<\/td>\n",
       "      <td>I recently visited Olive and Ivy for business ...<\/td>\n",
       "      <td>review<\/td>\n",
       "      <td>gGbN1aKQHMgfQZkqlsuwzg<\/td>\n",
       "      <td>0<\/td>\n",
       "      <td>0<\/td>\n",
       "      <td>0<\/td>\n",
       "      <td>262<\/td>\n",
       "    <\/tr>\n",
       "    <tr>\n",
       "      <th>9998<\/th>\n",
       "      <td>9SKdOoDHcFoxK5ZtsgHJoA<\/td>\n",
       "      <td>2012-12-02<\/td>\n",
       "      <td>5UKq9WQE1qQbJ0DJbc-B6Q<\/td>\n",
       "      <td>2<\/td>\n",
       "      <td>My nephew just moved to Scottsdale recently so...<\/td>\n",
       "      <td>review<\/td>\n",
       "      <td>0lyVoNazXa20WzUyZPLaQQ<\/td>\n",
       "      <td>0<\/td>\n",
       "      <td>0<\/td>\n",
       "      <td>0<\/td>\n",
       "      <td>147<\/td>\n",
       "    <\/tr>\n",
       "    <tr>\n",
       "      <th>9999<\/th>\n",
       "      <td>pF7uRzygyZsltbmVpjIyvw<\/td>\n",
       "      <td>2010-10-16<\/td>\n",
       "      <td>vWSmOhg2ID1MNZHaWapGbA<\/td>\n",
       "      <td>5<\/td>\n",
       "      <td>4-5 locations.. all 4.5 star average.. I think...<\/td>\n",
       "      <td>review<\/td>\n",
       "      <td>KSBFytcdjPKZgXKQnYQdkA<\/td>\n",
       "      <td>0<\/td>\n",
       "      <td>0<\/td>\n",
       "      <td>0<\/td>\n",
       "      <td>79<\/td>\n",
       "    <\/tr>\n",
       "  <\/tbody>\n",
       "<\/table>\n",
       "<p>10000 rows × 11 columns<\/p>\n",
       "<\/div>"
      ]
     },
     "metadata":{
      
     },
     "output_type":"display_data"
    }
   ],
   "metadata":{
    "datalore":{
     "node_id":"aZ77bHC9QWeHcLmNvyMtI0",
     "type":"CODE",
     "hide_input_from_viewers":true,
     "hide_output_from_viewers":true
    }
   }
  },
  {
   "cell_type":"markdown",
   "source":[
    "# EDA"
   ],
   "attachments":{
    
   },
   "metadata":{
    "datalore":{
     "node_id":"at5qQVHH7nKgGuQJ4kfQiz",
     "type":"MD",
     "hide_input_from_viewers":true,
     "hide_output_from_viewers":true
    }
   }
  },
  {
   "cell_type":"code",
   "source":[
    "# Create grid to see the length with the stars\n",
    "g = sns.FacetGrid(df, col='stars')\n",
    "g.map(plt.hist, 'text length')"
   ],
   "execution_count":8,
   "outputs":[
    {
     "data":{
      "text\/plain":[
       "<seaborn.axisgrid.FacetGrid at 0x7f09bc0c02b0>"
      ]
     },
     "metadata":{
      
     },
     "output_type":"display_data"
    },
    {
     "data":{
      "image\/png":"[encoded data removed]"
     },
     "metadata":{
      "image\/png":{
       
      }
     },
     "output_type":"display_data"
    }
   ],
   "metadata":{
    "datalore":{
     "node_id":"0niFHHcCqoEjHIJWCgeRAP",
     "type":"CODE",
     "hide_input_from_viewers":true,
     "hide_output_from_viewers":true
    }
   }
  },
  {
   "cell_type":"code",
   "source":[
    "# Create a plot to see the number of occurences of each type of rating\n",
    "sns.countplot(x='stars', data=df, palette='rainbow')"
   ],
   "execution_count":9,
   "outputs":[
    {
     "data":{
      "text\/plain":[
       "<Axes: xlabel='stars', ylabel='count'>"
      ]
     },
     "metadata":{
      
     },
     "output_type":"display_data"
    },
    {
     "data":{
      "image\/png":"[encoded data removed]"
     },
     "metadata":{
      "image\/png":{
       
      }
     },
     "output_type":"display_data"
    }
   ],
   "metadata":{
    "datalore":{
     "node_id":"KNPGIx79ZlYnX7WLqZKVRg",
     "type":"CODE",
     "hide_input_from_viewers":true,
     "hide_output_from_viewers":true
    }
   }
  },
  {
   "cell_type":"code",
   "source":[
    "stars = df.groupby('stars').mean()\n",
    "stars\n",
    "\n",
    "# Seems like 4 star reviews are the most cool, 1 star are the most useful, 2 star are the most funny\n",
    "# 1 and 2 stars are the longest"
   ],
   "execution_count":10,
   "outputs":[
    {
     "name":"stderr",
     "text":[
      "<ipython-input-10-45b3ae0f7bee>:1: FutureWarning: The default value of numeric_only in DataFrameGroupBy.mean is deprecated. In a future version, numeric_only will default to False. Either specify numeric_only or select only columns which should be valid for the function.\n",
      "  stars = df.groupby('stars').mean()\n"
     ],
     "output_type":"stream"
    },
    {
     "data":{
      "text\/html":[
       "<div>\n",
       "<style scoped>\n",
       "    .dataframe tbody tr th:only-of-type {\n",
       "        vertical-align: middle;\n",
       "    }\n",
       "\n",
       "    .dataframe tbody tr th {\n",
       "        vertical-align: top;\n",
       "    }\n",
       "\n",
       "    .dataframe thead th {\n",
       "        text-align: right;\n",
       "    }\n",
       "<\/style>\n",
       "<table border=\"1\" class=\"dataframe\">\n",
       "  <thead>\n",
       "    <tr style=\"text-align: right;\">\n",
       "      <th><\/th>\n",
       "      <th>cool<\/th>\n",
       "      <th>useful<\/th>\n",
       "      <th>funny<\/th>\n",
       "      <th>text length<\/th>\n",
       "    <\/tr>\n",
       "    <tr>\n",
       "      <th>stars<\/th>\n",
       "      <th><\/th>\n",
       "      <th><\/th>\n",
       "      <th><\/th>\n",
       "      <th><\/th>\n",
       "    <\/tr>\n",
       "  <\/thead>\n",
       "  <tbody>\n",
       "    <tr>\n",
       "      <th>1<\/th>\n",
       "      <td>0.576769<\/td>\n",
       "      <td>1.604806<\/td>\n",
       "      <td>1.056075<\/td>\n",
       "      <td>153.953271<\/td>\n",
       "    <\/tr>\n",
       "    <tr>\n",
       "      <th>2<\/th>\n",
       "      <td>0.719525<\/td>\n",
       "      <td>1.563107<\/td>\n",
       "      <td>0.875944<\/td>\n",
       "      <td>156.435814<\/td>\n",
       "    <\/tr>\n",
       "    <tr>\n",
       "      <th>3<\/th>\n",
       "      <td>0.788501<\/td>\n",
       "      <td>1.306639<\/td>\n",
       "      <td>0.694730<\/td>\n",
       "      <td>140.714579<\/td>\n",
       "    <\/tr>\n",
       "    <tr>\n",
       "      <th>4<\/th>\n",
       "      <td>0.954623<\/td>\n",
       "      <td>1.395916<\/td>\n",
       "      <td>0.670448<\/td>\n",
       "      <td>131.174135<\/td>\n",
       "    <\/tr>\n",
       "    <tr>\n",
       "      <th>5<\/th>\n",
       "      <td>0.944261<\/td>\n",
       "      <td>1.381780<\/td>\n",
       "      <td>0.608631<\/td>\n",
       "      <td>114.463590<\/td>\n",
       "    <\/tr>\n",
       "  <\/tbody>\n",
       "<\/table>\n",
       "<\/div>"
      ]
     },
     "metadata":{
      
     },
     "output_type":"display_data"
    }
   ],
   "metadata":{
    "datalore":{
     "node_id":"UpuYBTGl41nv4CfqWna2Hx",
     "type":"CODE",
     "hide_input_from_viewers":true,
     "hide_output_from_viewers":true
    }
   }
  },
  {
   "cell_type":"markdown",
   "source":[
    "# NLP Classification - Using CountVectorizer and Sklearn's Naive Bayes"
   ],
   "attachments":{
    
   },
   "metadata":{
    "datalore":{
     "node_id":"9Xn6h7c8clov2zEmOwjTIe",
     "type":"MD",
     "hide_input_from_viewers":true,
     "hide_output_from_viewers":true
    }
   }
  },
  {
   "cell_type":"code",
   "source":[
    "# Create a new dataframe, that only contains 1 and 5 star reviews\n",
    "yelp_class = df[(df.stars==1) | (df.stars==5)]\n",
    "yelp_class"
   ],
   "execution_count":12,
   "outputs":[
    {
     "data":{
      "text\/html":[
       "<div>\n",
       "<style scoped>\n",
       "    .dataframe tbody tr th:only-of-type {\n",
       "        vertical-align: middle;\n",
       "    }\n",
       "\n",
       "    .dataframe tbody tr th {\n",
       "        vertical-align: top;\n",
       "    }\n",
       "\n",
       "    .dataframe thead th {\n",
       "        text-align: right;\n",
       "    }\n",
       "<\/style>\n",
       "<table border=\"1\" class=\"dataframe\">\n",
       "  <thead>\n",
       "    <tr style=\"text-align: right;\">\n",
       "      <th><\/th>\n",
       "      <th>business_id<\/th>\n",
       "      <th>date<\/th>\n",
       "      <th>review_id<\/th>\n",
       "      <th>stars<\/th>\n",
       "      <th>text<\/th>\n",
       "      <th>type<\/th>\n",
       "      <th>user_id<\/th>\n",
       "      <th>cool<\/th>\n",
       "      <th>useful<\/th>\n",
       "      <th>funny<\/th>\n",
       "      <th>text length<\/th>\n",
       "    <\/tr>\n",
       "  <\/thead>\n",
       "  <tbody>\n",
       "    <tr>\n",
       "      <th>0<\/th>\n",
       "      <td>9yKzy9PApeiPPOUJEtnvkg<\/td>\n",
       "      <td>2011-01-26<\/td>\n",
       "      <td>fWKvX83p0-ka4JS3dc6E5A<\/td>\n",
       "      <td>5<\/td>\n",
       "      <td>My wife took me here on my birthday for breakf...<\/td>\n",
       "      <td>review<\/td>\n",
       "      <td>rLtl8ZkDX5vH5nAx9C3q5Q<\/td>\n",
       "      <td>2<\/td>\n",
       "      <td>5<\/td>\n",
       "      <td>0<\/td>\n",
       "      <td>155<\/td>\n",
       "    <\/tr>\n",
       "    <tr>\n",
       "      <th>1<\/th>\n",
       "      <td>ZRJwVLyzEJq1VAihDhYiow<\/td>\n",
       "      <td>2011-07-27<\/td>\n",
       "      <td>IjZ33sJrzXqU-0X6U8NwyA<\/td>\n",
       "      <td>5<\/td>\n",
       "      <td>I have no idea why some people give bad review...<\/td>\n",
       "      <td>review<\/td>\n",
       "      <td>0a2KyEL0d3Yb1V6aivbIuQ<\/td>\n",
       "      <td>0<\/td>\n",
       "      <td>0<\/td>\n",
       "      <td>0<\/td>\n",
       "      <td>257<\/td>\n",
       "    <\/tr>\n",
       "    <tr>\n",
       "      <th>3<\/th>\n",
       "      <td>_1QQZuf4zZOyFCvXc0o6Vg<\/td>\n",
       "      <td>2010-05-27<\/td>\n",
       "      <td>G-WvGaISbqqaMHlNnByodA<\/td>\n",
       "      <td>5<\/td>\n",
       "      <td>Rosie, Dakota, and I LOVE Chaparral Dog Park!!...<\/td>\n",
       "      <td>review<\/td>\n",
       "      <td>uZetl9T0NcROGOyFfughhg<\/td>\n",
       "      <td>1<\/td>\n",
       "      <td>2<\/td>\n",
       "      <td>0<\/td>\n",
       "      <td>76<\/td>\n",
       "    <\/tr>\n",
       "    <tr>\n",
       "      <th>4<\/th>\n",
       "      <td>6ozycU1RpktNG2-1BroVtw<\/td>\n",
       "      <td>2012-01-05<\/td>\n",
       "      <td>1uJFq2r5QfJG_6ExMRCaGw<\/td>\n",
       "      <td>5<\/td>\n",
       "      <td>General Manager Scott Petello is a good egg!!!...<\/td>\n",
       "      <td>review<\/td>\n",
       "      <td>vYmM4KTsC8ZfQBg-j5MWkw<\/td>\n",
       "      <td>0<\/td>\n",
       "      <td>0<\/td>\n",
       "      <td>0<\/td>\n",
       "      <td>86<\/td>\n",
       "    <\/tr>\n",
       "    <tr>\n",
       "      <th>6<\/th>\n",
       "      <td>zp713qNhx8d9KCJJnrw1xA<\/td>\n",
       "      <td>2010-02-12<\/td>\n",
       "      <td>riFQ3vxNpP4rWLk_CSri2A<\/td>\n",
       "      <td>5<\/td>\n",
       "      <td>Drop what you're doing and drive here. After I...<\/td>\n",
       "      <td>review<\/td>\n",
       "      <td>wFweIWhv2fREZV_dYkz_1g<\/td>\n",
       "      <td>7<\/td>\n",
       "      <td>7<\/td>\n",
       "      <td>4<\/td>\n",
       "      <td>292<\/td>\n",
       "    <\/tr>\n",
       "    <tr>\n",
       "      <th>...<\/th>\n",
       "      <td>...<\/td>\n",
       "      <td>...<\/td>\n",
       "      <td>...<\/td>\n",
       "      <td>...<\/td>\n",
       "      <td>...<\/td>\n",
       "      <td>...<\/td>\n",
       "      <td>...<\/td>\n",
       "      <td>...<\/td>\n",
       "      <td>...<\/td>\n",
       "      <td>...<\/td>\n",
       "      <td>...<\/td>\n",
       "    <\/tr>\n",
       "    <tr>\n",
       "      <th>9990<\/th>\n",
       "      <td>R8VwdLyvsp9iybNqRvm94g<\/td>\n",
       "      <td>2011-10-03<\/td>\n",
       "      <td>pcEeHdAJPoFNF23es0kKWg<\/td>\n",
       "      <td>5<\/td>\n",
       "      <td>Yes I do rock the hipster joints.  I dig this ...<\/td>\n",
       "      <td>review<\/td>\n",
       "      <td>b92Y3tyWTQQZ5FLifex62Q<\/td>\n",
       "      <td>1<\/td>\n",
       "      <td>1<\/td>\n",
       "      <td>1<\/td>\n",
       "      <td>56<\/td>\n",
       "    <\/tr>\n",
       "    <tr>\n",
       "      <th>9991<\/th>\n",
       "      <td>WJ5mq4EiWYAA4Vif0xDfdg<\/td>\n",
       "      <td>2011-12-05<\/td>\n",
       "      <td>EuHX-39FR7tyyG1ElvN1Jw<\/td>\n",
       "      <td>5<\/td>\n",
       "      <td>Only 4 stars? \\n\\n(A few notes: The folks that...<\/td>\n",
       "      <td>review<\/td>\n",
       "      <td>hTau-iNZFwoNsPCaiIUTEA<\/td>\n",
       "      <td>1<\/td>\n",
       "      <td>1<\/td>\n",
       "      <td>0<\/td>\n",
       "      <td>170<\/td>\n",
       "    <\/tr>\n",
       "    <tr>\n",
       "      <th>9992<\/th>\n",
       "      <td>f96lWMIAUhYIYy9gOktivQ<\/td>\n",
       "      <td>2009-03-10<\/td>\n",
       "      <td>YF17z7HWlMj6aezZc-pVEw<\/td>\n",
       "      <td>5<\/td>\n",
       "      <td>I'm not normally one to jump at reviewing a ch...<\/td>\n",
       "      <td>review<\/td>\n",
       "      <td>W_QXYA7A0IhMrvbckz7eVg<\/td>\n",
       "      <td>2<\/td>\n",
       "      <td>3<\/td>\n",
       "      <td>2<\/td>\n",
       "      <td>244<\/td>\n",
       "    <\/tr>\n",
       "    <tr>\n",
       "      <th>9994<\/th>\n",
       "      <td>L3BSpFvxcNf3T_teitgt6A<\/td>\n",
       "      <td>2012-03-19<\/td>\n",
       "      <td>0nxb1gIGFgk3WbC5zwhKZg<\/td>\n",
       "      <td>5<\/td>\n",
       "      <td>Let's see...what is there NOT to like about Su...<\/td>\n",
       "      <td>review<\/td>\n",
       "      <td>OzOZv-Knlw3oz9K5Kh5S6A<\/td>\n",
       "      <td>1<\/td>\n",
       "      <td>2<\/td>\n",
       "      <td>1<\/td>\n",
       "      <td>357<\/td>\n",
       "    <\/tr>\n",
       "    <tr>\n",
       "      <th>9999<\/th>\n",
       "      <td>pF7uRzygyZsltbmVpjIyvw<\/td>\n",
       "      <td>2010-10-16<\/td>\n",
       "      <td>vWSmOhg2ID1MNZHaWapGbA<\/td>\n",
       "      <td>5<\/td>\n",
       "      <td>4-5 locations.. all 4.5 star average.. I think...<\/td>\n",
       "      <td>review<\/td>\n",
       "      <td>KSBFytcdjPKZgXKQnYQdkA<\/td>\n",
       "      <td>0<\/td>\n",
       "      <td>0<\/td>\n",
       "      <td>0<\/td>\n",
       "      <td>79<\/td>\n",
       "    <\/tr>\n",
       "  <\/tbody>\n",
       "<\/table>\n",
       "<p>4086 rows × 11 columns<\/p>\n",
       "<\/div>"
      ]
     },
     "metadata":{
      
     },
     "output_type":"display_data"
    }
   ],
   "metadata":{
    "datalore":{
     "node_id":"eoHH1PefCzWvbVuFFIe9Fv",
     "type":"CODE",
     "hide_input_from_viewers":true,
     "hide_output_from_viewers":true
    }
   }
  },
  {
   "cell_type":"code",
   "source":[
    "X = yelp_class['text']\n",
    "y = yelp_class['stars']"
   ],
   "execution_count":13,
   "outputs":[
    
   ],
   "metadata":{
    "datalore":{
     "node_id":"o2upCgdCWAdtGOBkM98f87",
     "type":"CODE",
     "hide_input_from_viewers":true,
     "hide_output_from_viewers":true
    }
   }
  },
  {
   "cell_type":"code",
   "source":[
    "from sklearn.feature_extraction.text import CountVectorizer\n",
    "cv = CountVectorizer()"
   ],
   "execution_count":15,
   "outputs":[
    
   ],
   "metadata":{
    "datalore":{
     "node_id":"hGldMoxCO6mJlut0MT3rSA",
     "type":"CODE",
     "hide_input_from_viewers":true,
     "hide_output_from_viewers":true
    }
   }
  },
  {
   "cell_type":"code",
   "source":[
    "# Converting the text into vectors that the algo could understand\n",
    "X = cv.fit_transform(X)"
   ],
   "execution_count":16,
   "outputs":[
    
   ],
   "metadata":{
    "datalore":{
     "node_id":"DVSWyJfdHuVMRuwVagzDN6",
     "type":"CODE",
     "hide_input_from_viewers":true,
     "hide_output_from_viewers":true
    }
   }
  },
  {
   "cell_type":"code",
   "source":[
    "from sklearn.model_selection import train_test_split\n",
    "X_train, X_test, y_train, y_test = train_test_split(X, y,test_size=0.3,random_state=101)"
   ],
   "execution_count":17,
   "outputs":[
    
   ],
   "metadata":{
    "datalore":{
     "node_id":"wH5F2YojrVXMWpCXPXxJ82",
     "type":"CODE",
     "hide_input_from_viewers":true,
     "hide_output_from_viewers":true
    }
   }
  },
  {
   "cell_type":"code",
   "source":[
    "from sklearn.naive_bayes import MultinomialNB\n",
    "nb = MultinomialNB()"
   ],
   "execution_count":19,
   "outputs":[
    
   ],
   "metadata":{
    "datalore":{
     "node_id":"4fYEmokGCGyLgZcODRux94",
     "type":"CODE",
     "hide_input_from_viewers":true,
     "hide_output_from_viewers":true
    }
   }
  },
  {
   "cell_type":"code",
   "source":[
    "nb.fit(X_train, y_train)"
   ],
   "execution_count":22,
   "outputs":[
    {
     "data":{
      "text\/html":[
       "<style>#sk-container-id-2 {color: black;background-color: white;}#sk-container-id-2 pre{padding: 0;}#sk-container-id-2 div.sk-toggleable {background-color: white;}#sk-container-id-2 label.sk-toggleable__label {cursor: pointer;display: block;width: 100%;margin-bottom: 0;padding: 0.3em;box-sizing: border-box;text-align: center;}#sk-container-id-2 label.sk-toggleable__label-arrow:before {content: \"▸\";float: left;margin-right: 0.25em;color: #696969;}#sk-container-id-2 label.sk-toggleable__label-arrow:hover:before {color: black;}#sk-container-id-2 div.sk-estimator:hover label.sk-toggleable__label-arrow:before {color: black;}#sk-container-id-2 div.sk-toggleable__content {max-height: 0;max-width: 0;overflow: hidden;text-align: left;background-color: #f0f8ff;}#sk-container-id-2 div.sk-toggleable__content pre {margin: 0.2em;color: black;border-radius: 0.25em;background-color: #f0f8ff;}#sk-container-id-2 input.sk-toggleable__control:checked~div.sk-toggleable__content {max-height: 200px;max-width: 100%;overflow: auto;}#sk-container-id-2 input.sk-toggleable__control:checked~label.sk-toggleable__label-arrow:before {content: \"▾\";}#sk-container-id-2 div.sk-estimator input.sk-toggleable__control:checked~label.sk-toggleable__label {background-color: #d4ebff;}#sk-container-id-2 div.sk-label input.sk-toggleable__control:checked~label.sk-toggleable__label {background-color: #d4ebff;}#sk-container-id-2 input.sk-hidden--visually {border: 0;clip: rect(1px 1px 1px 1px);clip: rect(1px, 1px, 1px, 1px);height: 1px;margin: -1px;overflow: hidden;padding: 0;position: absolute;width: 1px;}#sk-container-id-2 div.sk-estimator {font-family: monospace;background-color: #f0f8ff;border: 1px dotted black;border-radius: 0.25em;box-sizing: border-box;margin-bottom: 0.5em;}#sk-container-id-2 div.sk-estimator:hover {background-color: #d4ebff;}#sk-container-id-2 div.sk-parallel-item::after {content: \"\";width: 100%;border-bottom: 1px solid gray;flex-grow: 1;}#sk-container-id-2 div.sk-label:hover label.sk-toggleable__label {background-color: #d4ebff;}#sk-container-id-2 div.sk-serial::before {content: \"\";position: absolute;border-left: 1px solid gray;box-sizing: border-box;top: 0;bottom: 0;left: 50%;z-index: 0;}#sk-container-id-2 div.sk-serial {display: flex;flex-direction: column;align-items: center;background-color: white;padding-right: 0.2em;padding-left: 0.2em;position: relative;}#sk-container-id-2 div.sk-item {position: relative;z-index: 1;}#sk-container-id-2 div.sk-parallel {display: flex;align-items: stretch;justify-content: center;background-color: white;position: relative;}#sk-container-id-2 div.sk-item::before, #sk-container-id-2 div.sk-parallel-item::before {content: \"\";position: absolute;border-left: 1px solid gray;box-sizing: border-box;top: 0;bottom: 0;left: 50%;z-index: -1;}#sk-container-id-2 div.sk-parallel-item {display: flex;flex-direction: column;z-index: 1;position: relative;background-color: white;}#sk-container-id-2 div.sk-parallel-item:first-child::after {align-self: flex-end;width: 50%;}#sk-container-id-2 div.sk-parallel-item:last-child::after {align-self: flex-start;width: 50%;}#sk-container-id-2 div.sk-parallel-item:only-child::after {width: 0;}#sk-container-id-2 div.sk-dashed-wrapped {border: 1px dashed gray;margin: 0 0.4em 0.5em 0.4em;box-sizing: border-box;padding-bottom: 0.4em;background-color: white;}#sk-container-id-2 div.sk-label label {font-family: monospace;font-weight: bold;display: inline-block;line-height: 1.2em;}#sk-container-id-2 div.sk-label-container {text-align: center;}#sk-container-id-2 div.sk-container {\/* jupyter's `normalize.less` sets `[hidden] { display: none; }` but bootstrap.min.css set `[hidden] { display: none !important; }` so we also need the `!important` here to be able to override the default hidden behavior on the sphinx rendered scikit-learn.org. See: https:\/\/github.com\/scikit-learn\/scikit-learn\/issues\/21755 *\/display: inline-block !important;position: relative;}#sk-container-id-2 div.sk-text-repr-fallback {display: none;}<\/style><div id=\"sk-container-id-2\" class=\"sk-top-container\"><div class=\"sk-text-repr-fallback\"><pre>MultinomialNB()<\/pre><b>In a Jupyter environment, please rerun this cell to show the HTML representation or trust the notebook. <br \/>On GitHub, the HTML representation is unable to render, please try loading this page with nbviewer.org.<\/b><\/div><div class=\"sk-container\" hidden><div class=\"sk-item\"><div class=\"sk-estimator sk-toggleable\"><input class=\"sk-toggleable__control sk-hidden--visually\" id=\"sk-estimator-id-2\" type=\"checkbox\" checked><label for=\"sk-estimator-id-2\" class=\"sk-toggleable__label sk-toggleable__label-arrow\">MultinomialNB<\/label><div class=\"sk-toggleable__content\"><pre>MultinomialNB()<\/pre><\/div><\/div><\/div><\/div><\/div>"
      ]
     },
     "metadata":{
      
     },
     "output_type":"display_data"
    }
   ],
   "metadata":{
    "datalore":{
     "node_id":"7K2cw1c0t3HPDM3yyQIKIw",
     "type":"CODE",
     "hide_input_from_viewers":true,
     "hide_output_from_viewers":true
    }
   }
  },
  {
   "cell_type":"code",
   "source":[
    "predictions = nb.predict(X_test)"
   ],
   "execution_count":23,
   "outputs":[
    
   ],
   "metadata":{
    "datalore":{
     "node_id":"Jevkv50h3ojGQdejMXivl3",
     "type":"CODE",
     "hide_input_from_viewers":true,
     "hide_output_from_viewers":true
    }
   }
  },
  {
   "cell_type":"code",
   "source":[
    "from sklearn.metrics import confusion_matrix, classification_report\n",
    "print(confusion_matrix(y_test,predictions))\n",
    "print('\\n')\n",
    "print(classification_report(y_test,predictions))"
   ],
   "execution_count":24,
   "outputs":[
    {
     "name":"stdout",
     "text":[
      "[[159  69]\n",
      " [ 22 976]]\n",
      "\n",
      "\n",
      "              precision    recall  f1-score   support\n",
      "\n",
      "           1       0.88      0.70      0.78       228\n",
      "           5       0.93      0.98      0.96       998\n",
      "\n",
      "    accuracy                           0.93      1226\n",
      "   macro avg       0.91      0.84      0.87      1226\n",
      "weighted avg       0.92      0.93      0.92      1226\n",
      "\n"
     ],
     "output_type":"stream"
    }
   ],
   "metadata":{
    "datalore":{
     "node_id":"SYzfXRs8AsvUVRERaJvKyy",
     "type":"CODE",
     "hide_input_from_viewers":true,
     "hide_output_from_viewers":true
    }
   }
  },
  {
   "cell_type":"markdown",
   "source":[
    "# # NLP Classification - Using CountVectorizer, TF-IDF and Naive Bayes\n",
    "TF-IDF (term frequency - inverse document frequency)"
   ],
   "attachments":{
    
   },
   "metadata":{
    "datalore":{
     "node_id":"RHNByw5a1O3yiYh2dNb32w",
     "type":"MD",
     "hide_input_from_viewers":true,
     "hide_output_from_viewers":true
    }
   }
  },
  {
   "cell_type":"code",
   "source":[
    "from sklearn.feature_extraction.text import TfidfTransformer\n",
    "# What tfidf do is, if a word is very common between the reviews, it would consider that as less unique, and less important. Let's say the word 'food' might appear a lot in these reviews, it will consider that as unimportant, because it doesn't give out much context.\n",
    "# If a word is unimportant, the tfidf value (idf_) will be low."
   ],
   "execution_count":25,
   "outputs":[
    
   ],
   "metadata":{
    "datalore":{
     "node_id":"FaLITVpA04nKzlWqCq8GH2",
     "type":"CODE",
     "hide_input_from_viewers":true,
     "hide_output_from_viewers":true
    }
   }
  },
  {
   "cell_type":"code",
   "source":[
    "from sklearn.pipeline import Pipeline\n",
    "\n",
    "pipeline = Pipeline([\n",
    "    ('bow', CountVectorizer()),\n",
    "    ('tfidf', TfidfTransformer()),\n",
    "    ('classifier', MultinomialNB())\n",
    "])"
   ],
   "execution_count":26,
   "outputs":[
    
   ],
   "metadata":{
    "datalore":{
     "node_id":"OchtIK8VHqSD4yTXrblyRf",
     "type":"CODE",
     "hide_input_from_viewers":true,
     "hide_output_from_viewers":true
    }
   }
  },
  {
   "cell_type":"code",
   "source":[
    "X = yelp_class['text']\n",
    "y = yelp_class['stars']\n",
    "X_train, X_test, y_train, y_test = train_test_split(X, y,test_size=0.3,random_state=101)"
   ],
   "execution_count":27,
   "outputs":[
    
   ],
   "metadata":{
    "datalore":{
     "node_id":"K93nTvhvxfxgnhNqIcF1MU",
     "type":"CODE",
     "hide_input_from_viewers":true,
     "hide_output_from_viewers":true
    }
   }
  },
  {
   "cell_type":"code",
   "source":[
    "pipeline.fit(X_train, y_train)"
   ],
   "execution_count":28,
   "outputs":[
    {
     "data":{
      "text\/html":[
       "<style>#sk-container-id-3 {color: black;background-color: white;}#sk-container-id-3 pre{padding: 0;}#sk-container-id-3 div.sk-toggleable {background-color: white;}#sk-container-id-3 label.sk-toggleable__label {cursor: pointer;display: block;width: 100%;margin-bottom: 0;padding: 0.3em;box-sizing: border-box;text-align: center;}#sk-container-id-3 label.sk-toggleable__label-arrow:before {content: \"▸\";float: left;margin-right: 0.25em;color: #696969;}#sk-container-id-3 label.sk-toggleable__label-arrow:hover:before {color: black;}#sk-container-id-3 div.sk-estimator:hover label.sk-toggleable__label-arrow:before {color: black;}#sk-container-id-3 div.sk-toggleable__content {max-height: 0;max-width: 0;overflow: hidden;text-align: left;background-color: #f0f8ff;}#sk-container-id-3 div.sk-toggleable__content pre {margin: 0.2em;color: black;border-radius: 0.25em;background-color: #f0f8ff;}#sk-container-id-3 input.sk-toggleable__control:checked~div.sk-toggleable__content {max-height: 200px;max-width: 100%;overflow: auto;}#sk-container-id-3 input.sk-toggleable__control:checked~label.sk-toggleable__label-arrow:before {content: \"▾\";}#sk-container-id-3 div.sk-estimator input.sk-toggleable__control:checked~label.sk-toggleable__label {background-color: #d4ebff;}#sk-container-id-3 div.sk-label input.sk-toggleable__control:checked~label.sk-toggleable__label {background-color: #d4ebff;}#sk-container-id-3 input.sk-hidden--visually {border: 0;clip: rect(1px 1px 1px 1px);clip: rect(1px, 1px, 1px, 1px);height: 1px;margin: -1px;overflow: hidden;padding: 0;position: absolute;width: 1px;}#sk-container-id-3 div.sk-estimator {font-family: monospace;background-color: #f0f8ff;border: 1px dotted black;border-radius: 0.25em;box-sizing: border-box;margin-bottom: 0.5em;}#sk-container-id-3 div.sk-estimator:hover {background-color: #d4ebff;}#sk-container-id-3 div.sk-parallel-item::after {content: \"\";width: 100%;border-bottom: 1px solid gray;flex-grow: 1;}#sk-container-id-3 div.sk-label:hover label.sk-toggleable__label {background-color: #d4ebff;}#sk-container-id-3 div.sk-serial::before {content: \"\";position: absolute;border-left: 1px solid gray;box-sizing: border-box;top: 0;bottom: 0;left: 50%;z-index: 0;}#sk-container-id-3 div.sk-serial {display: flex;flex-direction: column;align-items: center;background-color: white;padding-right: 0.2em;padding-left: 0.2em;position: relative;}#sk-container-id-3 div.sk-item {position: relative;z-index: 1;}#sk-container-id-3 div.sk-parallel {display: flex;align-items: stretch;justify-content: center;background-color: white;position: relative;}#sk-container-id-3 div.sk-item::before, #sk-container-id-3 div.sk-parallel-item::before {content: \"\";position: absolute;border-left: 1px solid gray;box-sizing: border-box;top: 0;bottom: 0;left: 50%;z-index: -1;}#sk-container-id-3 div.sk-parallel-item {display: flex;flex-direction: column;z-index: 1;position: relative;background-color: white;}#sk-container-id-3 div.sk-parallel-item:first-child::after {align-self: flex-end;width: 50%;}#sk-container-id-3 div.sk-parallel-item:last-child::after {align-self: flex-start;width: 50%;}#sk-container-id-3 div.sk-parallel-item:only-child::after {width: 0;}#sk-container-id-3 div.sk-dashed-wrapped {border: 1px dashed gray;margin: 0 0.4em 0.5em 0.4em;box-sizing: border-box;padding-bottom: 0.4em;background-color: white;}#sk-container-id-3 div.sk-label label {font-family: monospace;font-weight: bold;display: inline-block;line-height: 1.2em;}#sk-container-id-3 div.sk-label-container {text-align: center;}#sk-container-id-3 div.sk-container {\/* jupyter's `normalize.less` sets `[hidden] { display: none; }` but bootstrap.min.css set `[hidden] { display: none !important; }` so we also need the `!important` here to be able to override the default hidden behavior on the sphinx rendered scikit-learn.org. See: https:\/\/github.com\/scikit-learn\/scikit-learn\/issues\/21755 *\/display: inline-block !important;position: relative;}#sk-container-id-3 div.sk-text-repr-fallback {display: none;}<\/style><div id=\"sk-container-id-3\" class=\"sk-top-container\"><div class=\"sk-text-repr-fallback\"><pre>Pipeline(steps=[(&#x27;bow&#x27;, CountVectorizer()), (&#x27;tfidf&#x27;, TfidfTransformer()),\n",
       "                (&#x27;classifier&#x27;, MultinomialNB())])<\/pre><b>In a Jupyter environment, please rerun this cell to show the HTML representation or trust the notebook. <br \/>On GitHub, the HTML representation is unable to render, please try loading this page with nbviewer.org.<\/b><\/div><div class=\"sk-container\" hidden><div class=\"sk-item sk-dashed-wrapped\"><div class=\"sk-label-container\"><div class=\"sk-label sk-toggleable\"><input class=\"sk-toggleable__control sk-hidden--visually\" id=\"sk-estimator-id-3\" type=\"checkbox\" ><label for=\"sk-estimator-id-3\" class=\"sk-toggleable__label sk-toggleable__label-arrow\">Pipeline<\/label><div class=\"sk-toggleable__content\"><pre>Pipeline(steps=[(&#x27;bow&#x27;, CountVectorizer()), (&#x27;tfidf&#x27;, TfidfTransformer()),\n",
       "                (&#x27;classifier&#x27;, MultinomialNB())])<\/pre><\/div><\/div><\/div><div class=\"sk-serial\"><div class=\"sk-item\"><div class=\"sk-estimator sk-toggleable\"><input class=\"sk-toggleable__control sk-hidden--visually\" id=\"sk-estimator-id-4\" type=\"checkbox\" ><label for=\"sk-estimator-id-4\" class=\"sk-toggleable__label sk-toggleable__label-arrow\">CountVectorizer<\/label><div class=\"sk-toggleable__content\"><pre>CountVectorizer()<\/pre><\/div><\/div><\/div><div class=\"sk-item\"><div class=\"sk-estimator sk-toggleable\"><input class=\"sk-toggleable__control sk-hidden--visually\" id=\"sk-estimator-id-5\" type=\"checkbox\" ><label for=\"sk-estimator-id-5\" class=\"sk-toggleable__label sk-toggleable__label-arrow\">TfidfTransformer<\/label><div class=\"sk-toggleable__content\"><pre>TfidfTransformer()<\/pre><\/div><\/div><\/div><div class=\"sk-item\"><div class=\"sk-estimator sk-toggleable\"><input class=\"sk-toggleable__control sk-hidden--visually\" id=\"sk-estimator-id-6\" type=\"checkbox\" ><label for=\"sk-estimator-id-6\" class=\"sk-toggleable__label sk-toggleable__label-arrow\">MultinomialNB<\/label><div class=\"sk-toggleable__content\"><pre>MultinomialNB()<\/pre><\/div><\/div><\/div><\/div><\/div><\/div><\/div>"
      ]
     },
     "metadata":{
      
     },
     "output_type":"display_data"
    }
   ],
   "metadata":{
    "datalore":{
     "node_id":"tKjeaeYmpHcxwRq3Afjzwn",
     "type":"CODE",
     "hide_input_from_viewers":true,
     "hide_output_from_viewers":true
    }
   }
  },
  {
   "cell_type":"code",
   "source":[
    "predictions = pipeline.predict(X_test)\n",
    "print(confusion_matrix(y_test, predictions))\n",
    "print(classification_report(y_test, predictions))\n",
    "\n",
    "# This model is worse because it doesn't take the similar words into account, when going through every other reviews."
   ],
   "execution_count":30,
   "outputs":[
    {
     "name":"stdout",
     "text":[
      "[[  0 228]\n",
      " [  0 998]]\n",
      "              precision    recall  f1-score   support\n",
      "\n",
      "           1       0.00      0.00      0.00       228\n",
      "           5       0.81      1.00      0.90       998\n",
      "\n",
      "    accuracy                           0.81      1226\n",
      "   macro avg       0.41      0.50      0.45      1226\n",
      "weighted avg       0.66      0.81      0.73      1226\n",
      "\n"
     ],
     "output_type":"stream"
    },
    {
     "name":"stderr",
     "text":[
      "\/opt\/python\/envs\/default\/lib\/python3.8\/site-packages\/sklearn\/metrics\/_classification.py:1344: UndefinedMetricWarning: Precision and F-score are ill-defined and being set to 0.0 in labels with no predicted samples. Use `zero_division` parameter to control this behavior.\n",
      "  _warn_prf(average, modifier, msg_start, len(result))\n",
      "\/opt\/python\/envs\/default\/lib\/python3.8\/site-packages\/sklearn\/metrics\/_classification.py:1344: UndefinedMetricWarning: Precision and F-score are ill-defined and being set to 0.0 in labels with no predicted samples. Use `zero_division` parameter to control this behavior.\n",
      "  _warn_prf(average, modifier, msg_start, len(result))\n",
      "\/opt\/python\/envs\/default\/lib\/python3.8\/site-packages\/sklearn\/metrics\/_classification.py:1344: UndefinedMetricWarning: Precision and F-score are ill-defined and being set to 0.0 in labels with no predicted samples. Use `zero_division` parameter to control this behavior.\n",
      "  _warn_prf(average, modifier, msg_start, len(result))\n"
     ],
     "output_type":"stream"
    }
   ],
   "metadata":{
    "datalore":{
     "node_id":"42KCz68U73ZFwuuQAXt7Pw",
     "type":"CODE",
     "hide_input_from_viewers":true,
     "hide_output_from_viewers":true
    }
   }
  },
  {
   "cell_type":"code",
   "source":[
    
   ],
   "execution_count":null,
   "outputs":[
    
   ],
   "metadata":{
    "datalore":{
     "node_id":"oVn4W3kZiaMfq78JLGFbWA",
     "type":"CODE",
     "hide_input_from_viewers":true,
     "hide_output_from_viewers":true
    }
   }
  }
 ],
 "metadata":{
  "kernelspec":{
   "display_name":"Python",
   "language":"python",
   "name":"python"
  },
  "datalore":{
   "computation_mode":"JUPYTER",
   "package_manager":"pip",
   "base_environment":"default",
   "packages":[
    
   ],
   "report_row_ids":[
    
   ],
   "version":3
  }
 },
 "nbformat":4,
 "nbformat_minor":4
}