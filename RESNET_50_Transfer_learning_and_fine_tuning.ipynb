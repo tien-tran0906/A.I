{
  "nbformat": 4,
  "nbformat_minor": 0,
  "metadata": {
    "colab": {
      "provenance": [],
      "gpuType": "T4",
      "authorship_tag": "ABX9TyMnquBmXtBLFCgu2Mz4ymEm",
      "include_colab_link": true
    },
    "kernelspec": {
      "name": "python3",
      "display_name": "Python 3"
    },
    "language_info": {
      "name": "python"
    },
    "accelerator": "GPU"
  },
  "cells": [
    {
      "cell_type": "markdown",
      "metadata": {
        "id": "view-in-github",
        "colab_type": "text"
      },
      "source": [
        "<a href=\"https://colab.research.google.com/github/tien-tran0906/A.I/blob/main/RESNET_50_Transfer_learning_and_fine_tuning.ipynb\" target=\"_parent\"><img src=\"https://colab.research.google.com/assets/colab-badge.svg\" alt=\"Open In Colab\"/></a>"
      ]
    },
    {
      "cell_type": "code",
      "execution_count": 1,
      "metadata": {
        "colab": {
          "base_uri": "https://localhost:8080/",
          "height": 35
        },
        "id": "nkzaRX4pTyEJ",
        "outputId": "c6bb39d9-62dd-4999-fc05-f1a76db29f0c"
      },
      "outputs": [
        {
          "output_type": "execute_result",
          "data": {
            "text/plain": [
              "'2.15.0'"
            ],
            "application/vnd.google.colaboratory.intrinsic+json": {
              "type": "string"
            }
          },
          "metadata": {},
          "execution_count": 1
        }
      ],
      "source": [
        "import tensorflow as tf\n",
        "import seaborn as sns\n",
        "import zipfile\n",
        "import numpy as np\n",
        "import cv2\n",
        "import os\n",
        "import shutil\n",
        "from google.colab.patches import cv2_imshow\n",
        "from tensorflow.keras.preprocessing.image import ImageDataGenerator\n",
        "from tensorflow.keras.models import Model\n",
        "from tensorflow.keras.layers import Input, Dense, GlobalAveragePooling2D, Dropout\n",
        "tf.__version__"
      ]
    },
    {
      "cell_type": "markdown",
      "source": [
        "# LOADING IMAGES"
      ],
      "metadata": {
        "id": "4hVeLyZcVOHP"
      }
    },
    {
      "cell_type": "code",
      "source": [
        "from google.colab import drive\n",
        "drive.mount('/content/drive')"
      ],
      "metadata": {
        "colab": {
          "base_uri": "https://localhost:8080/"
        },
        "id": "73YRRBZxUuWF",
        "outputId": "f89abd7e-b40c-457b-ca8e-c309af954157"
      },
      "execution_count": 2,
      "outputs": [
        {
          "output_type": "stream",
          "name": "stdout",
          "text": [
            "Mounted at /content/drive\n"
          ]
        }
      ]
    },
    {
      "cell_type": "code",
      "source": [
        "# allow using gpu\n",
        "gpus = tf.config.experimental.list_physical_devices('GPU')\n",
        "for gpu in gpus:\n",
        "  tf.config.experimental.set_memory_growth(gpu,True)"
      ],
      "metadata": {
        "id": "eeSUqLOC_Ipg"
      },
      "execution_count": 3,
      "outputs": []
    },
    {
      "cell_type": "code",
      "source": [
        "# Specify the folder path\n",
        "folder_path = \"/content/drive/MyDrive/Colab datasets/RICE/Basmati\"\n",
        "\n",
        "# Initialize a counter\n",
        "jpg_count = 0\n",
        "\n",
        "# Loop through all files in the folder\n",
        "for filename in os.listdir(folder_path):\n",
        "  # Check if file ends with .jpg\n",
        "  if filename.endswith(\".jpg\"):\n",
        "    jpg_count += 1\n",
        "\n",
        "# Print out the number of JPGs\n",
        "print(f\"Number of Basmati rice images: {jpg_count}\")"
      ],
      "metadata": {
        "colab": {
          "base_uri": "https://localhost:8080/"
        },
        "id": "VxDMvhA3bft-",
        "outputId": "fd7dc3eb-39ab-45ee-cbaf-2a8e68aeb0f2"
      },
      "execution_count": 4,
      "outputs": [
        {
          "output_type": "stream",
          "name": "stdout",
          "text": [
            "Number of Basmati rice images: 180\n"
          ]
        }
      ]
    },
    {
      "cell_type": "code",
      "source": [
        "# Specify the folder path\n",
        "folder_path = \"/content/drive/MyDrive/Colab datasets/RICE/Jasmine\"\n",
        "\n",
        "# Initialize a counter\n",
        "jpg_count = 0\n",
        "\n",
        "# Loop through all files in the folder\n",
        "for filename in os.listdir(folder_path):\n",
        "  # Check if file ends with .jpg\n",
        "  if filename.endswith(\".jpg\"):\n",
        "    jpg_count += 1\n",
        "\n",
        "# Print out the number of JPGs\n",
        "print(f\"Number of Jasmine rice images: {jpg_count}\")"
      ],
      "metadata": {
        "colab": {
          "base_uri": "https://localhost:8080/"
        },
        "id": "hROzRvV5bnPn",
        "outputId": "1f119a9a-e7ac-4840-f918-4e7982f9853a"
      },
      "execution_count": 5,
      "outputs": [
        {
          "output_type": "stream",
          "name": "stdout",
          "text": [
            "Number of Jasmine rice images: 180\n"
          ]
        }
      ]
    },
    {
      "cell_type": "code",
      "source": [
        "tf.keras.preprocessing.image.load_img('/content/drive/MyDrive/Colab datasets/RICE/Basmati/basmati (9794).jpg')"
      ],
      "metadata": {
        "colab": {
          "base_uri": "https://localhost:8080/",
          "height": 267
        },
        "id": "_tuE9-I_WGvb",
        "outputId": "52389ef2-70db-4002-a3fa-8fab2b19d18a"
      },
      "execution_count": 6,
      "outputs": [
        {
          "output_type": "execute_result",
          "data": {
            "text/plain": [
              "<PIL.JpegImagePlugin.JpegImageFile image mode=RGB size=250x250>"
            ],
            "image/png": "[encoded data removed]"
          },
          "metadata": {},
          "execution_count": 6
        }
      ]
    },
    {
      "cell_type": "code",
      "source": [
        "tf.keras.preprocessing.image.load_img('/content/drive/MyDrive/Colab datasets/RICE/Jasmine/Jasmine (9834).jpg')"
      ],
      "metadata": {
        "colab": {
          "base_uri": "https://localhost:8080/",
          "height": 267
        },
        "id": "y0H03euPbMUs",
        "outputId": "4336f1df-ed8f-41a7-d11f-f3583f819abe"
      },
      "execution_count": 7,
      "outputs": [
        {
          "output_type": "execute_result",
          "data": {
            "text/plain": [
              "<PIL.JpegImagePlugin.JpegImageFile image mode=RGB size=250x250>"
            ],
            "image/png": "[encoded data removed]"
          },
          "metadata": {},
          "execution_count": 7
        }
      ]
    },
    {
      "cell_type": "markdown",
      "source": [
        "# TRAIN TEST SPLIT"
      ],
      "metadata": {
        "id": "ZVNuINANcOhh"
      }
    },
    {
      "cell_type": "code",
      "source": [
        "# COPY from the original folder\n",
        "# basmati\n",
        "source_dir = \"/content/drive/MyDrive/Colab datasets/RICE/Basmati\"\n",
        "dest_dir1 = \"/content/Basmati\"\n",
        "\n",
        "if not os.path.exists(dest_dir1):\n",
        "    os.makedirs(dest_dir1)\n",
        "\n",
        "    for file_name in os.listdir(source_dir):\n",
        "        if file_name.endswith(\".jpg\"):\n",
        "            source_file = os.path.join(source_dir, file_name)\n",
        "            dest_file = os.path.join(dest_dir1, file_name)\n",
        "            shutil.copy(source_file, dest_file)\n",
        "\n",
        "# jasmine\n",
        "source_dir = \"/content/drive/MyDrive/Colab datasets/RICE/Jasmine\"\n",
        "dest_dir2 = \"/content/Jasmine\"\n",
        "\n",
        "if not os.path.exists(dest_dir2):\n",
        "    os.makedirs(dest_dir2)\n",
        "\n",
        "    for file_name in os.listdir(source_dir):\n",
        "        if file_name.endswith(\".jpg\"):\n",
        "            source_file = os.path.join(source_dir, file_name)\n",
        "            dest_file = os.path.join(dest_dir2, file_name)\n",
        "            shutil.copy(source_file, dest_file)\n",
        "\n",
        "# Create the Jasmine folder\n",
        "jasmine = \"/content/Jasmine\"\n",
        "if not os.path.exists(jasmine):\n",
        "    os.makedirs(jasmine)\n",
        "\n",
        "# Create the Basmati folder\n",
        "basmati = \"/content/Basmati\"\n",
        "if not os.path.exists(basmati):\n",
        "    os.makedirs(basmati)\n",
        "\n",
        "# Create test_set folder\n",
        "test_set_path = \"/content/test_set\"\n",
        "if not os.path.exists(test_set_path):\n",
        "    os.makedirs(test_set_path)\n",
        "\n",
        "# Create train_set folder\n",
        "train_set_path = \"/content/train_set\"\n",
        "if not os.path.exists(train_set_path):\n",
        "    os.makedirs(train_set_path)\n",
        "\n",
        "# Folders in test_set folder\n",
        "test_jasmine = '/content/test_set/jasmine_test'\n",
        "if not os.path.exists(test_jasmine):\n",
        "    os.makedirs(test_jasmine)\n",
        "\n",
        "test_basmati = '/content/test_set/basmati_test'\n",
        "if not os.path.exists(test_basmati):\n",
        "    os.makedirs(test_basmati)\n",
        "\n",
        "# Folders in train_set folder\n",
        "train_jasmine = '/content/train_set/jasmine_train'\n",
        "if not os.path.exists(train_jasmine):\n",
        "    os.makedirs(train_jasmine)\n",
        "\n",
        "train_basmati = '/content/train_set/basmati_train'\n",
        "if not os.path.exists(train_basmati):\n",
        "    os.makedirs(train_basmati)\n",
        "\n",
        "print(\"Created folders:\")\n",
        "print(\"- \"+dest_dir1)\n",
        "print(\"- \"+dest_dir2)\n",
        "print(\"- \"+test_set_path)\n",
        "print(\"- \"+train_set_path)\n",
        "print(\"- \"+test_jasmine)\n",
        "print(\"- \"+test_basmati)\n",
        "print(\"- \"+train_jasmine)\n",
        "print(\"- \"+train_basmati)"
      ],
      "metadata": {
        "colab": {
          "base_uri": "https://localhost:8080/"
        },
        "id": "OB-EjyhmcOU4",
        "outputId": "e5dd84b2-b329-416c-c4f7-fb84a9ce205a"
      },
      "execution_count": 8,
      "outputs": [
        {
          "output_type": "stream",
          "name": "stdout",
          "text": [
            "Created folders:\n",
            "- /content/Basmati\n",
            "- /content/Jasmine\n",
            "- /content/test_set\n",
            "- /content/train_set\n",
            "- /content/test_set/jasmine_test\n",
            "- /content/test_set/basmati_test\n",
            "- /content/train_set/jasmine_train\n",
            "- /content/train_set/basmati_train\n"
          ]
        }
      ]
    },
    {
      "cell_type": "code",
      "source": [
        "import random\n",
        "\n",
        "folder = \"/content/Jasmine\"\n",
        "train_folder = \"/content/train_set/jasmine_train\"\n",
        "test_folder = \"/content/test_set/jasmine_test\"\n",
        "\n",
        "image_files = os.listdir(folder)\n",
        "random.shuffle(image_files)\n",
        "\n",
        "total_files = len(image_files)\n",
        "train_percentage = 0.8\n",
        "train_num = int(total_files * train_percentage)\n",
        "\n",
        "for i, file in enumerate(image_files):\n",
        "    src_path = os.path.join(folder, file)\n",
        "    if i < train_num:\n",
        "        dst_path = os.path.join(train_folder, file)\n",
        "    else:\n",
        "        dst_path = os.path.join(test_folder, file)\n",
        "\n",
        "    shutil.copy(src_path, dst_path)\n",
        "\n",
        "print(\"Train and test split Jasmine rice complete!\")\n"
      ],
      "metadata": {
        "colab": {
          "base_uri": "https://localhost:8080/"
        },
        "id": "fpVrSuI3j_6l",
        "outputId": "e53598a4-0656-467a-cfc9-fa0abcd3b4c3"
      },
      "execution_count": 9,
      "outputs": [
        {
          "output_type": "stream",
          "name": "stdout",
          "text": [
            "Train and test split Jasmine rice complete!\n"
          ]
        }
      ]
    },
    {
      "cell_type": "code",
      "source": [
        "folder = \"/content/Basmati\"\n",
        "train_folder = \"/content/train_set/basmati_train\"\n",
        "test_folder = \"/content/test_set/basmati_test\"\n",
        "\n",
        "image_files = os.listdir(folder)\n",
        "random.shuffle(image_files)\n",
        "\n",
        "total_files = len(image_files)\n",
        "train_percentage = 0.8\n",
        "train_num = int(total_files * train_percentage)\n",
        "\n",
        "for i, file in enumerate(image_files):\n",
        "    src_path = os.path.join(folder, file)\n",
        "    if i < train_num:\n",
        "        dst_path = os.path.join(train_folder, file)\n",
        "    else:\n",
        "        dst_path = os.path.join(test_folder, file)\n",
        "\n",
        "    shutil.copy(src_path, dst_path)\n",
        "\n",
        "print(\"Train and test split Basmati rice complete!\")\n"
      ],
      "metadata": {
        "colab": {
          "base_uri": "https://localhost:8080/"
        },
        "id": "WILbRlNvj_4A",
        "outputId": "6f43ad5d-7006-4537-c44d-66d51bef874f"
      },
      "execution_count": 10,
      "outputs": [
        {
          "output_type": "stream",
          "name": "stdout",
          "text": [
            "Train and test split Basmati rice complete!\n"
          ]
        }
      ]
    },
    {
      "cell_type": "markdown",
      "source": [
        "# DATA AUGMENTATION"
      ],
      "metadata": {
        "id": "cC-vbZCpX-MD"
      }
    },
    {
      "cell_type": "code",
      "source": [
        "training_generator = ImageDataGenerator(rescale=1./255,\n",
        "                                        rotation_range=7,\n",
        "                                        horizontal_flip=True,\n",
        "                                        zoom_range=0.2)\n",
        "train_dataset = training_generator.flow_from_directory('/content/train_set',\n",
        "                                                       target_size = (256,256),\n",
        "                                                       batch_size=8,\n",
        "                                                       class_mode = 'categorical',\n",
        "                                                       shuffle=True)"
      ],
      "metadata": {
        "id": "I0Ep_BGkWbq4",
        "colab": {
          "base_uri": "https://localhost:8080/"
        },
        "outputId": "0dc827de-aa75-47ee-aa79-d387c9c500bc"
      },
      "execution_count": 11,
      "outputs": [
        {
          "output_type": "stream",
          "name": "stdout",
          "text": [
            "Found 288 images belonging to 2 classes.\n"
          ]
        }
      ]
    },
    {
      "cell_type": "code",
      "source": [
        "train_dataset.classes"
      ],
      "metadata": {
        "colab": {
          "base_uri": "https://localhost:8080/"
        },
        "id": "TFjAZZXBZz2k",
        "outputId": "3e2bd385-77b6-4319-96cb-98ec369ddb5c"
      },
      "execution_count": 12,
      "outputs": [
        {
          "output_type": "execute_result",
          "data": {
            "text/plain": [
              "array([0, 0, 0, 0, 0, 0, 0, 0, 0, 0, 0, 0, 0, 0, 0, 0, 0, 0, 0, 0, 0, 0,\n",
              "       0, 0, 0, 0, 0, 0, 0, 0, 0, 0, 0, 0, 0, 0, 0, 0, 0, 0, 0, 0, 0, 0,\n",
              "       0, 0, 0, 0, 0, 0, 0, 0, 0, 0, 0, 0, 0, 0, 0, 0, 0, 0, 0, 0, 0, 0,\n",
              "       0, 0, 0, 0, 0, 0, 0, 0, 0, 0, 0, 0, 0, 0, 0, 0, 0, 0, 0, 0, 0, 0,\n",
              "       0, 0, 0, 0, 0, 0, 0, 0, 0, 0, 0, 0, 0, 0, 0, 0, 0, 0, 0, 0, 0, 0,\n",
              "       0, 0, 0, 0, 0, 0, 0, 0, 0, 0, 0, 0, 0, 0, 0, 0, 0, 0, 0, 0, 0, 0,\n",
              "       0, 0, 0, 0, 0, 0, 0, 0, 0, 0, 0, 0, 1, 1, 1, 1, 1, 1, 1, 1, 1, 1,\n",
              "       1, 1, 1, 1, 1, 1, 1, 1, 1, 1, 1, 1, 1, 1, 1, 1, 1, 1, 1, 1, 1, 1,\n",
              "       1, 1, 1, 1, 1, 1, 1, 1, 1, 1, 1, 1, 1, 1, 1, 1, 1, 1, 1, 1, 1, 1,\n",
              "       1, 1, 1, 1, 1, 1, 1, 1, 1, 1, 1, 1, 1, 1, 1, 1, 1, 1, 1, 1, 1, 1,\n",
              "       1, 1, 1, 1, 1, 1, 1, 1, 1, 1, 1, 1, 1, 1, 1, 1, 1, 1, 1, 1, 1, 1,\n",
              "       1, 1, 1, 1, 1, 1, 1, 1, 1, 1, 1, 1, 1, 1, 1, 1, 1, 1, 1, 1, 1, 1,\n",
              "       1, 1, 1, 1, 1, 1, 1, 1, 1, 1, 1, 1, 1, 1, 1, 1, 1, 1, 1, 1, 1, 1,\n",
              "       1, 1], dtype=int32)"
            ]
          },
          "metadata": {},
          "execution_count": 12
        }
      ]
    },
    {
      "cell_type": "code",
      "source": [
        "train_dataset.class_indices"
      ],
      "metadata": {
        "colab": {
          "base_uri": "https://localhost:8080/"
        },
        "id": "ZMcloNIHZz0T",
        "outputId": "af87a107-ead2-4b99-ba9f-05b9269d22e0"
      },
      "execution_count": 13,
      "outputs": [
        {
          "output_type": "execute_result",
          "data": {
            "text/plain": [
              "{'basmati_train': 0, 'jasmine_train': 1}"
            ]
          },
          "metadata": {},
          "execution_count": 13
        }
      ]
    },
    {
      "cell_type": "code",
      "source": [
        "test_generator = ImageDataGenerator(rescale=1./255)\n",
        "test_dataset = test_generator.flow_from_directory('/content/test_set',\n",
        "                                                  target_size = (256,256),\n",
        "                                                  batch_size=1,\n",
        "                                                  class_mode = 'categorical',\n",
        "                                                  shuffle=False)"
      ],
      "metadata": {
        "colab": {
          "base_uri": "https://localhost:8080/"
        },
        "id": "Auv8SOzDZzxe",
        "outputId": "690c71bb-ca17-4c73-e0bf-8f472136dfcb"
      },
      "execution_count": 14,
      "outputs": [
        {
          "output_type": "stream",
          "name": "stdout",
          "text": [
            "Found 72 images belonging to 2 classes.\n"
          ]
        }
      ]
    },
    {
      "cell_type": "markdown",
      "source": [
        "# IMPLEMENT TRANSFER LEARNING (RESNET)"
      ],
      "metadata": {
        "id": "yUynojWXo0zt"
      }
    },
    {
      "cell_type": "code",
      "source": [
        "base_model = tf.keras.applications.ResNet50(weights='imagenet',\n",
        "                                            include_top=False, # use our custom dense layers\n",
        "                                            input_tensor = Input(shape=(256,256,3)))"
      ],
      "metadata": {
        "colab": {
          "base_uri": "https://localhost:8080/"
        },
        "id": "EojwN0p4o0qw",
        "outputId": "5ba21256-13f2-48d7-b97c-8be641adff6c"
      },
      "execution_count": 15,
      "outputs": [
        {
          "output_type": "stream",
          "name": "stdout",
          "text": [
            "Downloading data from https://storage.googleapis.com/tensorflow/keras-applications/resnet/resnet50_weights_tf_dim_ordering_tf_kernels_notop.h5\n",
            "94765736/94765736 [==============================] - 0s 0us/step\n"
          ]
        }
      ]
    },
    {
      "cell_type": "code",
      "source": [
        "base_model.summary()  # no dense layer"
      ],
      "metadata": {
        "colab": {
          "base_uri": "https://localhost:8080/"
        },
        "id": "P0h8YO1wo0n8",
        "outputId": "067e3e39-7a9f-4891-da86-438fb093b3d9"
      },
      "execution_count": 16,
      "outputs": [
        {
          "output_type": "stream",
          "name": "stdout",
          "text": [
            "Model: \"resnet50\"\n",
            "__________________________________________________________________________________________________\n",
            " Layer (type)                Output Shape                 Param #   Connected to                  \n",
            "==================================================================================================\n",
            " input_1 (InputLayer)        [(None, 256, 256, 3)]        0         []                            \n",
            "                                                                                                  \n",
            " conv1_pad (ZeroPadding2D)   (None, 262, 262, 3)          0         ['input_1[0][0]']             \n",
            "                                                                                                  \n",
            " conv1_conv (Conv2D)         (None, 128, 128, 64)         9472      ['conv1_pad[0][0]']           \n",
            "                                                                                                  \n",
            " conv1_bn (BatchNormalizati  (None, 128, 128, 64)         256       ['conv1_conv[0][0]']          \n",
            " on)                                                                                              \n",
            "                                                                                                  \n",
            " conv1_relu (Activation)     (None, 128, 128, 64)         0         ['conv1_bn[0][0]']            \n",
            "                                                                                                  \n",
            " pool1_pad (ZeroPadding2D)   (None, 130, 130, 64)         0         ['conv1_relu[0][0]']          \n",
            "                                                                                                  \n",
            " pool1_pool (MaxPooling2D)   (None, 64, 64, 64)           0         ['pool1_pad[0][0]']           \n",
            "                                                                                                  \n",
            " conv2_block1_1_conv (Conv2  (None, 64, 64, 64)           4160      ['pool1_pool[0][0]']          \n",
            " D)                                                                                               \n",
            "                                                                                                  \n",
            " conv2_block1_1_bn (BatchNo  (None, 64, 64, 64)           256       ['conv2_block1_1_conv[0][0]'] \n",
            " rmalization)                                                                                     \n",
            "                                                                                                  \n",
            " conv2_block1_1_relu (Activ  (None, 64, 64, 64)           0         ['conv2_block1_1_bn[0][0]']   \n",
            " ation)                                                                                           \n",
            "                                                                                                  \n",
            " conv2_block1_2_conv (Conv2  (None, 64, 64, 64)           36928     ['conv2_block1_1_relu[0][0]'] \n",
            " D)                                                                                               \n",
            "                                                                                                  \n",
            " conv2_block1_2_bn (BatchNo  (None, 64, 64, 64)           256       ['conv2_block1_2_conv[0][0]'] \n",
            " rmalization)                                                                                     \n",
            "                                                                                                  \n",
            " conv2_block1_2_relu (Activ  (None, 64, 64, 64)           0         ['conv2_block1_2_bn[0][0]']   \n",
            " ation)                                                                                           \n",
            "                                                                                                  \n",
            " conv2_block1_0_conv (Conv2  (None, 64, 64, 256)          16640     ['pool1_pool[0][0]']          \n",
            " D)                                                                                               \n",
            "                                                                                                  \n",
            " conv2_block1_3_conv (Conv2  (None, 64, 64, 256)          16640     ['conv2_block1_2_relu[0][0]'] \n",
            " D)                                                                                               \n",
            "                                                                                                  \n",
            " conv2_block1_0_bn (BatchNo  (None, 64, 64, 256)          1024      ['conv2_block1_0_conv[0][0]'] \n",
            " rmalization)                                                                                     \n",
            "                                                                                                  \n",
            " conv2_block1_3_bn (BatchNo  (None, 64, 64, 256)          1024      ['conv2_block1_3_conv[0][0]'] \n",
            " rmalization)                                                                                     \n",
            "                                                                                                  \n",
            " conv2_block1_add (Add)      (None, 64, 64, 256)          0         ['conv2_block1_0_bn[0][0]',   \n",
            "                                                                     'conv2_block1_3_bn[0][0]']   \n",
            "                                                                                                  \n",
            " conv2_block1_out (Activati  (None, 64, 64, 256)          0         ['conv2_block1_add[0][0]']    \n",
            " on)                                                                                              \n",
            "                                                                                                  \n",
            " conv2_block2_1_conv (Conv2  (None, 64, 64, 64)           16448     ['conv2_block1_out[0][0]']    \n",
            " D)                                                                                               \n",
            "                                                                                                  \n",
            " conv2_block2_1_bn (BatchNo  (None, 64, 64, 64)           256       ['conv2_block2_1_conv[0][0]'] \n",
            " rmalization)                                                                                     \n",
            "                                                                                                  \n",
            " conv2_block2_1_relu (Activ  (None, 64, 64, 64)           0         ['conv2_block2_1_bn[0][0]']   \n",
            " ation)                                                                                           \n",
            "                                                                                                  \n",
            " conv2_block2_2_conv (Conv2  (None, 64, 64, 64)           36928     ['conv2_block2_1_relu[0][0]'] \n",
            " D)                                                                                               \n",
            "                                                                                                  \n",
            " conv2_block2_2_bn (BatchNo  (None, 64, 64, 64)           256       ['conv2_block2_2_conv[0][0]'] \n",
            " rmalization)                                                                                     \n",
            "                                                                                                  \n",
            " conv2_block2_2_relu (Activ  (None, 64, 64, 64)           0         ['conv2_block2_2_bn[0][0]']   \n",
            " ation)                                                                                           \n",
            "                                                                                                  \n",
            " conv2_block2_3_conv (Conv2  (None, 64, 64, 256)          16640     ['conv2_block2_2_relu[0][0]'] \n",
            " D)                                                                                               \n",
            "                                                                                                  \n",
            " conv2_block2_3_bn (BatchNo  (None, 64, 64, 256)          1024      ['conv2_block2_3_conv[0][0]'] \n",
            " rmalization)                                                                                     \n",
            "                                                                                                  \n",
            " conv2_block2_add (Add)      (None, 64, 64, 256)          0         ['conv2_block1_out[0][0]',    \n",
            "                                                                     'conv2_block2_3_bn[0][0]']   \n",
            "                                                                                                  \n",
            " conv2_block2_out (Activati  (None, 64, 64, 256)          0         ['conv2_block2_add[0][0]']    \n",
            " on)                                                                                              \n",
            "                                                                                                  \n",
            " conv2_block3_1_conv (Conv2  (None, 64, 64, 64)           16448     ['conv2_block2_out[0][0]']    \n",
            " D)                                                                                               \n",
            "                                                                                                  \n",
            " conv2_block3_1_bn (BatchNo  (None, 64, 64, 64)           256       ['conv2_block3_1_conv[0][0]'] \n",
            " rmalization)                                                                                     \n",
            "                                                                                                  \n",
            " conv2_block3_1_relu (Activ  (None, 64, 64, 64)           0         ['conv2_block3_1_bn[0][0]']   \n",
            " ation)                                                                                           \n",
            "                                                                                                  \n",
            " conv2_block3_2_conv (Conv2  (None, 64, 64, 64)           36928     ['conv2_block3_1_relu[0][0]'] \n",
            " D)                                                                                               \n",
            "                                                                                                  \n",
            " conv2_block3_2_bn (BatchNo  (None, 64, 64, 64)           256       ['conv2_block3_2_conv[0][0]'] \n",
            " rmalization)                                                                                     \n",
            "                                                                                                  \n",
            " conv2_block3_2_relu (Activ  (None, 64, 64, 64)           0         ['conv2_block3_2_bn[0][0]']   \n",
            " ation)                                                                                           \n",
            "                                                                                                  \n",
            " conv2_block3_3_conv (Conv2  (None, 64, 64, 256)          16640     ['conv2_block3_2_relu[0][0]'] \n",
            " D)                                                                                               \n",
            "                                                                                                  \n",
            " conv2_block3_3_bn (BatchNo  (None, 64, 64, 256)          1024      ['conv2_block3_3_conv[0][0]'] \n",
            " rmalization)                                                                                     \n",
            "                                                                                                  \n",
            " conv2_block3_add (Add)      (None, 64, 64, 256)          0         ['conv2_block2_out[0][0]',    \n",
            "                                                                     'conv2_block3_3_bn[0][0]']   \n",
            "                                                                                                  \n",
            " conv2_block3_out (Activati  (None, 64, 64, 256)          0         ['conv2_block3_add[0][0]']    \n",
            " on)                                                                                              \n",
            "                                                                                                  \n",
            " conv3_block1_1_conv (Conv2  (None, 32, 32, 128)          32896     ['conv2_block3_out[0][0]']    \n",
            " D)                                                                                               \n",
            "                                                                                                  \n",
            " conv3_block1_1_bn (BatchNo  (None, 32, 32, 128)          512       ['conv3_block1_1_conv[0][0]'] \n",
            " rmalization)                                                                                     \n",
            "                                                                                                  \n",
            " conv3_block1_1_relu (Activ  (None, 32, 32, 128)          0         ['conv3_block1_1_bn[0][0]']   \n",
            " ation)                                                                                           \n",
            "                                                                                                  \n",
            " conv3_block1_2_conv (Conv2  (None, 32, 32, 128)          147584    ['conv3_block1_1_relu[0][0]'] \n",
            " D)                                                                                               \n",
            "                                                                                                  \n",
            " conv3_block1_2_bn (BatchNo  (None, 32, 32, 128)          512       ['conv3_block1_2_conv[0][0]'] \n",
            " rmalization)                                                                                     \n",
            "                                                                                                  \n",
            " conv3_block1_2_relu (Activ  (None, 32, 32, 128)          0         ['conv3_block1_2_bn[0][0]']   \n",
            " ation)                                                                                           \n",
            "                                                                                                  \n",
            " conv3_block1_0_conv (Conv2  (None, 32, 32, 512)          131584    ['conv2_block3_out[0][0]']    \n",
            " D)                                                                                               \n",
            "                                                                                                  \n",
            " conv3_block1_3_conv (Conv2  (None, 32, 32, 512)          66048     ['conv3_block1_2_relu[0][0]'] \n",
            " D)                                                                                               \n",
            "                                                                                                  \n",
            " conv3_block1_0_bn (BatchNo  (None, 32, 32, 512)          2048      ['conv3_block1_0_conv[0][0]'] \n",
            " rmalization)                                                                                     \n",
            "                                                                                                  \n",
            " conv3_block1_3_bn (BatchNo  (None, 32, 32, 512)          2048      ['conv3_block1_3_conv[0][0]'] \n",
            " rmalization)                                                                                     \n",
            "                                                                                                  \n",
            " conv3_block1_add (Add)      (None, 32, 32, 512)          0         ['conv3_block1_0_bn[0][0]',   \n",
            "                                                                     'conv3_block1_3_bn[0][0]']   \n",
            "                                                                                                  \n",
            " conv3_block1_out (Activati  (None, 32, 32, 512)          0         ['conv3_block1_add[0][0]']    \n",
            " on)                                                                                              \n",
            "                                                                                                  \n",
            " conv3_block2_1_conv (Conv2  (None, 32, 32, 128)          65664     ['conv3_block1_out[0][0]']    \n",
            " D)                                                                                               \n",
            "                                                                                                  \n",
            " conv3_block2_1_bn (BatchNo  (None, 32, 32, 128)          512       ['conv3_block2_1_conv[0][0]'] \n",
            " rmalization)                                                                                     \n",
            "                                                                                                  \n",
            " conv3_block2_1_relu (Activ  (None, 32, 32, 128)          0         ['conv3_block2_1_bn[0][0]']   \n",
            " ation)                                                                                           \n",
            "                                                                                                  \n",
            " conv3_block2_2_conv (Conv2  (None, 32, 32, 128)          147584    ['conv3_block2_1_relu[0][0]'] \n",
            " D)                                                                                               \n",
            "                                                                                                  \n",
            " conv3_block2_2_bn (BatchNo  (None, 32, 32, 128)          512       ['conv3_block2_2_conv[0][0]'] \n",
            " rmalization)                                                                                     \n",
            "                                                                                                  \n",
            " conv3_block2_2_relu (Activ  (None, 32, 32, 128)          0         ['conv3_block2_2_bn[0][0]']   \n",
            " ation)                                                                                           \n",
            "                                                                                                  \n",
            " conv3_block2_3_conv (Conv2  (None, 32, 32, 512)          66048     ['conv3_block2_2_relu[0][0]'] \n",
            " D)                                                                                               \n",
            "                                                                                                  \n",
            " conv3_block2_3_bn (BatchNo  (None, 32, 32, 512)          2048      ['conv3_block2_3_conv[0][0]'] \n",
            " rmalization)                                                                                     \n",
            "                                                                                                  \n",
            " conv3_block2_add (Add)      (None, 32, 32, 512)          0         ['conv3_block1_out[0][0]',    \n",
            "                                                                     'conv3_block2_3_bn[0][0]']   \n",
            "                                                                                                  \n",
            " conv3_block2_out (Activati  (None, 32, 32, 512)          0         ['conv3_block2_add[0][0]']    \n",
            " on)                                                                                              \n",
            "                                                                                                  \n",
            " conv3_block3_1_conv (Conv2  (None, 32, 32, 128)          65664     ['conv3_block2_out[0][0]']    \n",
            " D)                                                                                               \n",
            "                                                                                                  \n",
            " conv3_block3_1_bn (BatchNo  (None, 32, 32, 128)          512       ['conv3_block3_1_conv[0][0]'] \n",
            " rmalization)                                                                                     \n",
            "                                                                                                  \n",
            " conv3_block3_1_relu (Activ  (None, 32, 32, 128)          0         ['conv3_block3_1_bn[0][0]']   \n",
            " ation)                                                                                           \n",
            "                                                                                                  \n",
            " conv3_block3_2_conv (Conv2  (None, 32, 32, 128)          147584    ['conv3_block3_1_relu[0][0]'] \n",
            " D)                                                                                               \n",
            "                                                                                                  \n",
            " conv3_block3_2_bn (BatchNo  (None, 32, 32, 128)          512       ['conv3_block3_2_conv[0][0]'] \n",
            " rmalization)                                                                                     \n",
            "                                                                                                  \n",
            " conv3_block3_2_relu (Activ  (None, 32, 32, 128)          0         ['conv3_block3_2_bn[0][0]']   \n",
            " ation)                                                                                           \n",
            "                                                                                                  \n",
            " conv3_block3_3_conv (Conv2  (None, 32, 32, 512)          66048     ['conv3_block3_2_relu[0][0]'] \n",
            " D)                                                                                               \n",
            "                                                                                                  \n",
            " conv3_block3_3_bn (BatchNo  (None, 32, 32, 512)          2048      ['conv3_block3_3_conv[0][0]'] \n",
            " rmalization)                                                                                     \n",
            "                                                                                                  \n",
            " conv3_block3_add (Add)      (None, 32, 32, 512)          0         ['conv3_block2_out[0][0]',    \n",
            "                                                                     'conv3_block3_3_bn[0][0]']   \n",
            "                                                                                                  \n",
            " conv3_block3_out (Activati  (None, 32, 32, 512)          0         ['conv3_block3_add[0][0]']    \n",
            " on)                                                                                              \n",
            "                                                                                                  \n",
            " conv3_block4_1_conv (Conv2  (None, 32, 32, 128)          65664     ['conv3_block3_out[0][0]']    \n",
            " D)                                                                                               \n",
            "                                                                                                  \n",
            " conv3_block4_1_bn (BatchNo  (None, 32, 32, 128)          512       ['conv3_block4_1_conv[0][0]'] \n",
            " rmalization)                                                                                     \n",
            "                                                                                                  \n",
            " conv3_block4_1_relu (Activ  (None, 32, 32, 128)          0         ['conv3_block4_1_bn[0][0]']   \n",
            " ation)                                                                                           \n",
            "                                                                                                  \n",
            " conv3_block4_2_conv (Conv2  (None, 32, 32, 128)          147584    ['conv3_block4_1_relu[0][0]'] \n",
            " D)                                                                                               \n",
            "                                                                                                  \n",
            " conv3_block4_2_bn (BatchNo  (None, 32, 32, 128)          512       ['conv3_block4_2_conv[0][0]'] \n",
            " rmalization)                                                                                     \n",
            "                                                                                                  \n",
            " conv3_block4_2_relu (Activ  (None, 32, 32, 128)          0         ['conv3_block4_2_bn[0][0]']   \n",
            " ation)                                                                                           \n",
            "                                                                                                  \n",
            " conv3_block4_3_conv (Conv2  (None, 32, 32, 512)          66048     ['conv3_block4_2_relu[0][0]'] \n",
            " D)                                                                                               \n",
            "                                                                                                  \n",
            " conv3_block4_3_bn (BatchNo  (None, 32, 32, 512)          2048      ['conv3_block4_3_conv[0][0]'] \n",
            " rmalization)                                                                                     \n",
            "                                                                                                  \n",
            " conv3_block4_add (Add)      (None, 32, 32, 512)          0         ['conv3_block3_out[0][0]',    \n",
            "                                                                     'conv3_block4_3_bn[0][0]']   \n",
            "                                                                                                  \n",
            " conv3_block4_out (Activati  (None, 32, 32, 512)          0         ['conv3_block4_add[0][0]']    \n",
            " on)                                                                                              \n",
            "                                                                                                  \n",
            " conv4_block1_1_conv (Conv2  (None, 16, 16, 256)          131328    ['conv3_block4_out[0][0]']    \n",
            " D)                                                                                               \n",
            "                                                                                                  \n",
            " conv4_block1_1_bn (BatchNo  (None, 16, 16, 256)          1024      ['conv4_block1_1_conv[0][0]'] \n",
            " rmalization)                                                                                     \n",
            "                                                                                                  \n",
            " conv4_block1_1_relu (Activ  (None, 16, 16, 256)          0         ['conv4_block1_1_bn[0][0]']   \n",
            " ation)                                                                                           \n",
            "                                                                                                  \n",
            " conv4_block1_2_conv (Conv2  (None, 16, 16, 256)          590080    ['conv4_block1_1_relu[0][0]'] \n",
            " D)                                                                                               \n",
            "                                                                                                  \n",
            " conv4_block1_2_bn (BatchNo  (None, 16, 16, 256)          1024      ['conv4_block1_2_conv[0][0]'] \n",
            " rmalization)                                                                                     \n",
            "                                                                                                  \n",
            " conv4_block1_2_relu (Activ  (None, 16, 16, 256)          0         ['conv4_block1_2_bn[0][0]']   \n",
            " ation)                                                                                           \n",
            "                                                                                                  \n",
            " conv4_block1_0_conv (Conv2  (None, 16, 16, 1024)         525312    ['conv3_block4_out[0][0]']    \n",
            " D)                                                                                               \n",
            "                                                                                                  \n",
            " conv4_block1_3_conv (Conv2  (None, 16, 16, 1024)         263168    ['conv4_block1_2_relu[0][0]'] \n",
            " D)                                                                                               \n",
            "                                                                                                  \n",
            " conv4_block1_0_bn (BatchNo  (None, 16, 16, 1024)         4096      ['conv4_block1_0_conv[0][0]'] \n",
            " rmalization)                                                                                     \n",
            "                                                                                                  \n",
            " conv4_block1_3_bn (BatchNo  (None, 16, 16, 1024)         4096      ['conv4_block1_3_conv[0][0]'] \n",
            " rmalization)                                                                                     \n",
            "                                                                                                  \n",
            " conv4_block1_add (Add)      (None, 16, 16, 1024)         0         ['conv4_block1_0_bn[0][0]',   \n",
            "                                                                     'conv4_block1_3_bn[0][0]']   \n",
            "                                                                                                  \n",
            " conv4_block1_out (Activati  (None, 16, 16, 1024)         0         ['conv4_block1_add[0][0]']    \n",
            " on)                                                                                              \n",
            "                                                                                                  \n",
            " conv4_block2_1_conv (Conv2  (None, 16, 16, 256)          262400    ['conv4_block1_out[0][0]']    \n",
            " D)                                                                                               \n",
            "                                                                                                  \n",
            " conv4_block2_1_bn (BatchNo  (None, 16, 16, 256)          1024      ['conv4_block2_1_conv[0][0]'] \n",
            " rmalization)                                                                                     \n",
            "                                                                                                  \n",
            " conv4_block2_1_relu (Activ  (None, 16, 16, 256)          0         ['conv4_block2_1_bn[0][0]']   \n",
            " ation)                                                                                           \n",
            "                                                                                                  \n",
            " conv4_block2_2_conv (Conv2  (None, 16, 16, 256)          590080    ['conv4_block2_1_relu[0][0]'] \n",
            " D)                                                                                               \n",
            "                                                                                                  \n",
            " conv4_block2_2_bn (BatchNo  (None, 16, 16, 256)          1024      ['conv4_block2_2_conv[0][0]'] \n",
            " rmalization)                                                                                     \n",
            "                                                                                                  \n",
            " conv4_block2_2_relu (Activ  (None, 16, 16, 256)          0         ['conv4_block2_2_bn[0][0]']   \n",
            " ation)                                                                                           \n",
            "                                                                                                  \n",
            " conv4_block2_3_conv (Conv2  (None, 16, 16, 1024)         263168    ['conv4_block2_2_relu[0][0]'] \n",
            " D)                                                                                               \n",
            "                                                                                                  \n",
            " conv4_block2_3_bn (BatchNo  (None, 16, 16, 1024)         4096      ['conv4_block2_3_conv[0][0]'] \n",
            " rmalization)                                                                                     \n",
            "                                                                                                  \n",
            " conv4_block2_add (Add)      (None, 16, 16, 1024)         0         ['conv4_block1_out[0][0]',    \n",
            "                                                                     'conv4_block2_3_bn[0][0]']   \n",
            "                                                                                                  \n",
            " conv4_block2_out (Activati  (None, 16, 16, 1024)         0         ['conv4_block2_add[0][0]']    \n",
            " on)                                                                                              \n",
            "                                                                                                  \n",
            " conv4_block3_1_conv (Conv2  (None, 16, 16, 256)          262400    ['conv4_block2_out[0][0]']    \n",
            " D)                                                                                               \n",
            "                                                                                                  \n",
            " conv4_block3_1_bn (BatchNo  (None, 16, 16, 256)          1024      ['conv4_block3_1_conv[0][0]'] \n",
            " rmalization)                                                                                     \n",
            "                                                                                                  \n",
            " conv4_block3_1_relu (Activ  (None, 16, 16, 256)          0         ['conv4_block3_1_bn[0][0]']   \n",
            " ation)                                                                                           \n",
            "                                                                                                  \n",
            " conv4_block3_2_conv (Conv2  (None, 16, 16, 256)          590080    ['conv4_block3_1_relu[0][0]'] \n",
            " D)                                                                                               \n",
            "                                                                                                  \n",
            " conv4_block3_2_bn (BatchNo  (None, 16, 16, 256)          1024      ['conv4_block3_2_conv[0][0]'] \n",
            " rmalization)                                                                                     \n",
            "                                                                                                  \n",
            " conv4_block3_2_relu (Activ  (None, 16, 16, 256)          0         ['conv4_block3_2_bn[0][0]']   \n",
            " ation)                                                                                           \n",
            "                                                                                                  \n",
            " conv4_block3_3_conv (Conv2  (None, 16, 16, 1024)         263168    ['conv4_block3_2_relu[0][0]'] \n",
            " D)                                                                                               \n",
            "                                                                                                  \n",
            " conv4_block3_3_bn (BatchNo  (None, 16, 16, 1024)         4096      ['conv4_block3_3_conv[0][0]'] \n",
            " rmalization)                                                                                     \n",
            "                                                                                                  \n",
            " conv4_block3_add (Add)      (None, 16, 16, 1024)         0         ['conv4_block2_out[0][0]',    \n",
            "                                                                     'conv4_block3_3_bn[0][0]']   \n",
            "                                                                                                  \n",
            " conv4_block3_out (Activati  (None, 16, 16, 1024)         0         ['conv4_block3_add[0][0]']    \n",
            " on)                                                                                              \n",
            "                                                                                                  \n",
            " conv4_block4_1_conv (Conv2  (None, 16, 16, 256)          262400    ['conv4_block3_out[0][0]']    \n",
            " D)                                                                                               \n",
            "                                                                                                  \n",
            " conv4_block4_1_bn (BatchNo  (None, 16, 16, 256)          1024      ['conv4_block4_1_conv[0][0]'] \n",
            " rmalization)                                                                                     \n",
            "                                                                                                  \n",
            " conv4_block4_1_relu (Activ  (None, 16, 16, 256)          0         ['conv4_block4_1_bn[0][0]']   \n",
            " ation)                                                                                           \n",
            "                                                                                                  \n",
            " conv4_block4_2_conv (Conv2  (None, 16, 16, 256)          590080    ['conv4_block4_1_relu[0][0]'] \n",
            " D)                                                                                               \n",
            "                                                                                                  \n",
            " conv4_block4_2_bn (BatchNo  (None, 16, 16, 256)          1024      ['conv4_block4_2_conv[0][0]'] \n",
            " rmalization)                                                                                     \n",
            "                                                                                                  \n",
            " conv4_block4_2_relu (Activ  (None, 16, 16, 256)          0         ['conv4_block4_2_bn[0][0]']   \n",
            " ation)                                                                                           \n",
            "                                                                                                  \n",
            " conv4_block4_3_conv (Conv2  (None, 16, 16, 1024)         263168    ['conv4_block4_2_relu[0][0]'] \n",
            " D)                                                                                               \n",
            "                                                                                                  \n",
            " conv4_block4_3_bn (BatchNo  (None, 16, 16, 1024)         4096      ['conv4_block4_3_conv[0][0]'] \n",
            " rmalization)                                                                                     \n",
            "                                                                                                  \n",
            " conv4_block4_add (Add)      (None, 16, 16, 1024)         0         ['conv4_block3_out[0][0]',    \n",
            "                                                                     'conv4_block4_3_bn[0][0]']   \n",
            "                                                                                                  \n",
            " conv4_block4_out (Activati  (None, 16, 16, 1024)         0         ['conv4_block4_add[0][0]']    \n",
            " on)                                                                                              \n",
            "                                                                                                  \n",
            " conv4_block5_1_conv (Conv2  (None, 16, 16, 256)          262400    ['conv4_block4_out[0][0]']    \n",
            " D)                                                                                               \n",
            "                                                                                                  \n",
            " conv4_block5_1_bn (BatchNo  (None, 16, 16, 256)          1024      ['conv4_block5_1_conv[0][0]'] \n",
            " rmalization)                                                                                     \n",
            "                                                                                                  \n",
            " conv4_block5_1_relu (Activ  (None, 16, 16, 256)          0         ['conv4_block5_1_bn[0][0]']   \n",
            " ation)                                                                                           \n",
            "                                                                                                  \n",
            " conv4_block5_2_conv (Conv2  (None, 16, 16, 256)          590080    ['conv4_block5_1_relu[0][0]'] \n",
            " D)                                                                                               \n",
            "                                                                                                  \n",
            " conv4_block5_2_bn (BatchNo  (None, 16, 16, 256)          1024      ['conv4_block5_2_conv[0][0]'] \n",
            " rmalization)                                                                                     \n",
            "                                                                                                  \n",
            " conv4_block5_2_relu (Activ  (None, 16, 16, 256)          0         ['conv4_block5_2_bn[0][0]']   \n",
            " ation)                                                                                           \n",
            "                                                                                                  \n",
            " conv4_block5_3_conv (Conv2  (None, 16, 16, 1024)         263168    ['conv4_block5_2_relu[0][0]'] \n",
            " D)                                                                                               \n",
            "                                                                                                  \n",
            " conv4_block5_3_bn (BatchNo  (None, 16, 16, 1024)         4096      ['conv4_block5_3_conv[0][0]'] \n",
            " rmalization)                                                                                     \n",
            "                                                                                                  \n",
            " conv4_block5_add (Add)      (None, 16, 16, 1024)         0         ['conv4_block4_out[0][0]',    \n",
            "                                                                     'conv4_block5_3_bn[0][0]']   \n",
            "                                                                                                  \n",
            " conv4_block5_out (Activati  (None, 16, 16, 1024)         0         ['conv4_block5_add[0][0]']    \n",
            " on)                                                                                              \n",
            "                                                                                                  \n",
            " conv4_block6_1_conv (Conv2  (None, 16, 16, 256)          262400    ['conv4_block5_out[0][0]']    \n",
            " D)                                                                                               \n",
            "                                                                                                  \n",
            " conv4_block6_1_bn (BatchNo  (None, 16, 16, 256)          1024      ['conv4_block6_1_conv[0][0]'] \n",
            " rmalization)                                                                                     \n",
            "                                                                                                  \n",
            " conv4_block6_1_relu (Activ  (None, 16, 16, 256)          0         ['conv4_block6_1_bn[0][0]']   \n",
            " ation)                                                                                           \n",
            "                                                                                                  \n",
            " conv4_block6_2_conv (Conv2  (None, 16, 16, 256)          590080    ['conv4_block6_1_relu[0][0]'] \n",
            " D)                                                                                               \n",
            "                                                                                                  \n",
            " conv4_block6_2_bn (BatchNo  (None, 16, 16, 256)          1024      ['conv4_block6_2_conv[0][0]'] \n",
            " rmalization)                                                                                     \n",
            "                                                                                                  \n",
            " conv4_block6_2_relu (Activ  (None, 16, 16, 256)          0         ['conv4_block6_2_bn[0][0]']   \n",
            " ation)                                                                                           \n",
            "                                                                                                  \n",
            " conv4_block6_3_conv (Conv2  (None, 16, 16, 1024)         263168    ['conv4_block6_2_relu[0][0]'] \n",
            " D)                                                                                               \n",
            "                                                                                                  \n",
            " conv4_block6_3_bn (BatchNo  (None, 16, 16, 1024)         4096      ['conv4_block6_3_conv[0][0]'] \n",
            " rmalization)                                                                                     \n",
            "                                                                                                  \n",
            " conv4_block6_add (Add)      (None, 16, 16, 1024)         0         ['conv4_block5_out[0][0]',    \n",
            "                                                                     'conv4_block6_3_bn[0][0]']   \n",
            "                                                                                                  \n",
            " conv4_block6_out (Activati  (None, 16, 16, 1024)         0         ['conv4_block6_add[0][0]']    \n",
            " on)                                                                                              \n",
            "                                                                                                  \n",
            " conv5_block1_1_conv (Conv2  (None, 8, 8, 512)            524800    ['conv4_block6_out[0][0]']    \n",
            " D)                                                                                               \n",
            "                                                                                                  \n",
            " conv5_block1_1_bn (BatchNo  (None, 8, 8, 512)            2048      ['conv5_block1_1_conv[0][0]'] \n",
            " rmalization)                                                                                     \n",
            "                                                                                                  \n",
            " conv5_block1_1_relu (Activ  (None, 8, 8, 512)            0         ['conv5_block1_1_bn[0][0]']   \n",
            " ation)                                                                                           \n",
            "                                                                                                  \n",
            " conv5_block1_2_conv (Conv2  (None, 8, 8, 512)            2359808   ['conv5_block1_1_relu[0][0]'] \n",
            " D)                                                                                               \n",
            "                                                                                                  \n",
            " conv5_block1_2_bn (BatchNo  (None, 8, 8, 512)            2048      ['conv5_block1_2_conv[0][0]'] \n",
            " rmalization)                                                                                     \n",
            "                                                                                                  \n",
            " conv5_block1_2_relu (Activ  (None, 8, 8, 512)            0         ['conv5_block1_2_bn[0][0]']   \n",
            " ation)                                                                                           \n",
            "                                                                                                  \n",
            " conv5_block1_0_conv (Conv2  (None, 8, 8, 2048)           2099200   ['conv4_block6_out[0][0]']    \n",
            " D)                                                                                               \n",
            "                                                                                                  \n",
            " conv5_block1_3_conv (Conv2  (None, 8, 8, 2048)           1050624   ['conv5_block1_2_relu[0][0]'] \n",
            " D)                                                                                               \n",
            "                                                                                                  \n",
            " conv5_block1_0_bn (BatchNo  (None, 8, 8, 2048)           8192      ['conv5_block1_0_conv[0][0]'] \n",
            " rmalization)                                                                                     \n",
            "                                                                                                  \n",
            " conv5_block1_3_bn (BatchNo  (None, 8, 8, 2048)           8192      ['conv5_block1_3_conv[0][0]'] \n",
            " rmalization)                                                                                     \n",
            "                                                                                                  \n",
            " conv5_block1_add (Add)      (None, 8, 8, 2048)           0         ['conv5_block1_0_bn[0][0]',   \n",
            "                                                                     'conv5_block1_3_bn[0][0]']   \n",
            "                                                                                                  \n",
            " conv5_block1_out (Activati  (None, 8, 8, 2048)           0         ['conv5_block1_add[0][0]']    \n",
            " on)                                                                                              \n",
            "                                                                                                  \n",
            " conv5_block2_1_conv (Conv2  (None, 8, 8, 512)            1049088   ['conv5_block1_out[0][0]']    \n",
            " D)                                                                                               \n",
            "                                                                                                  \n",
            " conv5_block2_1_bn (BatchNo  (None, 8, 8, 512)            2048      ['conv5_block2_1_conv[0][0]'] \n",
            " rmalization)                                                                                     \n",
            "                                                                                                  \n",
            " conv5_block2_1_relu (Activ  (None, 8, 8, 512)            0         ['conv5_block2_1_bn[0][0]']   \n",
            " ation)                                                                                           \n",
            "                                                                                                  \n",
            " conv5_block2_2_conv (Conv2  (None, 8, 8, 512)            2359808   ['conv5_block2_1_relu[0][0]'] \n",
            " D)                                                                                               \n",
            "                                                                                                  \n",
            " conv5_block2_2_bn (BatchNo  (None, 8, 8, 512)            2048      ['conv5_block2_2_conv[0][0]'] \n",
            " rmalization)                                                                                     \n",
            "                                                                                                  \n",
            " conv5_block2_2_relu (Activ  (None, 8, 8, 512)            0         ['conv5_block2_2_bn[0][0]']   \n",
            " ation)                                                                                           \n",
            "                                                                                                  \n",
            " conv5_block2_3_conv (Conv2  (None, 8, 8, 2048)           1050624   ['conv5_block2_2_relu[0][0]'] \n",
            " D)                                                                                               \n",
            "                                                                                                  \n",
            " conv5_block2_3_bn (BatchNo  (None, 8, 8, 2048)           8192      ['conv5_block2_3_conv[0][0]'] \n",
            " rmalization)                                                                                     \n",
            "                                                                                                  \n",
            " conv5_block2_add (Add)      (None, 8, 8, 2048)           0         ['conv5_block1_out[0][0]',    \n",
            "                                                                     'conv5_block2_3_bn[0][0]']   \n",
            "                                                                                                  \n",
            " conv5_block2_out (Activati  (None, 8, 8, 2048)           0         ['conv5_block2_add[0][0]']    \n",
            " on)                                                                                              \n",
            "                                                                                                  \n",
            " conv5_block3_1_conv (Conv2  (None, 8, 8, 512)            1049088   ['conv5_block2_out[0][0]']    \n",
            " D)                                                                                               \n",
            "                                                                                                  \n",
            " conv5_block3_1_bn (BatchNo  (None, 8, 8, 512)            2048      ['conv5_block3_1_conv[0][0]'] \n",
            " rmalization)                                                                                     \n",
            "                                                                                                  \n",
            " conv5_block3_1_relu (Activ  (None, 8, 8, 512)            0         ['conv5_block3_1_bn[0][0]']   \n",
            " ation)                                                                                           \n",
            "                                                                                                  \n",
            " conv5_block3_2_conv (Conv2  (None, 8, 8, 512)            2359808   ['conv5_block3_1_relu[0][0]'] \n",
            " D)                                                                                               \n",
            "                                                                                                  \n",
            " conv5_block3_2_bn (BatchNo  (None, 8, 8, 512)            2048      ['conv5_block3_2_conv[0][0]'] \n",
            " rmalization)                                                                                     \n",
            "                                                                                                  \n",
            " conv5_block3_2_relu (Activ  (None, 8, 8, 512)            0         ['conv5_block3_2_bn[0][0]']   \n",
            " ation)                                                                                           \n",
            "                                                                                                  \n",
            " conv5_block3_3_conv (Conv2  (None, 8, 8, 2048)           1050624   ['conv5_block3_2_relu[0][0]'] \n",
            " D)                                                                                               \n",
            "                                                                                                  \n",
            " conv5_block3_3_bn (BatchNo  (None, 8, 8, 2048)           8192      ['conv5_block3_3_conv[0][0]'] \n",
            " rmalization)                                                                                     \n",
            "                                                                                                  \n",
            " conv5_block3_add (Add)      (None, 8, 8, 2048)           0         ['conv5_block2_out[0][0]',    \n",
            "                                                                     'conv5_block3_3_bn[0][0]']   \n",
            "                                                                                                  \n",
            " conv5_block3_out (Activati  (None, 8, 8, 2048)           0         ['conv5_block3_add[0][0]']    \n",
            " on)                                                                                              \n",
            "                                                                                                  \n",
            "==================================================================================================\n",
            "Total params: 23587712 (89.98 MB)\n",
            "Trainable params: 23534592 (89.78 MB)\n",
            "Non-trainable params: 53120 (207.50 KB)\n",
            "__________________________________________________________________________________________________\n"
          ]
        }
      ]
    },
    {
      "cell_type": "code",
      "source": [
        "len(base_model.layers)"
      ],
      "metadata": {
        "colab": {
          "base_uri": "https://localhost:8080/"
        },
        "id": "PIF7moYYo0lI",
        "outputId": "9fc2d698-f143-496b-d637-c1d96c8c1ad7"
      },
      "execution_count": 17,
      "outputs": [
        {
          "output_type": "execute_result",
          "data": {
            "text/plain": [
              "175"
            ]
          },
          "metadata": {},
          "execution_count": 17
        }
      ]
    },
    {
      "cell_type": "code",
      "source": [
        "for layer in base_model.layers:\n",
        "  print(layer, layer.trainable) # see how many layers are trainable\n",
        "  # Batch Norm is to adjusts the output of each neuron in a layer to have similar mean and variance."
      ],
      "metadata": {
        "colab": {
          "base_uri": "https://localhost:8080/"
        },
        "id": "PQ82E1OIo0ik",
        "outputId": "1cac74b6-6ad3-4ccc-b8c5-7e3e11864ad7"
      },
      "execution_count": 18,
      "outputs": [
        {
          "output_type": "stream",
          "name": "stdout",
          "text": [
            "<keras.src.engine.input_layer.InputLayer object at 0x78bc6b1fa0e0> True\n",
            "<keras.src.layers.reshaping.zero_padding2d.ZeroPadding2D object at 0x78bc6ada46d0> True\n",
            "<keras.src.layers.convolutional.conv2d.Conv2D object at 0x78bc6b1fa0b0> True\n",
            "<keras.src.layers.normalization.batch_normalization.BatchNormalization object at 0x78bc6ada4ee0> True\n",
            "<keras.src.layers.core.activation.Activation object at 0x78bc6ada5f60> True\n",
            "<keras.src.layers.reshaping.zero_padding2d.ZeroPadding2D object at 0x78bc6ada6500> True\n",
            "<keras.src.layers.pooling.max_pooling2d.MaxPooling2D object at 0x78bc6ada7490> True\n",
            "<keras.src.layers.convolutional.conv2d.Conv2D object at 0x78bc6ada73d0> True\n",
            "<keras.src.layers.normalization.batch_normalization.BatchNormalization object at 0x78bc6a1954e0> True\n",
            "<keras.src.layers.core.activation.Activation object at 0x78bc6a1972e0> True\n",
            "<keras.src.layers.convolutional.conv2d.Conv2D object at 0x78bc6a196f50> True\n",
            "<keras.src.layers.normalization.batch_normalization.BatchNormalization object at 0x78bc6a197fa0> True\n",
            "<keras.src.layers.core.activation.Activation object at 0x78bc6a1b46a0> True\n",
            "<keras.src.layers.convolutional.conv2d.Conv2D object at 0x78bc6a194250> True\n",
            "<keras.src.layers.convolutional.conv2d.Conv2D object at 0x78bc6a1b6c50> True\n",
            "<keras.src.layers.normalization.batch_normalization.BatchNormalization object at 0x78bc6ada7760> True\n",
            "<keras.src.layers.normalization.batch_normalization.BatchNormalization object at 0x78bc6a1b68c0> True\n",
            "<keras.src.layers.merging.add.Add object at 0x78bc6a1b7490> True\n",
            "<keras.src.layers.core.activation.Activation object at 0x78bc6a1b6920> True\n",
            "<keras.src.layers.convolutional.conv2d.Conv2D object at 0x78bc6a1b60b0> True\n",
            "<keras.src.layers.normalization.batch_normalization.BatchNormalization object at 0x78bc6a1d12a0> True\n",
            "<keras.src.layers.core.activation.Activation object at 0x78bc6a1b55a0> True\n",
            "<keras.src.layers.convolutional.conv2d.Conv2D object at 0x78bc6a1d2920> True\n",
            "<keras.src.layers.normalization.batch_normalization.BatchNormalization object at 0x78bc6a1d34c0> True\n",
            "<keras.src.layers.core.activation.Activation object at 0x78bc6a1d36d0> True\n",
            "<keras.src.layers.convolutional.conv2d.Conv2D object at 0x78bc6a1d3250> True\n",
            "<keras.src.layers.normalization.batch_normalization.BatchNormalization object at 0x78bc6a1d06a0> True\n",
            "<keras.src.layers.merging.add.Add object at 0x78bc6a196590> True\n",
            "<keras.src.layers.core.activation.Activation object at 0x78bc6a1d2800> True\n",
            "<keras.src.layers.convolutional.conv2d.Conv2D object at 0x78bc6ada5420> True\n",
            "<keras.src.layers.normalization.batch_normalization.BatchNormalization object at 0x78bc6ada55a0> True\n",
            "<keras.src.layers.core.activation.Activation object at 0x78bc6a1f9d20> True\n",
            "<keras.src.layers.convolutional.conv2d.Conv2D object at 0x78bc6a1fa530> True\n",
            "<keras.src.layers.normalization.batch_normalization.BatchNormalization object at 0x78bc6a1f89d0> True\n",
            "<keras.src.layers.core.activation.Activation object at 0x78bc6a1fb9d0> True\n",
            "<keras.src.layers.convolutional.conv2d.Conv2D object at 0x78bc6a1d83d0> True\n",
            "<keras.src.layers.normalization.batch_normalization.BatchNormalization object at 0x78bc6a1d8c40> True\n",
            "<keras.src.layers.merging.add.Add object at 0x78bc6a1fba90> True\n",
            "<keras.src.layers.core.activation.Activation object at 0x78bc6a1dace0> True\n",
            "<keras.src.layers.convolutional.conv2d.Conv2D object at 0x78bc6a1db100> True\n",
            "<keras.src.layers.normalization.batch_normalization.BatchNormalization object at 0x78bc6a1d9780> True\n",
            "<keras.src.layers.core.activation.Activation object at 0x78bc61874bb0> True\n",
            "<keras.src.layers.convolutional.conv2d.Conv2D object at 0x78bc61876680> True\n",
            "<keras.src.layers.normalization.batch_normalization.BatchNormalization object at 0x78bc61876da0> True\n",
            "<keras.src.layers.core.activation.Activation object at 0x78bc61877eb0> True\n",
            "<keras.src.layers.convolutional.conv2d.Conv2D object at 0x78bc6a1db040> True\n",
            "<keras.src.layers.convolutional.conv2d.Conv2D object at 0x78bc61876b60> True\n",
            "<keras.src.layers.normalization.batch_normalization.BatchNormalization object at 0x78bc6a1db220> True\n",
            "<keras.src.layers.normalization.batch_normalization.BatchNormalization object at 0x78bc61876a40> True\n",
            "<keras.src.layers.merging.add.Add object at 0x78bc61877e20> True\n",
            "<keras.src.layers.core.activation.Activation object at 0x78bc61896ef0> True\n",
            "<keras.src.layers.convolutional.conv2d.Conv2D object at 0x78bc61894220> True\n",
            "<keras.src.layers.normalization.batch_normalization.BatchNormalization object at 0x78bc61897bb0> True\n",
            "<keras.src.layers.core.activation.Activation object at 0x78bc61897a30> True\n",
            "<keras.src.layers.convolutional.conv2d.Conv2D object at 0x78bc618b1390> True\n",
            "<keras.src.layers.normalization.batch_normalization.BatchNormalization object at 0x78bc618b14b0> True\n",
            "<keras.src.layers.core.activation.Activation object at 0x78bc618b1ea0> True\n",
            "<keras.src.layers.convolutional.conv2d.Conv2D object at 0x78bc618b0a00> True\n",
            "<keras.src.layers.normalization.batch_normalization.BatchNormalization object at 0x78bc618b0d00> True\n",
            "<keras.src.layers.merging.add.Add object at 0x78bc618b25f0> True\n",
            "<keras.src.layers.core.activation.Activation object at 0x78bc618b0e80> True\n",
            "<keras.src.layers.convolutional.conv2d.Conv2D object at 0x78bc61876b90> True\n",
            "<keras.src.layers.normalization.batch_normalization.BatchNormalization object at 0x78bc618b0790> True\n",
            "<keras.src.layers.core.activation.Activation object at 0x78bc6ada5c00> True\n",
            "<keras.src.layers.convolutional.conv2d.Conv2D object at 0x78bc6a1fa440> True\n",
            "<keras.src.layers.normalization.batch_normalization.BatchNormalization object at 0x78bc6a1fa110> True\n",
            "<keras.src.layers.core.activation.Activation object at 0x78bc6a1dbb50> True\n",
            "<keras.src.layers.convolutional.conv2d.Conv2D object at 0x78bc618ca560> True\n",
            "<keras.src.layers.normalization.batch_normalization.BatchNormalization object at 0x78bc618ca9b0> True\n",
            "<keras.src.layers.merging.add.Add object at 0x78bc618cb9d0> True\n",
            "<keras.src.layers.core.activation.Activation object at 0x78bc618d46d0> True\n",
            "<keras.src.layers.convolutional.conv2d.Conv2D object at 0x78bc618d4340> True\n",
            "<keras.src.layers.normalization.batch_normalization.BatchNormalization object at 0x78bc618d55a0> True\n",
            "<keras.src.layers.core.activation.Activation object at 0x78bc618d7010> True\n",
            "<keras.src.layers.convolutional.conv2d.Conv2D object at 0x78bc618d74c0> True\n",
            "<keras.src.layers.normalization.batch_normalization.BatchNormalization object at 0x78bc618d7ca0> True\n",
            "<keras.src.layers.core.activation.Activation object at 0x78bc618d7250> True\n",
            "<keras.src.layers.convolutional.conv2d.Conv2D object at 0x78bc618e5150> True\n",
            "<keras.src.layers.normalization.batch_normalization.BatchNormalization object at 0x78bc618e5300> True\n",
            "<keras.src.layers.merging.add.Add object at 0x78bc618e65c0> True\n",
            "<keras.src.layers.core.activation.Activation object at 0x78bc618e70d0> True\n",
            "<keras.src.layers.convolutional.conv2d.Conv2D object at 0x78bc61905270> True\n",
            "<keras.src.layers.normalization.batch_normalization.BatchNormalization object at 0x78bc619050c0> True\n",
            "<keras.src.layers.core.activation.Activation object at 0x78bc61904fa0> True\n",
            "<keras.src.layers.convolutional.conv2d.Conv2D object at 0x78bc619073d0> True\n",
            "<keras.src.layers.normalization.batch_normalization.BatchNormalization object at 0x78bc61906ad0> True\n",
            "<keras.src.layers.core.activation.Activation object at 0x78bc61907880> True\n",
            "<keras.src.layers.convolutional.conv2d.Conv2D object at 0x78bc618e7d60> True\n",
            "<keras.src.layers.convolutional.conv2d.Conv2D object at 0x78bc6191d420> True\n",
            "<keras.src.layers.normalization.batch_normalization.BatchNormalization object at 0x78bc618e67a0> True\n",
            "<keras.src.layers.normalization.batch_normalization.BatchNormalization object at 0x78bc6191d870> True\n",
            "<keras.src.layers.merging.add.Add object at 0x78bc6191e830> True\n",
            "<keras.src.layers.core.activation.Activation object at 0x78bc6191fbe0> True\n",
            "<keras.src.layers.convolutional.conv2d.Conv2D object at 0x78bc6191d5d0> True\n",
            "<keras.src.layers.normalization.batch_normalization.BatchNormalization object at 0x78bc618e49d0> True\n",
            "<keras.src.layers.core.activation.Activation object at 0x78bc618e4910> True\n",
            "<keras.src.layers.convolutional.conv2d.Conv2D object at 0x78bc618d7220> True\n",
            "<keras.src.layers.normalization.batch_normalization.BatchNormalization object at 0x78bc6a1db8b0> True\n",
            "<keras.src.layers.core.activation.Activation object at 0x78bc618ca920> True\n",
            "<keras.src.layers.convolutional.conv2d.Conv2D object at 0x78bc61938c10> True\n",
            "<keras.src.layers.normalization.batch_normalization.BatchNormalization object at 0x78bc61938dc0> True\n",
            "<keras.src.layers.merging.add.Add object at 0x78bc618d5cc0> True\n",
            "<keras.src.layers.core.activation.Activation object at 0x78bc6193ab90> True\n",
            "<keras.src.layers.convolutional.conv2d.Conv2D object at 0x78bc6193ba30> True\n",
            "<keras.src.layers.normalization.batch_normalization.BatchNormalization object at 0x78bc6193bb50> True\n",
            "<keras.src.layers.core.activation.Activation object at 0x78bc61939870> True\n",
            "<keras.src.layers.convolutional.conv2d.Conv2D object at 0x78bc6193d300> True\n",
            "<keras.src.layers.normalization.batch_normalization.BatchNormalization object at 0x78bc6193de10> True\n",
            "<keras.src.layers.core.activation.Activation object at 0x78bc6193f220> True\n",
            "<keras.src.layers.convolutional.conv2d.Conv2D object at 0x78bc6193f6d0> True\n",
            "<keras.src.layers.normalization.batch_normalization.BatchNormalization object at 0x78bc6193c580> True\n",
            "<keras.src.layers.merging.add.Add object at 0x78bc6193f130> True\n",
            "<keras.src.layers.core.activation.Activation object at 0x78bc61951810> True\n",
            "<keras.src.layers.convolutional.conv2d.Conv2D object at 0x78bc619505e0> True\n",
            "<keras.src.layers.normalization.batch_normalization.BatchNormalization object at 0x78bc61952290> True\n",
            "<keras.src.layers.core.activation.Activation object at 0x78bc61953d00> True\n",
            "<keras.src.layers.convolutional.conv2d.Conv2D object at 0x78bc61952ad0> True\n",
            "<keras.src.layers.normalization.batch_normalization.BatchNormalization object at 0x78bc61951bd0> True\n",
            "<keras.src.layers.core.activation.Activation object at 0x78bc60071ae0> True\n",
            "<keras.src.layers.convolutional.conv2d.Conv2D object at 0x78bc60071540> True\n",
            "<keras.src.layers.normalization.batch_normalization.BatchNormalization object at 0x78bc600722c0> True\n",
            "<keras.src.layers.merging.add.Add object at 0x78bc600732b0> True\n",
            "<keras.src.layers.core.activation.Activation object at 0x78bc60073dc0> True\n",
            "<keras.src.layers.convolutional.conv2d.Conv2D object at 0x78bc60070100> True\n",
            "<keras.src.layers.normalization.batch_normalization.BatchNormalization object at 0x78bc60091150> True\n",
            "<keras.src.layers.core.activation.Activation object at 0x78bc600735e0> True\n",
            "<keras.src.layers.convolutional.conv2d.Conv2D object at 0x78bc600716c0> True\n",
            "<keras.src.layers.normalization.batch_normalization.BatchNormalization object at 0x78bc60071510> True\n",
            "<keras.src.layers.core.activation.Activation object at 0x78bc6193a350> True\n",
            "<keras.src.layers.convolutional.conv2d.Conv2D object at 0x78bc619388e0> True\n",
            "<keras.src.layers.normalization.batch_normalization.BatchNormalization object at 0x78bc6193ceb0> True\n",
            "<keras.src.layers.merging.add.Add object at 0x78bc619502b0> True\n",
            "<keras.src.layers.core.activation.Activation object at 0x78bc600915a0> True\n",
            "<keras.src.layers.convolutional.conv2d.Conv2D object at 0x78bc600a8280> True\n",
            "<keras.src.layers.normalization.batch_normalization.BatchNormalization object at 0x78bc60090eb0> True\n",
            "<keras.src.layers.core.activation.Activation object at 0x78bc600a9960> True\n",
            "<keras.src.layers.convolutional.conv2d.Conv2D object at 0x78bc600a9c60> True\n",
            "<keras.src.layers.normalization.batch_normalization.BatchNormalization object at 0x78bc600aa380> True\n",
            "<keras.src.layers.core.activation.Activation object at 0x78bc600aa920> True\n",
            "<keras.src.layers.convolutional.conv2d.Conv2D object at 0x78bc600a8910> True\n",
            "<keras.src.layers.normalization.batch_normalization.BatchNormalization object at 0x78bc600ab4c0> True\n",
            "<keras.src.layers.merging.add.Add object at 0x78bc600abdc0> True\n",
            "<keras.src.layers.core.activation.Activation object at 0x78bc600b5e10> True\n",
            "<keras.src.layers.convolutional.conv2d.Conv2D object at 0x78bc600b7e50> True\n",
            "<keras.src.layers.normalization.batch_normalization.BatchNormalization object at 0x78bc600b6230> True\n",
            "<keras.src.layers.core.activation.Activation object at 0x78bc618d6770> True\n",
            "<keras.src.layers.convolutional.conv2d.Conv2D object at 0x78bc600cdde0> True\n",
            "<keras.src.layers.normalization.batch_normalization.BatchNormalization object at 0x78bc600cf850> True\n",
            "<keras.src.layers.core.activation.Activation object at 0x78bc600cf7f0> True\n",
            "<keras.src.layers.convolutional.conv2d.Conv2D object at 0x78bc600b6bf0> True\n",
            "<keras.src.layers.convolutional.conv2d.Conv2D object at 0x78bc600ce140> True\n",
            "<keras.src.layers.normalization.batch_normalization.BatchNormalization object at 0x78bc600b6ef0> True\n",
            "<keras.src.layers.normalization.batch_normalization.BatchNormalization object at 0x78bc600cd4b0> True\n",
            "<keras.src.layers.merging.add.Add object at 0x78bc600ce410> True\n",
            "<keras.src.layers.core.activation.Activation object at 0x78bc600cf5e0> True\n",
            "<keras.src.layers.convolutional.conv2d.Conv2D object at 0x78bc600ee770> True\n",
            "<keras.src.layers.normalization.batch_normalization.BatchNormalization object at 0x78bc600eee90> True\n",
            "<keras.src.layers.core.activation.Activation object at 0x78bc600ed810> True\n",
            "<keras.src.layers.convolutional.conv2d.Conv2D object at 0x78bc600ef400> True\n",
            "<keras.src.layers.normalization.batch_normalization.BatchNormalization object at 0x78bc600ee230> True\n",
            "<keras.src.layers.core.activation.Activation object at 0x78bc600ef760> True\n",
            "<keras.src.layers.convolutional.conv2d.Conv2D object at 0x78bc600edba0> True\n",
            "<keras.src.layers.normalization.batch_normalization.BatchNormalization object at 0x78bc600cfc10> True\n",
            "<keras.src.layers.merging.add.Add object at 0x78bc600cf670> True\n",
            "<keras.src.layers.core.activation.Activation object at 0x78bc600cee60> True\n",
            "<keras.src.layers.convolutional.conv2d.Conv2D object at 0x78bc600cd2d0> True\n",
            "<keras.src.layers.normalization.batch_normalization.BatchNormalization object at 0x78bc600900d0> True\n",
            "<keras.src.layers.core.activation.Activation object at 0x78bc600efc70> True\n",
            "<keras.src.layers.convolutional.conv2d.Conv2D object at 0x78bc619382e0> True\n",
            "<keras.src.layers.normalization.batch_normalization.BatchNormalization object at 0x78bc600b5990> True\n",
            "<keras.src.layers.core.activation.Activation object at 0x78bc619387c0> True\n",
            "<keras.src.layers.convolutional.conv2d.Conv2D object at 0x78bc6010e2c0> True\n",
            "<keras.src.layers.normalization.batch_normalization.BatchNormalization object at 0x78bc6010e980> True\n",
            "<keras.src.layers.merging.add.Add object at 0x78bc6193af20> True\n",
            "<keras.src.layers.core.activation.Activation object at 0x78bc6010ece0> True\n"
          ]
        }
      ]
    },
    {
      "cell_type": "code",
      "source": [
        "for layer in base_model.layers:\n",
        "  layer.trainable = False"
      ],
      "metadata": {
        "id": "azC2_otQo0f_"
      },
      "execution_count": 19,
      "outputs": []
    },
    {
      "cell_type": "code",
      "source": [
        "for layer in base_model.layers:\n",
        "  print(layer, layer.trainable)  # freeze these layers"
      ],
      "metadata": {
        "id": "MLhgOmgZo0d4"
      },
      "execution_count": null,
      "outputs": []
    },
    {
      "cell_type": "markdown",
      "source": [
        "# CREATE CUSTOM DENSE LAYER (for classification)"
      ],
      "metadata": {
        "id": "nBWUFgd5tHeN"
      }
    },
    {
      "cell_type": "code",
      "source": [
        "# get the last layer of the model to connect to the dense layer\n",
        "base_model.output # the last layer"
      ],
      "metadata": {
        "colab": {
          "base_uri": "https://localhost:8080/"
        },
        "id": "Q93oYMQ9o0bm",
        "outputId": "bfa55a75-7108-4ef2-fd98-bfacad54e197"
      },
      "execution_count": 21,
      "outputs": [
        {
          "output_type": "execute_result",
          "data": {
            "text/plain": [
              "<KerasTensor: shape=(None, 8, 8, 2048) dtype=float32 (created by layer 'conv5_block3_out')>"
            ]
          },
          "metadata": {},
          "execution_count": 21
        }
      ]
    },
    {
      "cell_type": "code",
      "source": [
        "head_model = base_model.output  # input layer\n",
        "head_model = GlobalAveragePooling2D()(head_model) # convert to a vector\n",
        "# (2048+2) / 2 = 1025\n",
        "head_model = Dense(units=1025, activation='relu')(head_model)  # connect the dense layer to input\n",
        "head_model = Dropout(rate = 0.2)(head_model)  # prevent overfitting\n",
        "\n",
        "head_model = Dense(units=1025, activation='relu')(head_model)\n",
        "head_model = Dropout(rate = 0.2)(head_model)\n",
        "head_model = Dense(2, activation='softmax')(head_model)"
      ],
      "metadata": {
        "id": "cglPLCrKtjfA"
      },
      "execution_count": 22,
      "outputs": []
    },
    {
      "cell_type": "markdown",
      "source": [
        "# BUILD AND TRAIN"
      ],
      "metadata": {
        "id": "t5mxZls49IMU"
      }
    },
    {
      "cell_type": "code",
      "source": [
        "# connect both models\n",
        "base_model.input"
      ],
      "metadata": {
        "colab": {
          "base_uri": "https://localhost:8080/"
        },
        "id": "bZenARUs9PWb",
        "outputId": "83089962-a442-4e09-b628-df9ffab323bd"
      },
      "execution_count": 23,
      "outputs": [
        {
          "output_type": "execute_result",
          "data": {
            "text/plain": [
              "<KerasTensor: shape=(None, 256, 256, 3) dtype=float32 (created by layer 'input_1')>"
            ]
          },
          "metadata": {},
          "execution_count": 23
        }
      ]
    },
    {
      "cell_type": "code",
      "source": [
        "network = Model(inputs=base_model.input, outputs=head_model)"
      ],
      "metadata": {
        "id": "PJr1N3_x9czL"
      },
      "execution_count": 24,
      "outputs": []
    },
    {
      "cell_type": "code",
      "source": [
        "network.summary()"
      ],
      "metadata": {
        "colab": {
          "base_uri": "https://localhost:8080/"
        },
        "id": "dFti20tv9jpd",
        "outputId": "a5b7911f-869a-443a-a9e2-32ef9451858b"
      },
      "execution_count": 25,
      "outputs": [
        {
          "output_type": "stream",
          "name": "stdout",
          "text": [
            "Model: \"model\"\n",
            "__________________________________________________________________________________________________\n",
            " Layer (type)                Output Shape                 Param #   Connected to                  \n",
            "==================================================================================================\n",
            " input_1 (InputLayer)        [(None, 256, 256, 3)]        0         []                            \n",
            "                                                                                                  \n",
            " conv1_pad (ZeroPadding2D)   (None, 262, 262, 3)          0         ['input_1[0][0]']             \n",
            "                                                                                                  \n",
            " conv1_conv (Conv2D)         (None, 128, 128, 64)         9472      ['conv1_pad[0][0]']           \n",
            "                                                                                                  \n",
            " conv1_bn (BatchNormalizati  (None, 128, 128, 64)         256       ['conv1_conv[0][0]']          \n",
            " on)                                                                                              \n",
            "                                                                                                  \n",
            " conv1_relu (Activation)     (None, 128, 128, 64)         0         ['conv1_bn[0][0]']            \n",
            "                                                                                                  \n",
            " pool1_pad (ZeroPadding2D)   (None, 130, 130, 64)         0         ['conv1_relu[0][0]']          \n",
            "                                                                                                  \n",
            " pool1_pool (MaxPooling2D)   (None, 64, 64, 64)           0         ['pool1_pad[0][0]']           \n",
            "                                                                                                  \n",
            " conv2_block1_1_conv (Conv2  (None, 64, 64, 64)           4160      ['pool1_pool[0][0]']          \n",
            " D)                                                                                               \n",
            "                                                                                                  \n",
            " conv2_block1_1_bn (BatchNo  (None, 64, 64, 64)           256       ['conv2_block1_1_conv[0][0]'] \n",
            " rmalization)                                                                                     \n",
            "                                                                                                  \n",
            " conv2_block1_1_relu (Activ  (None, 64, 64, 64)           0         ['conv2_block1_1_bn[0][0]']   \n",
            " ation)                                                                                           \n",
            "                                                                                                  \n",
            " conv2_block1_2_conv (Conv2  (None, 64, 64, 64)           36928     ['conv2_block1_1_relu[0][0]'] \n",
            " D)                                                                                               \n",
            "                                                                                                  \n",
            " conv2_block1_2_bn (BatchNo  (None, 64, 64, 64)           256       ['conv2_block1_2_conv[0][0]'] \n",
            " rmalization)                                                                                     \n",
            "                                                                                                  \n",
            " conv2_block1_2_relu (Activ  (None, 64, 64, 64)           0         ['conv2_block1_2_bn[0][0]']   \n",
            " ation)                                                                                           \n",
            "                                                                                                  \n",
            " conv2_block1_0_conv (Conv2  (None, 64, 64, 256)          16640     ['pool1_pool[0][0]']          \n",
            " D)                                                                                               \n",
            "                                                                                                  \n",
            " conv2_block1_3_conv (Conv2  (None, 64, 64, 256)          16640     ['conv2_block1_2_relu[0][0]'] \n",
            " D)                                                                                               \n",
            "                                                                                                  \n",
            " conv2_block1_0_bn (BatchNo  (None, 64, 64, 256)          1024      ['conv2_block1_0_conv[0][0]'] \n",
            " rmalization)                                                                                     \n",
            "                                                                                                  \n",
            " conv2_block1_3_bn (BatchNo  (None, 64, 64, 256)          1024      ['conv2_block1_3_conv[0][0]'] \n",
            " rmalization)                                                                                     \n",
            "                                                                                                  \n",
            " conv2_block1_add (Add)      (None, 64, 64, 256)          0         ['conv2_block1_0_bn[0][0]',   \n",
            "                                                                     'conv2_block1_3_bn[0][0]']   \n",
            "                                                                                                  \n",
            " conv2_block1_out (Activati  (None, 64, 64, 256)          0         ['conv2_block1_add[0][0]']    \n",
            " on)                                                                                              \n",
            "                                                                                                  \n",
            " conv2_block2_1_conv (Conv2  (None, 64, 64, 64)           16448     ['conv2_block1_out[0][0]']    \n",
            " D)                                                                                               \n",
            "                                                                                                  \n",
            " conv2_block2_1_bn (BatchNo  (None, 64, 64, 64)           256       ['conv2_block2_1_conv[0][0]'] \n",
            " rmalization)                                                                                     \n",
            "                                                                                                  \n",
            " conv2_block2_1_relu (Activ  (None, 64, 64, 64)           0         ['conv2_block2_1_bn[0][0]']   \n",
            " ation)                                                                                           \n",
            "                                                                                                  \n",
            " conv2_block2_2_conv (Conv2  (None, 64, 64, 64)           36928     ['conv2_block2_1_relu[0][0]'] \n",
            " D)                                                                                               \n",
            "                                                                                                  \n",
            " conv2_block2_2_bn (BatchNo  (None, 64, 64, 64)           256       ['conv2_block2_2_conv[0][0]'] \n",
            " rmalization)                                                                                     \n",
            "                                                                                                  \n",
            " conv2_block2_2_relu (Activ  (None, 64, 64, 64)           0         ['conv2_block2_2_bn[0][0]']   \n",
            " ation)                                                                                           \n",
            "                                                                                                  \n",
            " conv2_block2_3_conv (Conv2  (None, 64, 64, 256)          16640     ['conv2_block2_2_relu[0][0]'] \n",
            " D)                                                                                               \n",
            "                                                                                                  \n",
            " conv2_block2_3_bn (BatchNo  (None, 64, 64, 256)          1024      ['conv2_block2_3_conv[0][0]'] \n",
            " rmalization)                                                                                     \n",
            "                                                                                                  \n",
            " conv2_block2_add (Add)      (None, 64, 64, 256)          0         ['conv2_block1_out[0][0]',    \n",
            "                                                                     'conv2_block2_3_bn[0][0]']   \n",
            "                                                                                                  \n",
            " conv2_block2_out (Activati  (None, 64, 64, 256)          0         ['conv2_block2_add[0][0]']    \n",
            " on)                                                                                              \n",
            "                                                                                                  \n",
            " conv2_block3_1_conv (Conv2  (None, 64, 64, 64)           16448     ['conv2_block2_out[0][0]']    \n",
            " D)                                                                                               \n",
            "                                                                                                  \n",
            " conv2_block3_1_bn (BatchNo  (None, 64, 64, 64)           256       ['conv2_block3_1_conv[0][0]'] \n",
            " rmalization)                                                                                     \n",
            "                                                                                                  \n",
            " conv2_block3_1_relu (Activ  (None, 64, 64, 64)           0         ['conv2_block3_1_bn[0][0]']   \n",
            " ation)                                                                                           \n",
            "                                                                                                  \n",
            " conv2_block3_2_conv (Conv2  (None, 64, 64, 64)           36928     ['conv2_block3_1_relu[0][0]'] \n",
            " D)                                                                                               \n",
            "                                                                                                  \n",
            " conv2_block3_2_bn (BatchNo  (None, 64, 64, 64)           256       ['conv2_block3_2_conv[0][0]'] \n",
            " rmalization)                                                                                     \n",
            "                                                                                                  \n",
            " conv2_block3_2_relu (Activ  (None, 64, 64, 64)           0         ['conv2_block3_2_bn[0][0]']   \n",
            " ation)                                                                                           \n",
            "                                                                                                  \n",
            " conv2_block3_3_conv (Conv2  (None, 64, 64, 256)          16640     ['conv2_block3_2_relu[0][0]'] \n",
            " D)                                                                                               \n",
            "                                                                                                  \n",
            " conv2_block3_3_bn (BatchNo  (None, 64, 64, 256)          1024      ['conv2_block3_3_conv[0][0]'] \n",
            " rmalization)                                                                                     \n",
            "                                                                                                  \n",
            " conv2_block3_add (Add)      (None, 64, 64, 256)          0         ['conv2_block2_out[0][0]',    \n",
            "                                                                     'conv2_block3_3_bn[0][0]']   \n",
            "                                                                                                  \n",
            " conv2_block3_out (Activati  (None, 64, 64, 256)          0         ['conv2_block3_add[0][0]']    \n",
            " on)                                                                                              \n",
            "                                                                                                  \n",
            " conv3_block1_1_conv (Conv2  (None, 32, 32, 128)          32896     ['conv2_block3_out[0][0]']    \n",
            " D)                                                                                               \n",
            "                                                                                                  \n",
            " conv3_block1_1_bn (BatchNo  (None, 32, 32, 128)          512       ['conv3_block1_1_conv[0][0]'] \n",
            " rmalization)                                                                                     \n",
            "                                                                                                  \n",
            " conv3_block1_1_relu (Activ  (None, 32, 32, 128)          0         ['conv3_block1_1_bn[0][0]']   \n",
            " ation)                                                                                           \n",
            "                                                                                                  \n",
            " conv3_block1_2_conv (Conv2  (None, 32, 32, 128)          147584    ['conv3_block1_1_relu[0][0]'] \n",
            " D)                                                                                               \n",
            "                                                                                                  \n",
            " conv3_block1_2_bn (BatchNo  (None, 32, 32, 128)          512       ['conv3_block1_2_conv[0][0]'] \n",
            " rmalization)                                                                                     \n",
            "                                                                                                  \n",
            " conv3_block1_2_relu (Activ  (None, 32, 32, 128)          0         ['conv3_block1_2_bn[0][0]']   \n",
            " ation)                                                                                           \n",
            "                                                                                                  \n",
            " conv3_block1_0_conv (Conv2  (None, 32, 32, 512)          131584    ['conv2_block3_out[0][0]']    \n",
            " D)                                                                                               \n",
            "                                                                                                  \n",
            " conv3_block1_3_conv (Conv2  (None, 32, 32, 512)          66048     ['conv3_block1_2_relu[0][0]'] \n",
            " D)                                                                                               \n",
            "                                                                                                  \n",
            " conv3_block1_0_bn (BatchNo  (None, 32, 32, 512)          2048      ['conv3_block1_0_conv[0][0]'] \n",
            " rmalization)                                                                                     \n",
            "                                                                                                  \n",
            " conv3_block1_3_bn (BatchNo  (None, 32, 32, 512)          2048      ['conv3_block1_3_conv[0][0]'] \n",
            " rmalization)                                                                                     \n",
            "                                                                                                  \n",
            " conv3_block1_add (Add)      (None, 32, 32, 512)          0         ['conv3_block1_0_bn[0][0]',   \n",
            "                                                                     'conv3_block1_3_bn[0][0]']   \n",
            "                                                                                                  \n",
            " conv3_block1_out (Activati  (None, 32, 32, 512)          0         ['conv3_block1_add[0][0]']    \n",
            " on)                                                                                              \n",
            "                                                                                                  \n",
            " conv3_block2_1_conv (Conv2  (None, 32, 32, 128)          65664     ['conv3_block1_out[0][0]']    \n",
            " D)                                                                                               \n",
            "                                                                                                  \n",
            " conv3_block2_1_bn (BatchNo  (None, 32, 32, 128)          512       ['conv3_block2_1_conv[0][0]'] \n",
            " rmalization)                                                                                     \n",
            "                                                                                                  \n",
            " conv3_block2_1_relu (Activ  (None, 32, 32, 128)          0         ['conv3_block2_1_bn[0][0]']   \n",
            " ation)                                                                                           \n",
            "                                                                                                  \n",
            " conv3_block2_2_conv (Conv2  (None, 32, 32, 128)          147584    ['conv3_block2_1_relu[0][0]'] \n",
            " D)                                                                                               \n",
            "                                                                                                  \n",
            " conv3_block2_2_bn (BatchNo  (None, 32, 32, 128)          512       ['conv3_block2_2_conv[0][0]'] \n",
            " rmalization)                                                                                     \n",
            "                                                                                                  \n",
            " conv3_block2_2_relu (Activ  (None, 32, 32, 128)          0         ['conv3_block2_2_bn[0][0]']   \n",
            " ation)                                                                                           \n",
            "                                                                                                  \n",
            " conv3_block2_3_conv (Conv2  (None, 32, 32, 512)          66048     ['conv3_block2_2_relu[0][0]'] \n",
            " D)                                                                                               \n",
            "                                                                                                  \n",
            " conv3_block2_3_bn (BatchNo  (None, 32, 32, 512)          2048      ['conv3_block2_3_conv[0][0]'] \n",
            " rmalization)                                                                                     \n",
            "                                                                                                  \n",
            " conv3_block2_add (Add)      (None, 32, 32, 512)          0         ['conv3_block1_out[0][0]',    \n",
            "                                                                     'conv3_block2_3_bn[0][0]']   \n",
            "                                                                                                  \n",
            " conv3_block2_out (Activati  (None, 32, 32, 512)          0         ['conv3_block2_add[0][0]']    \n",
            " on)                                                                                              \n",
            "                                                                                                  \n",
            " conv3_block3_1_conv (Conv2  (None, 32, 32, 128)          65664     ['conv3_block2_out[0][0]']    \n",
            " D)                                                                                               \n",
            "                                                                                                  \n",
            " conv3_block3_1_bn (BatchNo  (None, 32, 32, 128)          512       ['conv3_block3_1_conv[0][0]'] \n",
            " rmalization)                                                                                     \n",
            "                                                                                                  \n",
            " conv3_block3_1_relu (Activ  (None, 32, 32, 128)          0         ['conv3_block3_1_bn[0][0]']   \n",
            " ation)                                                                                           \n",
            "                                                                                                  \n",
            " conv3_block3_2_conv (Conv2  (None, 32, 32, 128)          147584    ['conv3_block3_1_relu[0][0]'] \n",
            " D)                                                                                               \n",
            "                                                                                                  \n",
            " conv3_block3_2_bn (BatchNo  (None, 32, 32, 128)          512       ['conv3_block3_2_conv[0][0]'] \n",
            " rmalization)                                                                                     \n",
            "                                                                                                  \n",
            " conv3_block3_2_relu (Activ  (None, 32, 32, 128)          0         ['conv3_block3_2_bn[0][0]']   \n",
            " ation)                                                                                           \n",
            "                                                                                                  \n",
            " conv3_block3_3_conv (Conv2  (None, 32, 32, 512)          66048     ['conv3_block3_2_relu[0][0]'] \n",
            " D)                                                                                               \n",
            "                                                                                                  \n",
            " conv3_block3_3_bn (BatchNo  (None, 32, 32, 512)          2048      ['conv3_block3_3_conv[0][0]'] \n",
            " rmalization)                                                                                     \n",
            "                                                                                                  \n",
            " conv3_block3_add (Add)      (None, 32, 32, 512)          0         ['conv3_block2_out[0][0]',    \n",
            "                                                                     'conv3_block3_3_bn[0][0]']   \n",
            "                                                                                                  \n",
            " conv3_block3_out (Activati  (None, 32, 32, 512)          0         ['conv3_block3_add[0][0]']    \n",
            " on)                                                                                              \n",
            "                                                                                                  \n",
            " conv3_block4_1_conv (Conv2  (None, 32, 32, 128)          65664     ['conv3_block3_out[0][0]']    \n",
            " D)                                                                                               \n",
            "                                                                                                  \n",
            " conv3_block4_1_bn (BatchNo  (None, 32, 32, 128)          512       ['conv3_block4_1_conv[0][0]'] \n",
            " rmalization)                                                                                     \n",
            "                                                                                                  \n",
            " conv3_block4_1_relu (Activ  (None, 32, 32, 128)          0         ['conv3_block4_1_bn[0][0]']   \n",
            " ation)                                                                                           \n",
            "                                                                                                  \n",
            " conv3_block4_2_conv (Conv2  (None, 32, 32, 128)          147584    ['conv3_block4_1_relu[0][0]'] \n",
            " D)                                                                                               \n",
            "                                                                                                  \n",
            " conv3_block4_2_bn (BatchNo  (None, 32, 32, 128)          512       ['conv3_block4_2_conv[0][0]'] \n",
            " rmalization)                                                                                     \n",
            "                                                                                                  \n",
            " conv3_block4_2_relu (Activ  (None, 32, 32, 128)          0         ['conv3_block4_2_bn[0][0]']   \n",
            " ation)                                                                                           \n",
            "                                                                                                  \n",
            " conv3_block4_3_conv (Conv2  (None, 32, 32, 512)          66048     ['conv3_block4_2_relu[0][0]'] \n",
            " D)                                                                                               \n",
            "                                                                                                  \n",
            " conv3_block4_3_bn (BatchNo  (None, 32, 32, 512)          2048      ['conv3_block4_3_conv[0][0]'] \n",
            " rmalization)                                                                                     \n",
            "                                                                                                  \n",
            " conv3_block4_add (Add)      (None, 32, 32, 512)          0         ['conv3_block3_out[0][0]',    \n",
            "                                                                     'conv3_block4_3_bn[0][0]']   \n",
            "                                                                                                  \n",
            " conv3_block4_out (Activati  (None, 32, 32, 512)          0         ['conv3_block4_add[0][0]']    \n",
            " on)                                                                                              \n",
            "                                                                                                  \n",
            " conv4_block1_1_conv (Conv2  (None, 16, 16, 256)          131328    ['conv3_block4_out[0][0]']    \n",
            " D)                                                                                               \n",
            "                                                                                                  \n",
            " conv4_block1_1_bn (BatchNo  (None, 16, 16, 256)          1024      ['conv4_block1_1_conv[0][0]'] \n",
            " rmalization)                                                                                     \n",
            "                                                                                                  \n",
            " conv4_block1_1_relu (Activ  (None, 16, 16, 256)          0         ['conv4_block1_1_bn[0][0]']   \n",
            " ation)                                                                                           \n",
            "                                                                                                  \n",
            " conv4_block1_2_conv (Conv2  (None, 16, 16, 256)          590080    ['conv4_block1_1_relu[0][0]'] \n",
            " D)                                                                                               \n",
            "                                                                                                  \n",
            " conv4_block1_2_bn (BatchNo  (None, 16, 16, 256)          1024      ['conv4_block1_2_conv[0][0]'] \n",
            " rmalization)                                                                                     \n",
            "                                                                                                  \n",
            " conv4_block1_2_relu (Activ  (None, 16, 16, 256)          0         ['conv4_block1_2_bn[0][0]']   \n",
            " ation)                                                                                           \n",
            "                                                                                                  \n",
            " conv4_block1_0_conv (Conv2  (None, 16, 16, 1024)         525312    ['conv3_block4_out[0][0]']    \n",
            " D)                                                                                               \n",
            "                                                                                                  \n",
            " conv4_block1_3_conv (Conv2  (None, 16, 16, 1024)         263168    ['conv4_block1_2_relu[0][0]'] \n",
            " D)                                                                                               \n",
            "                                                                                                  \n",
            " conv4_block1_0_bn (BatchNo  (None, 16, 16, 1024)         4096      ['conv4_block1_0_conv[0][0]'] \n",
            " rmalization)                                                                                     \n",
            "                                                                                                  \n",
            " conv4_block1_3_bn (BatchNo  (None, 16, 16, 1024)         4096      ['conv4_block1_3_conv[0][0]'] \n",
            " rmalization)                                                                                     \n",
            "                                                                                                  \n",
            " conv4_block1_add (Add)      (None, 16, 16, 1024)         0         ['conv4_block1_0_bn[0][0]',   \n",
            "                                                                     'conv4_block1_3_bn[0][0]']   \n",
            "                                                                                                  \n",
            " conv4_block1_out (Activati  (None, 16, 16, 1024)         0         ['conv4_block1_add[0][0]']    \n",
            " on)                                                                                              \n",
            "                                                                                                  \n",
            " conv4_block2_1_conv (Conv2  (None, 16, 16, 256)          262400    ['conv4_block1_out[0][0]']    \n",
            " D)                                                                                               \n",
            "                                                                                                  \n",
            " conv4_block2_1_bn (BatchNo  (None, 16, 16, 256)          1024      ['conv4_block2_1_conv[0][0]'] \n",
            " rmalization)                                                                                     \n",
            "                                                                                                  \n",
            " conv4_block2_1_relu (Activ  (None, 16, 16, 256)          0         ['conv4_block2_1_bn[0][0]']   \n",
            " ation)                                                                                           \n",
            "                                                                                                  \n",
            " conv4_block2_2_conv (Conv2  (None, 16, 16, 256)          590080    ['conv4_block2_1_relu[0][0]'] \n",
            " D)                                                                                               \n",
            "                                                                                                  \n",
            " conv4_block2_2_bn (BatchNo  (None, 16, 16, 256)          1024      ['conv4_block2_2_conv[0][0]'] \n",
            " rmalization)                                                                                     \n",
            "                                                                                                  \n",
            " conv4_block2_2_relu (Activ  (None, 16, 16, 256)          0         ['conv4_block2_2_bn[0][0]']   \n",
            " ation)                                                                                           \n",
            "                                                                                                  \n",
            " conv4_block2_3_conv (Conv2  (None, 16, 16, 1024)         263168    ['conv4_block2_2_relu[0][0]'] \n",
            " D)                                                                                               \n",
            "                                                                                                  \n",
            " conv4_block2_3_bn (BatchNo  (None, 16, 16, 1024)         4096      ['conv4_block2_3_conv[0][0]'] \n",
            " rmalization)                                                                                     \n",
            "                                                                                                  \n",
            " conv4_block2_add (Add)      (None, 16, 16, 1024)         0         ['conv4_block1_out[0][0]',    \n",
            "                                                                     'conv4_block2_3_bn[0][0]']   \n",
            "                                                                                                  \n",
            " conv4_block2_out (Activati  (None, 16, 16, 1024)         0         ['conv4_block2_add[0][0]']    \n",
            " on)                                                                                              \n",
            "                                                                                                  \n",
            " conv4_block3_1_conv (Conv2  (None, 16, 16, 256)          262400    ['conv4_block2_out[0][0]']    \n",
            " D)                                                                                               \n",
            "                                                                                                  \n",
            " conv4_block3_1_bn (BatchNo  (None, 16, 16, 256)          1024      ['conv4_block3_1_conv[0][0]'] \n",
            " rmalization)                                                                                     \n",
            "                                                                                                  \n",
            " conv4_block3_1_relu (Activ  (None, 16, 16, 256)          0         ['conv4_block3_1_bn[0][0]']   \n",
            " ation)                                                                                           \n",
            "                                                                                                  \n",
            " conv4_block3_2_conv (Conv2  (None, 16, 16, 256)          590080    ['conv4_block3_1_relu[0][0]'] \n",
            " D)                                                                                               \n",
            "                                                                                                  \n",
            " conv4_block3_2_bn (BatchNo  (None, 16, 16, 256)          1024      ['conv4_block3_2_conv[0][0]'] \n",
            " rmalization)                                                                                     \n",
            "                                                                                                  \n",
            " conv4_block3_2_relu (Activ  (None, 16, 16, 256)          0         ['conv4_block3_2_bn[0][0]']   \n",
            " ation)                                                                                           \n",
            "                                                                                                  \n",
            " conv4_block3_3_conv (Conv2  (None, 16, 16, 1024)         263168    ['conv4_block3_2_relu[0][0]'] \n",
            " D)                                                                                               \n",
            "                                                                                                  \n",
            " conv4_block3_3_bn (BatchNo  (None, 16, 16, 1024)         4096      ['conv4_block3_3_conv[0][0]'] \n",
            " rmalization)                                                                                     \n",
            "                                                                                                  \n",
            " conv4_block3_add (Add)      (None, 16, 16, 1024)         0         ['conv4_block2_out[0][0]',    \n",
            "                                                                     'conv4_block3_3_bn[0][0]']   \n",
            "                                                                                                  \n",
            " conv4_block3_out (Activati  (None, 16, 16, 1024)         0         ['conv4_block3_add[0][0]']    \n",
            " on)                                                                                              \n",
            "                                                                                                  \n",
            " conv4_block4_1_conv (Conv2  (None, 16, 16, 256)          262400    ['conv4_block3_out[0][0]']    \n",
            " D)                                                                                               \n",
            "                                                                                                  \n",
            " conv4_block4_1_bn (BatchNo  (None, 16, 16, 256)          1024      ['conv4_block4_1_conv[0][0]'] \n",
            " rmalization)                                                                                     \n",
            "                                                                                                  \n",
            " conv4_block4_1_relu (Activ  (None, 16, 16, 256)          0         ['conv4_block4_1_bn[0][0]']   \n",
            " ation)                                                                                           \n",
            "                                                                                                  \n",
            " conv4_block4_2_conv (Conv2  (None, 16, 16, 256)          590080    ['conv4_block4_1_relu[0][0]'] \n",
            " D)                                                                                               \n",
            "                                                                                                  \n",
            " conv4_block4_2_bn (BatchNo  (None, 16, 16, 256)          1024      ['conv4_block4_2_conv[0][0]'] \n",
            " rmalization)                                                                                     \n",
            "                                                                                                  \n",
            " conv4_block4_2_relu (Activ  (None, 16, 16, 256)          0         ['conv4_block4_2_bn[0][0]']   \n",
            " ation)                                                                                           \n",
            "                                                                                                  \n",
            " conv4_block4_3_conv (Conv2  (None, 16, 16, 1024)         263168    ['conv4_block4_2_relu[0][0]'] \n",
            " D)                                                                                               \n",
            "                                                                                                  \n",
            " conv4_block4_3_bn (BatchNo  (None, 16, 16, 1024)         4096      ['conv4_block4_3_conv[0][0]'] \n",
            " rmalization)                                                                                     \n",
            "                                                                                                  \n",
            " conv4_block4_add (Add)      (None, 16, 16, 1024)         0         ['conv4_block3_out[0][0]',    \n",
            "                                                                     'conv4_block4_3_bn[0][0]']   \n",
            "                                                                                                  \n",
            " conv4_block4_out (Activati  (None, 16, 16, 1024)         0         ['conv4_block4_add[0][0]']    \n",
            " on)                                                                                              \n",
            "                                                                                                  \n",
            " conv4_block5_1_conv (Conv2  (None, 16, 16, 256)          262400    ['conv4_block4_out[0][0]']    \n",
            " D)                                                                                               \n",
            "                                                                                                  \n",
            " conv4_block5_1_bn (BatchNo  (None, 16, 16, 256)          1024      ['conv4_block5_1_conv[0][0]'] \n",
            " rmalization)                                                                                     \n",
            "                                                                                                  \n",
            " conv4_block5_1_relu (Activ  (None, 16, 16, 256)          0         ['conv4_block5_1_bn[0][0]']   \n",
            " ation)                                                                                           \n",
            "                                                                                                  \n",
            " conv4_block5_2_conv (Conv2  (None, 16, 16, 256)          590080    ['conv4_block5_1_relu[0][0]'] \n",
            " D)                                                                                               \n",
            "                                                                                                  \n",
            " conv4_block5_2_bn (BatchNo  (None, 16, 16, 256)          1024      ['conv4_block5_2_conv[0][0]'] \n",
            " rmalization)                                                                                     \n",
            "                                                                                                  \n",
            " conv4_block5_2_relu (Activ  (None, 16, 16, 256)          0         ['conv4_block5_2_bn[0][0]']   \n",
            " ation)                                                                                           \n",
            "                                                                                                  \n",
            " conv4_block5_3_conv (Conv2  (None, 16, 16, 1024)         263168    ['conv4_block5_2_relu[0][0]'] \n",
            " D)                                                                                               \n",
            "                                                                                                  \n",
            " conv4_block5_3_bn (BatchNo  (None, 16, 16, 1024)         4096      ['conv4_block5_3_conv[0][0]'] \n",
            " rmalization)                                                                                     \n",
            "                                                                                                  \n",
            " conv4_block5_add (Add)      (None, 16, 16, 1024)         0         ['conv4_block4_out[0][0]',    \n",
            "                                                                     'conv4_block5_3_bn[0][0]']   \n",
            "                                                                                                  \n",
            " conv4_block5_out (Activati  (None, 16, 16, 1024)         0         ['conv4_block5_add[0][0]']    \n",
            " on)                                                                                              \n",
            "                                                                                                  \n",
            " conv4_block6_1_conv (Conv2  (None, 16, 16, 256)          262400    ['conv4_block5_out[0][0]']    \n",
            " D)                                                                                               \n",
            "                                                                                                  \n",
            " conv4_block6_1_bn (BatchNo  (None, 16, 16, 256)          1024      ['conv4_block6_1_conv[0][0]'] \n",
            " rmalization)                                                                                     \n",
            "                                                                                                  \n",
            " conv4_block6_1_relu (Activ  (None, 16, 16, 256)          0         ['conv4_block6_1_bn[0][0]']   \n",
            " ation)                                                                                           \n",
            "                                                                                                  \n",
            " conv4_block6_2_conv (Conv2  (None, 16, 16, 256)          590080    ['conv4_block6_1_relu[0][0]'] \n",
            " D)                                                                                               \n",
            "                                                                                                  \n",
            " conv4_block6_2_bn (BatchNo  (None, 16, 16, 256)          1024      ['conv4_block6_2_conv[0][0]'] \n",
            " rmalization)                                                                                     \n",
            "                                                                                                  \n",
            " conv4_block6_2_relu (Activ  (None, 16, 16, 256)          0         ['conv4_block6_2_bn[0][0]']   \n",
            " ation)                                                                                           \n",
            "                                                                                                  \n",
            " conv4_block6_3_conv (Conv2  (None, 16, 16, 1024)         263168    ['conv4_block6_2_relu[0][0]'] \n",
            " D)                                                                                               \n",
            "                                                                                                  \n",
            " conv4_block6_3_bn (BatchNo  (None, 16, 16, 1024)         4096      ['conv4_block6_3_conv[0][0]'] \n",
            " rmalization)                                                                                     \n",
            "                                                                                                  \n",
            " conv4_block6_add (Add)      (None, 16, 16, 1024)         0         ['conv4_block5_out[0][0]',    \n",
            "                                                                     'conv4_block6_3_bn[0][0]']   \n",
            "                                                                                                  \n",
            " conv4_block6_out (Activati  (None, 16, 16, 1024)         0         ['conv4_block6_add[0][0]']    \n",
            " on)                                                                                              \n",
            "                                                                                                  \n",
            " conv5_block1_1_conv (Conv2  (None, 8, 8, 512)            524800    ['conv4_block6_out[0][0]']    \n",
            " D)                                                                                               \n",
            "                                                                                                  \n",
            " conv5_block1_1_bn (BatchNo  (None, 8, 8, 512)            2048      ['conv5_block1_1_conv[0][0]'] \n",
            " rmalization)                                                                                     \n",
            "                                                                                                  \n",
            " conv5_block1_1_relu (Activ  (None, 8, 8, 512)            0         ['conv5_block1_1_bn[0][0]']   \n",
            " ation)                                                                                           \n",
            "                                                                                                  \n",
            " conv5_block1_2_conv (Conv2  (None, 8, 8, 512)            2359808   ['conv5_block1_1_relu[0][0]'] \n",
            " D)                                                                                               \n",
            "                                                                                                  \n",
            " conv5_block1_2_bn (BatchNo  (None, 8, 8, 512)            2048      ['conv5_block1_2_conv[0][0]'] \n",
            " rmalization)                                                                                     \n",
            "                                                                                                  \n",
            " conv5_block1_2_relu (Activ  (None, 8, 8, 512)            0         ['conv5_block1_2_bn[0][0]']   \n",
            " ation)                                                                                           \n",
            "                                                                                                  \n",
            " conv5_block1_0_conv (Conv2  (None, 8, 8, 2048)           2099200   ['conv4_block6_out[0][0]']    \n",
            " D)                                                                                               \n",
            "                                                                                                  \n",
            " conv5_block1_3_conv (Conv2  (None, 8, 8, 2048)           1050624   ['conv5_block1_2_relu[0][0]'] \n",
            " D)                                                                                               \n",
            "                                                                                                  \n",
            " conv5_block1_0_bn (BatchNo  (None, 8, 8, 2048)           8192      ['conv5_block1_0_conv[0][0]'] \n",
            " rmalization)                                                                                     \n",
            "                                                                                                  \n",
            " conv5_block1_3_bn (BatchNo  (None, 8, 8, 2048)           8192      ['conv5_block1_3_conv[0][0]'] \n",
            " rmalization)                                                                                     \n",
            "                                                                                                  \n",
            " conv5_block1_add (Add)      (None, 8, 8, 2048)           0         ['conv5_block1_0_bn[0][0]',   \n",
            "                                                                     'conv5_block1_3_bn[0][0]']   \n",
            "                                                                                                  \n",
            " conv5_block1_out (Activati  (None, 8, 8, 2048)           0         ['conv5_block1_add[0][0]']    \n",
            " on)                                                                                              \n",
            "                                                                                                  \n",
            " conv5_block2_1_conv (Conv2  (None, 8, 8, 512)            1049088   ['conv5_block1_out[0][0]']    \n",
            " D)                                                                                               \n",
            "                                                                                                  \n",
            " conv5_block2_1_bn (BatchNo  (None, 8, 8, 512)            2048      ['conv5_block2_1_conv[0][0]'] \n",
            " rmalization)                                                                                     \n",
            "                                                                                                  \n",
            " conv5_block2_1_relu (Activ  (None, 8, 8, 512)            0         ['conv5_block2_1_bn[0][0]']   \n",
            " ation)                                                                                           \n",
            "                                                                                                  \n",
            " conv5_block2_2_conv (Conv2  (None, 8, 8, 512)            2359808   ['conv5_block2_1_relu[0][0]'] \n",
            " D)                                                                                               \n",
            "                                                                                                  \n",
            " conv5_block2_2_bn (BatchNo  (None, 8, 8, 512)            2048      ['conv5_block2_2_conv[0][0]'] \n",
            " rmalization)                                                                                     \n",
            "                                                                                                  \n",
            " conv5_block2_2_relu (Activ  (None, 8, 8, 512)            0         ['conv5_block2_2_bn[0][0]']   \n",
            " ation)                                                                                           \n",
            "                                                                                                  \n",
            " conv5_block2_3_conv (Conv2  (None, 8, 8, 2048)           1050624   ['conv5_block2_2_relu[0][0]'] \n",
            " D)                                                                                               \n",
            "                                                                                                  \n",
            " conv5_block2_3_bn (BatchNo  (None, 8, 8, 2048)           8192      ['conv5_block2_3_conv[0][0]'] \n",
            " rmalization)                                                                                     \n",
            "                                                                                                  \n",
            " conv5_block2_add (Add)      (None, 8, 8, 2048)           0         ['conv5_block1_out[0][0]',    \n",
            "                                                                     'conv5_block2_3_bn[0][0]']   \n",
            "                                                                                                  \n",
            " conv5_block2_out (Activati  (None, 8, 8, 2048)           0         ['conv5_block2_add[0][0]']    \n",
            " on)                                                                                              \n",
            "                                                                                                  \n",
            " conv5_block3_1_conv (Conv2  (None, 8, 8, 512)            1049088   ['conv5_block2_out[0][0]']    \n",
            " D)                                                                                               \n",
            "                                                                                                  \n",
            " conv5_block3_1_bn (BatchNo  (None, 8, 8, 512)            2048      ['conv5_block3_1_conv[0][0]'] \n",
            " rmalization)                                                                                     \n",
            "                                                                                                  \n",
            " conv5_block3_1_relu (Activ  (None, 8, 8, 512)            0         ['conv5_block3_1_bn[0][0]']   \n",
            " ation)                                                                                           \n",
            "                                                                                                  \n",
            " conv5_block3_2_conv (Conv2  (None, 8, 8, 512)            2359808   ['conv5_block3_1_relu[0][0]'] \n",
            " D)                                                                                               \n",
            "                                                                                                  \n",
            " conv5_block3_2_bn (BatchNo  (None, 8, 8, 512)            2048      ['conv5_block3_2_conv[0][0]'] \n",
            " rmalization)                                                                                     \n",
            "                                                                                                  \n",
            " conv5_block3_2_relu (Activ  (None, 8, 8, 512)            0         ['conv5_block3_2_bn[0][0]']   \n",
            " ation)                                                                                           \n",
            "                                                                                                  \n",
            " conv5_block3_3_conv (Conv2  (None, 8, 8, 2048)           1050624   ['conv5_block3_2_relu[0][0]'] \n",
            " D)                                                                                               \n",
            "                                                                                                  \n",
            " conv5_block3_3_bn (BatchNo  (None, 8, 8, 2048)           8192      ['conv5_block3_3_conv[0][0]'] \n",
            " rmalization)                                                                                     \n",
            "                                                                                                  \n",
            " conv5_block3_add (Add)      (None, 8, 8, 2048)           0         ['conv5_block2_out[0][0]',    \n",
            "                                                                     'conv5_block3_3_bn[0][0]']   \n",
            "                                                                                                  \n",
            " conv5_block3_out (Activati  (None, 8, 8, 2048)           0         ['conv5_block3_add[0][0]']    \n",
            " on)                                                                                              \n",
            "                                                                                                  \n",
            " global_average_pooling2d (  (None, 2048)                 0         ['conv5_block3_out[0][0]']    \n",
            " GlobalAveragePooling2D)                                                                          \n",
            "                                                                                                  \n",
            " dense (Dense)               (None, 1025)                 2100225   ['global_average_pooling2d[0][\n",
            "                                                                    0]']                          \n",
            "                                                                                                  \n",
            " dropout (Dropout)           (None, 1025)                 0         ['dense[0][0]']               \n",
            "                                                                                                  \n",
            " dense_1 (Dense)             (None, 1025)                 1051650   ['dropout[0][0]']             \n",
            "                                                                                                  \n",
            " dropout_1 (Dropout)         (None, 1025)                 0         ['dense_1[0][0]']             \n",
            "                                                                                                  \n",
            " dense_2 (Dense)             (None, 2)                    2052      ['dropout_1[0][0]']           \n",
            "                                                                                                  \n",
            "==================================================================================================\n",
            "Total params: 26741639 (102.01 MB)\n",
            "Trainable params: 3153927 (12.03 MB)\n",
            "Non-trainable params: 23587712 (89.98 MB)\n",
            "__________________________________________________________________________________________________\n"
          ]
        }
      ]
    },
    {
      "cell_type": "code",
      "source": [
        "network.compile(optimizer='Adam', loss='categorical_crossentropy', metrics=['accuracy'])\n",
        "history = network.fit(train_dataset, epochs=50)"
      ],
      "metadata": {
        "colab": {
          "base_uri": "https://localhost:8080/"
        },
        "id": "Ub5GNA3f9lne",
        "outputId": "e102adf8-97e0-4305-b871-5c22f9fc116c"
      },
      "execution_count": 27,
      "outputs": [
        {
          "output_type": "stream",
          "name": "stdout",
          "text": [
            "Epoch 1/50\n",
            "36/36 [==============================] - 16s 174ms/step - loss: 1.1911 - accuracy: 0.5903\n",
            "Epoch 2/50\n",
            "36/36 [==============================] - 7s 185ms/step - loss: 0.4933 - accuracy: 0.7778\n",
            "Epoch 3/50\n",
            "36/36 [==============================] - 5s 131ms/step - loss: 0.3472 - accuracy: 0.8611\n",
            "Epoch 4/50\n",
            "36/36 [==============================] - 5s 131ms/step - loss: 0.3198 - accuracy: 0.8750\n",
            "Epoch 5/50\n",
            "36/36 [==============================] - 7s 179ms/step - loss: 0.4141 - accuracy: 0.8125\n",
            "Epoch 6/50\n",
            "36/36 [==============================] - 5s 130ms/step - loss: 0.2617 - accuracy: 0.8993\n",
            "Epoch 7/50\n",
            "36/36 [==============================] - 6s 171ms/step - loss: 0.2172 - accuracy: 0.9132\n",
            "Epoch 8/50\n",
            "36/36 [==============================] - 5s 131ms/step - loss: 0.4968 - accuracy: 0.7604\n",
            "Epoch 9/50\n",
            "36/36 [==============================] - 6s 178ms/step - loss: 0.2584 - accuracy: 0.9201\n",
            "Epoch 10/50\n",
            "36/36 [==============================] - 5s 130ms/step - loss: 0.2321 - accuracy: 0.8924\n",
            "Epoch 11/50\n",
            "36/36 [==============================] - 6s 159ms/step - loss: 0.3012 - accuracy: 0.8611\n",
            "Epoch 12/50\n",
            "36/36 [==============================] - 5s 138ms/step - loss: 0.2066 - accuracy: 0.9306\n",
            "Epoch 13/50\n",
            "36/36 [==============================] - 5s 128ms/step - loss: 0.2231 - accuracy: 0.9062\n",
            "Epoch 14/50\n",
            "36/36 [==============================] - 6s 167ms/step - loss: 0.1895 - accuracy: 0.9271\n",
            "Epoch 15/50\n",
            "36/36 [==============================] - 5s 129ms/step - loss: 0.3238 - accuracy: 0.8646\n",
            "Epoch 16/50\n",
            "36/36 [==============================] - 6s 162ms/step - loss: 0.2026 - accuracy: 0.9236\n",
            "Epoch 17/50\n",
            "36/36 [==============================] - 5s 131ms/step - loss: 0.2544 - accuracy: 0.8785\n",
            "Epoch 18/50\n",
            "36/36 [==============================] - 5s 129ms/step - loss: 0.2062 - accuracy: 0.9132\n",
            "Epoch 19/50\n",
            "36/36 [==============================] - 6s 168ms/step - loss: 0.1769 - accuracy: 0.9340\n",
            "Epoch 20/50\n",
            "36/36 [==============================] - 5s 129ms/step - loss: 0.2168 - accuracy: 0.9167\n",
            "Epoch 21/50\n",
            "36/36 [==============================] - 6s 166ms/step - loss: 0.1699 - accuracy: 0.9340\n",
            "Epoch 22/50\n",
            "36/36 [==============================] - 5s 131ms/step - loss: 0.2077 - accuracy: 0.9236\n",
            "Epoch 23/50\n",
            "36/36 [==============================] - 5s 129ms/step - loss: 0.2118 - accuracy: 0.9410\n",
            "Epoch 24/50\n",
            "36/36 [==============================] - 6s 170ms/step - loss: 0.2024 - accuracy: 0.9340\n",
            "Epoch 25/50\n",
            "36/36 [==============================] - 5s 145ms/step - loss: 0.2150 - accuracy: 0.9201\n",
            "Epoch 26/50\n",
            "36/36 [==============================] - 5s 129ms/step - loss: 0.2020 - accuracy: 0.9097\n",
            "Epoch 27/50\n",
            "36/36 [==============================] - 6s 169ms/step - loss: 0.2159 - accuracy: 0.9062\n",
            "Epoch 28/50\n",
            "36/36 [==============================] - 5s 131ms/step - loss: 0.2084 - accuracy: 0.9201\n",
            "Epoch 29/50\n",
            "36/36 [==============================] - 6s 156ms/step - loss: 0.1736 - accuracy: 0.9340\n",
            "Epoch 30/50\n",
            "36/36 [==============================] - 5s 135ms/step - loss: 0.1655 - accuracy: 0.9375\n",
            "Epoch 31/50\n",
            "36/36 [==============================] - 6s 172ms/step - loss: 0.2023 - accuracy: 0.9062\n",
            "Epoch 32/50\n",
            "36/36 [==============================] - 5s 131ms/step - loss: 0.2479 - accuracy: 0.9062\n",
            "Epoch 33/50\n",
            "36/36 [==============================] - 6s 160ms/step - loss: 0.1795 - accuracy: 0.9306\n",
            "Epoch 34/50\n",
            "36/36 [==============================] - 5s 144ms/step - loss: 0.2058 - accuracy: 0.9201\n",
            "Epoch 35/50\n",
            "36/36 [==============================] - 6s 173ms/step - loss: 0.1807 - accuracy: 0.9306\n",
            "Epoch 36/50\n",
            "36/36 [==============================] - 5s 132ms/step - loss: 0.2573 - accuracy: 0.9097\n",
            "Epoch 37/50\n",
            "36/36 [==============================] - 6s 161ms/step - loss: 0.2112 - accuracy: 0.9097\n",
            "Epoch 38/50\n",
            "36/36 [==============================] - 5s 128ms/step - loss: 0.2494 - accuracy: 0.9062\n",
            "Epoch 39/50\n",
            "36/36 [==============================] - 6s 171ms/step - loss: 0.2315 - accuracy: 0.8958\n",
            "Epoch 40/50\n",
            "36/36 [==============================] - 5s 137ms/step - loss: 0.2590 - accuracy: 0.8889\n",
            "Epoch 41/50\n",
            "36/36 [==============================] - 7s 193ms/step - loss: 0.2140 - accuracy: 0.9340\n",
            "Epoch 42/50\n",
            "36/36 [==============================] - 5s 149ms/step - loss: 0.1954 - accuracy: 0.9271\n",
            "Epoch 43/50\n",
            "36/36 [==============================] - 6s 170ms/step - loss: 0.2041 - accuracy: 0.9306\n",
            "Epoch 44/50\n",
            "36/36 [==============================] - 8s 209ms/step - loss: 0.1964 - accuracy: 0.9271\n",
            "Epoch 45/50\n",
            "36/36 [==============================] - 5s 141ms/step - loss: 0.1897 - accuracy: 0.9236\n",
            "Epoch 46/50\n",
            "36/36 [==============================] - 5s 139ms/step - loss: 0.2277 - accuracy: 0.9062\n",
            "Epoch 47/50\n",
            "36/36 [==============================] - 6s 157ms/step - loss: 0.1740 - accuracy: 0.9201\n",
            "Epoch 48/50\n",
            "36/36 [==============================] - 5s 134ms/step - loss: 0.1760 - accuracy: 0.9444\n",
            "Epoch 49/50\n",
            "36/36 [==============================] - 6s 171ms/step - loss: 0.1656 - accuracy: 0.9340\n",
            "Epoch 50/50\n",
            "36/36 [==============================] - 5s 133ms/step - loss: 0.1537 - accuracy: 0.9514\n"
          ]
        }
      ]
    },
    {
      "cell_type": "markdown",
      "source": [
        "# EVALUATE"
      ],
      "metadata": {
        "id": "9-uxUrMmBLFt"
      }
    },
    {
      "cell_type": "code",
      "source": [
        "test_dataset.class_indices"
      ],
      "metadata": {
        "colab": {
          "base_uri": "https://localhost:8080/"
        },
        "id": "AVF40af-BKW2",
        "outputId": "c01157b4-e937-44f5-f2b9-415892e62c76"
      },
      "execution_count": 28,
      "outputs": [
        {
          "output_type": "execute_result",
          "data": {
            "text/plain": [
              "{'basmati_test': 0, 'jasmine_test': 1}"
            ]
          },
          "metadata": {},
          "execution_count": 28
        }
      ]
    },
    {
      "cell_type": "code",
      "source": [
        "predictions = network.predict(test_dataset)\n",
        "print(predictions[:5]) # probability for each one of the classes"
      ],
      "metadata": {
        "colab": {
          "base_uri": "https://localhost:8080/"
        },
        "id": "ryyrwgzKBraM",
        "outputId": "6a56da5c-1385-426c-8203-777830429de0"
      },
      "execution_count": 35,
      "outputs": [
        {
          "output_type": "stream",
          "name": "stdout",
          "text": [
            "72/72 [==============================] - 1s 11ms/step\n",
            "[[9.9093854e-01 9.0614799e-03]\n",
            " [9.9827266e-01 1.7273864e-03]\n",
            " [9.9998605e-01 1.3930226e-05]\n",
            " [9.9995673e-01 4.3275188e-05]\n",
            " [9.9974781e-01 2.5214656e-04]]\n"
          ]
        }
      ]
    },
    {
      "cell_type": "code",
      "source": [
        "# get the highest index from the prediction\n",
        "predictions = np.argmax(predictions, axis=1)\n",
        "predictions"
      ],
      "metadata": {
        "colab": {
          "base_uri": "https://localhost:8080/"
        },
        "id": "cCPiF2elB1dd",
        "outputId": "0992256a-af6c-44bd-cf0d-17325a2a4fb4"
      },
      "execution_count": 30,
      "outputs": [
        {
          "output_type": "execute_result",
          "data": {
            "text/plain": [
              "array([0, 0, 0, 0, 0, 0, 0, 0, 0, 0, 0, 0, 0, 0, 0, 0, 0, 0, 0, 0, 0, 0,\n",
              "       0, 0, 0, 0, 0, 0, 0, 0, 0, 0, 0, 0, 0, 0, 0, 1, 1, 1, 1, 1, 1, 1,\n",
              "       1, 1, 1, 1, 1, 1, 1, 1, 1, 1, 1, 1, 1, 1, 1, 1, 1, 1, 1, 1, 1, 1,\n",
              "       1, 1, 0, 1, 1, 1])"
            ]
          },
          "metadata": {},
          "execution_count": 30
        }
      ]
    },
    {
      "cell_type": "code",
      "source": [
        "test_dataset.classes"
      ],
      "metadata": {
        "colab": {
          "base_uri": "https://localhost:8080/"
        },
        "id": "cSLNqitNCE_t",
        "outputId": "0a7acad8-a4dc-49b8-bfa6-d21c3bdc8c41"
      },
      "execution_count": 31,
      "outputs": [
        {
          "output_type": "execute_result",
          "data": {
            "text/plain": [
              "array([0, 0, 0, 0, 0, 0, 0, 0, 0, 0, 0, 0, 0, 0, 0, 0, 0, 0, 0, 0, 0, 0,\n",
              "       0, 0, 0, 0, 0, 0, 0, 0, 0, 0, 0, 0, 0, 0, 1, 1, 1, 1, 1, 1, 1, 1,\n",
              "       1, 1, 1, 1, 1, 1, 1, 1, 1, 1, 1, 1, 1, 1, 1, 1, 1, 1, 1, 1, 1, 1,\n",
              "       1, 1, 1, 1, 1, 1], dtype=int32)"
            ]
          },
          "metadata": {},
          "execution_count": 31
        }
      ]
    },
    {
      "cell_type": "code",
      "source": [
        "from sklearn.metrics import accuracy_score\n",
        "accuracy_score(test_dataset.classes, predictions)"
      ],
      "metadata": {
        "colab": {
          "base_uri": "https://localhost:8080/"
        },
        "id": "679S5-2KCGWq",
        "outputId": "491e1b7a-4b22-4a8e-d1c5-1629d9ebe73b"
      },
      "execution_count": 32,
      "outputs": [
        {
          "output_type": "execute_result",
          "data": {
            "text/plain": [
              "0.9722222222222222"
            ]
          },
          "metadata": {},
          "execution_count": 32
        }
      ]
    },
    {
      "cell_type": "code",
      "source": [
        "from sklearn.metrics import confusion_matrix\n",
        "cm = confusion_matrix(test_dataset.classes, predictions)\n",
        "sns.heatmap(cm, annot=True)"
      ],
      "metadata": {
        "colab": {
          "base_uri": "https://localhost:8080/",
          "height": 448
        },
        "id": "PhO2o1ucCWMe",
        "outputId": "6491d509-460e-4f4d-d9e3-152510aac4ab"
      },
      "execution_count": 33,
      "outputs": [
        {
          "output_type": "execute_result",
          "data": {
            "text/plain": [
              "<Axes: >"
            ]
          },
          "metadata": {},
          "execution_count": 33
        },
        {
          "output_type": "display_data",
          "data": {
            "text/plain": [
              "<Figure size 640x480 with 2 Axes>"
            ],
            "image/png": "[encoded data removed]"
          },
          "metadata": {}
        }
      ]
    },
    {
      "cell_type": "code",
      "source": [
        "from sklearn.metrics import classification_report\n",
        "print(classification_report(test_dataset.classes, predictions))"
      ],
      "metadata": {
        "colab": {
          "base_uri": "https://localhost:8080/"
        },
        "id": "Ex6rGgHlClyu",
        "outputId": "a9e62e59-58e3-466f-f346-b81eae2b810a"
      },
      "execution_count": 34,
      "outputs": [
        {
          "output_type": "stream",
          "name": "stdout",
          "text": [
            "              precision    recall  f1-score   support\n",
            "\n",
            "           0       0.95      1.00      0.97        36\n",
            "           1       1.00      0.94      0.97        36\n",
            "\n",
            "    accuracy                           0.97        72\n",
            "   macro avg       0.97      0.97      0.97        72\n",
            "weighted avg       0.97      0.97      0.97        72\n",
            "\n"
          ]
        }
      ]
    },
    {
      "cell_type": "markdown",
      "source": [
        "# FINE-TUNING"
      ],
      "metadata": {
        "id": "TgEgpYESFS0q"
      }
    },
    {
      "cell_type": "code",
      "source": [
        "base_model.trainable=True # enable to train the model"
      ],
      "metadata": {
        "id": "d6lHDDCtC4jT"
      },
      "execution_count": 36,
      "outputs": []
    },
    {
      "cell_type": "code",
      "source": [
        "for layer in base_model.layers:\n",
        "  print(layer, layer.trainable)"
      ],
      "metadata": {
        "colab": {
          "base_uri": "https://localhost:8080/"
        },
        "id": "Jc6phnovF0QW",
        "outputId": "8908941d-8010-47dd-f2c3-ddeb561624b5"
      },
      "execution_count": 37,
      "outputs": [
        {
          "output_type": "stream",
          "name": "stdout",
          "text": [
            "<keras.src.engine.input_layer.InputLayer object at 0x78bc6b1fa0e0> True\n",
            "<keras.src.layers.reshaping.zero_padding2d.ZeroPadding2D object at 0x78bc6ada46d0> True\n",
            "<keras.src.layers.convolutional.conv2d.Conv2D object at 0x78bc6b1fa0b0> True\n",
            "<keras.src.layers.normalization.batch_normalization.BatchNormalization object at 0x78bc6ada4ee0> True\n",
            "<keras.src.layers.core.activation.Activation object at 0x78bc6ada5f60> True\n",
            "<keras.src.layers.reshaping.zero_padding2d.ZeroPadding2D object at 0x78bc6ada6500> True\n",
            "<keras.src.layers.pooling.max_pooling2d.MaxPooling2D object at 0x78bc6ada7490> True\n",
            "<keras.src.layers.convolutional.conv2d.Conv2D object at 0x78bc6ada73d0> True\n",
            "<keras.src.layers.normalization.batch_normalization.BatchNormalization object at 0x78bc6a1954e0> True\n",
            "<keras.src.layers.core.activation.Activation object at 0x78bc6a1972e0> True\n",
            "<keras.src.layers.convolutional.conv2d.Conv2D object at 0x78bc6a196f50> True\n",
            "<keras.src.layers.normalization.batch_normalization.BatchNormalization object at 0x78bc6a197fa0> True\n",
            "<keras.src.layers.core.activation.Activation object at 0x78bc6a1b46a0> True\n",
            "<keras.src.layers.convolutional.conv2d.Conv2D object at 0x78bc6a194250> True\n",
            "<keras.src.layers.convolutional.conv2d.Conv2D object at 0x78bc6a1b6c50> True\n",
            "<keras.src.layers.normalization.batch_normalization.BatchNormalization object at 0x78bc6ada7760> True\n",
            "<keras.src.layers.normalization.batch_normalization.BatchNormalization object at 0x78bc6a1b68c0> True\n",
            "<keras.src.layers.merging.add.Add object at 0x78bc6a1b7490> True\n",
            "<keras.src.layers.core.activation.Activation object at 0x78bc6a1b6920> True\n",
            "<keras.src.layers.convolutional.conv2d.Conv2D object at 0x78bc6a1b60b0> True\n",
            "<keras.src.layers.normalization.batch_normalization.BatchNormalization object at 0x78bc6a1d12a0> True\n",
            "<keras.src.layers.core.activation.Activation object at 0x78bc6a1b55a0> True\n",
            "<keras.src.layers.convolutional.conv2d.Conv2D object at 0x78bc6a1d2920> True\n",
            "<keras.src.layers.normalization.batch_normalization.BatchNormalization object at 0x78bc6a1d34c0> True\n",
            "<keras.src.layers.core.activation.Activation object at 0x78bc6a1d36d0> True\n",
            "<keras.src.layers.convolutional.conv2d.Conv2D object at 0x78bc6a1d3250> True\n",
            "<keras.src.layers.normalization.batch_normalization.BatchNormalization object at 0x78bc6a1d06a0> True\n",
            "<keras.src.layers.merging.add.Add object at 0x78bc6a196590> True\n",
            "<keras.src.layers.core.activation.Activation object at 0x78bc6a1d2800> True\n",
            "<keras.src.layers.convolutional.conv2d.Conv2D object at 0x78bc6ada5420> True\n",
            "<keras.src.layers.normalization.batch_normalization.BatchNormalization object at 0x78bc6ada55a0> True\n",
            "<keras.src.layers.core.activation.Activation object at 0x78bc6a1f9d20> True\n",
            "<keras.src.layers.convolutional.conv2d.Conv2D object at 0x78bc6a1fa530> True\n",
            "<keras.src.layers.normalization.batch_normalization.BatchNormalization object at 0x78bc6a1f89d0> True\n",
            "<keras.src.layers.core.activation.Activation object at 0x78bc6a1fb9d0> True\n",
            "<keras.src.layers.convolutional.conv2d.Conv2D object at 0x78bc6a1d83d0> True\n",
            "<keras.src.layers.normalization.batch_normalization.BatchNormalization object at 0x78bc6a1d8c40> True\n",
            "<keras.src.layers.merging.add.Add object at 0x78bc6a1fba90> True\n",
            "<keras.src.layers.core.activation.Activation object at 0x78bc6a1dace0> True\n",
            "<keras.src.layers.convolutional.conv2d.Conv2D object at 0x78bc6a1db100> True\n",
            "<keras.src.layers.normalization.batch_normalization.BatchNormalization object at 0x78bc6a1d9780> True\n",
            "<keras.src.layers.core.activation.Activation object at 0x78bc61874bb0> True\n",
            "<keras.src.layers.convolutional.conv2d.Conv2D object at 0x78bc61876680> True\n",
            "<keras.src.layers.normalization.batch_normalization.BatchNormalization object at 0x78bc61876da0> True\n",
            "<keras.src.layers.core.activation.Activation object at 0x78bc61877eb0> True\n",
            "<keras.src.layers.convolutional.conv2d.Conv2D object at 0x78bc6a1db040> True\n",
            "<keras.src.layers.convolutional.conv2d.Conv2D object at 0x78bc61876b60> True\n",
            "<keras.src.layers.normalization.batch_normalization.BatchNormalization object at 0x78bc6a1db220> True\n",
            "<keras.src.layers.normalization.batch_normalization.BatchNormalization object at 0x78bc61876a40> True\n",
            "<keras.src.layers.merging.add.Add object at 0x78bc61877e20> True\n",
            "<keras.src.layers.core.activation.Activation object at 0x78bc61896ef0> True\n",
            "<keras.src.layers.convolutional.conv2d.Conv2D object at 0x78bc61894220> True\n",
            "<keras.src.layers.normalization.batch_normalization.BatchNormalization object at 0x78bc61897bb0> True\n",
            "<keras.src.layers.core.activation.Activation object at 0x78bc61897a30> True\n",
            "<keras.src.layers.convolutional.conv2d.Conv2D object at 0x78bc618b1390> True\n",
            "<keras.src.layers.normalization.batch_normalization.BatchNormalization object at 0x78bc618b14b0> True\n",
            "<keras.src.layers.core.activation.Activation object at 0x78bc618b1ea0> True\n",
            "<keras.src.layers.convolutional.conv2d.Conv2D object at 0x78bc618b0a00> True\n",
            "<keras.src.layers.normalization.batch_normalization.BatchNormalization object at 0x78bc618b0d00> True\n",
            "<keras.src.layers.merging.add.Add object at 0x78bc618b25f0> True\n",
            "<keras.src.layers.core.activation.Activation object at 0x78bc618b0e80> True\n",
            "<keras.src.layers.convolutional.conv2d.Conv2D object at 0x78bc61876b90> True\n",
            "<keras.src.layers.normalization.batch_normalization.BatchNormalization object at 0x78bc618b0790> True\n",
            "<keras.src.layers.core.activation.Activation object at 0x78bc6ada5c00> True\n",
            "<keras.src.layers.convolutional.conv2d.Conv2D object at 0x78bc6a1fa440> True\n",
            "<keras.src.layers.normalization.batch_normalization.BatchNormalization object at 0x78bc6a1fa110> True\n",
            "<keras.src.layers.core.activation.Activation object at 0x78bc6a1dbb50> True\n",
            "<keras.src.layers.convolutional.conv2d.Conv2D object at 0x78bc618ca560> True\n",
            "<keras.src.layers.normalization.batch_normalization.BatchNormalization object at 0x78bc618ca9b0> True\n",
            "<keras.src.layers.merging.add.Add object at 0x78bc618cb9d0> True\n",
            "<keras.src.layers.core.activation.Activation object at 0x78bc618d46d0> True\n",
            "<keras.src.layers.convolutional.conv2d.Conv2D object at 0x78bc618d4340> True\n",
            "<keras.src.layers.normalization.batch_normalization.BatchNormalization object at 0x78bc618d55a0> True\n",
            "<keras.src.layers.core.activation.Activation object at 0x78bc618d7010> True\n",
            "<keras.src.layers.convolutional.conv2d.Conv2D object at 0x78bc618d74c0> True\n",
            "<keras.src.layers.normalization.batch_normalization.BatchNormalization object at 0x78bc618d7ca0> True\n",
            "<keras.src.layers.core.activation.Activation object at 0x78bc618d7250> True\n",
            "<keras.src.layers.convolutional.conv2d.Conv2D object at 0x78bc618e5150> True\n",
            "<keras.src.layers.normalization.batch_normalization.BatchNormalization object at 0x78bc618e5300> True\n",
            "<keras.src.layers.merging.add.Add object at 0x78bc618e65c0> True\n",
            "<keras.src.layers.core.activation.Activation object at 0x78bc618e70d0> True\n",
            "<keras.src.layers.convolutional.conv2d.Conv2D object at 0x78bc61905270> True\n",
            "<keras.src.layers.normalization.batch_normalization.BatchNormalization object at 0x78bc619050c0> True\n",
            "<keras.src.layers.core.activation.Activation object at 0x78bc61904fa0> True\n",
            "<keras.src.layers.convolutional.conv2d.Conv2D object at 0x78bc619073d0> True\n",
            "<keras.src.layers.normalization.batch_normalization.BatchNormalization object at 0x78bc61906ad0> True\n",
            "<keras.src.layers.core.activation.Activation object at 0x78bc61907880> True\n",
            "<keras.src.layers.convolutional.conv2d.Conv2D object at 0x78bc618e7d60> True\n",
            "<keras.src.layers.convolutional.conv2d.Conv2D object at 0x78bc6191d420> True\n",
            "<keras.src.layers.normalization.batch_normalization.BatchNormalization object at 0x78bc618e67a0> True\n",
            "<keras.src.layers.normalization.batch_normalization.BatchNormalization object at 0x78bc6191d870> True\n",
            "<keras.src.layers.merging.add.Add object at 0x78bc6191e830> True\n",
            "<keras.src.layers.core.activation.Activation object at 0x78bc6191fbe0> True\n",
            "<keras.src.layers.convolutional.conv2d.Conv2D object at 0x78bc6191d5d0> True\n",
            "<keras.src.layers.normalization.batch_normalization.BatchNormalization object at 0x78bc618e49d0> True\n",
            "<keras.src.layers.core.activation.Activation object at 0x78bc618e4910> True\n",
            "<keras.src.layers.convolutional.conv2d.Conv2D object at 0x78bc618d7220> True\n",
            "<keras.src.layers.normalization.batch_normalization.BatchNormalization object at 0x78bc6a1db8b0> True\n",
            "<keras.src.layers.core.activation.Activation object at 0x78bc618ca920> True\n",
            "<keras.src.layers.convolutional.conv2d.Conv2D object at 0x78bc61938c10> True\n",
            "<keras.src.layers.normalization.batch_normalization.BatchNormalization object at 0x78bc61938dc0> True\n",
            "<keras.src.layers.merging.add.Add object at 0x78bc618d5cc0> True\n",
            "<keras.src.layers.core.activation.Activation object at 0x78bc6193ab90> True\n",
            "<keras.src.layers.convolutional.conv2d.Conv2D object at 0x78bc6193ba30> True\n",
            "<keras.src.layers.normalization.batch_normalization.BatchNormalization object at 0x78bc6193bb50> True\n",
            "<keras.src.layers.core.activation.Activation object at 0x78bc61939870> True\n",
            "<keras.src.layers.convolutional.conv2d.Conv2D object at 0x78bc6193d300> True\n",
            "<keras.src.layers.normalization.batch_normalization.BatchNormalization object at 0x78bc6193de10> True\n",
            "<keras.src.layers.core.activation.Activation object at 0x78bc6193f220> True\n",
            "<keras.src.layers.convolutional.conv2d.Conv2D object at 0x78bc6193f6d0> True\n",
            "<keras.src.layers.normalization.batch_normalization.BatchNormalization object at 0x78bc6193c580> True\n",
            "<keras.src.layers.merging.add.Add object at 0x78bc6193f130> True\n",
            "<keras.src.layers.core.activation.Activation object at 0x78bc61951810> True\n",
            "<keras.src.layers.convolutional.conv2d.Conv2D object at 0x78bc619505e0> True\n",
            "<keras.src.layers.normalization.batch_normalization.BatchNormalization object at 0x78bc61952290> True\n",
            "<keras.src.layers.core.activation.Activation object at 0x78bc61953d00> True\n",
            "<keras.src.layers.convolutional.conv2d.Conv2D object at 0x78bc61952ad0> True\n",
            "<keras.src.layers.normalization.batch_normalization.BatchNormalization object at 0x78bc61951bd0> True\n",
            "<keras.src.layers.core.activation.Activation object at 0x78bc60071ae0> True\n",
            "<keras.src.layers.convolutional.conv2d.Conv2D object at 0x78bc60071540> True\n",
            "<keras.src.layers.normalization.batch_normalization.BatchNormalization object at 0x78bc600722c0> True\n",
            "<keras.src.layers.merging.add.Add object at 0x78bc600732b0> True\n",
            "<keras.src.layers.core.activation.Activation object at 0x78bc60073dc0> True\n",
            "<keras.src.layers.convolutional.conv2d.Conv2D object at 0x78bc60070100> True\n",
            "<keras.src.layers.normalization.batch_normalization.BatchNormalization object at 0x78bc60091150> True\n",
            "<keras.src.layers.core.activation.Activation object at 0x78bc600735e0> True\n",
            "<keras.src.layers.convolutional.conv2d.Conv2D object at 0x78bc600716c0> True\n",
            "<keras.src.layers.normalization.batch_normalization.BatchNormalization object at 0x78bc60071510> True\n",
            "<keras.src.layers.core.activation.Activation object at 0x78bc6193a350> True\n",
            "<keras.src.layers.convolutional.conv2d.Conv2D object at 0x78bc619388e0> True\n",
            "<keras.src.layers.normalization.batch_normalization.BatchNormalization object at 0x78bc6193ceb0> True\n",
            "<keras.src.layers.merging.add.Add object at 0x78bc619502b0> True\n",
            "<keras.src.layers.core.activation.Activation object at 0x78bc600915a0> True\n",
            "<keras.src.layers.convolutional.conv2d.Conv2D object at 0x78bc600a8280> True\n",
            "<keras.src.layers.normalization.batch_normalization.BatchNormalization object at 0x78bc60090eb0> True\n",
            "<keras.src.layers.core.activation.Activation object at 0x78bc600a9960> True\n",
            "<keras.src.layers.convolutional.conv2d.Conv2D object at 0x78bc600a9c60> True\n",
            "<keras.src.layers.normalization.batch_normalization.BatchNormalization object at 0x78bc600aa380> True\n",
            "<keras.src.layers.core.activation.Activation object at 0x78bc600aa920> True\n",
            "<keras.src.layers.convolutional.conv2d.Conv2D object at 0x78bc600a8910> True\n",
            "<keras.src.layers.normalization.batch_normalization.BatchNormalization object at 0x78bc600ab4c0> True\n",
            "<keras.src.layers.merging.add.Add object at 0x78bc600abdc0> True\n",
            "<keras.src.layers.core.activation.Activation object at 0x78bc600b5e10> True\n",
            "<keras.src.layers.convolutional.conv2d.Conv2D object at 0x78bc600b7e50> True\n",
            "<keras.src.layers.normalization.batch_normalization.BatchNormalization object at 0x78bc600b6230> True\n",
            "<keras.src.layers.core.activation.Activation object at 0x78bc618d6770> True\n",
            "<keras.src.layers.convolutional.conv2d.Conv2D object at 0x78bc600cdde0> True\n",
            "<keras.src.layers.normalization.batch_normalization.BatchNormalization object at 0x78bc600cf850> True\n",
            "<keras.src.layers.core.activation.Activation object at 0x78bc600cf7f0> True\n",
            "<keras.src.layers.convolutional.conv2d.Conv2D object at 0x78bc600b6bf0> True\n",
            "<keras.src.layers.convolutional.conv2d.Conv2D object at 0x78bc600ce140> True\n",
            "<keras.src.layers.normalization.batch_normalization.BatchNormalization object at 0x78bc600b6ef0> True\n",
            "<keras.src.layers.normalization.batch_normalization.BatchNormalization object at 0x78bc600cd4b0> True\n",
            "<keras.src.layers.merging.add.Add object at 0x78bc600ce410> True\n",
            "<keras.src.layers.core.activation.Activation object at 0x78bc600cf5e0> True\n",
            "<keras.src.layers.convolutional.conv2d.Conv2D object at 0x78bc600ee770> True\n",
            "<keras.src.layers.normalization.batch_normalization.BatchNormalization object at 0x78bc600eee90> True\n",
            "<keras.src.layers.core.activation.Activation object at 0x78bc600ed810> True\n",
            "<keras.src.layers.convolutional.conv2d.Conv2D object at 0x78bc600ef400> True\n",
            "<keras.src.layers.normalization.batch_normalization.BatchNormalization object at 0x78bc600ee230> True\n",
            "<keras.src.layers.core.activation.Activation object at 0x78bc600ef760> True\n",
            "<keras.src.layers.convolutional.conv2d.Conv2D object at 0x78bc600edba0> True\n",
            "<keras.src.layers.normalization.batch_normalization.BatchNormalization object at 0x78bc600cfc10> True\n",
            "<keras.src.layers.merging.add.Add object at 0x78bc600cf670> True\n",
            "<keras.src.layers.core.activation.Activation object at 0x78bc600cee60> True\n",
            "<keras.src.layers.convolutional.conv2d.Conv2D object at 0x78bc600cd2d0> True\n",
            "<keras.src.layers.normalization.batch_normalization.BatchNormalization object at 0x78bc600900d0> True\n",
            "<keras.src.layers.core.activation.Activation object at 0x78bc600efc70> True\n",
            "<keras.src.layers.convolutional.conv2d.Conv2D object at 0x78bc619382e0> True\n",
            "<keras.src.layers.normalization.batch_normalization.BatchNormalization object at 0x78bc600b5990> True\n",
            "<keras.src.layers.core.activation.Activation object at 0x78bc619387c0> True\n",
            "<keras.src.layers.convolutional.conv2d.Conv2D object at 0x78bc6010e2c0> True\n",
            "<keras.src.layers.normalization.batch_normalization.BatchNormalization object at 0x78bc6010e980> True\n",
            "<keras.src.layers.merging.add.Add object at 0x78bc6193af20> True\n",
            "<keras.src.layers.core.activation.Activation object at 0x78bc6010ece0> True\n"
          ]
        }
      ]
    },
    {
      "cell_type": "code",
      "source": [
        "fine_tuning_at = 140  # layer 140 - layer 175 layers will be free to train\n",
        "\n",
        "for layer in base_model.layers[:fine_tuning_at]:\n",
        "  layer.trainable=False"
      ],
      "metadata": {
        "id": "Lv-U7uviF4tS"
      },
      "execution_count": 38,
      "outputs": []
    },
    {
      "cell_type": "code",
      "source": [
        "network.compile(optimizer='Adam', loss='categorical_crossentropy', metrics='accuracy')"
      ],
      "metadata": {
        "id": "OObLp2l8GiJ0"
      },
      "execution_count": 40,
      "outputs": []
    },
    {
      "cell_type": "code",
      "source": [
        "history = network.fit(train_dataset, epochs=50)"
      ],
      "metadata": {
        "colab": {
          "base_uri": "https://localhost:8080/"
        },
        "id": "pJ701ZCYGohQ",
        "outputId": "a785e1cd-7899-4563-b8c1-f8059906f544"
      },
      "execution_count": 41,
      "outputs": [
        {
          "output_type": "stream",
          "name": "stdout",
          "text": [
            "Epoch 1/50\n",
            "36/36 [==============================] - 18s 147ms/step - loss: 3.1080 - accuracy: 0.5694\n",
            "Epoch 2/50\n",
            "36/36 [==============================] - 7s 199ms/step - loss: 0.5623 - accuracy: 0.6736\n",
            "Epoch 3/50\n",
            "36/36 [==============================] - 5s 147ms/step - loss: 0.3573 - accuracy: 0.8576\n",
            "Epoch 4/50\n",
            "36/36 [==============================] - 9s 242ms/step - loss: 0.3101 - accuracy: 0.9097\n",
            "Epoch 5/50\n",
            "36/36 [==============================] - 9s 243ms/step - loss: 0.4106 - accuracy: 0.8368\n",
            "Epoch 6/50\n",
            "36/36 [==============================] - 6s 175ms/step - loss: 0.4271 - accuracy: 0.8507\n",
            "Epoch 7/50\n",
            "36/36 [==============================] - 5s 133ms/step - loss: 0.2778 - accuracy: 0.8958\n",
            "Epoch 8/50\n",
            "36/36 [==============================] - 7s 190ms/step - loss: 0.2248 - accuracy: 0.9062\n",
            "Epoch 9/50\n",
            "36/36 [==============================] - 5s 136ms/step - loss: 0.3180 - accuracy: 0.8889\n",
            "Epoch 10/50\n",
            "36/36 [==============================] - 5s 134ms/step - loss: 0.1504 - accuracy: 0.9375\n",
            "Epoch 11/50\n",
            "36/36 [==============================] - 6s 167ms/step - loss: 0.2177 - accuracy: 0.9062\n",
            "Epoch 12/50\n",
            "36/36 [==============================] - 5s 132ms/step - loss: 0.2491 - accuracy: 0.9167\n",
            "Epoch 13/50\n",
            "36/36 [==============================] - 6s 174ms/step - loss: 0.2339 - accuracy: 0.8924\n",
            "Epoch 14/50\n",
            "36/36 [==============================] - 5s 134ms/step - loss: 0.1863 - accuracy: 0.9306\n",
            "Epoch 15/50\n",
            "36/36 [==============================] - 5s 148ms/step - loss: 0.2530 - accuracy: 0.9201\n",
            "Epoch 16/50\n",
            "36/36 [==============================] - 6s 156ms/step - loss: 0.2238 - accuracy: 0.9201\n",
            "Epoch 17/50\n",
            "36/36 [==============================] - 5s 132ms/step - loss: 0.1807 - accuracy: 0.9340\n",
            "Epoch 18/50\n",
            "36/36 [==============================] - 6s 176ms/step - loss: 0.2131 - accuracy: 0.9271\n",
            "Epoch 19/50\n",
            "36/36 [==============================] - 5s 136ms/step - loss: 0.1699 - accuracy: 0.9410\n",
            "Epoch 20/50\n",
            "36/36 [==============================] - 6s 170ms/step - loss: 0.2211 - accuracy: 0.9167\n",
            "Epoch 21/50\n",
            "36/36 [==============================] - 5s 136ms/step - loss: 0.1507 - accuracy: 0.9410\n",
            "Epoch 22/50\n",
            "36/36 [==============================] - 7s 203ms/step - loss: 0.2342 - accuracy: 0.9097\n",
            "Epoch 23/50\n",
            "36/36 [==============================] - 5s 136ms/step - loss: 0.2587 - accuracy: 0.9410\n",
            "Epoch 24/50\n",
            "36/36 [==============================] - 6s 172ms/step - loss: 0.2999 - accuracy: 0.8611\n",
            "Epoch 25/50\n",
            "36/36 [==============================] - 5s 137ms/step - loss: 0.1588 - accuracy: 0.9340\n",
            "Epoch 26/50\n",
            "36/36 [==============================] - 7s 190ms/step - loss: 0.1158 - accuracy: 0.9549\n",
            "Epoch 27/50\n",
            "36/36 [==============================] - 5s 134ms/step - loss: 0.1393 - accuracy: 0.9618\n",
            "Epoch 28/50\n",
            "36/36 [==============================] - 6s 178ms/step - loss: 0.2234 - accuracy: 0.9444\n",
            "Epoch 29/50\n",
            "36/36 [==============================] - 5s 135ms/step - loss: 0.2374 - accuracy: 0.9201\n",
            "Epoch 30/50\n",
            "36/36 [==============================] - 5s 139ms/step - loss: 0.1984 - accuracy: 0.9514\n",
            "Epoch 31/50\n",
            "36/36 [==============================] - 6s 168ms/step - loss: 0.1285 - accuracy: 0.9618\n",
            "Epoch 32/50\n",
            "36/36 [==============================] - 5s 133ms/step - loss: 0.1692 - accuracy: 0.9375\n",
            "Epoch 33/50\n",
            "36/36 [==============================] - 6s 176ms/step - loss: 0.1753 - accuracy: 0.9306\n",
            "Epoch 34/50\n",
            "36/36 [==============================] - 5s 135ms/step - loss: 0.1982 - accuracy: 0.9410\n",
            "Epoch 35/50\n",
            "36/36 [==============================] - 6s 172ms/step - loss: 0.1932 - accuracy: 0.9167\n",
            "Epoch 36/50\n",
            "36/36 [==============================] - 5s 132ms/step - loss: 0.1670 - accuracy: 0.9271\n",
            "Epoch 37/50\n",
            "36/36 [==============================] - 6s 174ms/step - loss: 0.1010 - accuracy: 0.9688\n",
            "Epoch 38/50\n",
            "36/36 [==============================] - 5s 134ms/step - loss: 0.1888 - accuracy: 0.9479\n",
            "Epoch 39/50\n",
            "36/36 [==============================] - 5s 143ms/step - loss: 0.1294 - accuracy: 0.9549\n",
            "Epoch 40/50\n",
            "36/36 [==============================] - 5s 137ms/step - loss: 0.1440 - accuracy: 0.9479\n",
            "Epoch 41/50\n",
            "36/36 [==============================] - 6s 174ms/step - loss: 0.1671 - accuracy: 0.9444\n",
            "Epoch 42/50\n",
            "36/36 [==============================] - 5s 135ms/step - loss: 0.1836 - accuracy: 0.9306\n",
            "Epoch 43/50\n",
            "36/36 [==============================] - 6s 167ms/step - loss: 0.2435 - accuracy: 0.9375\n",
            "Epoch 44/50\n",
            "36/36 [==============================] - 5s 136ms/step - loss: 0.1576 - accuracy: 0.9236\n",
            "Epoch 45/50\n",
            "36/36 [==============================] - 6s 172ms/step - loss: 0.1588 - accuracy: 0.9479\n",
            "Epoch 46/50\n",
            "36/36 [==============================] - 5s 134ms/step - loss: 0.1488 - accuracy: 0.9410\n",
            "Epoch 47/50\n",
            "36/36 [==============================] - 6s 164ms/step - loss: 0.1191 - accuracy: 0.9479\n",
            "Epoch 48/50\n",
            "36/36 [==============================] - 5s 134ms/step - loss: 0.1445 - accuracy: 0.9410\n",
            "Epoch 49/50\n",
            "36/36 [==============================] - 6s 175ms/step - loss: 0.0789 - accuracy: 0.9722\n",
            "Epoch 50/50\n",
            "36/36 [==============================] - 5s 135ms/step - loss: 0.0995 - accuracy: 0.9549\n"
          ]
        }
      ]
    },
    {
      "cell_type": "markdown",
      "source": [
        "# RE-EVALUATE"
      ],
      "metadata": {
        "id": "-7tLIUcHG0wv"
      }
    },
    {
      "cell_type": "code",
      "source": [
        "predictions = network.predict(test_dataset)\n",
        "predictions"
      ],
      "metadata": {
        "colab": {
          "base_uri": "https://localhost:8080/"
        },
        "id": "R18s5Ro2Gy4Z",
        "outputId": "08c257cf-d6a2-421c-de88-a1c050444422"
      },
      "execution_count": 42,
      "outputs": [
        {
          "output_type": "stream",
          "name": "stdout",
          "text": [
            "72/72 [==============================] - 3s 17ms/step\n"
          ]
        },
        {
          "output_type": "execute_result",
          "data": {
            "text/plain": [
              "array([[9.99999166e-01, 7.81219057e-07],\n",
              "       [1.00000000e+00, 1.02718868e-10],\n",
              "       [1.00000000e+00, 5.25877338e-28],\n",
              "       [1.00000000e+00, 1.83380198e-16],\n",
              "       [1.00000000e+00, 6.80386891e-16],\n",
              "       [1.00000000e+00, 6.50797904e-09],\n",
              "       [9.99999166e-01, 8.75987496e-07],\n",
              "       [1.00000000e+00, 2.82370183e-13],\n",
              "       [1.00000000e+00, 6.86343603e-12],\n",
              "       [1.00000000e+00, 7.32103226e-26],\n",
              "       [1.00000000e+00, 6.38375800e-13],\n",
              "       [9.99986768e-01, 1.32696650e-05],\n",
              "       [1.00000000e+00, 5.56630688e-08],\n",
              "       [9.99008715e-01, 9.91324428e-04],\n",
              "       [1.00000000e+00, 6.47867631e-20],\n",
              "       [1.00000000e+00, 3.65226545e-18],\n",
              "       [1.00000000e+00, 1.56715558e-27],\n",
              "       [1.00000000e+00, 2.01051622e-14],\n",
              "       [1.00000000e+00, 4.69943779e-16],\n",
              "       [1.00000000e+00, 8.57662279e-15],\n",
              "       [1.00000000e+00, 1.36904166e-09],\n",
              "       [1.00000000e+00, 6.52794062e-14],\n",
              "       [1.00000000e+00, 7.64557935e-20],\n",
              "       [1.00000000e+00, 2.32394515e-21],\n",
              "       [1.00000000e+00, 1.43097381e-10],\n",
              "       [1.00000000e+00, 8.47600375e-12],\n",
              "       [1.00000000e+00, 2.28652271e-11],\n",
              "       [1.00000000e+00, 2.33626700e-08],\n",
              "       [1.00000000e+00, 3.97641725e-10],\n",
              "       [1.00000000e+00, 9.22260247e-14],\n",
              "       [9.99999642e-01, 3.40445297e-07],\n",
              "       [1.00000000e+00, 2.24708576e-17],\n",
              "       [1.00000000e+00, 8.97146580e-24],\n",
              "       [1.00000000e+00, 3.96656178e-14],\n",
              "       [9.99999881e-01, 8.58365752e-08],\n",
              "       [1.00000000e+00, 5.55595049e-17],\n",
              "       [2.41979118e-03, 9.97580171e-01],\n",
              "       [2.03847256e-03, 9.97961521e-01],\n",
              "       [2.05935584e-03, 9.97940600e-01],\n",
              "       [6.18044753e-03, 9.93819535e-01],\n",
              "       [4.66807932e-03, 9.95331943e-01],\n",
              "       [1.42353639e-01, 8.57646346e-01],\n",
              "       [1.25713996e-03, 9.98742878e-01],\n",
              "       [1.11639329e-05, 9.99988794e-01],\n",
              "       [5.33431256e-03, 9.94665742e-01],\n",
              "       [3.31263155e-01, 6.68736815e-01],\n",
              "       [4.47590777e-04, 9.99552429e-01],\n",
              "       [1.73318578e-04, 9.99826729e-01],\n",
              "       [5.52937738e-04, 9.99447048e-01],\n",
              "       [2.47703314e-01, 7.52296746e-01],\n",
              "       [4.54055518e-01, 5.45944512e-01],\n",
              "       [2.39200168e-03, 9.97607946e-01],\n",
              "       [7.41297826e-02, 9.25870180e-01],\n",
              "       [3.47652957e-02, 9.65234756e-01],\n",
              "       [9.17545147e-03, 9.90824580e-01],\n",
              "       [1.59585790e-04, 9.99840379e-01],\n",
              "       [1.55965332e-02, 9.84403491e-01],\n",
              "       [3.56055121e-03, 9.96439397e-01],\n",
              "       [1.05758314e-03, 9.98942435e-01],\n",
              "       [2.00776616e-04, 9.99799192e-01],\n",
              "       [1.08648315e-01, 8.91351700e-01],\n",
              "       [5.94763458e-01, 4.05236512e-01],\n",
              "       [5.40510416e-01, 4.59489614e-01],\n",
              "       [7.11231353e-03, 9.92887676e-01],\n",
              "       [1.17134275e-02, 9.88286555e-01],\n",
              "       [6.50151014e-01, 3.49848986e-01],\n",
              "       [3.57557058e-01, 6.42442942e-01],\n",
              "       [9.18912232e-01, 8.10878351e-02],\n",
              "       [9.99169588e-01, 8.30377627e-04],\n",
              "       [6.31856501e-01, 3.68143439e-01],\n",
              "       [7.96120465e-01, 2.03879535e-01],\n",
              "       [1.31005704e-01, 8.68994296e-01]], dtype=float32)"
            ]
          },
          "metadata": {},
          "execution_count": 42
        }
      ]
    },
    {
      "cell_type": "code",
      "source": [
        "predictions = np.argmax(predictions, axis=1)\n",
        "predictions"
      ],
      "metadata": {
        "colab": {
          "base_uri": "https://localhost:8080/"
        },
        "id": "Q3OjqecAIErs",
        "outputId": "512ac8fe-b0e2-4cae-cae8-6baf3cb172c3"
      },
      "execution_count": 43,
      "outputs": [
        {
          "output_type": "execute_result",
          "data": {
            "text/plain": [
              "array([0, 0, 0, 0, 0, 0, 0, 0, 0, 0, 0, 0, 0, 0, 0, 0, 0, 0, 0, 0, 0, 0,\n",
              "       0, 0, 0, 0, 0, 0, 0, 0, 0, 0, 0, 0, 0, 0, 1, 1, 1, 1, 1, 1, 1, 1,\n",
              "       1, 1, 1, 1, 1, 1, 1, 1, 1, 1, 1, 1, 1, 1, 1, 1, 1, 0, 0, 1, 1, 0,\n",
              "       1, 0, 0, 0, 0, 1])"
            ]
          },
          "metadata": {},
          "execution_count": 43
        }
      ]
    },
    {
      "cell_type": "code",
      "source": [
        "test_dataset.classes"
      ],
      "metadata": {
        "colab": {
          "base_uri": "https://localhost:8080/"
        },
        "id": "Y8YVwWtWIJ2E",
        "outputId": "c3a50075-e058-405c-e221-d24af0053aa5"
      },
      "execution_count": 44,
      "outputs": [
        {
          "output_type": "execute_result",
          "data": {
            "text/plain": [
              "array([0, 0, 0, 0, 0, 0, 0, 0, 0, 0, 0, 0, 0, 0, 0, 0, 0, 0, 0, 0, 0, 0,\n",
              "       0, 0, 0, 0, 0, 0, 0, 0, 0, 0, 0, 0, 0, 0, 1, 1, 1, 1, 1, 1, 1, 1,\n",
              "       1, 1, 1, 1, 1, 1, 1, 1, 1, 1, 1, 1, 1, 1, 1, 1, 1, 1, 1, 1, 1, 1,\n",
              "       1, 1, 1, 1, 1, 1], dtype=int32)"
            ]
          },
          "metadata": {},
          "execution_count": 44
        }
      ]
    },
    {
      "cell_type": "code",
      "source": [
        "from sklearn.metrics import accuracy_score\n",
        "accuracy_score(test_dataset.classes,predictions)"
      ],
      "metadata": {
        "colab": {
          "base_uri": "https://localhost:8080/"
        },
        "id": "wqd2cyBsILyC",
        "outputId": "caeae1dd-6bf0-4554-9262-7279d278a142"
      },
      "execution_count": 45,
      "outputs": [
        {
          "output_type": "execute_result",
          "data": {
            "text/plain": [
              "0.9027777777777778"
            ]
          },
          "metadata": {},
          "execution_count": 45
        }
      ]
    },
    {
      "cell_type": "code",
      "source": [
        "from sklearn.metrics import confusion_matrix\n",
        "cm = confusion_matrix(test_dataset.classes, predictions)\n",
        "sns.heatmap(cm, annot=True)"
      ],
      "metadata": {
        "colab": {
          "base_uri": "https://localhost:8080/",
          "height": 448
        },
        "id": "UGYmlk4GKCdd",
        "outputId": "c0232e61-d622-4eee-84d4-a3920814d80e"
      },
      "execution_count": 53,
      "outputs": [
        {
          "output_type": "execute_result",
          "data": {
            "text/plain": [
              "<Axes: >"
            ]
          },
          "metadata": {},
          "execution_count": 53
        },
        {
          "output_type": "display_data",
          "data": {
            "text/plain": [
              "<Figure size 640x480 with 2 Axes>"
            ],
            "image/png": "[encoded data removed]"
          },
          "metadata": {}
        }
      ]
    },
    {
      "cell_type": "markdown",
      "source": [
        "# SAVE THE MODEL"
      ],
      "metadata": {
        "id": "KMZYR1JOIxbr"
      }
    },
    {
      "cell_type": "code",
      "source": [
        "model_json = network.to_json()\n",
        "with open('network.json', 'w') as json_file:\n",
        "  json_file.write(model_json)"
      ],
      "metadata": {
        "id": "0LxXLqxhIUDW"
      },
      "execution_count": 47,
      "outputs": []
    },
    {
      "cell_type": "code",
      "source": [
        "from keras.models import save_model\n",
        "network_saved = save_model(network, './content/weights.hdf5')"
      ],
      "metadata": {
        "colab": {
          "base_uri": "https://localhost:8080/"
        },
        "id": "5e_luKMAJDbr",
        "outputId": "be280401-173f-4e3b-aa07-7741db39a078"
      },
      "execution_count": 48,
      "outputs": [
        {
          "output_type": "stream",
          "name": "stderr",
          "text": [
            "<ipython-input-48-911f2f028b71>:2: UserWarning: You are saving your model as an HDF5 file via `model.save()`. This file format is considered legacy. We recommend using instead the native Keras format, e.g. `model.save('my_model.keras')`.\n",
            "  network_saved = save_model(network, './content/weights.hdf5')\n"
          ]
        }
      ]
    },
    {
      "cell_type": "code",
      "source": [
        "with open('network.json', 'r') as json_file:\n",
        "  json_saved_model = json_file.read()\n",
        "json_saved_model"
      ],
      "metadata": {
        "colab": {
          "base_uri": "https://localhost:8080/",
          "height": 196
        },
        "id": "G0KbaBxxJOeF",
        "outputId": "b9ed8ef2-ac3f-4c22-9fc9-2a64a5075d0f"
      },
      "execution_count": 49,
      "outputs": [
        {
          "output_type": "execute_result",
          "data": {
            "text/plain": [
              "'{\"class_name\": \"Functional\", \"config\": {\"name\": \"model\", \"trainable\": true, \"layers\": [{\"module\": \"keras.layers\", \"class_name\": \"InputLayer\", \"config\": {\"batch_input_shape\": [null, 256, 256, 3], \"dtype\": \"float32\", \"sparse\": false, \"ragged\": false, \"name\": \"input_1\"}, \"registered_name\": null, \"name\": \"input_1\", \"inbound_nodes\": []}, {\"module\": \"keras.layers\", \"class_name\": \"ZeroPadding2D\", \"config\": {\"name\": \"conv1_pad\", \"trainable\": false, \"dtype\": \"float32\", \"padding\": [[3, 3], [3, 3]], \"data_format\": \"channels_last\"}, \"registered_name\": null, \"build_config\": {\"input_shape\": [null, 256, 256, 3]}, \"name\": \"conv1_pad\", \"inbound_nodes\": [[[\"input_1\", 0, 0, {}]]]}, {\"module\": \"keras.layers\", \"class_name\": \"Conv2D\", \"config\": {\"name\": \"conv1_conv\", \"trainable\": false, \"dtype\": \"float32\", \"filters\": 64, \"kernel_size\": [7, 7], \"strides\": [2, 2], \"padding\": \"valid\", \"data_format\": \"channels_last\", \"dilation_rate\": [1, 1], \"groups\": 1, \"activation\": \"linear\", \"use_bias\": true, \"kernel_initializer\": {\"module\": \"keras.initializers\", \"class_name\": \"GlorotUniform\", \"config\": {\"seed\": null}, \"registered_name\": null}, \"bias_initializer\": {\"module\": \"keras.initializers\", \"class_name\": \"Zeros\", \"config\": {}, \"registered_name\": null}, \"kernel_regularizer\": null, \"bias_regularizer\": null, \"activity_regularizer\": null, \"kernel_constraint\": null, \"bias_constraint\": null}, \"registered_name\": null, \"build_config\": {\"input_shape\": [null, 262, 262, 3]}, \"name\": \"conv1_conv\", \"inbound_nodes\": [[[\"conv1_pad\", 0, 0, {}]]]}, {\"module\": \"keras.layers\", \"class_name\": \"BatchNormalization\", \"config\": {\"name\": \"conv1_bn\", \"trainable\": false, \"dtype\": \"float32\", \"axis\": [3], \"momentum\": 0.99, \"epsilon\": 1.001e-05, \"center\": true, \"scale\": true, \"beta_initializer\": {\"module\": \"keras.initializers\", \"class_name\": \"Zeros\", \"config\": {}, \"registered_name\": null}, \"gamma_initializer\": {\"module\": \"keras.initializers\", \"class_name\": \"Ones\", \"config\": {}, \"registered_name\": null}, \"moving_mean_initializer\": {\"module\": \"keras.initializers\", \"class_name\": \"Zeros\", \"config\": {}, \"registered_name\": null}, \"moving_variance_initializer\": {\"module\": \"keras.initializers\", \"class_name\": \"Ones\", \"config\": {}, \"registered_name\": null}, \"beta_regularizer\": null, \"gamma_regularizer\": null, \"beta_constraint\": null, \"gamma_constraint\": null}, \"registered_name\": null, \"build_config\": {\"input_shape\": [null, 128, 128, 64]}, \"name\": \"conv1_bn\", \"inbound_nodes\": [[[\"conv1_conv\", 0, 0, {}]]]}, {\"module\": \"keras.layers\", \"class_name\": \"Activation\", \"config\": {\"name\": \"conv1_relu\", \"trainable\": false, \"dtype\": \"float32\", \"activation\": \"relu\"}, \"registered_name\": null, \"build_config\": {\"input_shape\": [null, 128, 128, 64]}, \"name\": \"conv1_relu\", \"inbound_nodes\": [[[\"conv1_bn\", 0, 0, {}]]]}, {\"module\": \"keras.layers\", \"class_name\": \"ZeroPadding2D\", \"config\": {\"name\": \"pool1_pad\", \"trainable\": false, \"dtype\": \"float32\", \"padding\": [[1, 1], [1, 1]], \"data_format\": \"channels_last\"}, \"registered_name\": null, \"build_config\": {\"input_shape\": [null, 128, 128, 64]}, \"name\": \"pool1_pad\", \"inbound_nodes\": [[[\"conv1_relu\", 0, 0, {}]]]}, {\"module\": \"keras.layers\", \"class_name\": \"MaxPooling2D\", \"config\": {\"name\": \"pool1_pool\", \"trainable\": false, \"dtype\": \"float32\", \"pool_size\": [3, 3], \"padding\": \"valid\", \"strides\": [2, 2], \"data_format\": \"channels_last\"}, \"registered_name\": null, \"build_config\": {\"input_shape\": [null, 130, 130, 64]}, \"name\": \"pool1_pool\", \"inbound_nodes\": [[[\"pool1_pad\", 0, 0, {}]]]}, {\"module\": \"keras.layers\", \"class_name\": \"Conv2D\", \"config\": {\"name\": \"conv2_block1_1_conv\", \"trainable\": false, \"dtype\": \"float32\", \"filters\": 64, \"kernel_size\": [1, 1], \"strides\": [1, 1], \"padding\": \"valid\", \"data_format\": \"channels_last\", \"dilation_rate\": [1, 1], \"groups\": 1, \"activation\": \"linear\", \"use_bias\": true, \"kernel_initializer\": {\"module\": \"keras.initializers\", \"class_name\": \"GlorotUniform\", \"config\": {\"seed\": null}, \"registered_name\": null}, \"bias_initializer\": {\"module\": \"keras.initializers\", \"class_name\": \"Zeros\", \"config\": {}, \"registered_name\": null}, \"kernel_regularizer\": null, \"bias_regularizer\": null, \"activity_regularizer\": null, \"kernel_constraint\": null, \"bias_constraint\": null}, \"registered_name\": null, \"build_config\": {\"input_shape\": [null, 64, 64, 64]}, \"name\": \"conv2_block1_1_conv\", \"inbound_nodes\": [[[\"pool1_pool\", 0, 0, {}]]]}, {\"module\": \"keras.layers\", \"class_name\": \"BatchNormalization\", \"config\": {\"name\": \"conv2_block1_1_bn\", \"trainable\": false, \"dtype\": \"float32\", \"axis\": [3], \"momentum\": 0.99, \"epsilon\": 1.001e-05, \"center\": true, \"scale\": true, \"beta_initializer\": {\"module\": \"keras.initializers\", \"class_name\": \"Zeros\", \"config\": {}, \"registered_name\": null}, \"gamma_initializer\": {\"module\": \"keras.initializers\", \"class_name\": \"Ones\", \"config\": {}, \"registered_name\": null}, \"moving_mean_initializer\": {\"module\": \"keras.initializers\", \"class_name\": \"Zeros\", \"config\": {}, \"registered_name\": null}, \"moving_variance_initializer\": {\"module\": \"keras.initializers\", \"class_name\": \"Ones\", \"config\": {}, \"registered_name\": null}, \"beta_regularizer\": null, \"gamma_regularizer\": null, \"beta_constraint\": null, \"gamma_constraint\": null}, \"registered_name\": null, \"build_config\": {\"input_shape\": [null, 64, 64, 64]}, \"name\": \"conv2_block1_1_bn\", \"inbound_nodes\": [[[\"conv2_block1_1_conv\", 0, 0, {}]]]}, {\"module\": \"keras.layers\", \"class_name\": \"Activation\", \"config\": {\"name\": \"conv2_block1_1_relu\", \"trainable\": false, \"dtype\": \"float32\", \"activation\": \"relu\"}, \"registered_name\": null, \"build_config\": {\"input_shape\": [null, 64, 64, 64]}, \"name\": \"conv2_block1_1_relu\", \"inbound_nodes\": [[[\"conv2_block1_1_bn\", 0, 0, {}]]]}, {\"module\": \"keras.layers\", \"class_name\": \"Conv2D\", \"config\": {\"name\": \"conv2_block1_2_conv\", \"trainable\": false, \"dtype\": \"float32\", \"filters\": 64, \"kernel_size\": [3, 3], \"strides\": [1, 1], \"padding\": \"same\", \"data_format\": \"channels_last\", \"dilation_rate\": [1, 1], \"groups\": 1, \"activation\": \"linear\", \"use_bias\": true, \"kernel_initializer\": {\"module\": \"keras.initializers\", \"class_name\": \"GlorotUniform\", \"config\": {\"seed\": null}, \"registered_name\": null}, \"bias_initializer\": {\"module\": \"keras.initializers\", \"class_name\": \"Zeros\", \"config\": {}, \"registered_name\": null}, \"kernel_regularizer\": null, \"bias_regularizer\": null, \"activity_regularizer\": null, \"kernel_constraint\": null, \"bias_constraint\": null}, \"registered_name\": null, \"build_config\": {\"input_shape\": [null, 64, 64, 64]}, \"name\": \"conv2_block1_2_conv\", \"inbound_nodes\": [[[\"conv2_block1_1_relu\", 0, 0, {}]]]}, {\"module\": \"keras.layers\", \"class_name\": \"BatchNormalization\", \"config\": {\"name\": \"conv2_block1_2_bn\", \"trainable\": false, \"dtype\": \"float32\", \"axis\": [3], \"momentum\": 0.99, \"epsilon\": 1.001e-05, \"center\": true, \"scale\": true, \"beta_initializer\": {\"module\": \"keras.initializers\", \"class_name\": \"Zeros\", \"config\": {}, \"registered_name\": null}, \"gamma_initializer\": {\"module\": \"keras.initializers\", \"class_name\": \"Ones\", \"config\": {}, \"registered_name\": null}, \"moving_mean_initializer\": {\"module\": \"keras.initializers\", \"class_name\": \"Zeros\", \"config\": {}, \"registered_name\": null}, \"moving_variance_initializer\": {\"module\": \"keras.initializers\", \"class_name\": \"Ones\", \"config\": {}, \"registered_name\": null}, \"beta_regularizer\": null, \"gamma_regularizer\": null, \"beta_constraint\": null, \"gamma_constraint\": null}, \"registered_name\": null, \"build_config\": {\"input_shape\": [null, 64, 64, 64]}, \"name\": \"conv2_block1_2_bn\", \"inbound_nodes\": [[[\"conv2_block1_2_conv\", 0, 0, {}]]]}, {\"module\": \"keras.layers\", \"class_name\": \"Activation\", \"config\": {\"name\": \"conv2_block1_2_relu\", \"trainable\": false, \"dtype\": \"float32\", \"activation\": \"relu\"}, \"registered_name\": null, \"build_config\": {\"input_shape\": [null, 64, 64, 64]}, \"name\": \"conv2_block1_2_relu\", \"inbound_nodes\": [[[\"conv2_block1_2_bn\", 0, 0, {}]]]}, {\"module\": \"keras.layers\", \"class_name\": \"Conv2D\", \"config\": {\"name\": \"conv2_block1_0_conv\", \"trainable\": false, \"dtype\": \"float32\", \"filters\": 256, \"kernel_size\": [1, 1], \"strides\": [1, 1], \"padding\": \"valid\", \"data_format\": \"channels_last\", \"dilation_rate\": [1, 1], \"groups\": 1, \"activation\": \"linear\", \"use_bias\": true, \"kernel_initializer\": {\"module\": \"keras.initializers\", \"class_name\": \"GlorotUniform\", \"config\": {\"seed\": null}, \"registered_name\": null}, \"bias_initializer\": {\"module\": \"keras.initializers\", \"class_name\": \"Zeros\", \"config\": {}, \"registered_name\": null}, \"kernel_regularizer\": null, \"bias_regularizer\": null, \"activity_regularizer\": null, \"kernel_constraint\": null, \"bias_constraint\": null}, \"registered_name\": null, \"build_config\": {\"input_shape\": [null, 64, 64, 64]}, \"name\": \"conv2_block1_0_conv\", \"inbound_nodes\": [[[\"pool1_pool\", 0, 0, {}]]]}, {\"module\": \"keras.layers\", \"class_name\": \"Conv2D\", \"config\": {\"name\": \"conv2_block1_3_conv\", \"trainable\": false, \"dtype\": \"float32\", \"filters\": 256, \"kernel_size\": [1, 1], \"strides\": [1, 1], \"padding\": \"valid\", \"data_format\": \"channels_last\", \"dilation_rate\": [1, 1], \"groups\": 1, \"activation\": \"linear\", \"use_bias\": true, \"kernel_initializer\": {\"module\": \"keras.initializers\", \"class_name\": \"GlorotUniform\", \"config\": {\"seed\": null}, \"registered_name\": null}, \"bias_initializer\": {\"module\": \"keras.initializers\", \"class_name\": \"Zeros\", \"config\": {}, \"registered_name\": null}, \"kernel_regularizer\": null, \"bias_regularizer\": null, \"activity_regularizer\": null, \"kernel_constraint\": null, \"bias_constraint\": null}, \"registered_name\": null, \"build_config\": {\"input_shape\": [null, 64, 64, 64]}, \"name\": \"conv2_block1_3_conv\", \"inbound_nodes\": [[[\"conv2_block1_2_relu\", 0, 0, {}]]]}, {\"module\": \"keras.layers\", \"class_name\": \"BatchNormalization\", \"config\": {\"name\": \"conv2_block1_0_bn\", \"trainable\": false, \"dtype\": \"float32\", \"axis\": [3], \"momentum\": 0.99, \"epsilon\": 1.001e-05, \"center\": true, \"scale\": true, \"beta_initializer\": {\"module\": \"keras.initializers\", \"class_name\": \"Zeros\", \"config\": {}, \"registered_name\": null}, \"gamma_initializer\": {\"module\": \"keras.initializers\", \"class_name\": \"Ones\", \"config\": {}, \"registered_name\": null}, \"moving_mean_initializer\": {\"module\": \"keras.initializers\", \"class_name\": \"Zeros\", \"config\": {}, \"registered_name\": null}, \"moving_variance_initializer\": {\"module\": \"keras.initializers\", \"class_name\": \"Ones\", \"config\": {}, \"registered_name\": null}, \"beta_regularizer\": null, \"gamma_regularizer\": null, \"beta_constraint\": null, \"gamma_constraint\": null}, \"registered_name\": null, \"build_config\": {\"input_shape\": [null, 64, 64, 256]}, \"name\": \"conv2_block1_0_bn\", \"inbound_nodes\": [[[\"conv2_block1_0_conv\", 0, 0, {}]]]}, {\"module\": \"keras.layers\", \"class_name\": \"BatchNormalization\", \"config\": {\"name\": \"conv2_block1_3_bn\", \"trainable\": false, \"dtype\": \"float32\", \"axis\": [3], \"momentum\": 0.99, \"epsilon\": 1.001e-05, \"center\": true, \"scale\": true, \"beta_initializer\": {\"module\": \"keras.initializers\", \"class_name\": \"Zeros\", \"config\": {}, \"registered_name\": null}, \"gamma_initializer\": {\"module\": \"keras.initializers\", \"class_name\": \"Ones\", \"config\": {}, \"registered_name\": null}, \"moving_mean_initializer\": {\"module\": \"keras.initializers\", \"class_name\": \"Zeros\", \"config\": {}, \"registered_name\": null}, \"moving_variance_initializer\": {\"module\": \"keras.initializers\", \"class_name\": \"Ones\", \"config\": {}, \"registered_name\": null}, \"beta_regularizer\": null, \"gamma_regularizer\": null, \"beta_constraint\": null, \"gamma_constraint\": null}, \"registered_name\": null, \"build_config\": {\"input_shape\": [null, 64, 64, 256]}, \"name\": \"conv2_block1_3_bn\", \"inbound_nodes\": [[[\"conv2_block1_3_conv\", 0, 0, {}]]]}, {\"module\": \"keras.layers\", \"class_name\": \"Add\", \"config\": {\"name\": \"conv2_block1_add\", \"trainable\": false, \"dtype\": \"float32\"}, \"registered_name\": null, \"build_config\": {\"input_shape\": [[null, 64, 64, 256], [null, 64, 64, 256]]}, \"name\": \"conv2_block1_add\", \"inbound_nodes\": [[[\"conv2_block1_0_bn\", 0, 0, {}], [\"conv2_block1_3_bn\", 0, 0, {}]]]}, {\"module\": \"keras.layers\", \"class_name\": \"Activation\", \"config\": {\"name\": \"conv2_block1_out\", \"trainable\": false, \"dtype\": \"float32\", \"activation\": \"relu\"}, \"registered_name\": null, \"build_config\": {\"input_shape\": [null, 64, 64, 256]}, \"name\": \"conv2_block1_out\", \"inbound_nodes\": [[[\"conv2_block1_add\", 0, 0, {}]]]}, {\"module\": \"keras.layers\", \"class_name\": \"Conv2D\", \"config\": {\"name\": \"conv2_block2_1_conv\", \"trainable\": false, \"dtype\": \"float32\", \"filters\": 64, \"kernel_size\": [1, 1], \"strides\": [1, 1], \"padding\": \"valid\", \"data_format\": \"channels_last\", \"dilation_rate\": [1, 1], \"groups\": 1, \"activation\": \"linear\", \"use_bias\": true, \"kernel_initializer\": {\"module\": \"keras.initializers\", \"class_name\": \"GlorotUniform\", \"config\": {\"seed\": null}, \"registered_name\": null}, \"bias_initializer\": {\"module\": \"keras.initializers\", \"class_name\": \"Zeros\", \"config\": {}, \"registered_name\": null}, \"kernel_regularizer\": null, \"bias_regularizer\": null, \"activity_regularizer\": null, \"kernel_constraint\": null, \"bias_constraint\": null}, \"registered_name\": null, \"build_config\": {\"input_shape\": [null, 64, 64, 256]}, \"name\": \"conv2_block2_1_conv\", \"inbound_nodes\": [[[\"conv2_block1_out\", 0, 0, {}]]]}, {\"module\": \"keras.layers\", \"class_name\": \"BatchNormalization\", \"config\": {\"name\": \"conv2_block2_1_bn\", \"trainable\": false, \"dtype\": \"float32\", \"axis\": [3], \"momentum\": 0.99, \"epsilon\": 1.001e-05, \"center\": true, \"scale\": true, \"beta_initializer\": {\"module\": \"keras.initializers\", \"class_name\": \"Zeros\", \"config\": {}, \"registered_name\": null}, \"gamma_initializer\": {\"module\": \"keras.initializers\", \"class_name\": \"Ones\", \"config\": {}, \"registered_name\": null}, \"moving_mean_initializer\": {\"module\": \"keras.initializers\", \"class_name\": \"Zeros\", \"config\": {}, \"registered_name\": null}, \"moving_variance_initializer\": {\"module\": \"keras.initializers\", \"class_name\": \"Ones\", \"config\": {}, \"registered_name\": null}, \"beta_regularizer\": null, \"gamma_regularizer\": null, \"beta_constraint\": null, \"gamma_constraint\": null}, \"registered_name\": null, \"build_config\": {\"input_shape\": [null, 64, 64, 64]}, \"name\": \"conv2_block2_1_bn\", \"inbound_nodes\": [[[\"conv2_block2_1_conv\", 0, 0, {}]]]}, {\"module\": \"keras.layers\", \"class_name\": \"Activation\", \"config\": {\"name\": \"conv2_block2_1_relu\", \"trainable\": false, \"dtype\": \"float32\", \"activation\": \"relu\"}, \"registered_name\": null, \"build_config\": {\"input_shape\": [null, 64, 64, 64]}, \"name\": \"conv2_block2_1_relu\", \"inbound_nodes\": [[[\"conv2_block2_1_bn\", 0, 0, {}]]]}, {\"module\": \"keras.layers\", \"class_name\": \"Conv2D\", \"config\": {\"name\": \"conv2_block2_2_conv\", \"trainable\": false, \"dtype\": \"float32\", \"filters\": 64, \"kernel_size\": [3, 3], \"strides\": [1, 1], \"padding\": \"same\", \"data_format\": \"channels_last\", \"dilation_rate\": [1, 1], \"groups\": 1, \"activation\": \"linear\", \"use_bias\": true, \"kernel_initializer\": {\"module\": \"keras.initializers\", \"class_name\": \"GlorotUniform\", \"config\": {\"seed\": null}, \"registered_name\": null}, \"bias_initializer\": {\"module\": \"keras.initializers\", \"class_name\": \"Zeros\", \"config\": {}, \"registered_name\": null}, \"kernel_regularizer\": null, \"bias_regularizer\": null, \"activity_regularizer\": null, \"kernel_constraint\": null, \"bias_constraint\": null}, \"registered_name\": null, \"build_config\": {\"input_shape\": [null, 64, 64, 64]}, \"name\": \"conv2_block2_2_conv\", \"inbound_nodes\": [[[\"conv2_block2_1_relu\", 0, 0, {}]]]}, {\"module\": \"keras.layers\", \"class_name\": \"BatchNormalization\", \"config\": {\"name\": \"conv2_block2_2_bn\", \"trainable\": false, \"dtype\": \"float32\", \"axis\": [3], \"momentum\": 0.99, \"epsilon\": 1.001e-05, \"center\": true, \"scale\": true, \"beta_initializer\": {\"module\": \"keras.initializers\", \"class_name\": \"Zeros\", \"config\": {}, \"registered_name\": null}, \"gamma_initializer\": {\"module\": \"keras.initializers\", \"class_name\": \"Ones\", \"config\": {}, \"registered_name\": null}, \"moving_mean_initializer\": {\"module\": \"keras.initializers\", \"class_name\": \"Zeros\", \"config\": {}, \"registered_name\": null}, \"moving_variance_initializer\": {\"module\": \"keras.initializers\", \"class_name\": \"Ones\", \"config\": {}, \"registered_name\": null}, \"beta_regularizer\": null, \"gamma_regularizer\": null, \"beta_constraint\": null, \"gamma_constraint\": null}, \"registered_name\": null, \"build_config\": {\"input_shape\": [null, 64, 64, 64]}, \"name\": \"conv2_block2_2_bn\", \"inbound_nodes\": [[[\"conv2_block2_2_conv\", 0, 0, {}]]]}, {\"module\": \"keras.layers\", \"class_name\": \"Activation\", \"config\": {\"name\": \"conv2_block2_2_relu\", \"trainable\": false, \"dtype\": \"float32\", \"activation\": \"relu\"}, \"registered_name\": null, \"build_config\": {\"input_shape\": [null, 64, 64, 64]}, \"name\": \"conv2_block2_2_relu\", \"inbound_nodes\": [[[\"conv2_block2_2_bn\", 0, 0, {}]]]}, {\"module\": \"keras.layers\", \"class_name\": \"Conv2D\", \"config\": {\"name\": \"conv2_block2_3_conv\", \"trainable\": false, \"dtype\": \"float32\", \"filters\": 256, \"kernel_size\": [1, 1], \"strides\": [1, 1], \"padding\": \"valid\", \"data_format\": \"channels_last\", \"dilation_rate\": [1, 1], \"groups\": 1, \"activation\": \"linear\", \"use_bias\": true, \"kernel_initializer\": {\"module\": \"keras.initializers\", \"class_name\": \"GlorotUniform\", \"config\": {\"seed\": null}, \"registered_name\": null}, \"bias_initializer\": {\"module\": \"keras.initializers\", \"class_name\": \"Zeros\", \"config\": {}, \"registered_name\": null}, \"kernel_regularizer\": null, \"bias_regularizer\": null, \"activity_regularizer\": null, \"kernel_constraint\": null, \"bias_constraint\": null}, \"registered_name\": null, \"build_config\": {\"input_shape\": [null, 64, 64, 64]}, \"name\": \"conv2_block2_3_conv\", \"inbound_nodes\": [[[\"conv2_block2_2_relu\", 0, 0, {}]]]}, {\"module\": \"keras.layers\", \"class_name\": \"BatchNormalization\", \"config\": {\"name\": \"conv2_block2_3_bn\", \"trainable\": false, \"dtype\": \"float32\", \"axis\": [3], \"momentum\": 0.99, \"epsilon\": 1.001e-05, \"center\": true, \"scale\": true, \"beta_initializer\": {\"module\": \"keras.initializers\", \"class_name\": \"Zeros\", \"config\": {}, \"registered_name\": null}, \"gamma_initializer\": {\"module\": \"keras.initializers\", \"class_name\": \"Ones\", \"config\": {}, \"registered_name\": null}, \"moving_mean_initializer\": {\"module\": \"keras.initializers\", \"class_name\": \"Zeros\", \"config\": {}, \"registered_name\": null}, \"moving_variance_initializer\": {\"module\": \"keras.initializers\", \"class_name\": \"Ones\", \"config\": {}, \"registered_name\": null}, \"beta_regularizer\": null, \"gamma_regularizer\": null, \"beta_constraint\": null, \"gamma_constraint\": null}, \"registered_name\": null, \"build_config\": {\"input_shape\": [null, 64, 64, 256]}, \"name\": \"conv2_block2_3_bn\", \"inbound_nodes\": [[[\"conv2_block2_3_conv\", 0, 0, {}]]]}, {\"module\": \"keras.layers\", \"class_name\": \"Add\", \"config\": {\"name\": \"conv2_block2_add\", \"trainable\": false, \"dtype\": \"float32\"}, \"registered_name\": null, \"build_config\": {\"input_shape\": [[null, 64, 64, 256], [null, 64, 64, 256]]}, \"name\": \"conv2_block2_add\", \"inbound_nodes\": [[[\"conv2_block1_out\", 0, 0, {}], [\"conv2_block2_3_bn\", 0, 0, {}]]]}, {\"module\": \"keras.layers\", \"class_name\": \"Activation\", \"config\": {\"name\": \"conv2_block2_out\", \"trainable\": false, \"dtype\": \"float32\", \"activation\": \"relu\"}, \"registered_name\": null, \"build_config\": {\"input_shape\": [null, 64, 64, 256]}, \"name\": \"conv2_block2_out\", \"inbound_nodes\": [[[\"conv2_block2_add\", 0, 0, {}]]]}, {\"module\": \"keras.layers\", \"class_name\": \"Conv2D\", \"config\": {\"name\": \"conv2_block3_1_conv\", \"trainable\": false, \"dtype\": \"float32\", \"filters\": 64, \"kernel_size\": [1, 1], \"strides\": [1, 1], \"padding\": \"valid\", \"data_format\": \"channels_last\", \"dilation_rate\": [1, 1], \"groups\": 1, \"activation\": \"linear\", \"use_bias\": true, \"kernel_initializer\": {\"module\": \"keras.initializers\", \"class_name\": \"GlorotUniform\", \"config\": {\"seed\": null}, \"registered_name\": null}, \"bias_initializer\": {\"module\": \"keras.initializers\", \"class_name\": \"Zeros\", \"config\": {}, \"registered_name\": null}, \"kernel_regularizer\": null, \"bias_regularizer\": null, \"activity_regularizer\": null, \"kernel_constraint\": null, \"bias_constraint\": null}, \"registered_name\": null, \"build_config\": {\"input_shape\": [null, 64, 64, 256]}, \"name\": \"conv2_block3_1_conv\", \"inbound_nodes\": [[[\"conv2_block2_out\", 0, 0, {}]]]}, {\"module\": \"keras.layers\", \"class_name\": \"BatchNormalization\", \"config\": {\"name\": \"conv2_block3_1_bn\", \"trainable\": false, \"dtype\": \"float32\", \"axis\": [3], \"momentum\": 0.99, \"epsilon\": 1.001e-05, \"center\": true, \"scale\": true, \"beta_initializer\": {\"module\": \"keras.initializers\", \"class_name\": \"Zeros\", \"config\": {}, \"registered_name\": null}, \"gamma_initializer\": {\"module\": \"keras.initializers\", \"class_name\": \"Ones\", \"config\": {}, \"registered_name\": null}, \"moving_mean_initializer\": {\"module\": \"keras.initializers\", \"class_name\": \"Zeros\", \"config\": {}, \"registered_name\": null}, \"moving_variance_initializer\": {\"module\": \"keras.initializers\", \"class_name\": \"Ones\", \"config\": {}, \"registered_name\": null}, \"beta_regularizer\": null, \"gamma_regularizer\": null, \"beta_constraint\": null, \"gamma_constraint\": null}, \"registered_name\": null, \"build_config\": {\"input_shape\": [null, 64, 64, 64]}, \"name\": \"conv2_block3_1_bn\", \"inbound_nodes\": [[[\"conv2_block3_1_conv\", 0, 0, {}]]]}, {\"module\": \"keras.layers\", \"class_name\": \"Activation\", \"config\": {\"name\": \"conv2_block3_1_relu\", \"trainable\": false, \"dtype\": \"float32\", \"activation\": \"relu\"}, \"registered_name\": null, \"build_config\": {\"input_shape\": [null, 64, 64, 64]}, \"name\": \"conv2_block3_1_relu\", \"inbound_nodes\": [[[\"conv2_block3_1_bn\", 0, 0, {}]]]}, {\"module\": \"keras.layers\", \"class_name\": \"Conv2D\", \"config\": {\"name\": \"conv2_block3_2_conv\", \"trainable\": false, \"dtype\": \"float32\", \"filters\": 64, \"kernel_size\": [3, 3], \"strides\": [1, 1], \"padding\": \"same\", \"data_format\": \"channels_last\", \"dilation_rate\": [1, 1], \"groups\": 1, \"activation\": \"linear\", \"use_bias\": true, \"kernel_initializer\": {\"module\": \"keras.initializers\", \"class_name\": \"GlorotUniform\", \"config\": {\"seed\": null}, \"registered_name\": null}, \"bias_initializer\": {\"module\": \"keras.initializers\", \"class_name\": \"Zeros\", \"config\": {}, \"registered_name\": null}, \"kernel_regularizer\": null, \"bias_regularizer\": null, \"activity_regularizer\": null, \"kernel_constraint\": null, \"bias_constraint\": null}, \"registered_name\": null, \"build_config\": {\"input_shape\": [null, 64, 64, 64]}, \"name\": \"conv2_block3_2_conv\", \"inbound_nodes\": [[[\"conv2_block3_1_relu\", 0, 0, {}]]]}, {\"module\": \"keras.layers\", \"class_name\": \"BatchNormalization\", \"config\": {\"name\": \"conv2_block3_2_bn\", \"trainable\": false, \"dtype\": \"float32\", \"axis\": [3], \"momentum\": 0.99, \"epsilon\": 1.001e-05, \"center\": true, \"scale\": true, \"beta_initializer\": {\"module\": \"keras.initializers\", \"class_name\": \"Zeros\", \"config\": {}, \"registered_name\": null}, \"gamma_initializer\": {\"module\": \"keras.initializers\", \"class_name\": \"Ones\", \"config\": {}, \"registered_name\": null}, \"moving_mean_initializer\": {\"module\": \"keras.initializers\", \"class_name\": \"Zeros\", \"config\": {}, \"registered_name\": null}, \"moving_variance_initializer\": {\"module\": \"keras.initializers\", \"class_name\": \"Ones\", \"config\": {}, \"registered_name\": null}, \"beta_regularizer\": null, \"gamma_regularizer\": null, \"beta_constraint\": null, \"gamma_constraint\": null}, \"registered_name\": null, \"build_config\": {\"input_shape\": [null, 64, 64, 64]}, \"name\": \"conv2_block3_2_bn\", \"inbound_nodes\": [[[\"conv2_block3_2_conv\", 0, 0, {}]]]}, {\"module\": \"keras.layers\", \"class_name\": \"Activation\", \"config\": {\"name\": \"conv2_block3_2_relu\", \"trainable\": false, \"dtype\": \"float32\", \"activation\": \"relu\"}, \"registered_name\": null, \"build_config\": {\"input_shape\": [null, 64, 64, 64]}, \"name\": \"conv2_block3_2_relu\", \"inbound_nodes\": [[[\"conv2_block3_2_bn\", 0, 0, {}]]]}, {\"module\": \"keras.layers\", \"class_name\": \"Conv2D\", \"config\": {\"name\": \"conv2_block3_3_conv\", \"trainable\": false, \"dtype\": \"float32\", \"filters\": 256, \"kernel_size\": [1, 1], \"strides\": [1, 1], \"padding\": \"valid\", \"data_format\": \"channels_last\", \"dilation_rate\": [1, 1], \"groups\": 1, \"activation\": \"linear\", \"use_bias\": true, \"kernel_initializer\": {\"module\": \"keras.initializers\", \"class_name\": \"GlorotUniform\", \"config\": {\"seed\": null}, \"registered_name\": null}, \"bias_initializer\": {\"module\": \"keras.initializers\", \"class_name\": \"Zeros\", \"config\": {}, \"registered_name\": null}, \"kernel_regularizer\": null, \"bias_regularizer\": null, \"activity_regularizer\": null, \"kernel_constraint\": null, \"bias_constraint\": null}, \"registered_name\": null, \"build_config\": {\"input_shape\": [null, 64, 64, 64]}, \"name\": \"conv2_block3_3_conv\", \"inbound_nodes\": [[[\"conv2_block3_2_relu\", 0, 0, {}]]]}, {\"module\": \"keras.layers\", \"class_name\": \"BatchNormalization\", \"config\": {\"name\": \"conv2_block3_3_bn\", \"trainable\": false, \"dtype\": \"float32\", \"axis\": [3], \"momentum\": 0.99, \"epsilon\": 1.001e-05, \"center\": true, \"scale\": true, \"beta_initializer\": {\"module\": \"keras.initializers\", \"class_name\": \"Zeros\", \"config\": {}, \"registered_name\": null}, \"gamma_initializer\": {\"module\": \"keras.initializers\", \"class_name\": \"Ones\", \"config\": {}, \"registered_name\": null}, \"moving_mean_initializer\": {\"module\": \"keras.initializers\", \"class_name\": \"Zeros\", \"config\": {}, \"registered_name\": null}, \"moving_variance_initializer\": {\"module\": \"keras.initializers\", \"class_name\": \"Ones\", \"config\": {}, \"registered_name\": null}, \"beta_regularizer\": null, \"gamma_regularizer\": null, \"beta_constraint\": null, \"gamma_constraint\": null}, \"registered_name\": null, \"build_config\": {\"input_shape\": [null, 64, 64, 256]}, \"name\": \"conv2_block3_3_bn\", \"inbound_nodes\": [[[\"conv2_block3_3_conv\", 0, 0, {}]]]}, {\"module\": \"keras.layers\", \"class_name\": \"Add\", \"config\": {\"name\": \"conv2_block3_add\", \"trainable\": false, \"dtype\": \"float32\"}, \"registered_name\": null, \"build_config\": {\"input_shape\": [[null, 64, 64, 256], [null, 64, 64, 256]]}, \"name\": \"conv2_block3_add\", \"inbound_nodes\": [[[\"conv2_block2_out\", 0, 0, {}], [\"conv2_block3_3_bn\", 0, 0, {}]]]}, {\"module\": \"keras.layers\", \"class_name\": \"Activation\", \"config\": {\"name\": \"conv2_block3_out\", \"trainable\": false, \"dtype\": \"float32\", \"activation\": \"relu\"}, \"registered_name\": null, \"build_config\": {\"input_shape\": [null, 64, 64, 256]}, \"name\": \"conv2_block3_out\", \"inbound_nodes\": [[[\"conv2_block3_add\", 0, 0, {}]]]}, {\"module\": \"keras.layers\", \"class_name\": \"Conv2D\", \"config\": {\"name\": \"conv3_block1_1_conv\", \"trainable\": false, \"dtype\": \"float32\", \"filters\": 128, \"kernel_size\": [1, 1], \"strides\": [2, 2], \"padding\": \"valid\", \"data_format\": \"channels_last\", \"dilation_rate\": [1, 1], \"groups\": 1, \"activation\": \"linear\", \"use_bias\": true, \"kernel_initializer\": {\"module\": \"keras.initializers\", \"class_name\": \"GlorotUniform\", \"config\": {\"seed\": null}, \"registered_name\": null}, \"bias_initializer\": {\"module\": \"keras.initializers\", \"class_name\": \"Zeros\", \"config\": {}, \"registered_name\": null}, \"kernel_regularizer\": null, \"bias_regularizer\": null, \"activity_regularizer\": null, \"kernel_constraint\": null, \"bias_constraint\": null}, \"registered_name\": null, \"build_config\": {\"input_shape\": [null, 64, 64, 256]}, \"name\": \"conv3_block1_1_conv\", \"inbound_nodes\": [[[\"conv2_block3_out\", 0, 0, {}]]]}, {\"module\": \"keras.layers\", \"class_name\": \"BatchNormalization\", \"config\": {\"name\": \"conv3_block1_1_bn\", \"trainable\": false, \"dtype\": \"float32\", \"axis\": [3], \"momentum\": 0.99, \"epsilon\": 1.001e-05, \"center\": true, \"scale\": true, \"beta_initializer\": {\"module\": \"keras.initializers\", \"class_name\": \"Zeros\", \"config\": {}, \"registered_name\": null}, \"gamma_initializer\": {\"module\": \"keras.initializers\", \"class_name\": \"Ones\", \"config\": {}, \"registered_name\": null}, \"moving_mean_initializer\": {\"module\": \"keras.initializers\", \"class_name\": \"Zeros\", \"config\": {}, \"registered_name\": null}, \"moving_variance_initializer\": {\"module\": \"keras.initializers\", \"class_name\": \"Ones\", \"config\": {}, \"registered_name\": null}, \"beta_regularizer\": null, \"gamma_regularizer\": null, \"beta_constraint\": null, \"gamma_constraint\": null}, \"registered_name\": null, \"build_config\": {\"input_shape\": [null, 32, 32, 128]}, \"name\": \"conv3_block1_1_bn\", \"inbound_nodes\": [[[\"conv3_block1_1_conv\", 0, 0, {}]]]}, {\"module\": \"keras.layers\", \"class_name\": \"Activation\", \"config\": {\"name\": \"conv3_block1_1_relu\", \"trainable\": false, \"dtype\": \"float32\", \"activation\": \"relu\"}, \"registered_name\": null, \"build_config\": {\"input_shape\": [null, 32, 32, 128]}, \"name\": \"conv3_block1_1_relu\", \"inbound_nodes\": [[[\"conv3_block1_1_bn\", 0, 0, {}]]]}, {\"module\": \"keras.layers\", \"class_name\": \"Conv2D\", \"config\": {\"name\": \"conv3_block1_2_conv\", \"trainable\": false, \"dtype\": \"float32\", \"filters\": 128, \"kernel_size\": [3, 3], \"strides\": [1, 1], \"padding\": \"same\", \"data_format\": \"channels_last\", \"dilation_rate\": [1, 1], \"groups\": 1, \"activation\": \"linear\", \"use_bias\": true, \"kernel_initializer\": {\"module\": \"keras.initializers\", \"class_name\": \"GlorotUniform\", \"config\": {\"seed\": null}, \"registered_name\": null}, \"bias_initializer\": {\"module\": \"keras.initializers\", \"class_name\": \"Zeros\", \"config\": {}, \"registered_name\": null}, \"kernel_regularizer\": null, \"bias_regularizer\": null, \"activity_regularizer\": null, \"kernel_constraint\": null, \"bias_constraint\": null}, \"registered_name\": null, \"build_config\": {\"input_shape\": [null, 32, 32, 128]}, \"name\": \"conv3_block1_2_conv\", \"inbound_nodes\": [[[\"conv3_block1_1_relu\", 0, 0, {}]]]}, {\"module\": \"keras.layers\", \"class_name\": \"BatchNormalization\", \"config\": {\"name\": \"conv3_block1_2_bn\", \"trainable\": false, \"dtype\": \"float32\", \"axis\": [3], \"momentum\": 0.99, \"epsilon\": 1.001e-05, \"center\": true, \"scale\": true, \"beta_initializer\": {\"module\": \"keras.initializers\", \"class_name\": \"Zeros\", \"config\": {}, \"registered_name\": null}, \"gamma_initializer\": {\"module\": \"keras.initializers\", \"class_name\": \"Ones\", \"config\": {}, \"registered_name\": null}, \"moving_mean_initializer\": {\"module\": \"keras.initializers\", \"class_name\": \"Zeros\", \"config\": {}, \"registered_name\": null}, \"moving_variance_initializer\": {\"module\": \"keras.initializers\", \"class_name\": \"Ones\", \"config\": {}, \"registered_name\": null}, \"beta_regularizer\": null, \"gamma_regularizer\": null, \"beta_constraint\": null, \"gamma_constraint\": null}, \"registered_name\": null, \"build_config\": {\"input_shape\": [null, 32, 32, 128]}, \"name\": \"conv3_block1_2_bn\", \"inbound_nodes\": [[[\"conv3_block1_2_conv\", 0, 0, {}]]]}, {\"module\": \"keras.layers\", \"class_name\": \"Activation\", \"config\": {\"name\": \"conv3_block1_2_relu\", \"trainable\": false, \"dtype\": \"float32\", \"activation\": \"relu\"}, \"registered_name\": null, \"build_config\": {\"input_shape\": [null, 32, 32, 128]}, \"name\": \"conv3_block1_2_relu\", \"inbound_nodes\": [[[\"conv3_block1_2_bn\", 0, 0, {}]]]}, {\"module\": \"keras.layers\", \"class_name\": \"Conv2D\", \"config\": {\"name\": \"conv3_block1_0_conv\", \"trainable\": false, \"dtype\": \"float32\", \"filters\": 512, \"kernel_size\": [1, 1], \"strides\": [2, 2], \"padding\": \"valid\", \"data_format\": \"channels_last\", \"dilation_rate\": [1, 1], \"groups\": 1, \"activation\": \"linear\", \"use_bias\": true, \"kernel_initializer\": {\"module\": \"keras.initializers\", \"class_name\": \"GlorotUniform\", \"config\": {\"seed\": null}, \"registered_name\": null}, \"bias_initializer\": {\"module\": \"keras.initializers\", \"class_name\": \"Zeros\", \"config\": {}, \"registered_name\": null}, \"kernel_regularizer\": null, \"bias_regularizer\": null, \"activity_regularizer\": null, \"kernel_constraint\": null, \"bias_constraint\": null}, \"registered_name\": null, \"build_config\": {\"input_shape\": [null, 64, 64, 256]}, \"name\": \"conv3_block1_0_conv\", \"inbound_nodes\": [[[\"conv2_block3_out\", 0, 0, {}]]]}, {\"module\": \"keras.layers\", \"class_name\": \"Conv2D\", \"config\": {\"name\": \"conv3_block1_3_conv\", \"trainable\": false, \"dtype\": \"float32\", \"filters\": 512, \"kernel_size\": [1, 1], \"strides\": [1, 1], \"padding\": \"valid\", \"data_format\": \"channels_last\", \"dilation_rate\": [1, 1], \"groups\": 1, \"activation\": \"linear\", \"use_bias\": true, \"kernel_initializer\": {\"module\": \"keras.initializers\", \"class_name\": \"GlorotUniform\", \"config\": {\"seed\": null}, \"registered_name\": null}, \"bias_initializer\": {\"module\": \"keras.initializers\", \"class_name\": \"Zeros\", \"config\": {}, \"registered_name\": null}, \"kernel_regularizer\": null, \"bias_regularizer\": null, \"activity_regularizer\": null, \"kernel_constraint\": null, \"bias_constraint\": null}, \"registered_name\": null, \"build_config\": {\"input_shape\": [null, 32, 32, 128]}, \"name\": \"conv3_block1_3_conv\", \"inbound_nodes\": [[[\"conv3_block1_2_relu\", 0, 0, {}]]]}, {\"module\": \"keras.layers\", \"class_name\": \"BatchNormalization\", \"config\": {\"name\": \"conv3_block1_0_bn\", \"trainable\": false, \"dtype\": \"float32\", \"axis\": [3], \"momentum\": 0.99, \"epsilon\": 1.001e-05, \"center\": true, \"scale\": true, \"beta_initializer\": {\"module\": \"keras.initializers\", \"class_name\": \"Zeros\", \"config\": {}, \"registered_name\": null}, \"gamma_initializer\": {\"module\": \"keras.initializers\", \"class_name\": \"Ones\", \"config\": {}, \"registered_name\": null}, \"moving_mean_initializer\": {\"module\": \"keras.initializers\", \"class_name\": \"Zeros\", \"config\": {}, \"registered_name\": null}, \"moving_variance_initializer\": {\"module\": \"keras.initializers\", \"class_name\": \"Ones\", \"config\": {}, \"registered_name\": null}, \"beta_regularizer\": null, \"gamma_regularizer\": null, \"beta_constraint\": null, \"gamma_constraint\": null}, \"registered_name\": null, \"build_config\": {\"input_shape\": [null, 32, 32, 512]}, \"name\": \"conv3_block1_0_bn\", \"inbound_nodes\": [[[\"conv3_block1_0_conv\", 0, 0, {}]]]}, {\"module\": \"keras.layers\", \"class_name\": \"BatchNormalization\", \"config\": {\"name\": \"conv3_block1_3_bn\", \"trainable\": false, \"dtype\": \"float32\", \"axis\": [3], \"momentum\": 0.99, \"epsilon\": 1.001e-05, \"center\": true, \"scale\": true, \"beta_initializer\": {\"module\": \"keras.initializers\", \"class_name\": \"Zeros\", \"config\": {}, \"registered_name\": null}, \"gamma_initializer\": {\"module\": \"keras.initializers\", \"class_name\": \"Ones\", \"config\": {}, \"registered_name\": null}, \"moving_mean_initializer\": {\"module\": \"keras.initializers\", \"class_name\": \"Zeros\", \"config\": {}, \"registered_name\": null}, \"moving_variance_initializer\": {\"module\": \"keras.initializers\", \"class_name\": \"Ones\", \"config\": {}, \"registered_name\": null}, \"beta_regularizer\": null, \"gamma_regularizer\": null, \"beta_constraint\": null, \"gamma_constraint\": null}, \"registered_name\": null, \"build_config\": {\"input_shape\": [null, 32, 32, 512]}, \"name\": \"conv3_block1_3_bn\", \"inbound_nodes\": [[[\"conv3_block1_3_conv\", 0, 0, {}]]]}, {\"module\": \"keras.layers\", \"class_name\": \"Add\", \"config\": {\"name\": \"conv3_block1_add\", \"trainable\": false, \"dtype\": \"float32\"}, \"registered_name\": null, \"build_config\": {\"input_shape\": [[null, 32, 32, 512], [null, 32, 32, 512]]}, \"name\": \"conv3_block1_add\", \"inbound_nodes\": [[[\"conv3_block1_0_bn\", 0, 0, {}], [\"conv3_block1_3_bn\", 0, 0, {}]]]}, {\"module\": \"keras.layers\", \"class_name\": \"Activation\", \"config\": {\"name\": \"conv3_block1_out\", \"trainable\": false, \"dtype\": \"float32\", \"activation\": \"relu\"}, \"registered_name\": null, \"build_config\": {\"input_shape\": [null, 32, 32, 512]}, \"name\": \"conv3_block1_out\", \"inbound_nodes\": [[[\"conv3_block1_add\", 0, 0, {}]]]}, {\"module\": \"keras.layers\", \"class_name\": \"Conv2D\", \"config\": {\"name\": \"conv3_block2_1_conv\", \"trainable\": false, \"dtype\": \"float32\", \"filters\": 128, \"kernel_size\": [1, 1], \"strides\": [1, 1], \"padding\": \"valid\", \"data_format\": \"channels_last\", \"dilation_rate\": [1, 1], \"groups\": 1, \"activation\": \"linear\", \"use_bias\": true, \"kernel_initializer\": {\"module\": \"keras.initializers\", \"class_name\": \"GlorotUniform\", \"config\": {\"seed\": null}, \"registered_name\": null}, \"bias_initializer\": {\"module\": \"keras.initializers\", \"class_name\": \"Zeros\", \"config\": {}, \"registered_name\": null}, \"kernel_regularizer\": null, \"bias_regularizer\": null, \"activity_regularizer\": null, \"kernel_constraint\": null, \"bias_constraint\": null}, \"registered_name\": null, \"build_config\": {\"input_shape\": [null, 32, 32, 512]}, \"name\": \"conv3_block2_1_conv\", \"inbound_nodes\": [[[\"conv3_block1_out\", 0, 0, {}]]]}, {\"module\": \"keras.layers\", \"class_name\": \"BatchNormalization\", \"config\": {\"name\": \"conv3_block2_1_bn\", \"trainable\": false, \"dtype\": \"float32\", \"axis\": [3], \"momentum\": 0.99, \"epsilon\": 1.001e-05, \"center\": true, \"scale\": true, \"beta_initializer\": {\"module\": \"keras.initializers\", \"class_name\": \"Zeros\", \"config\": {}, \"registered_name\": null}, \"gamma_initializer\": {\"module\": \"keras.initializers\", \"class_name\": \"Ones\", \"config\": {}, \"registered_name\": null}, \"moving_mean_initializer\": {\"module\": \"keras.initializers\", \"class_name\": \"Zeros\", \"config\": {}, \"registered_name\": null}, \"moving_variance_initializer\": {\"module\": \"keras.initializers\", \"class_name\": \"Ones\", \"config\": {}, \"registered_name\": null}, \"beta_regularizer\": null, \"gamma_regularizer\": null, \"beta_constraint\": null, \"gamma_constraint\": null}, \"registered_name\": null, \"build_config\": {\"input_shape\": [null, 32, 32, 128]}, \"name\": \"conv3_block2_1_bn\", \"inbound_nodes\": [[[\"conv3_block2_1_conv\", 0, 0, {}]]]}, {\"module\": \"keras.layers\", \"class_name\": \"Activation\", \"config\": {\"name\": \"conv3_block2_1_relu\", \"trainable\": false, \"dtype\": \"float32\", \"activation\": \"relu\"}, \"registered_name\": null, \"build_config\": {\"input_shape\": [null, 32, 32, 128]}, \"name\": \"conv3_block2_1_relu\", \"inbound_nodes\": [[[\"conv3_block2_1_bn\", 0, 0, {}]]]}, {\"module\": \"keras.layers\", \"class_name\": \"Conv2D\", \"config\": {\"name\": \"conv3_block2_2_conv\", \"trainable\": false, \"dtype\": \"float32\", \"filters\": 128, \"kernel_size\": [3, 3], \"strides\": [1, 1], \"padding\": \"same\", \"data_format\": \"channels_last\", \"dilation_rate\": [1, 1], \"groups\": 1, \"activation\": \"linear\", \"use_bias\": true, \"kernel_initializer\": {\"module\": \"keras.initializers\", \"class_name\": \"GlorotUniform\", \"config\": {\"seed\": null}, \"registered_name\": null}, \"bias_initializer\": {\"module\": \"keras.initializers\", \"class_name\": \"Zeros\", \"config\": {}, \"registered_name\": null}, \"kernel_regularizer\": null, \"bias_regularizer\": null, \"activity_regularizer\": null, \"kernel_constraint\": null, \"bias_constraint\": null}, \"registered_name\": null, \"build_config\": {\"input_shape\": [null, 32, 32, 128]}, \"name\": \"conv3_block2_2_conv\", \"inbound_nodes\": [[[\"conv3_block2_1_relu\", 0, 0, {}]]]}, {\"module\": \"keras.layers\", \"class_name\": \"BatchNormalization\", \"config\": {\"name\": \"conv3_block2_2_bn\", \"trainable\": false, \"dtype\": \"float32\", \"axis\": [3], \"momentum\": 0.99, \"epsilon\": 1.001e-05, \"center\": true, \"scale\": true, \"beta_initializer\": {\"module\": \"keras.initializers\", \"class_name\": \"Zeros\", \"config\": {}, \"registered_name\": null}, \"gamma_initializer\": {\"module\": \"keras.initializers\", \"class_name\": \"Ones\", \"config\": {}, \"registered_name\": null}, \"moving_mean_initializer\": {\"module\": \"keras.initializers\", \"class_name\": \"Zeros\", \"config\": {}, \"registered_name\": null}, \"moving_variance_initializer\": {\"module\": \"keras.initializers\", \"class_name\": \"Ones\", \"config\": {}, \"registered_name\": null}, \"beta_regularizer\": null, \"gamma_regularizer\": null, \"beta_constraint\": null, \"gamma_constraint\": null}, \"registered_name\": null, \"build_config\": {\"input_shape\": [null, 32, 32, 128]}, \"name\": \"conv3_block2_2_bn\", \"inbound_nodes\": [[[\"conv3_block2_2_conv\", 0, 0, {}]]]}, {\"module\": \"keras.layers\", \"class_name\": \"Activation\", \"config\": {\"name\": \"conv3_block2_2_relu\", \"trainable\": false, \"dtype\": \"float32\", \"activation\": \"relu\"}, \"registered_name\": null, \"build_config\": {\"input_shape\": [null, 32, 32, 128]}, \"name\": \"conv3_block2_2_relu\", \"inbound_nodes\": [[[\"conv3_block2_2_bn\", 0, 0, {}]]]}, {\"module\": \"keras.layers\", \"class_name\": \"Conv2D\", \"config\": {\"name\": \"conv3_block2_3_conv\", \"trainable\": false, \"dtype\": \"float32\", \"filters\": 512, \"kernel_size\": [1, 1], \"strides\": [1, 1], \"padding\": \"valid\", \"data_format\": \"channels_last\", \"dilation_rate\": [1, 1], \"groups\": 1, \"activation\": \"linear\", \"use_bias\": true, \"kernel_initializer\": {\"module\": \"keras.initializers\", \"class_name\": \"GlorotUniform\", \"config\": {\"seed\": null}, \"registered_name\": null}, \"bias_initializer\": {\"module\": \"keras.initializers\", \"class_name\": \"Zeros\", \"config\": {}, \"registered_name\": null}, \"kernel_regularizer\": null, \"bias_regularizer\": null, \"activity_regularizer\": null, \"kernel_constraint\": null, \"bias_constraint\": null}, \"registered_name\": null, \"build_config\": {\"input_shape\": [null, 32, 32, 128]}, \"name\": \"conv3_block2_3_conv\", \"inbound_nodes\": [[[\"conv3_block2_2_relu\", 0, 0, {}]]]}, {\"module\": \"keras.layers\", \"class_name\": \"BatchNormalization\", \"config\": {\"name\": \"conv3_block2_3_bn\", \"trainable\": false, \"dtype\": \"float32\", \"axis\": [3], \"momentum\": 0.99, \"epsilon\": 1.001e-05, \"center\": true, \"scale\": true, \"beta_initializer\": {\"module\": \"keras.initializers\", \"class_name\": \"Zeros\", \"config\": {}, \"registered_name\": null}, \"gamma_initializer\": {\"module\": \"keras.initializers\", \"class_name\": \"Ones\", \"config\": {}, \"registered_name\": null}, \"moving_mean_initializer\": {\"module\": \"keras.initializers\", \"class_name\": \"Zeros\", \"config\": {}, \"registered_name\": null}, \"moving_variance_initializer\": {\"module\": \"keras.initializers\", \"class_name\": \"Ones\", \"config\": {}, \"registered_name\": null}, \"beta_regularizer\": null, \"gamma_regularizer\": null, \"beta_constraint\": null, \"gamma_constraint\": null}, \"registered_name\": null, \"build_config\": {\"input_shape\": [null, 32, 32, 512]}, \"name\": \"conv3_block2_3_bn\", \"inbound_nodes\": [[[\"conv3_block2_3_conv\", 0, 0, {}]]]}, {\"module\": \"keras.layers\", \"class_name\": \"Add\", \"config\": {\"name\": \"conv3_block2_add\", \"trainable\": false, \"dtype\": \"float32\"}, \"registered_name\": null, \"build_config\": {\"input_shape\": [[null, 32, 32, 512], [null, 32, 32, 512]]}, \"name\": \"conv3_block2_add\", \"inbound_nodes\": [[[\"conv3_block1_out\", 0, 0, {}], [\"conv3_block2_3_bn\", 0, 0, {}]]]}, {\"module\": \"keras.layers\", \"class_name\": \"Activation\", \"config\": {\"name\": \"conv3_block2_out\", \"trainable\": false, \"dtype\": \"float32\", \"activation\": \"relu\"}, \"registered_name\": null, \"build_config\": {\"input_shape\": [null, 32, 32, 512]}, \"name\": \"conv3_block2_out\", \"inbound_nodes\": [[[\"conv3_block2_add\", 0, 0, {}]]]}, {\"module\": \"keras.layers\", \"class_name\": \"Conv2D\", \"config\": {\"name\": \"conv3_block3_1_conv\", \"trainable\": false, \"dtype\": \"float32\", \"filters\": 128, \"kernel_size\": [1, 1], \"strides\": [1, 1], \"padding\": \"valid\", \"data_format\": \"channels_last\", \"dilation_rate\": [1, 1], \"groups\": 1, \"activation\": \"linear\", \"use_bias\": true, \"kernel_initializer\": {\"module\": \"keras.initializers\", \"class_name\": \"GlorotUniform\", \"config\": {\"seed\": null}, \"registered_name\": null}, \"bias_initializer\": {\"module\": \"keras.initializers\", \"class_name\": \"Zeros\", \"config\": {}, \"registered_name\": null}, \"kernel_regularizer\": null, \"bias_regularizer\": null, \"activity_regularizer\": null, \"kernel_constraint\": null, \"bias_constraint\": null}, \"registered_name\": null, \"build_config\": {\"input_shape\": [null, 32, 32, 512]}, \"name\": \"conv3_block3_1_conv\", \"inbound_nodes\": [[[\"conv3_block2_out\", 0, 0, {}]]]}, {\"module\": \"keras.layers\", \"class_name\": \"BatchNormalization\", \"config\": {\"name\": \"conv3_block3_1_bn\", \"trainable\": false, \"dtype\": \"float32\", \"axis\": [3], \"momentum\": 0.99, \"epsilon\": 1.001e-05, \"center\": true, \"scale\": true, \"beta_initializer\": {\"module\": \"keras.initializers\", \"class_name\": \"Zeros\", \"config\": {}, \"registered_name\": null}, \"gamma_initializer\": {\"module\": \"keras.initializers\", \"class_name\": \"Ones\", \"config\": {}, \"registered_name\": null}, \"moving_mean_initializer\": {\"module\": \"keras.initializers\", \"class_name\": \"Zeros\", \"config\": {}, \"registered_name\": null}, \"moving_variance_initializer\": {\"module\": \"keras.initializers\", \"class_name\": \"Ones\", \"config\": {}, \"registered_name\": null}, \"beta_regularizer\": null, \"gamma_regularizer\": null, \"beta_constraint\": null, \"gamma_constraint\": null}, \"registered_name\": null, \"build_config\": {\"input_shape\": [null, 32, 32, 128]}, \"name\": \"conv3_block3_1_bn\", \"inbound_nodes\": [[[\"conv3_block3_1_conv\", 0, 0, {}]]]}, {\"module\": \"keras.layers\", \"class_name\": \"Activation\", \"config\": {\"name\": \"conv3_block3_1_relu\", \"trainable\": false, \"dtype\": \"float32\", \"activation\": \"relu\"}, \"registered_name\": null, \"build_config\": {\"input_shape\": [null, 32, 32, 128]}, \"name\": \"conv3_block3_1_relu\", \"inbound_nodes\": [[[\"conv3_block3_1_bn\", 0, 0, {}]]]}, {\"module\": \"keras.layers\", \"class_name\": \"Conv2D\", \"config\": {\"name\": \"conv3_block3_2_conv\", \"trainable\": false, \"dtype\": \"float32\", \"filters\": 128, \"kernel_size\": [3, 3], \"strides\": [1, 1], \"padding\": \"same\", \"data_format\": \"channels_last\", \"dilation_rate\": [1, 1], \"groups\": 1, \"activation\": \"linear\", \"use_bias\": true, \"kernel_initializer\": {\"module\": \"keras.initializers\", \"class_name\": \"GlorotUniform\", \"config\": {\"seed\": null}, \"registered_name\": null}, \"bias_initializer\": {\"module\": \"keras.initializers\", \"class_name\": \"Zeros\", \"config\": {}, \"registered_name\": null}, \"kernel_regularizer\": null, \"bias_regularizer\": null, \"activity_regularizer\": null, \"kernel_constraint\": null, \"bias_constraint\": null}, \"registered_name\": null, \"build_config\": {\"input_shape\": [null, 32, 32, 128]}, \"name\": \"conv3_block3_2_conv\", \"inbound_nodes\": [[[\"conv3_block3_1_relu\", 0, 0, {}]]]}, {\"module\": \"keras.layers\", \"class_name\": \"BatchNormalization\", \"config\": {\"name\": \"conv3_block3_2_bn\", \"trainable\": false, \"dtype\": \"float32\", \"axis\": [3], \"momentum\": 0.99, \"epsilon\": 1.001e-05, \"center\": true, \"scale\": true, \"beta_initializer\": {\"module\": \"keras.initializers\", \"class_name\": \"Zeros\", \"config\": {}, \"registered_name\": null}, \"gamma_initializer\": {\"module\": \"keras.initializers\", \"class_name\": \"Ones\", \"config\": {}, \"registered_name\": null}, \"moving_mean_initializer\": {\"module\": \"keras.initializers\", \"class_name\": \"Zeros\", \"config\": {}, \"registered_name\": null}, \"moving_variance_initializer\": {\"module\": \"keras.initializers\", \"class_name\": \"Ones\", \"config\": {}, \"registered_name\": null}, \"beta_regularizer\": null, \"gamma_regularizer\": null, \"beta_constraint\": null, \"gamma_constraint\": null}, \"registered_name\": null, \"build_config\": {\"input_shape\": [null, 32, 32, 128]}, \"name\": \"conv3_block3_2_bn\", \"inbound_nodes\": [[[\"conv3_block3_2_conv\", 0, 0, {}]]]}, {\"module\": \"keras.layers\", \"class_name\": \"Activation\", \"config\": {\"name\": \"conv3_block3_2_relu\", \"trainable\": false, \"dtype\": \"float32\", \"activation\": \"relu\"}, \"registered_name\": null, \"build_config\": {\"input_shape\": [null, 32, 32, 128]}, \"name\": \"conv3_block3_2_relu\", \"inbound_nodes\": [[[\"conv3_block3_2_bn\", 0, 0, {}]]]}, {\"module\": \"keras.layers\", \"class_name\": \"Conv2D\", \"config\": {\"name\": \"conv3_block3_3_conv\", \"trainable\": false, \"dtype\": \"float32\", \"filters\": 512, \"kernel_size\": [1, 1], \"strides\": [1, 1], \"padding\": \"valid\", \"data_format\": \"channels_last\", \"dilation_rate\": [1, 1], \"groups\": 1, \"activation\": \"linear\", \"use_bias\": true, \"kernel_initializer\": {\"module\": \"keras.initializers\", \"class_name\": \"GlorotUniform\", \"config\": {\"seed\": null}, \"registered_name\": null}, \"bias_initializer\": {\"module\": \"keras.initializers\", \"class_name\": \"Zeros\", \"config\": {}, \"registered_name\": null}, \"kernel_regularizer\": null, \"bias_regularizer\": null, \"activity_regularizer\": null, \"kernel_constraint\": null, \"bias_constraint\": null}, \"registered_name\": null, \"build_config\": {\"input_shape\": [null, 32, 32, 128]}, \"name\": \"conv3_block3_3_conv\", \"inbound_nodes\": [[[\"conv3_block3_2_relu\", 0, 0, {}]]]}, {\"module\": \"keras.layers\", \"class_name\": \"BatchNormalization\", \"config\": {\"name\": \"conv3_block3_3_bn\", \"trainable\": false, \"dtype\": \"float32\", \"axis\": [3], \"momentum\": 0.99, \"epsilon\": 1.001e-05, \"center\": true, \"scale\": true, \"beta_initializer\": {\"module\": \"keras.initializers\", \"class_name\": \"Zeros\", \"config\": {}, \"registered_name\": null}, \"gamma_initializer\": {\"module\": \"keras.initializers\", \"class_name\": \"Ones\", \"config\": {}, \"registered_name\": null}, \"moving_mean_initializer\": {\"module\": \"keras.initializers\", \"class_name\": \"Zeros\", \"config\": {}, \"registered_name\": null}, \"moving_variance_initializer\": {\"module\": \"keras.initializers\", \"class_name\": \"Ones\", \"config\": {}, \"registered_name\": null}, \"beta_regularizer\": null, \"gamma_regularizer\": null, \"beta_constraint\": null, \"gamma_constraint\": null}, \"registered_name\": null, \"build_config\": {\"input_shape\": [null, 32, 32, 512]}, \"name\": \"conv3_block3_3_bn\", \"inbound_nodes\": [[[\"conv3_block3_3_conv\", 0, 0, {}]]]}, {\"module\": \"keras.layers\", \"class_name\": \"Add\", \"config\": {\"name\": \"conv3_block3_add\", \"trainable\": false, \"dtype\": \"float32\"}, \"registered_name\": null, \"build_config\": {\"input_shape\": [[null, 32, 32, 512], [null, 32, 32, 512]]}, \"name\": \"conv3_block3_add\", \"inbound_nodes\": [[[\"conv3_block2_out\", 0, 0, {}], [\"conv3_block3_3_bn\", 0, 0, {}]]]}, {\"module\": \"keras.layers\", \"class_name\": \"Activation\", \"config\": {\"name\": \"conv3_block3_out\", \"trainable\": false, \"dtype\": \"float32\", \"activation\": \"relu\"}, \"registered_name\": null, \"build_config\": {\"input_shape\": [null, 32, 32, 512]}, \"name\": \"conv3_block3_out\", \"inbound_nodes\": [[[\"conv3_block3_add\", 0, 0, {}]]]}, {\"module\": \"keras.layers\", \"class_name\": \"Conv2D\", \"config\": {\"name\": \"conv3_block4_1_conv\", \"trainable\": false, \"dtype\": \"float32\", \"filters\": 128, \"kernel_size\": [1, 1], \"strides\": [1, 1], \"padding\": \"valid\", \"data_format\": \"channels_last\", \"dilation_rate\": [1, 1], \"groups\": 1, \"activation\": \"linear\", \"use_bias\": true, \"kernel_initializer\": {\"module\": \"keras.initializers\", \"class_name\": \"GlorotUniform\", \"config\": {\"seed\": null}, \"registered_name\": null}, \"bias_initializer\": {\"module\": \"keras.initializers\", \"class_name\": \"Zeros\", \"config\": {}, \"registered_name\": null}, \"kernel_regularizer\": null, \"bias_regularizer\": null, \"activity_regularizer\": null, \"kernel_constraint\": null, \"bias_constraint\": null}, \"registered_name\": null, \"build_config\": {\"input_shape\": [null, 32, 32, 512]}, \"name\": \"conv3_block4_1_conv\", \"inbound_nodes\": [[[\"conv3_block3_out\", 0, 0, {}]]]}, {\"module\": \"keras.layers\", \"class_name\": \"BatchNormalization\", \"config\": {\"name\": \"conv3_block4_1_bn\", \"trainable\": false, \"dtype\": \"float32\", \"axis\": [3], \"momentum\": 0.99, \"epsilon\": 1.001e-05, \"center\": true, \"scale\": true, \"beta_initializer\": {\"module\": \"keras.initializers\", \"class_name\": \"Zeros\", \"config\": {}, \"registered_name\": null}, \"gamma_initializer\": {\"module\": \"keras.initializers\", \"class_name\": \"Ones\", \"config\": {}, \"registered_name\": null}, \"moving_mean_initializer\": {\"module\": \"keras.initializers\", \"class_name\": \"Zeros\", \"config\": {}, \"registered_name\": null}, \"moving_variance_initializer\": {\"module\": \"keras.initializers\", \"class_name\": \"Ones\", \"config\": {}, \"registered_name\": null}, \"beta_regularizer\": null, \"gamma_regularizer\": null, \"beta_constraint\": null, \"gamma_constraint\": null}, \"registered_name\": null, \"build_config\": {\"input_shape\": [null, 32, 32, 128]}, \"name\": \"conv3_block4_1_bn\", \"inbound_nodes\": [[[\"conv3_block4_1_conv\", 0, 0, {}]]]}, {\"module\": \"keras.layers\", \"class_name\": \"Activation\", \"config\": {\"name\": \"conv3_block4_1_relu\", \"trainable\": false, \"dtype\": \"float32\", \"activation\": \"relu\"}, \"registered_name\": null, \"build_config\": {\"input_shape\": [null, 32, 32, 128]}, \"name\": \"conv3_block4_1_relu\", \"inbound_nodes\": [[[\"conv3_block4_1_bn\", 0, 0, {}]]]}, {\"module\": \"keras.layers\", \"class_name\": \"Conv2D\", \"config\": {\"name\": \"conv3_block4_2_conv\", \"trainable\": false, \"dtype\": \"float32\", \"filters\": 128, \"kernel_size\": [3, 3], \"strides\": [1, 1], \"padding\": \"same\", \"data_format\": \"channels_last\", \"dilation_rate\": [1, 1], \"groups\": 1, \"activation\": \"linear\", \"use_bias\": true, \"kernel_initializer\": {\"module\": \"keras.initializers\", \"class_name\": \"GlorotUniform\", \"config\": {\"seed\": null}, \"registered_name\": null}, \"bias_initializer\": {\"module\": \"keras.initializers\", \"class_name\": \"Zeros\", \"config\": {}, \"registered_name\": null}, \"kernel_regularizer\": null, \"bias_regularizer\": null, \"activity_regularizer\": null, \"kernel_constraint\": null, \"bias_constraint\": null}, \"registered_name\": null, \"build_config\": {\"input_shape\": [null, 32, 32, 128]}, \"name\": \"conv3_block4_2_conv\", \"inbound_nodes\": [[[\"conv3_block4_1_relu\", 0, 0, {}]]]}, {\"module\": \"keras.layers\", \"class_name\": \"BatchNormalization\", \"config\": {\"name\": \"conv3_block4_2_bn\", \"trainable\": false, \"dtype\": \"float32\", \"axis\": [3], \"momentum\": 0.99, \"epsilon\": 1.001e-05, \"center\": true, \"scale\": true, \"beta_initializer\": {\"module\": \"keras.initializers\", \"class_name\": \"Zeros\", \"config\": {}, \"registered_name\": null}, \"gamma_initializer\": {\"module\": \"keras.initializers\", \"class_name\": \"Ones\", \"config\": {}, \"registered_name\": null}, \"moving_mean_initializer\": {\"module\": \"keras.initializers\", \"class_name\": \"Zeros\", \"config\": {}, \"registered_name\": null}, \"moving_variance_initializer\": {\"module\": \"keras.initializers\", \"class_name\": \"Ones\", \"config\": {}, \"registered_name\": null}, \"beta_regularizer\": null, \"gamma_regularizer\": null, \"beta_constraint\": null, \"gamma_constraint\": null}, \"registered_name\": null, \"build_config\": {\"input_shape\": [null, 32, 32, 128]}, \"name\": \"conv3_block4_2_bn\", \"inbound_nodes\": [[[\"conv3_block4_2_conv\", 0, 0, {}]]]}, {\"module\": \"keras.layers\", \"class_name\": \"Activation\", \"config\": {\"name\": \"conv3_block4_2_relu\", \"trainable\": false, \"dtype\": \"float32\", \"activation\": \"relu\"}, \"registered_name\": null, \"build_config\": {\"input_shape\": [null, 32, 32, 128]}, \"name\": \"conv3_block4_2_relu\", \"inbound_nodes\": [[[\"conv3_block4_2_bn\", 0, 0, {}]]]}, {\"module\": \"keras.layers\", \"class_name\": \"Conv2D\", \"config\": {\"name\": \"conv3_block4_3_conv\", \"trainable\": false, \"dtype\": \"float32\", \"filters\": 512, \"kernel_size\": [1, 1], \"strides\": [1, 1], \"padding\": \"valid\", \"data_format\": \"channels_last\", \"dilation_rate\": [1, 1], \"groups\": 1, \"activation\": \"linear\", \"use_bias\": true, \"kernel_initializer\": {\"module\": \"keras.initializers\", \"class_name\": \"GlorotUniform\", \"config\": {\"seed\": null}, \"registered_name\": null}, \"bias_initializer\": {\"module\": \"keras.initializers\", \"class_name\": \"Zeros\", \"config\": {}, \"registered_name\": null}, \"kernel_regularizer\": null, \"bias_regularizer\": null, \"activity_regularizer\": null, \"kernel_constraint\": null, \"bias_constraint\": null}, \"registered_name\": null, \"build_config\": {\"input_shape\": [null, 32, 32, 128]}, \"name\": \"conv3_block4_3_conv\", \"inbound_nodes\": [[[\"conv3_block4_2_relu\", 0, 0, {}]]]}, {\"module\": \"keras.layers\", \"class_name\": \"BatchNormalization\", \"config\": {\"name\": \"conv3_block4_3_bn\", \"trainable\": false, \"dtype\": \"float32\", \"axis\": [3], \"momentum\": 0.99, \"epsilon\": 1.001e-05, \"center\": true, \"scale\": true, \"beta_initializer\": {\"module\": \"keras.initializers\", \"class_name\": \"Zeros\", \"config\": {}, \"registered_name\": null}, \"gamma_initializer\": {\"module\": \"keras.initializers\", \"class_name\": \"Ones\", \"config\": {}, \"registered_name\": null}, \"moving_mean_initializer\": {\"module\": \"keras.initializers\", \"class_name\": \"Zeros\", \"config\": {}, \"registered_name\": null}, \"moving_variance_initializer\": {\"module\": \"keras.initializers\", \"class_name\": \"Ones\", \"config\": {}, \"registered_name\": null}, \"beta_regularizer\": null, \"gamma_regularizer\": null, \"beta_constraint\": null, \"gamma_constraint\": null}, \"registered_name\": null, \"build_config\": {\"input_shape\": [null, 32, 32, 512]}, \"name\": \"conv3_block4_3_bn\", \"inbound_nodes\": [[[\"conv3_block4_3_conv\", 0, 0, {}]]]}, {\"module\": \"keras.layers\", \"class_name\": \"Add\", \"config\": {\"name\": \"conv3_block4_add\", \"trainable\": false, \"dtype\": \"float32\"}, \"registered_name\": null, \"build_config\": {\"input_shape\": [[null, 32, 32, 512], [null, 32, 32, 512]]}, \"name\": \"conv3_block4_add\", \"inbound_nodes\": [[[\"conv3_block3_out\", 0, 0, {}], [\"conv3_block4_3_bn\", 0, 0, {}]]]}, {\"module\": \"keras.layers\", \"class_name\": \"Activation\", \"config\": {\"name\": \"conv3_block4_out\", \"trainable\": false, \"dtype\": \"float32\", \"activation\": \"relu\"}, \"registered_name\": null, \"build_config\": {\"input_shape\": [null, 32, 32, 512]}, \"name\": \"conv3_block4_out\", \"inbound_nodes\": [[[\"conv3_block4_add\", 0, 0, {}]]]}, {\"module\": \"keras.layers\", \"class_name\": \"Conv2D\", \"config\": {\"name\": \"conv4_block1_1_conv\", \"trainable\": false, \"dtype\": \"float32\", \"filters\": 256, \"kernel_size\": [1, 1], \"strides\": [2, 2], \"padding\": \"valid\", \"data_format\": \"channels_last\", \"dilation_rate\": [1, 1], \"groups\": 1, \"activation\": \"linear\", \"use_bias\": true, \"kernel_initializer\": {\"module\": \"keras.initializers\", \"class_name\": \"GlorotUniform\", \"config\": {\"seed\": null}, \"registered_name\": null}, \"bias_initializer\": {\"module\": \"keras.initializers\", \"class_name\": \"Zeros\", \"config\": {}, \"registered_name\": null}, \"kernel_regularizer\": null, \"bias_regularizer\": null, \"activity_regularizer\": null, \"kernel_constraint\": null, \"bias_constraint\": null}, \"registered_name\": null, \"build_config\": {\"input_shape\": [null, 32, 32, 512]}, \"name\": \"conv4_block1_1_conv\", \"inbound_nodes\": [[[\"conv3_block4_out\", 0, 0, {}]]]}, {\"module\": \"keras.layers\", \"class_name\": \"BatchNormalization\", \"config\": {\"name\": \"conv4_block1_1_bn\", \"trainable\": false, \"dtype\": \"float32\", \"axis\": [3], \"momentum\": 0.99, \"epsilon\": 1.001e-05, \"center\": true, \"scale\": true, \"beta_initializer\": {\"module\": \"keras.initializers\", \"class_name\": \"Zeros\", \"config\": {}, \"registered_name\": null}, \"gamma_initializer\": {\"module\": \"keras.initializers\", \"class_name\": \"Ones\", \"config\": {}, \"registered_name\": null}, \"moving_mean_initializer\": {\"module\": \"keras.initializers\", \"class_name\": \"Zeros\", \"config\": {}, \"registered_name\": null}, \"moving_variance_initializer\": {\"module\": \"keras.initializers\", \"class_name\": \"Ones\", \"config\": {}, \"registered_name\": null}, \"beta_regularizer\": null, \"gamma_regularizer\": null, \"beta_constraint\": null, \"gamma_constraint\": null}, \"registered_name\": null, \"build_config\": {\"input_shape\": [null, 16, 16, 256]}, \"name\": \"conv4_block1_1_bn\", \"inbound_nodes\": [[[\"conv4_block1_1_conv\", 0, 0, {}]]]}, {\"module\": \"keras.layers\", \"class_name\": \"Activation\", \"config\": {\"name\": \"conv4_block1_1_relu\", \"trainable\": false, \"dtype\": \"float32\", \"activation\": \"relu\"}, \"registered_name\": null, \"build_config\": {\"input_shape\": [null, 16, 16, 256]}, \"name\": \"conv4_block1_1_relu\", \"inbound_nodes\": [[[\"conv4_block1_1_bn\", 0, 0, {}]]]}, {\"module\": \"keras.layers\", \"class_name\": \"Conv2D\", \"config\": {\"name\": \"conv4_block1_2_conv\", \"trainable\": false, \"dtype\": \"float32\", \"filters\": 256, \"kernel_size\": [3, 3], \"strides\": [1, 1], \"padding\": \"same\", \"data_format\": \"channels_last\", \"dilation_rate\": [1, 1], \"groups\": 1, \"activation\": \"linear\", \"use_bias\": true, \"kernel_initializer\": {\"module\": \"keras.initializers\", \"class_name\": \"GlorotUniform\", \"config\": {\"seed\": null}, \"registered_name\": null}, \"bias_initializer\": {\"module\": \"keras.initializers\", \"class_name\": \"Zeros\", \"config\": {}, \"registered_name\": null}, \"kernel_regularizer\": null, \"bias_regularizer\": null, \"activity_regularizer\": null, \"kernel_constraint\": null, \"bias_constraint\": null}, \"registered_name\": null, \"build_config\": {\"input_shape\": [null, 16, 16, 256]}, \"name\": \"conv4_block1_2_conv\", \"inbound_nodes\": [[[\"conv4_block1_1_relu\", 0, 0, {}]]]}, {\"module\": \"keras.layers\", \"class_name\": \"BatchNormalization\", \"config\": {\"name\": \"conv4_block1_2_bn\", \"trainable\": false, \"dtype\": \"float32\", \"axis\": [3], \"momentum\": 0.99, \"epsilon\": 1.001e-05, \"center\": true, \"scale\": true, \"beta_initializer\": {\"module\": \"keras.initializers\", \"class_name\": \"Zeros\", \"config\": {}, \"registered_name\": null}, \"gamma_initializer\": {\"module\": \"keras.initializers\", \"class_name\": \"Ones\", \"config\": {}, \"registered_name\": null}, \"moving_mean_initializer\": {\"module\": \"keras.initializers\", \"class_name\": \"Zeros\", \"config\": {}, \"registered_name\": null}, \"moving_variance_initializer\": {\"module\": \"keras.initializers\", \"class_name\": \"Ones\", \"config\": {}, \"registered_name\": null}, \"beta_regularizer\": null, \"gamma_regularizer\": null, \"beta_constraint\": null, \"gamma_constraint\": null}, \"registered_name\": null, \"build_config\": {\"input_shape\": [null, 16, 16, 256]}, \"name\": \"conv4_block1_2_bn\", \"inbound_nodes\": [[[\"conv4_block1_2_conv\", 0, 0, {}]]]}, {\"module\": \"keras.layers\", \"class_name\": \"Activation\", \"config\": {\"name\": \"conv4_block1_2_relu\", \"trainable\": false, \"dtype\": \"float32\", \"activation\": \"relu\"}, \"registered_name\": null, \"build_config\": {\"input_shape\": [null, 16, 16, 256]}, \"name\": \"conv4_block1_2_relu\", \"inbound_nodes\": [[[\"conv4_block1_2_bn\", 0, 0, {}]]]}, {\"module\": \"keras.layers\", \"class_name\": \"Conv2D\", \"config\": {\"name\": \"conv4_block1_0_conv\", \"trainable\": false, \"dtype\": \"float32\", \"filters\": 1024, \"kernel_size\": [1, 1], \"strides\": [2, 2], \"padding\": \"valid\", \"data_format\": \"channels_last\", \"dilation_rate\": [1, 1], \"groups\": 1, \"activation\": \"linear\", \"use_bias\": true, \"kernel_initializer\": {\"module\": \"keras.initializers\", \"class_name\": \"GlorotUniform\", \"config\": {\"seed\": null}, \"registered_name\": null}, \"bias_initializer\": {\"module\": \"keras.initializers\", \"class_name\": \"Zeros\", \"config\": {}, \"registered_name\": null}, \"kernel_regularizer\": null, \"bias_regularizer\": null, \"activity_regularizer\": null, \"kernel_constraint\": null, \"bias_constraint\": null}, \"registered_name\": null, \"build_config\": {\"input_shape\": [null, 32, 32, 512]}, \"name\": \"conv4_block1_0_conv\", \"inbound_nodes\": [[[\"conv3_block4_out\", 0, 0, {}]]]}, {\"module\": \"keras.layers\", \"class_name\": \"Conv2D\", \"config\": {\"name\": \"conv4_block1_3_conv\", \"trainable\": false, \"dtype\": \"float32\", \"filters\": 1024, \"kernel_size\": [1, 1], \"strides\": [1, 1], \"padding\": \"valid\", \"data_format\": \"channels_last\", \"dilation_rate\": [1, 1], \"groups\": 1, \"activation\": \"linear\", \"use_bias\": true, \"kernel_initializer\": {\"module\": \"keras.initializers\", \"class_name\": \"GlorotUniform\", \"config\": {\"seed\": null}, \"registered_name\": null}, \"bias_initializer\": {\"module\": \"keras.initializers\", \"class_name\": \"Zeros\", \"config\": {}, \"registered_name\": null}, \"kernel_regularizer\": null, \"bias_regularizer\": null, \"activity_regularizer\": null, \"kernel_constraint\": null, \"bias_constraint\": null}, \"registered_name\": null, \"build_config\": {\"input_shape\": [null, 16, 16, 256]}, \"name\": \"conv4_block1_3_conv\", \"inbound_nodes\": [[[\"conv4_block1_2_relu\", 0, 0, {}]]]}, {\"module\": \"keras.layers\", \"class_name\": \"BatchNormalization\", \"config\": {\"name\": \"conv4_block1_0_bn\", \"trainable\": false, \"dtype\": \"float32\", \"axis\": [3], \"momentum\": 0.99, \"epsilon\": 1.001e-05, \"center\": true, \"scale\": true, \"beta_initializer\": {\"module\": \"keras.initializers\", \"class_name\": \"Zeros\", \"config\": {}, \"registered_name\": null}, \"gamma_initializer\": {\"module\": \"keras.initializers\", \"class_name\": \"Ones\", \"config\": {}, \"registered_name\": null}, \"moving_mean_initializer\": {\"module\": \"keras.initializers\", \"class_name\": \"Zeros\", \"config\": {}, \"registered_name\": null}, \"moving_variance_initializer\": {\"module\": \"keras.initializers\", \"class_name\": \"Ones\", \"config\": {}, \"registered_name\": null}, \"beta_regularizer\": null, \"gamma_regularizer\": null, \"beta_constraint\": null, \"gamma_constraint\": null}, \"registered_name\": null, \"build_config\": {\"input_shape\": [null, 16, 16, 1024]}, \"name\": \"conv4_block1_0_bn\", \"inbound_nodes\": [[[\"conv4_block1_0_conv\", 0, 0, {}]]]}, {\"module\": \"keras.layers\", \"class_name\": \"BatchNormalization\", \"config\": {\"name\": \"conv4_block1_3_bn\", \"trainable\": false, \"dtype\": \"float32\", \"axis\": [3], \"momentum\": 0.99, \"epsilon\": 1.001e-05, \"center\": true, \"scale\": true, \"beta_initializer\": {\"module\": \"keras.initializers\", \"class_name\": \"Zeros\", \"config\": {}, \"registered_name\": null}, \"gamma_initializer\": {\"module\": \"keras.initializers\", \"class_name\": \"Ones\", \"config\": {}, \"registered_name\": null}, \"moving_mean_initializer\": {\"module\": \"keras.initializers\", \"class_name\": \"Zeros\", \"config\": {}, \"registered_name\": null}, \"moving_variance_initializer\": {\"module\": \"keras.initializers\", \"class_name\": \"Ones\", \"config\": {}, \"registered_name\": null}, \"beta_regularizer\": null, \"gamma_regularizer\": null, \"beta_constraint\": null, \"gamma_constraint\": null}, \"registered_name\": null, \"build_config\": {\"input_shape\": [null, 16, 16, 1024]}, \"name\": \"conv4_block1_3_bn\", \"inbound_nodes\": [[[\"conv4_block1_3_conv\", 0, 0, {}]]]}, {\"module\": \"keras.layers\", \"class_name\": \"Add\", \"config\": {\"name\": \"conv4_block1_add\", \"trainable\": false, \"dtype\": \"float32\"}, \"registered_name\": null, \"build_config\": {\"input_shape\": [[null, 16, 16, 1024], [null, 16, 16, 1024]]}, \"name\": \"conv4_block1_add\", \"inbound_nodes\": [[[\"conv4_block1_0_bn\", 0, 0, {}], [\"conv4_block1_3_bn\", 0, 0, {}]]]}, {\"module\": \"keras.layers\", \"class_name\": \"Activation\", \"config\": {\"name\": \"conv4_block1_out\", \"trainable\": false, \"dtype\": \"float32\", \"activation\": \"relu\"}, \"registered_name\": null, \"build_config\": {\"input_shape\": [null, 16, 16, 1024]}, \"name\": \"conv4_block1_out\", \"inbound_nodes\": [[[\"conv4_block1_add\", 0, 0, {}]]]}, {\"module\": \"keras.layers\", \"class_name\": \"Conv2D\", \"config\": {\"name\": \"conv4_block2_1_conv\", \"trainable\": false, \"dtype\": \"float32\", \"filters\": 256, \"kernel_size\": [1, 1], \"strides\": [1, 1], \"padding\": \"valid\", \"data_format\": \"channels_last\", \"dilation_rate\": [1, 1], \"groups\": 1, \"activation\": \"linear\", \"use_bias\": true, \"kernel_initializer\": {\"module\": \"keras.initializers\", \"class_name\": \"GlorotUniform\", \"config\": {\"seed\": null}, \"registered_name\": null}, \"bias_initializer\": {\"module\": \"keras.initializers\", \"class_name\": \"Zeros\", \"config\": {}, \"registered_name\": null}, \"kernel_regularizer\": null, \"bias_regularizer\": null, \"activity_regularizer\": null, \"kernel_constraint\": null, \"bias_constraint\": null}, \"registered_name\": null, \"build_config\": {\"input_shape\": [null, 16, 16, 1024]}, \"name\": \"conv4_block2_1_conv\", \"inbound_nodes\": [[[\"conv4_block1_out\", 0, 0, {}]]]}, {\"module\": \"keras.layers\", \"class_name\": \"BatchNormalization\", \"config\": {\"name\": \"conv4_block2_1_bn\", \"trainable\": false, \"dtype\": \"float32\", \"axis\": [3], \"momentum\": 0.99, \"epsilon\": 1.001e-05, \"center\": true, \"scale\": true, \"beta_initializer\": {\"module\": \"keras.initializers\", \"class_name\": \"Zeros\", \"config\": {}, \"registered_name\": null}, \"gamma_initializer\": {\"module\": \"keras.initializers\", \"class_name\": \"Ones\", \"config\": {}, \"registered_name\": null}, \"moving_mean_initializer\": {\"module\": \"keras.initializers\", \"class_name\": \"Zeros\", \"config\": {}, \"registered_name\": null}, \"moving_variance_initializer\": {\"module\": \"keras.initializers\", \"class_name\": \"Ones\", \"config\": {}, \"registered_name\": null}, \"beta_regularizer\": null, \"gamma_regularizer\": null, \"beta_constraint\": null, \"gamma_constraint\": null}, \"registered_name\": null, \"build_config\": {\"input_shape\": [null, 16, 16, 256]}, \"name\": \"conv4_block2_1_bn\", \"inbound_nodes\": [[[\"conv4_block2_1_conv\", 0, 0, {}]]]}, {\"module\": \"keras.layers\", \"class_name\": \"Activation\", \"config\": {\"name\": \"conv4_block2_1_relu\", \"trainable\": false, \"dtype\": \"float32\", \"activation\": \"relu\"}, \"registered_name\": null, \"build_config\": {\"input_shape\": [null, 16, 16, 256]}, \"name\": \"conv4_block2_1_relu\", \"inbound_nodes\": [[[\"conv4_block2_1_bn\", 0, 0, {}]]]}, {\"module\": \"keras.layers\", \"class_name\": \"Conv2D\", \"config\": {\"name\": \"conv4_block2_2_conv\", \"trainable\": false, \"dtype\": \"float32\", \"filters\": 256, \"kernel_size\": [3, 3], \"strides\": [1, 1], \"padding\": \"same\", \"data_format\": \"channels_last\", \"dilation_rate\": [1, 1], \"groups\": 1, \"activation\": \"linear\", \"use_bias\": true, \"kernel_initializer\": {\"module\": \"keras.initializers\", \"class_name\": \"GlorotUniform\", \"config\": {\"seed\": null}, \"registered_name\": null}, \"bias_initializer\": {\"module\": \"keras.initializers\", \"class_name\": \"Zeros\", \"config\": {}, \"registered_name\": null}, \"kernel_regularizer\": null, \"bias_regularizer\": null, \"activity_regularizer\": null, \"kernel_constraint\": null, \"bias_constraint\": null}, \"registered_name\": null, \"build_config\": {\"input_shape\": [null, 16, 16, 256]}, \"name\": \"conv4_block2_2_conv\", \"inbound_nodes\": [[[\"conv4_block2_1_relu\", 0, 0, {}]]]}, {\"module\": \"keras.layers\", \"class_name\": \"BatchNormalization\", \"config\": {\"name\": \"conv4_block2_2_bn\", \"trainable\": false, \"dtype\": \"float32\", \"axis\": [3], \"momentum\": 0.99, \"epsilon\": 1.001e-05, \"center\": true, \"scale\": true, \"beta_initializer\": {\"module\": \"keras.initializers\", \"class_name\": \"Zeros\", \"config\": {}, \"registered_name\": null}, \"gamma_initializer\": {\"module\": \"keras.initializers\", \"class_name\": \"Ones\", \"config\": {}, \"registered_name\": null}, \"moving_mean_initializer\": {\"module\": \"keras.initializers\", \"class_name\": \"Zeros\", \"config\": {}, \"registered_name\": null}, \"moving_variance_initializer\": {\"module\": \"keras.initializers\", \"class_name\": \"Ones\", \"config\": {}, \"registered_name\": null}, \"beta_regularizer\": null, \"gamma_regularizer\": null, \"beta_constraint\": null, \"gamma_constraint\": null}, \"registered_name\": null, \"build_config\": {\"input_shape\": [null, 16, 16, 256]}, \"name\": \"conv4_block2_2_bn\", \"inbound_nodes\": [[[\"conv4_block2_2_conv\", 0, 0, {}]]]}, {\"module\": \"keras.layers\", \"class_name\": \"Activation\", \"config\": {\"name\": \"conv4_block2_2_relu\", \"trainable\": false, \"dtype\": \"float32\", \"activation\": \"relu\"}, \"registered_name\": null, \"build_config\": {\"input_shape\": [null, 16, 16, 256]}, \"name\": \"conv4_block2_2_relu\", \"inbound_nodes\": [[[\"conv4_block2_2_bn\", 0, 0, {}]]]}, {\"module\": \"keras.layers\", \"class_name\": \"Conv2D\", \"config\": {\"name\": \"conv4_block2_3_conv\", \"trainable\": false, \"dtype\": \"float32\", \"filters\": 1024, \"kernel_size\": [1, 1], \"strides\": [1, 1], \"padding\": \"valid\", \"data_format\": \"channels_last\", \"dilation_rate\": [1, 1], \"groups\": 1, \"activation\": \"linear\", \"use_bias\": true, \"kernel_initializer\": {\"module\": \"keras.initializers\", \"class_name\": \"GlorotUniform\", \"config\": {\"seed\": null}, \"registered_name\": null}, \"bias_initializer\": {\"module\": \"keras.initializers\", \"class_name\": \"Zeros\", \"config\": {}, \"registered_name\": null}, \"kernel_regularizer\": null, \"bias_regularizer\": null, \"activity_regularizer\": null, \"kernel_constraint\": null, \"bias_constraint\": null}, \"registered_name\": null, \"build_config\": {\"input_shape\": [null, 16, 16, 256]}, \"name\": \"conv4_block2_3_conv\", \"inbound_nodes\": [[[\"conv4_block2_2_relu\", 0, 0, {}]]]}, {\"module\": \"keras.layers\", \"class_name\": \"BatchNormalization\", \"config\": {\"name\": \"conv4_block2_3_bn\", \"trainable\": false, \"dtype\": \"float32\", \"axis\": [3], \"momentum\": 0.99, \"epsilon\": 1.001e-05, \"center\": true, \"scale\": true, \"beta_initializer\": {\"module\": \"keras.initializers\", \"class_name\": \"Zeros\", \"config\": {}, \"registered_name\": null}, \"gamma_initializer\": {\"module\": \"keras.initializers\", \"class_name\": \"Ones\", \"config\": {}, \"registered_name\": null}, \"moving_mean_initializer\": {\"module\": \"keras.initializers\", \"class_name\": \"Zeros\", \"config\": {}, \"registered_name\": null}, \"moving_variance_initializer\": {\"module\": \"keras.initializers\", \"class_name\": \"Ones\", \"config\": {}, \"registered_name\": null}, \"beta_regularizer\": null, \"gamma_regularizer\": null, \"beta_constraint\": null, \"gamma_constraint\": null}, \"registered_name\": null, \"build_config\": {\"input_shape\": [null, 16, 16, 1024]}, \"name\": \"conv4_block2_3_bn\", \"inbound_nodes\": [[[\"conv4_block2_3_conv\", 0, 0, {}]]]}, {\"module\": \"keras.layers\", \"class_name\": \"Add\", \"config\": {\"name\": \"conv4_block2_add\", \"trainable\": false, \"dtype\": \"float32\"}, \"registered_name\": null, \"build_config\": {\"input_shape\": [[null, 16, 16, 1024], [null, 16, 16, 1024]]}, \"name\": \"conv4_block2_add\", \"inbound_nodes\": [[[\"conv4_block1_out\", 0, 0, {}], [\"conv4_block2_3_bn\", 0, 0, {}]]]}, {\"module\": \"keras.layers\", \"class_name\": \"Activation\", \"config\": {\"name\": \"conv4_block2_out\", \"trainable\": false, \"dtype\": \"float32\", \"activation\": \"relu\"}, \"registered_name\": null, \"build_config\": {\"input_shape\": [null, 16, 16, 1024]}, \"name\": \"conv4_block2_out\", \"inbound_nodes\": [[[\"conv4_block2_add\", 0, 0, {}]]]}, {\"module\": \"keras.layers\", \"class_name\": \"Conv2D\", \"config\": {\"name\": \"conv4_block3_1_conv\", \"trainable\": false, \"dtype\": \"float32\", \"filters\": 256, \"kernel_size\": [1, 1], \"strides\": [1, 1], \"padding\": \"valid\", \"data_format\": \"channels_last\", \"dilation_rate\": [1, 1], \"groups\": 1, \"activation\": \"linear\", \"use_bias\": true, \"kernel_initializer\": {\"module\": \"keras.initializers\", \"class_name\": \"GlorotUniform\", \"config\": {\"seed\": null}, \"registered_name\": null}, \"bias_initializer\": {\"module\": \"keras.initializers\", \"class_name\": \"Zeros\", \"config\": {}, \"registered_name\": null}, \"kernel_regularizer\": null, \"bias_regularizer\": null, \"activity_regularizer\": null, \"kernel_constraint\": null, \"bias_constraint\": null}, \"registered_name\": null, \"build_config\": {\"input_shape\": [null, 16, 16, 1024]}, \"name\": \"conv4_block3_1_conv\", \"inbound_nodes\": [[[\"conv4_block2_out\", 0, 0, {}]]]}, {\"module\": \"keras.layers\", \"class_name\": \"BatchNormalization\", \"config\": {\"name\": \"conv4_block3_1_bn\", \"trainable\": false, \"dtype\": \"float32\", \"axis\": [3], \"momentum\": 0.99, \"epsilon\": 1.001e-05, \"center\": true, \"scale\": true, \"beta_initializer\": {\"module\": \"keras.initializers\", \"class_name\": \"Zeros\", \"config\": {}, \"registered_name\": null}, \"gamma_initializer\": {\"module\": \"keras.initializers\", \"class_name\": \"Ones\", \"config\": {}, \"registered_name\": null}, \"moving_mean_initializer\": {\"module\": \"keras.initializers\", \"class_name\": \"Zeros\", \"config\": {}, \"registered_name\": null}, \"moving_variance_initializer\": {\"module\": \"keras.initializers\", \"class_name\": \"Ones\", \"config\": {}, \"registered_name\": null}, \"beta_regularizer\": null, \"gamma_regularizer\": null, \"beta_constraint\": null, \"gamma_constraint\": null}, \"registered_name\": null, \"build_config\": {\"input_shape\": [null, 16, 16, 256]}, \"name\": \"conv4_block3_1_bn\", \"inbound_nodes\": [[[\"conv4_block3_1_conv\", 0, 0, {}]]]}, {\"module\": \"keras.layers\", \"class_name\": \"Activation\", \"config\": {\"name\": \"conv4_block3_1_relu\", \"trainable\": false, \"dtype\": \"float32\", \"activation\": \"relu\"}, \"registered_name\": null, \"build_config\": {\"input_shape\": [null, 16, 16, 256]}, \"name\": \"conv4_block3_1_relu\", \"inbound_nodes\": [[[\"conv4_block3_1_bn\", 0, 0, {}]]]}, {\"module\": \"keras.layers\", \"class_name\": \"Conv2D\", \"config\": {\"name\": \"conv4_block3_2_conv\", \"trainable\": false, \"dtype\": \"float32\", \"filters\": 256, \"kernel_size\": [3, 3], \"strides\": [1, 1], \"padding\": \"same\", \"data_format\": \"channels_last\", \"dilation_rate\": [1, 1], \"groups\": 1, \"activation\": \"linear\", \"use_bias\": true, \"kernel_initializer\": {\"module\": \"keras.initializers\", \"class_name\": \"GlorotUniform\", \"config\": {\"seed\": null}, \"registered_name\": null}, \"bias_initializer\": {\"module\": \"keras.initializers\", \"class_name\": \"Zeros\", \"config\": {}, \"registered_name\": null}, \"kernel_regularizer\": null, \"bias_regularizer\": null, \"activity_regularizer\": null, \"kernel_constraint\": null, \"bias_constraint\": null}, \"registered_name\": null, \"build_config\": {\"input_shape\": [null, 16, 16, 256]}, \"name\": \"conv4_block3_2_conv\", \"inbound_nodes\": [[[\"conv4_block3_1_relu\", 0, 0, {}]]]}, {\"module\": \"keras.layers\", \"class_name\": \"BatchNormalization\", \"config\": {\"name\": \"conv4_block3_2_bn\", \"trainable\": false, \"dtype\": \"float32\", \"axis\": [3], \"momentum\": 0.99, \"epsilon\": 1.001e-05, \"center\": true, \"scale\": true, \"beta_initializer\": {\"module\": \"keras.initializers\", \"class_name\": \"Zeros\", \"config\": {}, \"registered_name\": null}, \"gamma_initializer\": {\"module\": \"keras.initializers\", \"class_name\": \"Ones\", \"config\": {}, \"registered_name\": null}, \"moving_mean_initializer\": {\"module\": \"keras.initializers\", \"class_name\": \"Zeros\", \"config\": {}, \"registered_name\": null}, \"moving_variance_initializer\": {\"module\": \"keras.initializers\", \"class_name\": \"Ones\", \"config\": {}, \"registered_name\": null}, \"beta_regularizer\": null, \"gamma_regularizer\": null, \"beta_constraint\": null, \"gamma_constraint\": null}, \"registered_name\": null, \"build_config\": {\"input_shape\": [null, 16, 16, 256]}, \"name\": \"conv4_block3_2_bn\", \"inbound_nodes\": [[[\"conv4_block3_2_conv\", 0, 0, {}]]]}, {\"module\": \"keras.layers\", \"class_name\": \"Activation\", \"config\": {\"name\": \"conv4_block3_2_relu\", \"trainable\": false, \"dtype\": \"float32\", \"activation\": \"relu\"}, \"registered_name\": null, \"build_config\": {\"input_shape\": [null, 16, 16, 256]}, \"name\": \"conv4_block3_2_relu\", \"inbound_nodes\": [[[\"conv4_block3_2_bn\", 0, 0, {}]]]}, {\"module\": \"keras.layers\", \"class_name\": \"Conv2D\", \"config\": {\"name\": \"conv4_block3_3_conv\", \"trainable\": false, \"dtype\": \"float32\", \"filters\": 1024, \"kernel_size\": [1, 1], \"strides\": [1, 1], \"padding\": \"valid\", \"data_format\": \"channels_last\", \"dilation_rate\": [1, 1], \"groups\": 1, \"activation\": \"linear\", \"use_bias\": true, \"kernel_initializer\": {\"module\": \"keras.initializers\", \"class_name\": \"GlorotUniform\", \"config\": {\"seed\": null}, \"registered_name\": null}, \"bias_initializer\": {\"module\": \"keras.initializers\", \"class_name\": \"Zeros\", \"config\": {}, \"registered_name\": null}, \"kernel_regularizer\": null, \"bias_regularizer\": null, \"activity_regularizer\": null, \"kernel_constraint\": null, \"bias_constraint\": null}, \"registered_name\": null, \"build_config\": {\"input_shape\": [null, 16, 16, 256]}, \"name\": \"conv4_block3_3_conv\", \"inbound_nodes\": [[[\"conv4_block3_2_relu\", 0, 0, {}]]]}, {\"module\": \"keras.layers\", \"class_name\": \"BatchNormalization\", \"config\": {\"name\": \"conv4_block3_3_bn\", \"trainable\": false, \"dtype\": \"float32\", \"axis\": [3], \"momentum\": 0.99, \"epsilon\": 1.001e-05, \"center\": true, \"scale\": true, \"beta_initializer\": {\"module\": \"keras.initializers\", \"class_name\": \"Zeros\", \"config\": {}, \"registered_name\": null}, \"gamma_initializer\": {\"module\": \"keras.initializers\", \"class_name\": \"Ones\", \"config\": {}, \"registered_name\": null}, \"moving_mean_initializer\": {\"module\": \"keras.initializers\", \"class_name\": \"Zeros\", \"config\": {}, \"registered_name\": null}, \"moving_variance_initializer\": {\"module\": \"keras.initializers\", \"class_name\": \"Ones\", \"config\": {}, \"registered_name\": null}, \"beta_regularizer\": null, \"gamma_regularizer\": null, \"beta_constraint\": null, \"gamma_constraint\": null}, \"registered_name\": null, \"build_config\": {\"input_shape\": [null, 16, 16, 1024]}, \"name\": \"conv4_block3_3_bn\", \"inbound_nodes\": [[[\"conv4_block3_3_conv\", 0, 0, {}]]]}, {\"module\": \"keras.layers\", \"class_name\": \"Add\", \"config\": {\"name\": \"conv4_block3_add\", \"trainable\": false, \"dtype\": \"float32\"}, \"registered_name\": null, \"build_config\": {\"input_shape\": [[null, 16, 16, 1024], [null, 16, 16, 1024]]}, \"name\": \"conv4_block3_add\", \"inbound_nodes\": [[[\"conv4_block2_out\", 0, 0, {}], [\"conv4_block3_3_bn\", 0, 0, {}]]]}, {\"module\": \"keras.layers\", \"class_name\": \"Activation\", \"config\": {\"name\": \"conv4_block3_out\", \"trainable\": false, \"dtype\": \"float32\", \"activation\": \"relu\"}, \"registered_name\": null, \"build_config\": {\"input_shape\": [null, 16, 16, 1024]}, \"name\": \"conv4_block3_out\", \"inbound_nodes\": [[[\"conv4_block3_add\", 0, 0, {}]]]}, {\"module\": \"keras.layers\", \"class_name\": \"Conv2D\", \"config\": {\"name\": \"conv4_block4_1_conv\", \"trainable\": false, \"dtype\": \"float32\", \"filters\": 256, \"kernel_size\": [1, 1], \"strides\": [1, 1], \"padding\": \"valid\", \"data_format\": \"channels_last\", \"dilation_rate\": [1, 1], \"groups\": 1, \"activation\": \"linear\", \"use_bias\": true, \"kernel_initializer\": {\"module\": \"keras.initializers\", \"class_name\": \"GlorotUniform\", \"config\": {\"seed\": null}, \"registered_name\": null}, \"bias_initializer\": {\"module\": \"keras.initializers\", \"class_name\": \"Zeros\", \"config\": {}, \"registered_name\": null}, \"kernel_regularizer\": null, \"bias_regularizer\": null, \"activity_regularizer\": null, \"kernel_constraint\": null, \"bias_constraint\": null}, \"registered_name\": null, \"build_config\": {\"input_shape\": [null, 16, 16, 1024]}, \"name\": \"conv4_block4_1_conv\", \"inbound_nodes\": [[[\"conv4_block3_out\", 0, 0, {}]]]}, {\"module\": \"keras.layers\", \"class_name\": \"BatchNormalization\", \"config\": {\"name\": \"conv4_block4_1_bn\", \"trainable\": false, \"dtype\": \"float32\", \"axis\": [3], \"momentum\": 0.99, \"epsilon\": 1.001e-05, \"center\": true, \"scale\": true, \"beta_initializer\": {\"module\": \"keras.initializers\", \"class_name\": \"Zeros\", \"config\": {}, \"registered_name\": null}, \"gamma_initializer\": {\"module\": \"keras.initializers\", \"class_name\": \"Ones\", \"config\": {}, \"registered_name\": null}, \"moving_mean_initializer\": {\"module\": \"keras.initializers\", \"class_name\": \"Zeros\", \"config\": {}, \"registered_name\": null}, \"moving_variance_initializer\": {\"module\": \"keras.initializers\", \"class_name\": \"Ones\", \"config\": {}, \"registered_name\": null}, \"beta_regularizer\": null, \"gamma_regularizer\": null, \"beta_constraint\": null, \"gamma_constraint\": null}, \"registered_name\": null, \"build_config\": {\"input_shape\": [null, 16, 16, 256]}, \"name\": \"conv4_block4_1_bn\", \"inbound_nodes\": [[[\"conv4_block4_1_conv\", 0, 0, {}]]]}, {\"module\": \"keras.layers\", \"class_name\": \"Activation\", \"config\": {\"name\": \"conv4_block4_1_relu\", \"trainable\": false, \"dtype\": \"float32\", \"activation\": \"relu\"}, \"registered_name\": null, \"build_config\": {\"input_shape\": [null, 16, 16, 256]}, \"name\": \"conv4_block4_1_relu\", \"inbound_nodes\": [[[\"conv4_block4_1_bn\", 0, 0, {}]]]}, {\"module\": \"keras.layers\", \"class_name\": \"Conv2D\", \"config\": {\"name\": \"conv4_block4_2_conv\", \"trainable\": false, \"dtype\": \"float32\", \"filters\": 256, \"kernel_size\": [3, 3], \"strides\": [1, 1], \"padding\": \"same\", \"data_format\": \"channels_last\", \"dilation_rate\": [1, 1], \"groups\": 1, \"activation\": \"linear\", \"use_bias\": true, \"kernel_initializer\": {\"module\": \"keras.initializers\", \"class_name\": \"GlorotUniform\", \"config\": {\"seed\": null}, \"registered_name\": null}, \"bias_initializer\": {\"module\": \"keras.initializers\", \"class_name\": \"Zeros\", \"config\": {}, \"registered_name\": null}, \"kernel_regularizer\": null, \"bias_regularizer\": null, \"activity_regularizer\": null, \"kernel_constraint\": null, \"bias_constraint\": null}, \"registered_name\": null, \"build_config\": {\"input_shape\": [null, 16, 16, 256]}, \"name\": \"conv4_block4_2_conv\", \"inbound_nodes\": [[[\"conv4_block4_1_relu\", 0, 0, {}]]]}, {\"module\": \"keras.layers\", \"class_name\": \"BatchNormalization\", \"config\": {\"name\": \"conv4_block4_2_bn\", \"trainable\": false, \"dtype\": \"float32\", \"axis\": [3], \"momentum\": 0.99, \"epsilon\": 1.001e-05, \"center\": true, \"scale\": true, \"beta_initializer\": {\"module\": \"keras.initializers\", \"class_name\": \"Zeros\", \"config\": {}, \"registered_name\": null}, \"gamma_initializer\": {\"module\": \"keras.initializers\", \"class_name\": \"Ones\", \"config\": {}, \"registered_name\": null}, \"moving_mean_initializer\": {\"module\": \"keras.initializers\", \"class_name\": \"Zeros\", \"config\": {}, \"registered_name\": null}, \"moving_variance_initializer\": {\"module\": \"keras.initializers\", \"class_name\": \"Ones\", \"config\": {}, \"registered_name\": null}, \"beta_regularizer\": null, \"gamma_regularizer\": null, \"beta_constraint\": null, \"gamma_constraint\": null}, \"registered_name\": null, \"build_config\": {\"input_shape\": [null, 16, 16, 256]}, \"name\": \"conv4_block4_2_bn\", \"inbound_nodes\": [[[\"conv4_block4_2_conv\", 0, 0, {}]]]}, {\"module\": \"keras.layers\", \"class_name\": \"Activation\", \"config\": {\"name\": \"conv4_block4_2_relu\", \"trainable\": false, \"dtype\": \"float32\", \"activation\": \"relu\"}, \"registered_name\": null, \"build_config\": {\"input_shape\": [null, 16, 16, 256]}, \"name\": \"conv4_block4_2_relu\", \"inbound_nodes\": [[[\"conv4_block4_2_bn\", 0, 0, {}]]]}, {\"module\": \"keras.layers\", \"class_name\": \"Conv2D\", \"config\": {\"name\": \"conv4_block4_3_conv\", \"trainable\": false, \"dtype\": \"float32\", \"filters\": 1024, \"kernel_size\": [1, 1], \"strides\": [1, 1], \"padding\": \"valid\", \"data_format\": \"channels_last\", \"dilation_rate\": [1, 1], \"groups\": 1, \"activation\": \"linear\", \"use_bias\": true, \"kernel_initializer\": {\"module\": \"keras.initializers\", \"class_name\": \"GlorotUniform\", \"config\": {\"seed\": null}, \"registered_name\": null}, \"bias_initializer\": {\"module\": \"keras.initializers\", \"class_name\": \"Zeros\", \"config\": {}, \"registered_name\": null}, \"kernel_regularizer\": null, \"bias_regularizer\": null, \"activity_regularizer\": null, \"kernel_constraint\": null, \"bias_constraint\": null}, \"registered_name\": null, \"build_config\": {\"input_shape\": [null, 16, 16, 256]}, \"name\": \"conv4_block4_3_conv\", \"inbound_nodes\": [[[\"conv4_block4_2_relu\", 0, 0, {}]]]}, {\"module\": \"keras.layers\", \"class_name\": \"BatchNormalization\", \"config\": {\"name\": \"conv4_block4_3_bn\", \"trainable\": false, \"dtype\": \"float32\", \"axis\": [3], \"momentum\": 0.99, \"epsilon\": 1.001e-05, \"center\": true, \"scale\": true, \"beta_initializer\": {\"module\": \"keras.initializers\", \"class_name\": \"Zeros\", \"config\": {}, \"registered_name\": null}, \"gamma_initializer\": {\"module\": \"keras.initializers\", \"class_name\": \"Ones\", \"config\": {}, \"registered_name\": null}, \"moving_mean_initializer\": {\"module\": \"keras.initializers\", \"class_name\": \"Zeros\", \"config\": {}, \"registered_name\": null}, \"moving_variance_initializer\": {\"module\": \"keras.initializers\", \"class_name\": \"Ones\", \"config\": {}, \"registered_name\": null}, \"beta_regularizer\": null, \"gamma_regularizer\": null, \"beta_constraint\": null, \"gamma_constraint\": null}, \"registered_name\": null, \"build_config\": {\"input_shape\": [null, 16, 16, 1024]}, \"name\": \"conv4_block4_3_bn\", \"inbound_nodes\": [[[\"conv4_block4_3_conv\", 0, 0, {}]]]}, {\"module\": \"keras.layers\", \"class_name\": \"Add\", \"config\": {\"name\": \"conv4_block4_add\", \"trainable\": false, \"dtype\": \"float32\"}, \"registered_name\": null, \"build_config\": {\"input_shape\": [[null, 16, 16, 1024], [null, 16, 16, 1024]]}, \"name\": \"conv4_block4_add\", \"inbound_nodes\": [[[\"conv4_block3_out\", 0, 0, {}], [\"conv4_block4_3_bn\", 0, 0, {}]]]}, {\"module\": \"keras.layers\", \"class_name\": \"Activation\", \"config\": {\"name\": \"conv4_block4_out\", \"trainable\": false, \"dtype\": \"float32\", \"activation\": \"relu\"}, \"registered_name\": null, \"build_config\": {\"input_shape\": [null, 16, 16, 1024]}, \"name\": \"conv4_block4_out\", \"inbound_nodes\": [[[\"conv4_block4_add\", 0, 0, {}]]]}, {\"module\": \"keras.layers\", \"class_name\": \"Conv2D\", \"config\": {\"name\": \"conv4_block5_1_conv\", \"trainable\": false, \"dtype\": \"float32\", \"filters\": 256, \"kernel_size\": [1, 1], \"strides\": [1, 1], \"padding\": \"valid\", \"data_format\": \"channels_last\", \"dilation_rate\": [1, 1], \"groups\": 1, \"activation\": \"linear\", \"use_bias\": true, \"kernel_initializer\": {\"module\": \"keras.initializers\", \"class_name\": \"GlorotUniform\", \"config\": {\"seed\": null}, \"registered_name\": null}, \"bias_initializer\": {\"module\": \"keras.initializers\", \"class_name\": \"Zeros\", \"config\": {}, \"registered_name\": null}, \"kernel_regularizer\": null, \"bias_regularizer\": null, \"activity_regularizer\": null, \"kernel_constraint\": null, \"bias_constraint\": null}, \"registered_name\": null, \"build_config\": {\"input_shape\": [null, 16, 16, 1024]}, \"name\": \"conv4_block5_1_conv\", \"inbound_nodes\": [[[\"conv4_block4_out\", 0, 0, {}]]]}, {\"module\": \"keras.layers\", \"class_name\": \"BatchNormalization\", \"config\": {\"name\": \"conv4_block5_1_bn\", \"trainable\": false, \"dtype\": \"float32\", \"axis\": [3], \"momentum\": 0.99, \"epsilon\": 1.001e-05, \"center\": true, \"scale\": true, \"beta_initializer\": {\"module\": \"keras.initializers\", \"class_name\": \"Zeros\", \"config\": {}, \"registered_name\": null}, \"gamma_initializer\": {\"module\": \"keras.initializers\", \"class_name\": \"Ones\", \"config\": {}, \"registered_name\": null}, \"moving_mean_initializer\": {\"module\": \"keras.initializers\", \"class_name\": \"Zeros\", \"config\": {}, \"registered_name\": null}, \"moving_variance_initializer\": {\"module\": \"keras.initializers\", \"class_name\": \"Ones\", \"config\": {}, \"registered_name\": null}, \"beta_regularizer\": null, \"gamma_regularizer\": null, \"beta_constraint\": null, \"gamma_constraint\": null}, \"registered_name\": null, \"build_config\": {\"input_shape\": [null, 16, 16, 256]}, \"name\": \"conv4_block5_1_bn\", \"inbound_nodes\": [[[\"conv4_block5_1_conv\", 0, 0, {}]]]}, {\"module\": \"keras.layers\", \"class_name\": \"Activation\", \"config\": {\"name\": \"conv4_block5_1_relu\", \"trainable\": false, \"dtype\": \"float32\", \"activation\": \"relu\"}, \"registered_name\": null, \"build_config\": {\"input_shape\": [null, 16, 16, 256]}, \"name\": \"conv4_block5_1_relu\", \"inbound_nodes\": [[[\"conv4_block5_1_bn\", 0, 0, {}]]]}, {\"module\": \"keras.layers\", \"class_name\": \"Conv2D\", \"config\": {\"name\": \"conv4_block5_2_conv\", \"trainable\": false, \"dtype\": \"float32\", \"filters\": 256, \"kernel_size\": [3, 3], \"strides\": [1, 1], \"padding\": \"same\", \"data_format\": \"channels_last\", \"dilation_rate\": [1, 1], \"groups\": 1, \"activation\": \"linear\", \"use_bias\": true, \"kernel_initializer\": {\"module\": \"keras.initializers\", \"class_name\": \"GlorotUniform\", \"config\": {\"seed\": null}, \"registered_name\": null}, \"bias_initializer\": {\"module\": \"keras.initializers\", \"class_name\": \"Zeros\", \"config\": {}, \"registered_name\": null}, \"kernel_regularizer\": null, \"bias_regularizer\": null, \"activity_regularizer\": null, \"kernel_constraint\": null, \"bias_constraint\": null}, \"registered_name\": null, \"build_config\": {\"input_shape\": [null, 16, 16, 256]}, \"name\": \"conv4_block5_2_conv\", \"inbound_nodes\": [[[\"conv4_block5_1_relu\", 0, 0, {}]]]}, {\"module\": \"keras.layers\", \"class_name\": \"BatchNormalization\", \"config\": {\"name\": \"conv4_block5_2_bn\", \"trainable\": false, \"dtype\": \"float32\", \"axis\": [3], \"momentum\": 0.99, \"epsilon\": 1.001e-05, \"center\": true, \"scale\": true, \"beta_initializer\": {\"module\": \"keras.initializers\", \"class_name\": \"Zeros\", \"config\": {}, \"registered_name\": null}, \"gamma_initializer\": {\"module\": \"keras.initializers\", \"class_name\": \"Ones\", \"config\": {}, \"registered_name\": null}, \"moving_mean_initializer\": {\"module\": \"keras.initializers\", \"class_name\": \"Zeros\", \"config\": {}, \"registered_name\": null}, \"moving_variance_initializer\": {\"module\": \"keras.initializers\", \"class_name\": \"Ones\", \"config\": {}, \"registered_name\": null}, \"beta_regularizer\": null, \"gamma_regularizer\": null, \"beta_constraint\": null, \"gamma_constraint\": null}, \"registered_name\": null, \"build_config\": {\"input_shape\": [null, 16, 16, 256]}, \"name\": \"conv4_block5_2_bn\", \"inbound_nodes\": [[[\"conv4_block5_2_conv\", 0, 0, {}]]]}, {\"module\": \"keras.layers\", \"class_name\": \"Activation\", \"config\": {\"name\": \"conv4_block5_2_relu\", \"trainable\": false, \"dtype\": \"float32\", \"activation\": \"relu\"}, \"registered_name\": null, \"build_config\": {\"input_shape\": [null, 16, 16, 256]}, \"name\": \"conv4_block5_2_relu\", \"inbound_nodes\": [[[\"conv4_block5_2_bn\", 0, 0, {}]]]}, {\"module\": \"keras.layers\", \"class_name\": \"Conv2D\", \"config\": {\"name\": \"conv4_block5_3_conv\", \"trainable\": false, \"dtype\": \"float32\", \"filters\": 1024, \"kernel_size\": [1, 1], \"strides\": [1, 1], \"padding\": \"valid\", \"data_format\": \"channels_last\", \"dilation_rate\": [1, 1], \"groups\": 1, \"activation\": \"linear\", \"use_bias\": true, \"kernel_initializer\": {\"module\": \"keras.initializers\", \"class_name\": \"GlorotUniform\", \"config\": {\"seed\": null}, \"registered_name\": null}, \"bias_initializer\": {\"module\": \"keras.initializers\", \"class_name\": \"Zeros\", \"config\": {}, \"registered_name\": null}, \"kernel_regularizer\": null, \"bias_regularizer\": null, \"activity_regularizer\": null, \"kernel_constraint\": null, \"bias_constraint\": null}, \"registered_name\": null, \"build_config\": {\"input_shape\": [null, 16, 16, 256]}, \"name\": \"conv4_block5_3_conv\", \"inbound_nodes\": [[[\"conv4_block5_2_relu\", 0, 0, {}]]]}, {\"module\": \"keras.layers\", \"class_name\": \"BatchNormalization\", \"config\": {\"name\": \"conv4_block5_3_bn\", \"trainable\": false, \"dtype\": \"float32\", \"axis\": [3], \"momentum\": 0.99, \"epsilon\": 1.001e-05, \"center\": true, \"scale\": true, \"beta_initializer\": {\"module\": \"keras.initializers\", \"class_name\": \"Zeros\", \"config\": {}, \"registered_name\": null}, \"gamma_initializer\": {\"module\": \"keras.initializers\", \"class_name\": \"Ones\", \"config\": {}, \"registered_name\": null}, \"moving_mean_initializer\": {\"module\": \"keras.initializers\", \"class_name\": \"Zeros\", \"config\": {}, \"registered_name\": null}, \"moving_variance_initializer\": {\"module\": \"keras.initializers\", \"class_name\": \"Ones\", \"config\": {}, \"registered_name\": null}, \"beta_regularizer\": null, \"gamma_regularizer\": null, \"beta_constraint\": null, \"gamma_constraint\": null}, \"registered_name\": null, \"build_config\": {\"input_shape\": [null, 16, 16, 1024]}, \"name\": \"conv4_block5_3_bn\", \"inbound_nodes\": [[[\"conv4_block5_3_conv\", 0, 0, {}]]]}, {\"module\": \"keras.layers\", \"class_name\": \"Add\", \"config\": {\"name\": \"conv4_block5_add\", \"trainable\": false, \"dtype\": \"float32\"}, \"registered_name\": null, \"build_config\": {\"input_shape\": [[null, 16, 16, 1024], [null, 16, 16, 1024]]}, \"name\": \"conv4_block5_add\", \"inbound_nodes\": [[[\"conv4_block4_out\", 0, 0, {}], [\"conv4_block5_3_bn\", 0, 0, {}]]]}, {\"module\": \"keras.layers\", \"class_name\": \"Activation\", \"config\": {\"name\": \"conv4_block5_out\", \"trainable\": false, \"dtype\": \"float32\", \"activation\": \"relu\"}, \"registered_name\": null, \"build_config\": {\"input_shape\": [null, 16, 16, 1024]}, \"name\": \"conv4_block5_out\", \"inbound_nodes\": [[[\"conv4_block5_add\", 0, 0, {}]]]}, {\"module\": \"keras.layers\", \"class_name\": \"Conv2D\", \"config\": {\"name\": \"conv4_block6_1_conv\", \"trainable\": false, \"dtype\": \"float32\", \"filters\": 256, \"kernel_size\": [1, 1], \"strides\": [1, 1], \"padding\": \"valid\", \"data_format\": \"channels_last\", \"dilation_rate\": [1, 1], \"groups\": 1, \"activation\": \"linear\", \"use_bias\": true, \"kernel_initializer\": {\"module\": \"keras.initializers\", \"class_name\": \"GlorotUniform\", \"config\": {\"seed\": null}, \"registered_name\": null}, \"bias_initializer\": {\"module\": \"keras.initializers\", \"class_name\": \"Zeros\", \"config\": {}, \"registered_name\": null}, \"kernel_regularizer\": null, \"bias_regularizer\": null, \"activity_regularizer\": null, \"kernel_constraint\": null, \"bias_constraint\": null}, \"registered_name\": null, \"build_config\": {\"input_shape\": [null, 16, 16, 1024]}, \"name\": \"conv4_block6_1_conv\", \"inbound_nodes\": [[[\"conv4_block5_out\", 0, 0, {}]]]}, {\"module\": \"keras.layers\", \"class_name\": \"BatchNormalization\", \"config\": {\"name\": \"conv4_block6_1_bn\", \"trainable\": false, \"dtype\": \"float32\", \"axis\": [3], \"momentum\": 0.99, \"epsilon\": 1.001e-05, \"center\": true, \"scale\": true, \"beta_initializer\": {\"module\": \"keras.initializers\", \"class_name\": \"Zeros\", \"config\": {}, \"registered_name\": null}, \"gamma_initializer\": {\"module\": \"keras.initializers\", \"class_name\": \"Ones\", \"config\": {}, \"registered_name\": null}, \"moving_mean_initializer\": {\"module\": \"keras.initializers\", \"class_name\": \"Zeros\", \"config\": {}, \"registered_name\": null}, \"moving_variance_initializer\": {\"module\": \"keras.initializers\", \"class_name\": \"Ones\", \"config\": {}, \"registered_name\": null}, \"beta_regularizer\": null, \"gamma_regularizer\": null, \"beta_constraint\": null, \"gamma_constraint\": null}, \"registered_name\": null, \"build_config\": {\"input_shape\": [null, 16, 16, 256]}, \"name\": \"conv4_block6_1_bn\", \"inbound_nodes\": [[[\"conv4_block6_1_conv\", 0, 0, {}]]]}, {\"module\": \"keras.layers\", \"class_name\": \"Activation\", \"config\": {\"name\": \"conv4_block6_1_relu\", \"trainable\": false, \"dtype\": \"float32\", \"activation\": \"relu\"}, \"registered_name\": null, \"build_config\": {\"input_shape\": [null, 16, 16, 256]}, \"name\": \"conv4_block6_1_relu\", \"inbound_nodes\": [[[\"conv4_block6_1_bn\", 0, 0, {}]]]}, {\"module\": \"keras.layers\", \"class_name\": \"Conv2D\", \"config\": {\"name\": \"conv4_block6_2_conv\", \"trainable\": false, \"dtype\": \"float32\", \"filters\": 256, \"kernel_size\": [3, 3], \"strides\": [1, 1], \"padding\": \"same\", \"data_format\": \"channels_last\", \"dilation_rate\": [1, 1], \"groups\": 1, \"activation\": \"linear\", \"use_bias\": true, \"kernel_initializer\": {\"module\": \"keras.initializers\", \"class_name\": \"GlorotUniform\", \"config\": {\"seed\": null}, \"registered_name\": null}, \"bias_initializer\": {\"module\": \"keras.initializers\", \"class_name\": \"Zeros\", \"config\": {}, \"registered_name\": null}, \"kernel_regularizer\": null, \"bias_regularizer\": null, \"activity_regularizer\": null, \"kernel_constraint\": null, \"bias_constraint\": null}, \"registered_name\": null, \"build_config\": {\"input_shape\": [null, 16, 16, 256]}, \"name\": \"conv4_block6_2_conv\", \"inbound_nodes\": [[[\"conv4_block6_1_relu\", 0, 0, {}]]]}, {\"module\": \"keras.layers\", \"class_name\": \"BatchNormalization\", \"config\": {\"name\": \"conv4_block6_2_bn\", \"trainable\": false, \"dtype\": \"float32\", \"axis\": [3], \"momentum\": 0.99, \"epsilon\": 1.001e-05, \"center\": true, \"scale\": true, \"beta_initializer\": {\"module\": \"keras.initializers\", \"class_name\": \"Zeros\", \"config\": {}, \"registered_name\": null}, \"gamma_initializer\": {\"module\": \"keras.initializers\", \"class_name\": \"Ones\", \"config\": {}, \"registered_name\": null}, \"moving_mean_initializer\": {\"module\": \"keras.initializers\", \"class_name\": \"Zeros\", \"config\": {}, \"registered_name\": null}, \"moving_variance_initializer\": {\"module\": \"keras.initializers\", \"class_name\": \"Ones\", \"config\": {}, \"registered_name\": null}, \"beta_regularizer\": null, \"gamma_regularizer\": null, \"beta_constraint\": null, \"gamma_constraint\": null}, \"registered_name\": null, \"build_config\": {\"input_shape\": [null, 16, 16, 256]}, \"name\": \"conv4_block6_2_bn\", \"inbound_nodes\": [[[\"conv4_block6_2_conv\", 0, 0, {}]]]}, {\"module\": \"keras.layers\", \"class_name\": \"Activation\", \"config\": {\"name\": \"conv4_block6_2_relu\", \"trainable\": false, \"dtype\": \"float32\", \"activation\": \"relu\"}, \"registered_name\": null, \"build_config\": {\"input_shape\": [null, 16, 16, 256]}, \"name\": \"conv4_block6_2_relu\", \"inbound_nodes\": [[[\"conv4_block6_2_bn\", 0, 0, {}]]]}, {\"module\": \"keras.layers\", \"class_name\": \"Conv2D\", \"config\": {\"name\": \"conv4_block6_3_conv\", \"trainable\": false, \"dtype\": \"float32\", \"filters\": 1024, \"kernel_size\": [1, 1], \"strides\": [1, 1], \"padding\": \"valid\", \"data_format\": \"channels_last\", \"dilation_rate\": [1, 1], \"groups\": 1, \"activation\": \"linear\", \"use_bias\": true, \"kernel_initializer\": {\"module\": \"keras.initializers\", \"class_name\": \"GlorotUniform\", \"config\": {\"seed\": null}, \"registered_name\": null}, \"bias_initializer\": {\"module\": \"keras.initializers\", \"class_name\": \"Zeros\", \"config\": {}, \"registered_name\": null}, \"kernel_regularizer\": null, \"bias_regularizer\": null, \"activity_regularizer\": null, \"kernel_constraint\": null, \"bias_constraint\": null}, \"registered_name\": null, \"build_config\": {\"input_shape\": [null, 16, 16, 256]}, \"name\": \"conv4_block6_3_conv\", \"inbound_nodes\": [[[\"conv4_block6_2_relu\", 0, 0, {}]]]}, {\"module\": \"keras.layers\", \"class_name\": \"BatchNormalization\", \"config\": {\"name\": \"conv4_block6_3_bn\", \"trainable\": true, \"dtype\": \"float32\", \"axis\": [3], \"momentum\": 0.99, \"epsilon\": 1.001e-05, \"center\": true, \"scale\": true, \"beta_initializer\": {\"module\": \"keras.initializers\", \"class_name\": \"Zeros\", \"config\": {}, \"registered_name\": null}, \"gamma_initializer\": {\"module\": \"keras.initializers\", \"class_name\": \"Ones\", \"config\": {}, \"registered_name\": null}, \"moving_mean_initializer\": {\"module\": \"keras.initializers\", \"class_name\": \"Zeros\", \"config\": {}, \"registered_name\": null}, \"moving_variance_initializer\": {\"module\": \"keras.initializers\", \"class_name\": \"Ones\", \"config\": {}, \"registered_name\": null}, \"beta_regularizer\": null, \"gamma_regularizer\": null, \"beta_constraint\": null, \"gamma_constraint\": null}, \"registered_name\": null, \"build_config\": {\"input_shape\": [null, 16, 16, 1024]}, \"name\": \"conv4_block6_3_bn\", \"inbound_nodes\": [[[\"conv4_block6_3_conv\", 0, 0, {}]]]}, {\"module\": \"keras.layers\", \"class_name\": \"Add\", \"config\": {\"name\": \"conv4_block6_add\", \"trainable\": true, \"dtype\": \"float32\"}, \"registered_name\": null, \"build_config\": {\"input_shape\": [[null, 16, 16, 1024], [null, 16, 16, 1024]]}, \"name\": \"conv4_block6_add\", \"inbound_nodes\": [[[\"conv4_block5_out\", 0, 0, {}], [\"conv4_block6_3_bn\", 0, 0, {}]]]}, {\"module\": \"keras.layers\", \"class_name\": \"Activation\", \"config\": {\"name\": \"conv4_block6_out\", \"trainable\": true, \"dtype\": \"float32\", \"activation\": \"relu\"}, \"registered_name\": null, \"build_config\": {\"input_shape\": [null, 16, 16, 1024]}, \"name\": \"conv4_block6_out\", \"inbound_nodes\": [[[\"conv4_block6_add\", 0, 0, {}]]]}, {\"module\": \"keras.layers\", \"class_name\": \"Conv2D\", \"config\": {\"name\": \"conv5_block1_1_conv\", \"trainable\": true, \"dtype\": \"float32\", \"filters\": 512, \"kernel_size\": [1, 1], \"strides\": [2, 2], \"padding\": \"valid\", \"data_format\": \"channels_last\", \"dilation_rate\": [1, 1], \"groups\": 1, \"activation\": \"linear\", \"use_bias\": true, \"kernel_initializer\": {\"module\": \"keras.initializers\", \"class_name\": \"GlorotUniform\", \"config\": {\"seed\": null}, \"registered_name\": null}, \"bias_initializer\": {\"module\": \"keras.initializers\", \"class_name\": \"Zeros\", \"config\": {}, \"registered_name\": null}, \"kernel_regularizer\": null, \"bias_regularizer\": null, \"activity_regularizer\": null, \"kernel_constraint\": null, \"bias_constraint\": null}, \"registered_name\": null, \"build_config\": {\"input_shape\": [null, 16, 16, 1024]}, \"name\": \"conv5_block1_1_conv\", \"inbound_nodes\": [[[\"conv4_block6_out\", 0, 0, {}]]]}, {\"module\": \"keras.layers\", \"class_name\": \"BatchNormalization\", \"config\": {\"name\": \"conv5_block1_1_bn\", \"trainable\": true, \"dtype\": \"float32\", \"axis\": [3], \"momentum\": 0.99, \"epsilon\": 1.001e-05, \"center\": true, \"scale\": true, \"beta_initializer\": {\"module\": \"keras.initializers\", \"class_name\": \"Zeros\", \"config\": {}, \"registered_name\": null}, \"gamma_initializer\": {\"module\": \"keras.initializers\", \"class_name\": \"Ones\", \"config\": {}, \"registered_name\": null}, \"moving_mean_initializer\": {\"module\": \"keras.initializers\", \"class_name\": \"Zeros\", \"config\": {}, \"registered_name\": null}, \"moving_variance_initializer\": {\"module\": \"keras.initializers\", \"class_name\": \"Ones\", \"config\": {}, \"registered_name\": null}, \"beta_regularizer\": null, \"gamma_regularizer\": null, \"beta_constraint\": null, \"gamma_constraint\": null}, \"registered_name\": null, \"build_config\": {\"input_shape\": [null, 8, 8, 512]}, \"name\": \"conv5_block1_1_bn\", \"inbound_nodes\": [[[\"conv5_block1_1_conv\", 0, 0, {}]]]}, {\"module\": \"keras.layers\", \"class_name\": \"Activation\", \"config\": {\"name\": \"conv5_block1_1_relu\", \"trainable\": true, \"dtype\": \"float32\", \"activation\": \"relu\"}, \"registered_name\": null, \"build_config\": {\"input_shape\": [null, 8, 8, 512]}, \"name\": \"conv5_block1_1_relu\", \"inbound_nodes\": [[[\"conv5_block1_1_bn\", 0, 0, {}]]]}, {\"module\": \"keras.layers\", \"class_name\": \"Conv2D\", \"config\": {\"name\": \"conv5_block1_2_conv\", \"trainable\": true, \"dtype\": \"float32\", \"filters\": 512, \"kernel_size\": [3, 3], \"strides\": [1, 1], \"padding\": \"same\", \"data_format\": \"channels_last\", \"dilation_rate\": [1, 1], \"groups\": 1, \"activation\": \"linear\", \"use_bias\": true, \"kernel_initializer\": {\"module\": \"keras.initializers\", \"class_name\": \"GlorotUniform\", \"config\": {\"seed\": null}, \"registered_name\": null}, \"bias_initializer\": {\"module\": \"keras.initializers\", \"class_name\": \"Zeros\", \"config\": {}, \"registered_name\": null}, \"kernel_regularizer\": null, \"bias_regularizer\": null, \"activity_regularizer\": null, \"kernel_constraint\": null, \"bias_constraint\": null}, \"registered_name\": null, \"build_config\": {\"input_shape\": [null, 8, 8, 512]}, \"name\": \"conv5_block1_2_conv\", \"inbound_nodes\": [[[\"conv5_block1_1_relu\", 0, 0, {}]]]}, {\"module\": \"keras.layers\", \"class_name\": \"BatchNormalization\", \"config\": {\"name\": \"conv5_block1_2_bn\", \"trainable\": true, \"dtype\": \"float32\", \"axis\": [3], \"momentum\": 0.99, \"epsilon\": 1.001e-05, \"center\": true, \"scale\": true, \"beta_initializer\": {\"module\": \"keras.initializers\", \"class_name\": \"Zeros\", \"config\": {}, \"registered_name\": null}, \"gamma_initializer\": {\"module\": \"keras.initializers\", \"class_name\": \"Ones\", \"config\": {}, \"registered_name\": null}, \"moving_mean_initializer\": {\"module\": \"keras.initializers\", \"class_name\": \"Zeros\", \"config\": {}, \"registered_name\": null}, \"moving_variance_initializer\": {\"module\": \"keras.initializers\", \"class_name\": \"Ones\", \"config\": {}, \"registered_name\": null}, \"beta_regularizer\": null, \"gamma_regularizer\": null, \"beta_constraint\": null, \"gamma_constraint\": null}, \"registered_name\": null, \"build_config\": {\"input_shape\": [null, 8, 8, 512]}, \"name\": \"conv5_block1_2_bn\", \"inbound_nodes\": [[[\"conv5_block1_2_conv\", 0, 0, {}]]]}, {\"module\": \"keras.layers\", \"class_name\": \"Activation\", \"config\": {\"name\": \"conv5_block1_2_relu\", \"trainable\": true, \"dtype\": \"float32\", \"activation\": \"relu\"}, \"registered_name\": null, \"build_config\": {\"input_shape\": [null, 8, 8, 512]}, \"name\": \"conv5_block1_2_relu\", \"inbound_nodes\": [[[\"conv5_block1_2_bn\", 0, 0, {}]]]}, {\"module\": \"keras.layers\", \"class_name\": \"Conv2D\", \"config\": {\"name\": \"conv5_block1_0_conv\", \"trainable\": true, \"dtype\": \"float32\", \"filters\": 2048, \"kernel_size\": [1, 1], \"strides\": [2, 2], \"padding\": \"valid\", \"data_format\": \"channels_last\", \"dilation_rate\": [1, 1], \"groups\": 1, \"activation\": \"linear\", \"use_bias\": true, \"kernel_initializer\": {\"module\": \"keras.initializers\", \"class_name\": \"GlorotUniform\", \"config\": {\"seed\": null}, \"registered_name\": null}, \"bias_initializer\": {\"module\": \"keras.initializers\", \"class_name\": \"Zeros\", \"config\": {}, \"registered_name\": null}, \"kernel_regularizer\": null, \"bias_regularizer\": null, \"activity_regularizer\": null, \"kernel_constraint\": null, \"bias_constraint\": null}, \"registered_name\": null, \"build_config\": {\"input_shape\": [null, 16, 16, 1024]}, \"name\": \"conv5_block1_0_conv\", \"inbound_nodes\": [[[\"conv4_block6_out\", 0, 0, {}]]]}, {\"module\": \"keras.layers\", \"class_name\": \"Conv2D\", \"config\": {\"name\": \"conv5_block1_3_conv\", \"trainable\": true, \"dtype\": \"float32\", \"filters\": 2048, \"kernel_size\": [1, 1], \"strides\": [1, 1], \"padding\": \"valid\", \"data_format\": \"channels_last\", \"dilation_rate\": [1, 1], \"groups\": 1, \"activation\": \"linear\", \"use_bias\": true, \"kernel_initializer\": {\"module\": \"keras.initializers\", \"class_name\": \"GlorotUniform\", \"config\": {\"seed\": null}, \"registered_name\": null}, \"bias_initializer\": {\"module\": \"keras.initializers\", \"class_name\": \"Zeros\", \"config\": {}, \"registered_name\": null}, \"kernel_regularizer\": null, \"bias_regularizer\": null, \"activity_regularizer\": null, \"kernel_constraint\": null, \"bias_constraint\": null}, \"registered_name\": null, \"build_config\": {\"input_shape\": [null, 8, 8, 512]}, \"name\": \"conv5_block1_3_conv\", \"inbound_nodes\": [[[\"conv5_block1_2_relu\", 0, 0, {}]]]}, {\"module\": \"keras.layers\", \"class_name\": \"BatchNormalization\", \"config\": {\"name\": \"conv5_block1_0_bn\", \"trainable\": true, \"dtype\": \"float32\", \"axis\": [3], \"momentum\": 0.99, \"epsilon\": 1.001e-05, \"center\": true, \"scale\": true, \"beta_initializer\": {\"module\": \"keras.initializers\", \"class_name\": \"Zeros\", \"config\": {}, \"registered_name\": null}, \"gamma_initializer\": {\"module\": \"keras.initializers\", \"class_name\": \"Ones\", \"config\": {}, \"registered_name\": null}, \"moving_mean_initializer\": {\"module\": \"keras.initializers\", \"class_name\": \"Zeros\", \"config\": {}, \"registered_name\": null}, \"moving_variance_initializer\": {\"module\": \"keras.initializers\", \"class_name\": \"Ones\", \"config\": {}, \"registered_name\": null}, \"beta_regularizer\": null, \"gamma_regularizer\": null, \"beta_constraint\": null, \"gamma_constraint\": null}, \"registered_name\": null, \"build_config\": {\"input_shape\": [null, 8, 8, 2048]}, \"name\": \"conv5_block1_0_bn\", \"inbound_nodes\": [[[\"conv5_block1_0_conv\", 0, 0, {}]]]}, {\"module\": \"keras.layers\", \"class_name\": \"BatchNormalization\", \"config\": {\"name\": \"conv5_block1_3_bn\", \"trainable\": true, \"dtype\": \"float32\", \"axis\": [3], \"momentum\": 0.99, \"epsilon\": 1.001e-05, \"center\": true, \"scale\": true, \"beta_initializer\": {\"module\": \"keras.initializers\", \"class_name\": \"Zeros\", \"config\": {}, \"registered_name\": null}, \"gamma_initializer\": {\"module\": \"keras.initializers\", \"class_name\": \"Ones\", \"config\": {}, \"registered_name\": null}, \"moving_mean_initializer\": {\"module\": \"keras.initializers\", \"class_name\": \"Zeros\", \"config\": {}, \"registered_name\": null}, \"moving_variance_initializer\": {\"module\": \"keras.initializers\", \"class_name\": \"Ones\", \"config\": {}, \"registered_name\": null}, \"beta_regularizer\": null, \"gamma_regularizer\": null, \"beta_constraint\": null, \"gamma_constraint\": null}, \"registered_name\": null, \"build_config\": {\"input_shape\": [null, 8, 8, 2048]}, \"name\": \"conv5_block1_3_bn\", \"inbound_nodes\": [[[\"conv5_block1_3_conv\", 0, 0, {}]]]}, {\"module\": \"keras.layers\", \"class_name\": \"Add\", \"config\": {\"name\": \"conv5_block1_add\", \"trainable\": true, \"dtype\": \"float32\"}, \"registered_name\": null, \"build_config\": {\"input_shape\": [[null, 8, 8, 2048], [null, 8, 8, 2048]]}, \"name\": \"conv5_block1_add\", \"inbound_nodes\": [[[\"conv5_block1_0_bn\", 0, 0, {}], [\"conv5_block1_3_bn\", 0, 0, {}]]]}, {\"module\": \"keras.layers\", \"class_name\": \"Activation\", \"config\": {\"name\": \"conv5_block1_out\", \"trainable\": true, \"dtype\": \"float32\", \"activation\": \"relu\"}, \"registered_name\": null, \"build_config\": {\"input_shape\": [null, 8, 8, 2048]}, \"name\": \"conv5_block1_out\", \"inbound_nodes\": [[[\"conv5_block1_add\", 0, 0, {}]]]}, {\"module\": \"keras.layers\", \"class_name\": \"Conv2D\", \"config\": {\"name\": \"conv5_block2_1_conv\", \"trainable\": true, \"dtype\": \"float32\", \"filters\": 512, \"kernel_size\": [1, 1], \"strides\": [1, 1], \"padding\": \"valid\", \"data_format\": \"channels_last\", \"dilation_rate\": [1, 1], \"groups\": 1, \"activation\": \"linear\", \"use_bias\": true, \"kernel_initializer\": {\"module\": \"keras.initializers\", \"class_name\": \"GlorotUniform\", \"config\": {\"seed\": null}, \"registered_name\": null}, \"bias_initializer\": {\"module\": \"keras.initializers\", \"class_name\": \"Zeros\", \"config\": {}, \"registered_name\": null}, \"kernel_regularizer\": null, \"bias_regularizer\": null, \"activity_regularizer\": null, \"kernel_constraint\": null, \"bias_constraint\": null}, \"registered_name\": null, \"build_config\": {\"input_shape\": [null, 8, 8, 2048]}, \"name\": \"conv5_block2_1_conv\", \"inbound_nodes\": [[[\"conv5_block1_out\", 0, 0, {}]]]}, {\"module\": \"keras.layers\", \"class_name\": \"BatchNormalization\", \"config\": {\"name\": \"conv5_block2_1_bn\", \"trainable\": true, \"dtype\": \"float32\", \"axis\": [3], \"momentum\": 0.99, \"epsilon\": 1.001e-05, \"center\": true, \"scale\": true, \"beta_initializer\": {\"module\": \"keras.initializers\", \"class_name\": \"Zeros\", \"config\": {}, \"registered_name\": null}, \"gamma_initializer\": {\"module\": \"keras.initializers\", \"class_name\": \"Ones\", \"config\": {}, \"registered_name\": null}, \"moving_mean_initializer\": {\"module\": \"keras.initializers\", \"class_name\": \"Zeros\", \"config\": {}, \"registered_name\": null}, \"moving_variance_initializer\": {\"module\": \"keras.initializers\", \"class_name\": \"Ones\", \"config\": {}, \"registered_name\": null}, \"beta_regularizer\": null, \"gamma_regularizer\": null, \"beta_constraint\": null, \"gamma_constraint\": null}, \"registered_name\": null, \"build_config\": {\"input_shape\": [null, 8, 8, 512]}, \"name\": \"conv5_block2_1_bn\", \"inbound_nodes\": [[[\"conv5_block2_1_conv\", 0, 0, {}]]]}, {\"module\": \"keras.layers\", \"class_name\": \"Activation\", \"config\": {\"name\": \"conv5_block2_1_relu\", \"trainable\": true, \"dtype\": \"float32\", \"activation\": \"relu\"}, \"registered_name\": null, \"build_config\": {\"input_shape\": [null, 8, 8, 512]}, \"name\": \"conv5_block2_1_relu\", \"inbound_nodes\": [[[\"conv5_block2_1_bn\", 0, 0, {}]]]}, {\"module\": \"keras.layers\", \"class_name\": \"Conv2D\", \"config\": {\"name\": \"conv5_block2_2_conv\", \"trainable\": true, \"dtype\": \"float32\", \"filters\": 512, \"kernel_size\": [3, 3], \"strides\": [1, 1], \"padding\": \"same\", \"data_format\": \"channels_last\", \"dilation_rate\": [1, 1], \"groups\": 1, \"activation\": \"linear\", \"use_bias\": true, \"kernel_initializer\": {\"module\": \"keras.initializers\", \"class_name\": \"GlorotUniform\", \"config\": {\"seed\": null}, \"registered_name\": null}, \"bias_initializer\": {\"module\": \"keras.initializers\", \"class_name\": \"Zeros\", \"config\": {}, \"registered_name\": null}, \"kernel_regularizer\": null, \"bias_regularizer\": null, \"activity_regularizer\": null, \"kernel_constraint\": null, \"bias_constraint\": null}, \"registered_name\": null, \"build_config\": {\"input_shape\": [null, 8, 8, 512]}, \"name\": \"conv5_block2_2_conv\", \"inbound_nodes\": [[[\"conv5_block2_1_relu\", 0, 0, {}]]]}, {\"module\": \"keras.layers\", \"class_name\": \"BatchNormalization\", \"config\": {\"name\": \"conv5_block2_2_bn\", \"trainable\": true, \"dtype\": \"float32\", \"axis\": [3], \"momentum\": 0.99, \"epsilon\": 1.001e-05, \"center\": true, \"scale\": true, \"beta_initializer\": {\"module\": \"keras.initializers\", \"class_name\": \"Zeros\", \"config\": {}, \"registered_name\": null}, \"gamma_initializer\": {\"module\": \"keras.initializers\", \"class_name\": \"Ones\", \"config\": {}, \"registered_name\": null}, \"moving_mean_initializer\": {\"module\": \"keras.initializers\", \"class_name\": \"Zeros\", \"config\": {}, \"registered_name\": null}, \"moving_variance_initializer\": {\"module\": \"keras.initializers\", \"class_name\": \"Ones\", \"config\": {}, \"registered_name\": null}, \"beta_regularizer\": null, \"gamma_regularizer\": null, \"beta_constraint\": null, \"gamma_constraint\": null}, \"registered_name\": null, \"build_config\": {\"input_shape\": [null, 8, 8, 512]}, \"name\": \"conv5_block2_2_bn\", \"inbound_nodes\": [[[\"conv5_block2_2_conv\", 0, 0, {}]]]}, {\"module\": \"keras.layers\", \"class_name\": \"Activation\", \"config\": {\"name\": \"conv5_block2_2_relu\", \"trainable\": true, \"dtype\": \"float32\", \"activation\": \"relu\"}, \"registered_name\": null, \"build_config\": {\"input_shape\": [null, 8, 8, 512]}, \"name\": \"conv5_block2_2_relu\", \"inbound_nodes\": [[[\"conv5_block2_2_bn\", 0, 0, {}]]]}, {\"module\": \"keras.layers\", \"class_name\": \"Conv2D\", \"config\": {\"name\": \"conv5_block2_3_conv\", \"trainable\": true, \"dtype\": \"float32\", \"filters\": 2048, \"kernel_size\": [1, 1], \"strides\": [1, 1], \"padding\": \"valid\", \"data_format\": \"channels_last\", \"dilation_rate\": [1, 1], \"groups\": 1, \"activation\": \"linear\", \"use_bias\": true, \"kernel_initializer\": {\"module\": \"keras.initializers\", \"class_name\": \"GlorotUniform\", \"config\": {\"seed\": null}, \"registered_name\": null}, \"bias_initializer\": {\"module\": \"keras.initializers\", \"class_name\": \"Zeros\", \"config\": {}, \"registered_name\": null}, \"kernel_regularizer\": null, \"bias_regularizer\": null, \"activity_regularizer\": null, \"kernel_constraint\": null, \"bias_constraint\": null}, \"registered_name\": null, \"build_config\": {\"input_shape\": [null, 8, 8, 512]}, \"name\": \"conv5_block2_3_conv\", \"inbound_nodes\": [[[\"conv5_block2_2_relu\", 0, 0, {}]]]}, {\"module\": \"keras.layers\", \"class_name\": \"BatchNormalization\", \"config\": {\"name\": \"conv5_block2_3_bn\", \"trainable\": true, \"dtype\": \"float32\", \"axis\": [3], \"momentum\": 0.99, \"epsilon\": 1.001e-05, \"center\": true, \"scale\": true, \"beta_initializer\": {\"module\": \"keras.initializers\", \"class_name\": \"Zeros\", \"config\": {}, \"registered_name\": null}, \"gamma_initializer\": {\"module\": \"keras.initializers\", \"class_name\": \"Ones\", \"config\": {}, \"registered_name\": null}, \"moving_mean_initializer\": {\"module\": \"keras.initializers\", \"class_name\": \"Zeros\", \"config\": {}, \"registered_name\": null}, \"moving_variance_initializer\": {\"module\": \"keras.initializers\", \"class_name\": \"Ones\", \"config\": {}, \"registered_name\": null}, \"beta_regularizer\": null, \"gamma_regularizer\": null, \"beta_constraint\": null, \"gamma_constraint\": null}, \"registered_name\": null, \"build_config\": {\"input_shape\": [null, 8, 8, 2048]}, \"name\": \"conv5_block2_3_bn\", \"inbound_nodes\": [[[\"conv5_block2_3_conv\", 0, 0, {}]]]}, {\"module\": \"keras.layers\", \"class_name\": \"Add\", \"config\": {\"name\": \"conv5_block2_add\", \"trainable\": true, \"dtype\": \"float32\"}, \"registered_name\": null, \"build_config\": {\"input_shape\": [[null, 8, 8, 2048], [null, 8, 8, 2048]]}, \"name\": \"conv5_block2_add\", \"inbound_nodes\": [[[\"conv5_block1_out\", 0, 0, {}], [\"conv5_block2_3_bn\", 0, 0, {}]]]}, {\"module\": \"keras.layers\", \"class_name\": \"Activation\", \"config\": {\"name\": \"conv5_block2_out\", \"trainable\": true, \"dtype\": \"float32\", \"activation\": \"relu\"}, \"registered_name\": null, \"build_config\": {\"input_shape\": [null, 8, 8, 2048]}, \"name\": \"conv5_block2_out\", \"inbound_nodes\": [[[\"conv5_block2_add\", 0, 0, {}]]]}, {\"module\": \"keras.layers\", \"class_name\": \"Conv2D\", \"config\": {\"name\": \"conv5_block3_1_conv\", \"trainable\": true, \"dtype\": \"float32\", \"filters\": 512, \"kernel_size\": [1, 1], \"strides\": [1, 1], \"padding\": \"valid\", \"data_format\": \"channels_last\", \"dilation_rate\": [1, 1], \"groups\": 1, \"activation\": \"linear\", \"use_bias\": true, \"kernel_initializer\": {\"module\": \"keras.initializers\", \"class_name\": \"GlorotUniform\", \"config\": {\"seed\": null}, \"registered_name\": null}, \"bias_initializer\": {\"module\": \"keras.initializers\", \"class_name\": \"Zeros\", \"config\": {}, \"registered_name\": null}, \"kernel_regularizer\": null, \"bias_regularizer\": null, \"activity_regularizer\": null, \"kernel_constraint\": null, \"bias_constraint\": null}, \"registered_name\": null, \"build_config\": {\"input_shape\": [null, 8, 8, 2048]}, \"name\": \"conv5_block3_1_conv\", \"inbound_nodes\": [[[\"conv5_block2_out\", 0, 0, {}]]]}, {\"module\": \"keras.layers\", \"class_name\": \"BatchNormalization\", \"config\": {\"name\": \"conv5_block3_1_bn\", \"trainable\": true, \"dtype\": \"float32\", \"axis\": [3], \"momentum\": 0.99, \"epsilon\": 1.001e-05, \"center\": true, \"scale\": true, \"beta_initializer\": {\"module\": \"keras.initializers\", \"class_name\": \"Zeros\", \"config\": {}, \"registered_name\": null}, \"gamma_initializer\": {\"module\": \"keras.initializers\", \"class_name\": \"Ones\", \"config\": {}, \"registered_name\": null}, \"moving_mean_initializer\": {\"module\": \"keras.initializers\", \"class_name\": \"Zeros\", \"config\": {}, \"registered_name\": null}, \"moving_variance_initializer\": {\"module\": \"keras.initializers\", \"class_name\": \"Ones\", \"config\": {}, \"registered_name\": null}, \"beta_regularizer\": null, \"gamma_regularizer\": null, \"beta_constraint\": null, \"gamma_constraint\": null}, \"registered_name\": null, \"build_config\": {\"input_shape\": [null, 8, 8, 512]}, \"name\": \"conv5_block3_1_bn\", \"inbound_nodes\": [[[\"conv5_block3_1_conv\", 0, 0, {}]]]}, {\"module\": \"keras.layers\", \"class_name\": \"Activation\", \"config\": {\"name\": \"conv5_block3_1_relu\", \"trainable\": true, \"dtype\": \"float32\", \"activation\": \"relu\"}, \"registered_name\": null, \"build_config\": {\"input_shape\": [null, 8, 8, 512]}, \"name\": \"conv5_block3_1_relu\", \"inbound_nodes\": [[[\"conv5_block3_1_bn\", 0, 0, {}]]]}, {\"module\": \"keras.layers\", \"class_name\": \"Conv2D\", \"config\": {\"name\": \"conv5_block3_2_conv\", \"trainable\": true, \"dtype\": \"float32\", \"filters\": 512, \"kernel_size\": [3, 3], \"strides\": [1, 1], \"padding\": \"same\", \"data_format\": \"channels_last\", \"dilation_rate\": [1, 1], \"groups\": 1, \"activation\": \"linear\", \"use_bias\": true, \"kernel_initializer\": {\"module\": \"keras.initializers\", \"class_name\": \"GlorotUniform\", \"config\": {\"seed\": null}, \"registered_name\": null}, \"bias_initializer\": {\"module\": \"keras.initializers\", \"class_name\": \"Zeros\", \"config\": {}, \"registered_name\": null}, \"kernel_regularizer\": null, \"bias_regularizer\": null, \"activity_regularizer\": null, \"kernel_constraint\": null, \"bias_constraint\": null}, \"registered_name\": null, \"build_config\": {\"input_shape\": [null, 8, 8, 512]}, \"name\": \"conv5_block3_2_conv\", \"inbound_nodes\": [[[\"conv5_block3_1_relu\", 0, 0, {}]]]}, {\"module\": \"keras.layers\", \"class_name\": \"BatchNormalization\", \"config\": {\"name\": \"conv5_block3_2_bn\", \"trainable\": true, \"dtype\": \"float32\", \"axis\": [3], \"momentum\": 0.99, \"epsilon\": 1.001e-05, \"center\": true, \"scale\": true, \"beta_initializer\": {\"module\": \"keras.initializers\", \"class_name\": \"Zeros\", \"config\": {}, \"registered_name\": null}, \"gamma_initializer\": {\"module\": \"keras.initializers\", \"class_name\": \"Ones\", \"config\": {}, \"registered_name\": null}, \"moving_mean_initializer\": {\"module\": \"keras.initializers\", \"class_name\": \"Zeros\", \"config\": {}, \"registered_name\": null}, \"moving_variance_initializer\": {\"module\": \"keras.initializers\", \"class_name\": \"Ones\", \"config\": {}, \"registered_name\": null}, \"beta_regularizer\": null, \"gamma_regularizer\": null, \"beta_constraint\": null, \"gamma_constraint\": null}, \"registered_name\": null, \"build_config\": {\"input_shape\": [null, 8, 8, 512]}, \"name\": \"conv5_block3_2_bn\", \"inbound_nodes\": [[[\"conv5_block3_2_conv\", 0, 0, {}]]]}, {\"module\": \"keras.layers\", \"class_name\": \"Activation\", \"config\": {\"name\": \"conv5_block3_2_relu\", \"trainable\": true, \"dtype\": \"float32\", \"activation\": \"relu\"}, \"registered_name\": null, \"build_config\": {\"input_shape\": [null, 8, 8, 512]}, \"name\": \"conv5_block3_2_relu\", \"inbound_nodes\": [[[\"conv5_block3_2_bn\", 0, 0, {}]]]}, {\"module\": \"keras.layers\", \"class_name\": \"Conv2D\", \"config\": {\"name\": \"conv5_block3_3_conv\", \"trainable\": true, \"dtype\": \"float32\", \"filters\": 2048, \"kernel_size\": [1, 1], \"strides\": [1, 1], \"padding\": \"valid\", \"data_format\": \"channels_last\", \"dilation_rate\": [1, 1], \"groups\": 1, \"activation\": \"linear\", \"use_bias\": true, \"kernel_initializer\": {\"module\": \"keras.initializers\", \"class_name\": \"GlorotUniform\", \"config\": {\"seed\": null}, \"registered_name\": null}, \"bias_initializer\": {\"module\": \"keras.initializers\", \"class_name\": \"Zeros\", \"config\": {}, \"registered_name\": null}, \"kernel_regularizer\": null, \"bias_regularizer\": null, \"activity_regularizer\": null, \"kernel_constraint\": null, \"bias_constraint\": null}, \"registered_name\": null, \"build_config\": {\"input_shape\": [null, 8, 8, 512]}, \"name\": \"conv5_block3_3_conv\", \"inbound_nodes\": [[[\"conv5_block3_2_relu\", 0, 0, {}]]]}, {\"module\": \"keras.layers\", \"class_name\": \"BatchNormalization\", \"config\": {\"name\": \"conv5_block3_3_bn\", \"trainable\": true, \"dtype\": \"float32\", \"axis\": [3], \"momentum\": 0.99, \"epsilon\": 1.001e-05, \"center\": true, \"scale\": true, \"beta_initializer\": {\"module\": \"keras.initializers\", \"class_name\": \"Zeros\", \"config\": {}, \"registered_name\": null}, \"gamma_initializer\": {\"module\": \"keras.initializers\", \"class_name\": \"Ones\", \"config\": {}, \"registered_name\": null}, \"moving_mean_initializer\": {\"module\": \"keras.initializers\", \"class_name\": \"Zeros\", \"config\": {}, \"registered_name\": null}, \"moving_variance_initializer\": {\"module\": \"keras.initializers\", \"class_name\": \"Ones\", \"config\": {}, \"registered_name\": null}, \"beta_regularizer\": null, \"gamma_regularizer\": null, \"beta_constraint\": null, \"gamma_constraint\": null}, \"registered_name\": null, \"build_config\": {\"input_shape\": [null, 8, 8, 2048]}, \"name\": \"conv5_block3_3_bn\", \"inbound_nodes\": [[[\"conv5_block3_3_conv\", 0, 0, {}]]]}, {\"module\": \"keras.layers\", \"class_name\": \"Add\", \"config\": {\"name\": \"conv5_block3_add\", \"trainable\": true, \"dtype\": \"float32\"}, \"registered_name\": null, \"build_config\": {\"input_shape\": [[null, 8, 8, 2048], [null, 8, 8, 2048]]}, \"name\": \"conv5_block3_add\", \"inbound_nodes\": [[[\"conv5_block2_out\", 0, 0, {}], [\"conv5_block3_3_bn\", 0, 0, {}]]]}, {\"module\": \"keras.layers\", \"class_name\": \"Activation\", \"config\": {\"name\": \"conv5_block3_out\", \"trainable\": true, \"dtype\": \"float32\", \"activation\": \"relu\"}, \"registered_name\": null, \"build_config\": {\"input_shape\": [null, 8, 8, 2048]}, \"name\": \"conv5_block3_out\", \"inbound_nodes\": [[[\"conv5_block3_add\", 0, 0, {}]]]}, {\"module\": \"keras.layers\", \"class_name\": \"GlobalAveragePooling2D\", \"config\": {\"name\": \"global_average_pooling2d\", \"trainable\": true, \"dtype\": \"float32\", \"data_format\": \"channels_last\", \"keepdims\": false}, \"registered_name\": null, \"build_config\": {\"input_shape\": [null, 8, 8, 2048]}, \"name\": \"global_average_pooling2d\", \"inbound_nodes\": [[[\"conv5_block3_out\", 0, 0, {}]]]}, {\"module\": \"keras.layers\", \"class_name\": \"Dense\", \"config\": {\"name\": \"dense\", \"trainable\": true, \"dtype\": \"float32\", \"units\": 1025, \"activation\": \"relu\", \"use_bias\": true, \"kernel_initializer\": {\"module\": \"keras.initializers\", \"class_name\": \"GlorotUniform\", \"config\": {\"seed\": null}, \"registered_name\": null}, \"bias_initializer\": {\"module\": \"keras.initializers\", \"class_name\": \"Zeros\", \"config\": {}, \"registered_name\": null}, \"kernel_regularizer\": null, \"bias_regularizer\": null, \"activity_regularizer\": null, \"kernel_constraint\": null, \"bias_constraint\": null}, \"registered_name\": null, \"build_config\": {\"input_shape\": [null, 2048]}, \"name\": \"dense\", \"inbound_nodes\": [[[\"global_average_pooling2d\", 0, 0, {}]]]}, {\"module\": \"keras.layers\", \"class_name\": \"Dropout\", \"config\": {\"name\": \"dropout\", \"trainable\": true, \"dtype\": \"float32\", \"rate\": 0.2, \"noise_shape\": null, \"seed\": null}, \"registered_name\": null, \"build_config\": {\"input_shape\": [null, 1025]}, \"name\": \"dropout\", \"inbound_nodes\": [[[\"dense\", 0, 0, {}]]]}, {\"module\": \"keras.layers\", \"class_name\": \"Dense\", \"config\": {\"name\": \"dense_1\", \"trainable\": true, \"dtype\": \"float32\", \"units\": 1025, \"activation\": \"relu\", \"use_bias\": true, \"kernel_initializer\": {\"module\": \"keras.initializers\", \"class_name\": \"GlorotUniform\", \"config\": {\"seed\": null}, \"registered_name\": null}, \"bias_initializer\": {\"module\": \"keras.initializers\", \"class_name\": \"Zeros\", \"config\": {}, \"registered_name\": null}, \"kernel_regularizer\": null, \"bias_regularizer\": null, \"activity_regularizer\": null, \"kernel_constraint\": null, \"bias_constraint\": null}, \"registered_name\": null, \"build_config\": {\"input_shape\": [null, 1025]}, \"name\": \"dense_1\", \"inbound_nodes\": [[[\"dropout\", 0, 0, {}]]]}, {\"module\": \"keras.layers\", \"class_name\": \"Dropout\", \"config\": {\"name\": \"dropout_1\", \"trainable\": true, \"dtype\": \"float32\", \"rate\": 0.2, \"noise_shape\": null, \"seed\": null}, \"registered_name\": null, \"build_config\": {\"input_shape\": [null, 1025]}, \"name\": \"dropout_1\", \"inbound_nodes\": [[[\"dense_1\", 0, 0, {}]]]}, {\"module\": \"keras.layers\", \"class_name\": \"Dense\", \"config\": {\"name\": \"dense_2\", \"trainable\": true, \"dtype\": \"float32\", \"units\": 2, \"activation\": \"softmax\", \"use_bias\": true, \"kernel_initializer\": {\"module\": \"keras.initializers\", \"class_name\": \"GlorotUniform\", \"config\": {\"seed\": null}, \"registered_name\": null}, \"bias_initializer\": {\"module\": \"keras.initializers\", \"class_name\": \"Zeros\", \"config\": {}, \"registered_name\": null}, \"kernel_regularizer\": null, \"bias_regularizer\": null, \"activity_regularizer\": null, \"kernel_constraint\": null, \"bias_constraint\": null}, \"registered_name\": null, \"build_config\": {\"input_shape\": [null, 1025]}, \"name\": \"dense_2\", \"inbound_nodes\": [[[\"dropout_1\", 0, 0, {}]]]}], \"input_layers\": [[\"input_1\", 0, 0]], \"output_layers\": [[\"dense_2\", 0, 0]]}, \"keras_version\": \"2.15.0\", \"backend\": \"tensorflow\"}'"
            ],
            "application/vnd.google.colaboratory.intrinsic+json": {
              "type": "string"
            }
          },
          "metadata": {},
          "execution_count": 49
        }
      ]
    },
    {
      "cell_type": "code",
      "source": [
        "network_loaded = tf.keras.models.model_from_json(json_saved_model)\n",
        "network_loaded.load_weights('/content/content/weights.hdf5')\n",
        "network_loaded.compile(loss='categorical_lossentropy', optimizer='Adam', metrics=['accuracy'])\n",
        "network_loaded.summary()"
      ],
      "metadata": {
        "colab": {
          "base_uri": "https://localhost:8080/"
        },
        "id": "WhyQEvHxJXJ6",
        "outputId": "7f953574-5c51-44df-df55-b3c09d9a0668"
      },
      "execution_count": 52,
      "outputs": [
        {
          "output_type": "stream",
          "name": "stdout",
          "text": [
            "Model: \"model\"\n",
            "__________________________________________________________________________________________________\n",
            " Layer (type)                Output Shape                 Param #   Connected to                  \n",
            "==================================================================================================\n",
            " input_1 (InputLayer)        [(None, 256, 256, 3)]        0         []                            \n",
            "                                                                                                  \n",
            " conv1_pad (ZeroPadding2D)   (None, 262, 262, 3)          0         ['input_1[0][0]']             \n",
            "                                                                                                  \n",
            " conv1_conv (Conv2D)         (None, 128, 128, 64)         9472      ['conv1_pad[0][0]']           \n",
            "                                                                                                  \n",
            " conv1_bn (BatchNormalizati  (None, 128, 128, 64)         256       ['conv1_conv[0][0]']          \n",
            " on)                                                                                              \n",
            "                                                                                                  \n",
            " conv1_relu (Activation)     (None, 128, 128, 64)         0         ['conv1_bn[0][0]']            \n",
            "                                                                                                  \n",
            " pool1_pad (ZeroPadding2D)   (None, 130, 130, 64)         0         ['conv1_relu[0][0]']          \n",
            "                                                                                                  \n",
            " pool1_pool (MaxPooling2D)   (None, 64, 64, 64)           0         ['pool1_pad[0][0]']           \n",
            "                                                                                                  \n",
            " conv2_block1_1_conv (Conv2  (None, 64, 64, 64)           4160      ['pool1_pool[0][0]']          \n",
            " D)                                                                                               \n",
            "                                                                                                  \n",
            " conv2_block1_1_bn (BatchNo  (None, 64, 64, 64)           256       ['conv2_block1_1_conv[0][0]'] \n",
            " rmalization)                                                                                     \n",
            "                                                                                                  \n",
            " conv2_block1_1_relu (Activ  (None, 64, 64, 64)           0         ['conv2_block1_1_bn[0][0]']   \n",
            " ation)                                                                                           \n",
            "                                                                                                  \n",
            " conv2_block1_2_conv (Conv2  (None, 64, 64, 64)           36928     ['conv2_block1_1_relu[0][0]'] \n",
            " D)                                                                                               \n",
            "                                                                                                  \n",
            " conv2_block1_2_bn (BatchNo  (None, 64, 64, 64)           256       ['conv2_block1_2_conv[0][0]'] \n",
            " rmalization)                                                                                     \n",
            "                                                                                                  \n",
            " conv2_block1_2_relu (Activ  (None, 64, 64, 64)           0         ['conv2_block1_2_bn[0][0]']   \n",
            " ation)                                                                                           \n",
            "                                                                                                  \n",
            " conv2_block1_0_conv (Conv2  (None, 64, 64, 256)          16640     ['pool1_pool[0][0]']          \n",
            " D)                                                                                               \n",
            "                                                                                                  \n",
            " conv2_block1_3_conv (Conv2  (None, 64, 64, 256)          16640     ['conv2_block1_2_relu[0][0]'] \n",
            " D)                                                                                               \n",
            "                                                                                                  \n",
            " conv2_block1_0_bn (BatchNo  (None, 64, 64, 256)          1024      ['conv2_block1_0_conv[0][0]'] \n",
            " rmalization)                                                                                     \n",
            "                                                                                                  \n",
            " conv2_block1_3_bn (BatchNo  (None, 64, 64, 256)          1024      ['conv2_block1_3_conv[0][0]'] \n",
            " rmalization)                                                                                     \n",
            "                                                                                                  \n",
            " conv2_block1_add (Add)      (None, 64, 64, 256)          0         ['conv2_block1_0_bn[0][0]',   \n",
            "                                                                     'conv2_block1_3_bn[0][0]']   \n",
            "                                                                                                  \n",
            " conv2_block1_out (Activati  (None, 64, 64, 256)          0         ['conv2_block1_add[0][0]']    \n",
            " on)                                                                                              \n",
            "                                                                                                  \n",
            " conv2_block2_1_conv (Conv2  (None, 64, 64, 64)           16448     ['conv2_block1_out[0][0]']    \n",
            " D)                                                                                               \n",
            "                                                                                                  \n",
            " conv2_block2_1_bn (BatchNo  (None, 64, 64, 64)           256       ['conv2_block2_1_conv[0][0]'] \n",
            " rmalization)                                                                                     \n",
            "                                                                                                  \n",
            " conv2_block2_1_relu (Activ  (None, 64, 64, 64)           0         ['conv2_block2_1_bn[0][0]']   \n",
            " ation)                                                                                           \n",
            "                                                                                                  \n",
            " conv2_block2_2_conv (Conv2  (None, 64, 64, 64)           36928     ['conv2_block2_1_relu[0][0]'] \n",
            " D)                                                                                               \n",
            "                                                                                                  \n",
            " conv2_block2_2_bn (BatchNo  (None, 64, 64, 64)           256       ['conv2_block2_2_conv[0][0]'] \n",
            " rmalization)                                                                                     \n",
            "                                                                                                  \n",
            " conv2_block2_2_relu (Activ  (None, 64, 64, 64)           0         ['conv2_block2_2_bn[0][0]']   \n",
            " ation)                                                                                           \n",
            "                                                                                                  \n",
            " conv2_block2_3_conv (Conv2  (None, 64, 64, 256)          16640     ['conv2_block2_2_relu[0][0]'] \n",
            " D)                                                                                               \n",
            "                                                                                                  \n",
            " conv2_block2_3_bn (BatchNo  (None, 64, 64, 256)          1024      ['conv2_block2_3_conv[0][0]'] \n",
            " rmalization)                                                                                     \n",
            "                                                                                                  \n",
            " conv2_block2_add (Add)      (None, 64, 64, 256)          0         ['conv2_block1_out[0][0]',    \n",
            "                                                                     'conv2_block2_3_bn[0][0]']   \n",
            "                                                                                                  \n",
            " conv2_block2_out (Activati  (None, 64, 64, 256)          0         ['conv2_block2_add[0][0]']    \n",
            " on)                                                                                              \n",
            "                                                                                                  \n",
            " conv2_block3_1_conv (Conv2  (None, 64, 64, 64)           16448     ['conv2_block2_out[0][0]']    \n",
            " D)                                                                                               \n",
            "                                                                                                  \n",
            " conv2_block3_1_bn (BatchNo  (None, 64, 64, 64)           256       ['conv2_block3_1_conv[0][0]'] \n",
            " rmalization)                                                                                     \n",
            "                                                                                                  \n",
            " conv2_block3_1_relu (Activ  (None, 64, 64, 64)           0         ['conv2_block3_1_bn[0][0]']   \n",
            " ation)                                                                                           \n",
            "                                                                                                  \n",
            " conv2_block3_2_conv (Conv2  (None, 64, 64, 64)           36928     ['conv2_block3_1_relu[0][0]'] \n",
            " D)                                                                                               \n",
            "                                                                                                  \n",
            " conv2_block3_2_bn (BatchNo  (None, 64, 64, 64)           256       ['conv2_block3_2_conv[0][0]'] \n",
            " rmalization)                                                                                     \n",
            "                                                                                                  \n",
            " conv2_block3_2_relu (Activ  (None, 64, 64, 64)           0         ['conv2_block3_2_bn[0][0]']   \n",
            " ation)                                                                                           \n",
            "                                                                                                  \n",
            " conv2_block3_3_conv (Conv2  (None, 64, 64, 256)          16640     ['conv2_block3_2_relu[0][0]'] \n",
            " D)                                                                                               \n",
            "                                                                                                  \n",
            " conv2_block3_3_bn (BatchNo  (None, 64, 64, 256)          1024      ['conv2_block3_3_conv[0][0]'] \n",
            " rmalization)                                                                                     \n",
            "                                                                                                  \n",
            " conv2_block3_add (Add)      (None, 64, 64, 256)          0         ['conv2_block2_out[0][0]',    \n",
            "                                                                     'conv2_block3_3_bn[0][0]']   \n",
            "                                                                                                  \n",
            " conv2_block3_out (Activati  (None, 64, 64, 256)          0         ['conv2_block3_add[0][0]']    \n",
            " on)                                                                                              \n",
            "                                                                                                  \n",
            " conv3_block1_1_conv (Conv2  (None, 32, 32, 128)          32896     ['conv2_block3_out[0][0]']    \n",
            " D)                                                                                               \n",
            "                                                                                                  \n",
            " conv3_block1_1_bn (BatchNo  (None, 32, 32, 128)          512       ['conv3_block1_1_conv[0][0]'] \n",
            " rmalization)                                                                                     \n",
            "                                                                                                  \n",
            " conv3_block1_1_relu (Activ  (None, 32, 32, 128)          0         ['conv3_block1_1_bn[0][0]']   \n",
            " ation)                                                                                           \n",
            "                                                                                                  \n",
            " conv3_block1_2_conv (Conv2  (None, 32, 32, 128)          147584    ['conv3_block1_1_relu[0][0]'] \n",
            " D)                                                                                               \n",
            "                                                                                                  \n",
            " conv3_block1_2_bn (BatchNo  (None, 32, 32, 128)          512       ['conv3_block1_2_conv[0][0]'] \n",
            " rmalization)                                                                                     \n",
            "                                                                                                  \n",
            " conv3_block1_2_relu (Activ  (None, 32, 32, 128)          0         ['conv3_block1_2_bn[0][0]']   \n",
            " ation)                                                                                           \n",
            "                                                                                                  \n",
            " conv3_block1_0_conv (Conv2  (None, 32, 32, 512)          131584    ['conv2_block3_out[0][0]']    \n",
            " D)                                                                                               \n",
            "                                                                                                  \n",
            " conv3_block1_3_conv (Conv2  (None, 32, 32, 512)          66048     ['conv3_block1_2_relu[0][0]'] \n",
            " D)                                                                                               \n",
            "                                                                                                  \n",
            " conv3_block1_0_bn (BatchNo  (None, 32, 32, 512)          2048      ['conv3_block1_0_conv[0][0]'] \n",
            " rmalization)                                                                                     \n",
            "                                                                                                  \n",
            " conv3_block1_3_bn (BatchNo  (None, 32, 32, 512)          2048      ['conv3_block1_3_conv[0][0]'] \n",
            " rmalization)                                                                                     \n",
            "                                                                                                  \n",
            " conv3_block1_add (Add)      (None, 32, 32, 512)          0         ['conv3_block1_0_bn[0][0]',   \n",
            "                                                                     'conv3_block1_3_bn[0][0]']   \n",
            "                                                                                                  \n",
            " conv3_block1_out (Activati  (None, 32, 32, 512)          0         ['conv3_block1_add[0][0]']    \n",
            " on)                                                                                              \n",
            "                                                                                                  \n",
            " conv3_block2_1_conv (Conv2  (None, 32, 32, 128)          65664     ['conv3_block1_out[0][0]']    \n",
            " D)                                                                                               \n",
            "                                                                                                  \n",
            " conv3_block2_1_bn (BatchNo  (None, 32, 32, 128)          512       ['conv3_block2_1_conv[0][0]'] \n",
            " rmalization)                                                                                     \n",
            "                                                                                                  \n",
            " conv3_block2_1_relu (Activ  (None, 32, 32, 128)          0         ['conv3_block2_1_bn[0][0]']   \n",
            " ation)                                                                                           \n",
            "                                                                                                  \n",
            " conv3_block2_2_conv (Conv2  (None, 32, 32, 128)          147584    ['conv3_block2_1_relu[0][0]'] \n",
            " D)                                                                                               \n",
            "                                                                                                  \n",
            " conv3_block2_2_bn (BatchNo  (None, 32, 32, 128)          512       ['conv3_block2_2_conv[0][0]'] \n",
            " rmalization)                                                                                     \n",
            "                                                                                                  \n",
            " conv3_block2_2_relu (Activ  (None, 32, 32, 128)          0         ['conv3_block2_2_bn[0][0]']   \n",
            " ation)                                                                                           \n",
            "                                                                                                  \n",
            " conv3_block2_3_conv (Conv2  (None, 32, 32, 512)          66048     ['conv3_block2_2_relu[0][0]'] \n",
            " D)                                                                                               \n",
            "                                                                                                  \n",
            " conv3_block2_3_bn (BatchNo  (None, 32, 32, 512)          2048      ['conv3_block2_3_conv[0][0]'] \n",
            " rmalization)                                                                                     \n",
            "                                                                                                  \n",
            " conv3_block2_add (Add)      (None, 32, 32, 512)          0         ['conv3_block1_out[0][0]',    \n",
            "                                                                     'conv3_block2_3_bn[0][0]']   \n",
            "                                                                                                  \n",
            " conv3_block2_out (Activati  (None, 32, 32, 512)          0         ['conv3_block2_add[0][0]']    \n",
            " on)                                                                                              \n",
            "                                                                                                  \n",
            " conv3_block3_1_conv (Conv2  (None, 32, 32, 128)          65664     ['conv3_block2_out[0][0]']    \n",
            " D)                                                                                               \n",
            "                                                                                                  \n",
            " conv3_block3_1_bn (BatchNo  (None, 32, 32, 128)          512       ['conv3_block3_1_conv[0][0]'] \n",
            " rmalization)                                                                                     \n",
            "                                                                                                  \n",
            " conv3_block3_1_relu (Activ  (None, 32, 32, 128)          0         ['conv3_block3_1_bn[0][0]']   \n",
            " ation)                                                                                           \n",
            "                                                                                                  \n",
            " conv3_block3_2_conv (Conv2  (None, 32, 32, 128)          147584    ['conv3_block3_1_relu[0][0]'] \n",
            " D)                                                                                               \n",
            "                                                                                                  \n",
            " conv3_block3_2_bn (BatchNo  (None, 32, 32, 128)          512       ['conv3_block3_2_conv[0][0]'] \n",
            " rmalization)                                                                                     \n",
            "                                                                                                  \n",
            " conv3_block3_2_relu (Activ  (None, 32, 32, 128)          0         ['conv3_block3_2_bn[0][0]']   \n",
            " ation)                                                                                           \n",
            "                                                                                                  \n",
            " conv3_block3_3_conv (Conv2  (None, 32, 32, 512)          66048     ['conv3_block3_2_relu[0][0]'] \n",
            " D)                                                                                               \n",
            "                                                                                                  \n",
            " conv3_block3_3_bn (BatchNo  (None, 32, 32, 512)          2048      ['conv3_block3_3_conv[0][0]'] \n",
            " rmalization)                                                                                     \n",
            "                                                                                                  \n",
            " conv3_block3_add (Add)      (None, 32, 32, 512)          0         ['conv3_block2_out[0][0]',    \n",
            "                                                                     'conv3_block3_3_bn[0][0]']   \n",
            "                                                                                                  \n",
            " conv3_block3_out (Activati  (None, 32, 32, 512)          0         ['conv3_block3_add[0][0]']    \n",
            " on)                                                                                              \n",
            "                                                                                                  \n",
            " conv3_block4_1_conv (Conv2  (None, 32, 32, 128)          65664     ['conv3_block3_out[0][0]']    \n",
            " D)                                                                                               \n",
            "                                                                                                  \n",
            " conv3_block4_1_bn (BatchNo  (None, 32, 32, 128)          512       ['conv3_block4_1_conv[0][0]'] \n",
            " rmalization)                                                                                     \n",
            "                                                                                                  \n",
            " conv3_block4_1_relu (Activ  (None, 32, 32, 128)          0         ['conv3_block4_1_bn[0][0]']   \n",
            " ation)                                                                                           \n",
            "                                                                                                  \n",
            " conv3_block4_2_conv (Conv2  (None, 32, 32, 128)          147584    ['conv3_block4_1_relu[0][0]'] \n",
            " D)                                                                                               \n",
            "                                                                                                  \n",
            " conv3_block4_2_bn (BatchNo  (None, 32, 32, 128)          512       ['conv3_block4_2_conv[0][0]'] \n",
            " rmalization)                                                                                     \n",
            "                                                                                                  \n",
            " conv3_block4_2_relu (Activ  (None, 32, 32, 128)          0         ['conv3_block4_2_bn[0][0]']   \n",
            " ation)                                                                                           \n",
            "                                                                                                  \n",
            " conv3_block4_3_conv (Conv2  (None, 32, 32, 512)          66048     ['conv3_block4_2_relu[0][0]'] \n",
            " D)                                                                                               \n",
            "                                                                                                  \n",
            " conv3_block4_3_bn (BatchNo  (None, 32, 32, 512)          2048      ['conv3_block4_3_conv[0][0]'] \n",
            " rmalization)                                                                                     \n",
            "                                                                                                  \n",
            " conv3_block4_add (Add)      (None, 32, 32, 512)          0         ['conv3_block3_out[0][0]',    \n",
            "                                                                     'conv3_block4_3_bn[0][0]']   \n",
            "                                                                                                  \n",
            " conv3_block4_out (Activati  (None, 32, 32, 512)          0         ['conv3_block4_add[0][0]']    \n",
            " on)                                                                                              \n",
            "                                                                                                  \n",
            " conv4_block1_1_conv (Conv2  (None, 16, 16, 256)          131328    ['conv3_block4_out[0][0]']    \n",
            " D)                                                                                               \n",
            "                                                                                                  \n",
            " conv4_block1_1_bn (BatchNo  (None, 16, 16, 256)          1024      ['conv4_block1_1_conv[0][0]'] \n",
            " rmalization)                                                                                     \n",
            "                                                                                                  \n",
            " conv4_block1_1_relu (Activ  (None, 16, 16, 256)          0         ['conv4_block1_1_bn[0][0]']   \n",
            " ation)                                                                                           \n",
            "                                                                                                  \n",
            " conv4_block1_2_conv (Conv2  (None, 16, 16, 256)          590080    ['conv4_block1_1_relu[0][0]'] \n",
            " D)                                                                                               \n",
            "                                                                                                  \n",
            " conv4_block1_2_bn (BatchNo  (None, 16, 16, 256)          1024      ['conv4_block1_2_conv[0][0]'] \n",
            " rmalization)                                                                                     \n",
            "                                                                                                  \n",
            " conv4_block1_2_relu (Activ  (None, 16, 16, 256)          0         ['conv4_block1_2_bn[0][0]']   \n",
            " ation)                                                                                           \n",
            "                                                                                                  \n",
            " conv4_block1_0_conv (Conv2  (None, 16, 16, 1024)         525312    ['conv3_block4_out[0][0]']    \n",
            " D)                                                                                               \n",
            "                                                                                                  \n",
            " conv4_block1_3_conv (Conv2  (None, 16, 16, 1024)         263168    ['conv4_block1_2_relu[0][0]'] \n",
            " D)                                                                                               \n",
            "                                                                                                  \n",
            " conv4_block1_0_bn (BatchNo  (None, 16, 16, 1024)         4096      ['conv4_block1_0_conv[0][0]'] \n",
            " rmalization)                                                                                     \n",
            "                                                                                                  \n",
            " conv4_block1_3_bn (BatchNo  (None, 16, 16, 1024)         4096      ['conv4_block1_3_conv[0][0]'] \n",
            " rmalization)                                                                                     \n",
            "                                                                                                  \n",
            " conv4_block1_add (Add)      (None, 16, 16, 1024)         0         ['conv4_block1_0_bn[0][0]',   \n",
            "                                                                     'conv4_block1_3_bn[0][0]']   \n",
            "                                                                                                  \n",
            " conv4_block1_out (Activati  (None, 16, 16, 1024)         0         ['conv4_block1_add[0][0]']    \n",
            " on)                                                                                              \n",
            "                                                                                                  \n",
            " conv4_block2_1_conv (Conv2  (None, 16, 16, 256)          262400    ['conv4_block1_out[0][0]']    \n",
            " D)                                                                                               \n",
            "                                                                                                  \n",
            " conv4_block2_1_bn (BatchNo  (None, 16, 16, 256)          1024      ['conv4_block2_1_conv[0][0]'] \n",
            " rmalization)                                                                                     \n",
            "                                                                                                  \n",
            " conv4_block2_1_relu (Activ  (None, 16, 16, 256)          0         ['conv4_block2_1_bn[0][0]']   \n",
            " ation)                                                                                           \n",
            "                                                                                                  \n",
            " conv4_block2_2_conv (Conv2  (None, 16, 16, 256)          590080    ['conv4_block2_1_relu[0][0]'] \n",
            " D)                                                                                               \n",
            "                                                                                                  \n",
            " conv4_block2_2_bn (BatchNo  (None, 16, 16, 256)          1024      ['conv4_block2_2_conv[0][0]'] \n",
            " rmalization)                                                                                     \n",
            "                                                                                                  \n",
            " conv4_block2_2_relu (Activ  (None, 16, 16, 256)          0         ['conv4_block2_2_bn[0][0]']   \n",
            " ation)                                                                                           \n",
            "                                                                                                  \n",
            " conv4_block2_3_conv (Conv2  (None, 16, 16, 1024)         263168    ['conv4_block2_2_relu[0][0]'] \n",
            " D)                                                                                               \n",
            "                                                                                                  \n",
            " conv4_block2_3_bn (BatchNo  (None, 16, 16, 1024)         4096      ['conv4_block2_3_conv[0][0]'] \n",
            " rmalization)                                                                                     \n",
            "                                                                                                  \n",
            " conv4_block2_add (Add)      (None, 16, 16, 1024)         0         ['conv4_block1_out[0][0]',    \n",
            "                                                                     'conv4_block2_3_bn[0][0]']   \n",
            "                                                                                                  \n",
            " conv4_block2_out (Activati  (None, 16, 16, 1024)         0         ['conv4_block2_add[0][0]']    \n",
            " on)                                                                                              \n",
            "                                                                                                  \n",
            " conv4_block3_1_conv (Conv2  (None, 16, 16, 256)          262400    ['conv4_block2_out[0][0]']    \n",
            " D)                                                                                               \n",
            "                                                                                                  \n",
            " conv4_block3_1_bn (BatchNo  (None, 16, 16, 256)          1024      ['conv4_block3_1_conv[0][0]'] \n",
            " rmalization)                                                                                     \n",
            "                                                                                                  \n",
            " conv4_block3_1_relu (Activ  (None, 16, 16, 256)          0         ['conv4_block3_1_bn[0][0]']   \n",
            " ation)                                                                                           \n",
            "                                                                                                  \n",
            " conv4_block3_2_conv (Conv2  (None, 16, 16, 256)          590080    ['conv4_block3_1_relu[0][0]'] \n",
            " D)                                                                                               \n",
            "                                                                                                  \n",
            " conv4_block3_2_bn (BatchNo  (None, 16, 16, 256)          1024      ['conv4_block3_2_conv[0][0]'] \n",
            " rmalization)                                                                                     \n",
            "                                                                                                  \n",
            " conv4_block3_2_relu (Activ  (None, 16, 16, 256)          0         ['conv4_block3_2_bn[0][0]']   \n",
            " ation)                                                                                           \n",
            "                                                                                                  \n",
            " conv4_block3_3_conv (Conv2  (None, 16, 16, 1024)         263168    ['conv4_block3_2_relu[0][0]'] \n",
            " D)                                                                                               \n",
            "                                                                                                  \n",
            " conv4_block3_3_bn (BatchNo  (None, 16, 16, 1024)         4096      ['conv4_block3_3_conv[0][0]'] \n",
            " rmalization)                                                                                     \n",
            "                                                                                                  \n",
            " conv4_block3_add (Add)      (None, 16, 16, 1024)         0         ['conv4_block2_out[0][0]',    \n",
            "                                                                     'conv4_block3_3_bn[0][0]']   \n",
            "                                                                                                  \n",
            " conv4_block3_out (Activati  (None, 16, 16, 1024)         0         ['conv4_block3_add[0][0]']    \n",
            " on)                                                                                              \n",
            "                                                                                                  \n",
            " conv4_block4_1_conv (Conv2  (None, 16, 16, 256)          262400    ['conv4_block3_out[0][0]']    \n",
            " D)                                                                                               \n",
            "                                                                                                  \n",
            " conv4_block4_1_bn (BatchNo  (None, 16, 16, 256)          1024      ['conv4_block4_1_conv[0][0]'] \n",
            " rmalization)                                                                                     \n",
            "                                                                                                  \n",
            " conv4_block4_1_relu (Activ  (None, 16, 16, 256)          0         ['conv4_block4_1_bn[0][0]']   \n",
            " ation)                                                                                           \n",
            "                                                                                                  \n",
            " conv4_block4_2_conv (Conv2  (None, 16, 16, 256)          590080    ['conv4_block4_1_relu[0][0]'] \n",
            " D)                                                                                               \n",
            "                                                                                                  \n",
            " conv4_block4_2_bn (BatchNo  (None, 16, 16, 256)          1024      ['conv4_block4_2_conv[0][0]'] \n",
            " rmalization)                                                                                     \n",
            "                                                                                                  \n",
            " conv4_block4_2_relu (Activ  (None, 16, 16, 256)          0         ['conv4_block4_2_bn[0][0]']   \n",
            " ation)                                                                                           \n",
            "                                                                                                  \n",
            " conv4_block4_3_conv (Conv2  (None, 16, 16, 1024)         263168    ['conv4_block4_2_relu[0][0]'] \n",
            " D)                                                                                               \n",
            "                                                                                                  \n",
            " conv4_block4_3_bn (BatchNo  (None, 16, 16, 1024)         4096      ['conv4_block4_3_conv[0][0]'] \n",
            " rmalization)                                                                                     \n",
            "                                                                                                  \n",
            " conv4_block4_add (Add)      (None, 16, 16, 1024)         0         ['conv4_block3_out[0][0]',    \n",
            "                                                                     'conv4_block4_3_bn[0][0]']   \n",
            "                                                                                                  \n",
            " conv4_block4_out (Activati  (None, 16, 16, 1024)         0         ['conv4_block4_add[0][0]']    \n",
            " on)                                                                                              \n",
            "                                                                                                  \n",
            " conv4_block5_1_conv (Conv2  (None, 16, 16, 256)          262400    ['conv4_block4_out[0][0]']    \n",
            " D)                                                                                               \n",
            "                                                                                                  \n",
            " conv4_block5_1_bn (BatchNo  (None, 16, 16, 256)          1024      ['conv4_block5_1_conv[0][0]'] \n",
            " rmalization)                                                                                     \n",
            "                                                                                                  \n",
            " conv4_block5_1_relu (Activ  (None, 16, 16, 256)          0         ['conv4_block5_1_bn[0][0]']   \n",
            " ation)                                                                                           \n",
            "                                                                                                  \n",
            " conv4_block5_2_conv (Conv2  (None, 16, 16, 256)          590080    ['conv4_block5_1_relu[0][0]'] \n",
            " D)                                                                                               \n",
            "                                                                                                  \n",
            " conv4_block5_2_bn (BatchNo  (None, 16, 16, 256)          1024      ['conv4_block5_2_conv[0][0]'] \n",
            " rmalization)                                                                                     \n",
            "                                                                                                  \n",
            " conv4_block5_2_relu (Activ  (None, 16, 16, 256)          0         ['conv4_block5_2_bn[0][0]']   \n",
            " ation)                                                                                           \n",
            "                                                                                                  \n",
            " conv4_block5_3_conv (Conv2  (None, 16, 16, 1024)         263168    ['conv4_block5_2_relu[0][0]'] \n",
            " D)                                                                                               \n",
            "                                                                                                  \n",
            " conv4_block5_3_bn (BatchNo  (None, 16, 16, 1024)         4096      ['conv4_block5_3_conv[0][0]'] \n",
            " rmalization)                                                                                     \n",
            "                                                                                                  \n",
            " conv4_block5_add (Add)      (None, 16, 16, 1024)         0         ['conv4_block4_out[0][0]',    \n",
            "                                                                     'conv4_block5_3_bn[0][0]']   \n",
            "                                                                                                  \n",
            " conv4_block5_out (Activati  (None, 16, 16, 1024)         0         ['conv4_block5_add[0][0]']    \n",
            " on)                                                                                              \n",
            "                                                                                                  \n",
            " conv4_block6_1_conv (Conv2  (None, 16, 16, 256)          262400    ['conv4_block5_out[0][0]']    \n",
            " D)                                                                                               \n",
            "                                                                                                  \n",
            " conv4_block6_1_bn (BatchNo  (None, 16, 16, 256)          1024      ['conv4_block6_1_conv[0][0]'] \n",
            " rmalization)                                                                                     \n",
            "                                                                                                  \n",
            " conv4_block6_1_relu (Activ  (None, 16, 16, 256)          0         ['conv4_block6_1_bn[0][0]']   \n",
            " ation)                                                                                           \n",
            "                                                                                                  \n",
            " conv4_block6_2_conv (Conv2  (None, 16, 16, 256)          590080    ['conv4_block6_1_relu[0][0]'] \n",
            " D)                                                                                               \n",
            "                                                                                                  \n",
            " conv4_block6_2_bn (BatchNo  (None, 16, 16, 256)          1024      ['conv4_block6_2_conv[0][0]'] \n",
            " rmalization)                                                                                     \n",
            "                                                                                                  \n",
            " conv4_block6_2_relu (Activ  (None, 16, 16, 256)          0         ['conv4_block6_2_bn[0][0]']   \n",
            " ation)                                                                                           \n",
            "                                                                                                  \n",
            " conv4_block6_3_conv (Conv2  (None, 16, 16, 1024)         263168    ['conv4_block6_2_relu[0][0]'] \n",
            " D)                                                                                               \n",
            "                                                                                                  \n",
            " conv4_block6_3_bn (BatchNo  (None, 16, 16, 1024)         4096      ['conv4_block6_3_conv[0][0]'] \n",
            " rmalization)                                                                                     \n",
            "                                                                                                  \n",
            " conv4_block6_add (Add)      (None, 16, 16, 1024)         0         ['conv4_block5_out[0][0]',    \n",
            "                                                                     'conv4_block6_3_bn[0][0]']   \n",
            "                                                                                                  \n",
            " conv4_block6_out (Activati  (None, 16, 16, 1024)         0         ['conv4_block6_add[0][0]']    \n",
            " on)                                                                                              \n",
            "                                                                                                  \n",
            " conv5_block1_1_conv (Conv2  (None, 8, 8, 512)            524800    ['conv4_block6_out[0][0]']    \n",
            " D)                                                                                               \n",
            "                                                                                                  \n",
            " conv5_block1_1_bn (BatchNo  (None, 8, 8, 512)            2048      ['conv5_block1_1_conv[0][0]'] \n",
            " rmalization)                                                                                     \n",
            "                                                                                                  \n",
            " conv5_block1_1_relu (Activ  (None, 8, 8, 512)            0         ['conv5_block1_1_bn[0][0]']   \n",
            " ation)                                                                                           \n",
            "                                                                                                  \n",
            " conv5_block1_2_conv (Conv2  (None, 8, 8, 512)            2359808   ['conv5_block1_1_relu[0][0]'] \n",
            " D)                                                                                               \n",
            "                                                                                                  \n",
            " conv5_block1_2_bn (BatchNo  (None, 8, 8, 512)            2048      ['conv5_block1_2_conv[0][0]'] \n",
            " rmalization)                                                                                     \n",
            "                                                                                                  \n",
            " conv5_block1_2_relu (Activ  (None, 8, 8, 512)            0         ['conv5_block1_2_bn[0][0]']   \n",
            " ation)                                                                                           \n",
            "                                                                                                  \n",
            " conv5_block1_0_conv (Conv2  (None, 8, 8, 2048)           2099200   ['conv4_block6_out[0][0]']    \n",
            " D)                                                                                               \n",
            "                                                                                                  \n",
            " conv5_block1_3_conv (Conv2  (None, 8, 8, 2048)           1050624   ['conv5_block1_2_relu[0][0]'] \n",
            " D)                                                                                               \n",
            "                                                                                                  \n",
            " conv5_block1_0_bn (BatchNo  (None, 8, 8, 2048)           8192      ['conv5_block1_0_conv[0][0]'] \n",
            " rmalization)                                                                                     \n",
            "                                                                                                  \n",
            " conv5_block1_3_bn (BatchNo  (None, 8, 8, 2048)           8192      ['conv5_block1_3_conv[0][0]'] \n",
            " rmalization)                                                                                     \n",
            "                                                                                                  \n",
            " conv5_block1_add (Add)      (None, 8, 8, 2048)           0         ['conv5_block1_0_bn[0][0]',   \n",
            "                                                                     'conv5_block1_3_bn[0][0]']   \n",
            "                                                                                                  \n",
            " conv5_block1_out (Activati  (None, 8, 8, 2048)           0         ['conv5_block1_add[0][0]']    \n",
            " on)                                                                                              \n",
            "                                                                                                  \n",
            " conv5_block2_1_conv (Conv2  (None, 8, 8, 512)            1049088   ['conv5_block1_out[0][0]']    \n",
            " D)                                                                                               \n",
            "                                                                                                  \n",
            " conv5_block2_1_bn (BatchNo  (None, 8, 8, 512)            2048      ['conv5_block2_1_conv[0][0]'] \n",
            " rmalization)                                                                                     \n",
            "                                                                                                  \n",
            " conv5_block2_1_relu (Activ  (None, 8, 8, 512)            0         ['conv5_block2_1_bn[0][0]']   \n",
            " ation)                                                                                           \n",
            "                                                                                                  \n",
            " conv5_block2_2_conv (Conv2  (None, 8, 8, 512)            2359808   ['conv5_block2_1_relu[0][0]'] \n",
            " D)                                                                                               \n",
            "                                                                                                  \n",
            " conv5_block2_2_bn (BatchNo  (None, 8, 8, 512)            2048      ['conv5_block2_2_conv[0][0]'] \n",
            " rmalization)                                                                                     \n",
            "                                                                                                  \n",
            " conv5_block2_2_relu (Activ  (None, 8, 8, 512)            0         ['conv5_block2_2_bn[0][0]']   \n",
            " ation)                                                                                           \n",
            "                                                                                                  \n",
            " conv5_block2_3_conv (Conv2  (None, 8, 8, 2048)           1050624   ['conv5_block2_2_relu[0][0]'] \n",
            " D)                                                                                               \n",
            "                                                                                                  \n",
            " conv5_block2_3_bn (BatchNo  (None, 8, 8, 2048)           8192      ['conv5_block2_3_conv[0][0]'] \n",
            " rmalization)                                                                                     \n",
            "                                                                                                  \n",
            " conv5_block2_add (Add)      (None, 8, 8, 2048)           0         ['conv5_block1_out[0][0]',    \n",
            "                                                                     'conv5_block2_3_bn[0][0]']   \n",
            "                                                                                                  \n",
            " conv5_block2_out (Activati  (None, 8, 8, 2048)           0         ['conv5_block2_add[0][0]']    \n",
            " on)                                                                                              \n",
            "                                                                                                  \n",
            " conv5_block3_1_conv (Conv2  (None, 8, 8, 512)            1049088   ['conv5_block2_out[0][0]']    \n",
            " D)                                                                                               \n",
            "                                                                                                  \n",
            " conv5_block3_1_bn (BatchNo  (None, 8, 8, 512)            2048      ['conv5_block3_1_conv[0][0]'] \n",
            " rmalization)                                                                                     \n",
            "                                                                                                  \n",
            " conv5_block3_1_relu (Activ  (None, 8, 8, 512)            0         ['conv5_block3_1_bn[0][0]']   \n",
            " ation)                                                                                           \n",
            "                                                                                                  \n",
            " conv5_block3_2_conv (Conv2  (None, 8, 8, 512)            2359808   ['conv5_block3_1_relu[0][0]'] \n",
            " D)                                                                                               \n",
            "                                                                                                  \n",
            " conv5_block3_2_bn (BatchNo  (None, 8, 8, 512)            2048      ['conv5_block3_2_conv[0][0]'] \n",
            " rmalization)                                                                                     \n",
            "                                                                                                  \n",
            " conv5_block3_2_relu (Activ  (None, 8, 8, 512)            0         ['conv5_block3_2_bn[0][0]']   \n",
            " ation)                                                                                           \n",
            "                                                                                                  \n",
            " conv5_block3_3_conv (Conv2  (None, 8, 8, 2048)           1050624   ['conv5_block3_2_relu[0][0]'] \n",
            " D)                                                                                               \n",
            "                                                                                                  \n",
            " conv5_block3_3_bn (BatchNo  (None, 8, 8, 2048)           8192      ['conv5_block3_3_conv[0][0]'] \n",
            " rmalization)                                                                                     \n",
            "                                                                                                  \n",
            " conv5_block3_add (Add)      (None, 8, 8, 2048)           0         ['conv5_block2_out[0][0]',    \n",
            "                                                                     'conv5_block3_3_bn[0][0]']   \n",
            "                                                                                                  \n",
            " conv5_block3_out (Activati  (None, 8, 8, 2048)           0         ['conv5_block3_add[0][0]']    \n",
            " on)                                                                                              \n",
            "                                                                                                  \n",
            " global_average_pooling2d (  (None, 2048)                 0         ['conv5_block3_out[0][0]']    \n",
            " GlobalAveragePooling2D)                                                                          \n",
            "                                                                                                  \n",
            " dense (Dense)               (None, 1025)                 2100225   ['global_average_pooling2d[0][\n",
            "                                                                    0]']                          \n",
            "                                                                                                  \n",
            " dropout (Dropout)           (None, 1025)                 0         ['dense[0][0]']               \n",
            "                                                                                                  \n",
            " dense_1 (Dense)             (None, 1025)                 1051650   ['dropout[0][0]']             \n",
            "                                                                                                  \n",
            " dropout_1 (Dropout)         (None, 1025)                 0         ['dense_1[0][0]']             \n",
            "                                                                                                  \n",
            " dense_2 (Dense)             (None, 2)                    2052      ['dropout_1[0][0]']           \n",
            "                                                                                                  \n",
            "==================================================================================================\n",
            "Total params: 26741639 (102.01 MB)\n",
            "Trainable params: 18131975 (69.17 MB)\n",
            "Non-trainable params: 8609664 (32.84 MB)\n",
            "__________________________________________________________________________________________________\n"
          ]
        }
      ]
    },
    {
      "cell_type": "markdown",
      "source": [
        "# CLASSIFYING AN IMAGE"
      ],
      "metadata": {
        "id": "2eHDrM5pKJgi"
      }
    },
    {
      "cell_type": "code",
      "source": [
        "img = cv2.imread('/content/Basmati/basmati (9810).jpg')\n",
        "cv2_imshow(img)"
      ],
      "metadata": {
        "colab": {
          "base_uri": "https://localhost:8080/",
          "height": 267
        },
        "id": "Wl75MOLzJt1S",
        "outputId": "8333cdaa-7b21-41f8-b666-b60e3573dc94"
      },
      "execution_count": 54,
      "outputs": [
        {
          "output_type": "display_data",
          "data": {
            "text/plain": [
              "<PIL.Image.Image image mode=RGB size=250x250>"
            ],
            "image/png": "[encoded data removed]"
          },
          "metadata": {}
        }
      ]
    },
    {
      "cell_type": "code",
      "source": [
        "img = cv2.resize(img, (256,256))\n",
        "cv2_imshow(img)"
      ],
      "metadata": {
        "colab": {
          "base_uri": "https://localhost:8080/",
          "height": 273
        },
        "id": "HFimsTnjKU40",
        "outputId": "f4df1770-3f58-4b78-d813-046a15d40c03"
      },
      "execution_count": 56,
      "outputs": [
        {
          "output_type": "display_data",
          "data": {
            "text/plain": [
              "<PIL.Image.Image image mode=RGB size=256x256>"
            ],
            "image/png": "[encoded data removed]"
          },
          "metadata": {}
        }
      ]
    },
    {
      "cell_type": "code",
      "source": [
        "img = img / 255   # normalize the img, range from 0-1\n",
        "img.shape"
      ],
      "metadata": {
        "colab": {
          "base_uri": "https://localhost:8080/"
        },
        "id": "AnpixM2zKcPC",
        "outputId": "213bf174-1f5c-4efa-cb1f-2e02732622c5"
      },
      "execution_count": 57,
      "outputs": [
        {
          "output_type": "execute_result",
          "data": {
            "text/plain": [
              "(256, 256, 3)"
            ]
          },
          "metadata": {},
          "execution_count": 57
        }
      ]
    },
    {
      "cell_type": "code",
      "source": [
        "img = img.reshape(-1, 256, 256, 3)\n",
        "img.shape"
      ],
      "metadata": {
        "colab": {
          "base_uri": "https://localhost:8080/"
        },
        "id": "yDjEMPuWKq2n",
        "outputId": "487a5a98-6c48-4d86-b190-0187fa51cd1d"
      },
      "execution_count": 58,
      "outputs": [
        {
          "output_type": "execute_result",
          "data": {
            "text/plain": [
              "(1, 256, 256, 3)"
            ]
          },
          "metadata": {},
          "execution_count": 58
        }
      ]
    },
    {
      "cell_type": "code",
      "source": [
        "result = network_loaded(img)\n",
        "result"
      ],
      "metadata": {
        "colab": {
          "base_uri": "https://localhost:8080/"
        },
        "id": "vul1HAl2K4Hc",
        "outputId": "1573948e-d7f3-4765-fe88-96c8b80de5b2"
      },
      "execution_count": 59,
      "outputs": [
        {
          "output_type": "execute_result",
          "data": {
            "text/plain": [
              "<tf.Tensor: shape=(1, 2), dtype=float32, numpy=array([[1.0000000e+00, 2.0720394e-14]], dtype=float32)>"
            ]
          },
          "metadata": {},
          "execution_count": 59
        }
      ]
    },
    {
      "cell_type": "code",
      "source": [
        "result = np.argmax(result)\n",
        "result  # correct"
      ],
      "metadata": {
        "colab": {
          "base_uri": "https://localhost:8080/"
        },
        "id": "Mt9Y7THeK99i",
        "outputId": "6df96a00-21ab-4d83-89b5-e6ea5d7f9d78"
      },
      "execution_count": 60,
      "outputs": [
        {
          "output_type": "execute_result",
          "data": {
            "text/plain": [
              "0"
            ]
          },
          "metadata": {},
          "execution_count": 60
        }
      ]
    },
    {
      "cell_type": "code",
      "source": [
        "test_dataset.class_indices"
      ],
      "metadata": {
        "colab": {
          "base_uri": "https://localhost:8080/"
        },
        "id": "jQV8Xgy8LCIN",
        "outputId": "3998e9dd-3723-45c9-b98f-65ee204c93c0"
      },
      "execution_count": 61,
      "outputs": [
        {
          "output_type": "execute_result",
          "data": {
            "text/plain": [
              "{'basmati_test': 0, 'jasmine_test': 1}"
            ]
          },
          "metadata": {},
          "execution_count": 61
        }
      ]
    },
    {
      "cell_type": "code",
      "source": [],
      "metadata": {
        "id": "8KpF9NLALIRy"
      },
      "execution_count": null,
      "outputs": []
    }
  ]
}