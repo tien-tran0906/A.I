{
 "cells":[
  {
   "cell_type":"markdown",
   "source":[
    "# K Means Clustering Practice\n",
    "- Unsupervised learning \n",
    "- Not predicting the outcome, but trying to find patterns in the data\n",
    "- Attempt to group similar clusters together in data\n",
    "- Choose number of clusters 'K'\n",
    "    - For each cluster, complete the central point\n",
    "    - Assign each data point to the cluster for which the central point is the closest\n",
    "    - Using the 'elbow' method to decide K Value"
   ],
   "attachments":{
    
   },
   "metadata":{
    "datalore":{
     "node_id":"bs5PrTEBvAs2PdNvq9rqgx",
     "type":"MD",
     "hide_input_from_viewers":true,
     "hide_output_from_viewers":true
    }
   }
  },
  {
   "cell_type":"code",
   "source":[
    "import seaborn as sns\n",
    "import matplotlib.pyplot as plt\n",
    "from sklearn.datasets import make_blobs\n",
    "import pandas as pd"
   ],
   "execution_count":27,
   "outputs":[
    
   ],
   "metadata":{
    "datalore":{
     "node_id":"8Uji8hfVJlIt5CZVDbxDxv",
     "type":"CODE",
     "hide_input_from_viewers":true,
     "hide_output_from_viewers":true
    }
   }
  },
  {
   "cell_type":"code",
   "source":[
    "data = make_blobs(n_samples = 200, n_features=2, centers=4, cluster_std=1.8, random_state=101)"
   ],
   "execution_count":28,
   "outputs":[
    
   ],
   "metadata":{
    "datalore":{
     "node_id":"DP7ZScPcAW0uW43qUyP3ei",
     "type":"CODE",
     "hide_input_from_viewers":true,
     "hide_output_from_viewers":true
    }
   }
  },
  {
   "cell_type":"code",
   "source":[
    "number_of_columns = data[0].shape[1]\n",
    "\n",
    "# Printing the number of columns or features\n",
    "print(\"There are {} columns in 'data'\".format(number_of_columns))"
   ],
   "execution_count":29,
   "outputs":[
    {
     "name":"stdout",
     "text":[
      "There are 2 columns in 'data'\n"
     ],
     "output_type":"stream"
    }
   ],
   "metadata":{
    "datalore":{
     "node_id":"kEpNJ7HfDagccwYDdAnyHO",
     "type":"CODE",
     "hide_input_from_viewers":true,
     "hide_output_from_viewers":true
    }
   }
  },
  {
   "cell_type":"code",
   "source":[
    "# Convert the data to a pandas DataFrame\n",
    "df = pd.DataFrame(data[0], columns=['Feature1','Feature2'])\n",
    "df.head()"
   ],
   "execution_count":30,
   "outputs":[
    {
     "data":{
      "text\/html":[
       "<div>\n",
       "<style scoped>\n",
       "    .dataframe tbody tr th:only-of-type {\n",
       "        vertical-align: middle;\n",
       "    }\n",
       "\n",
       "    .dataframe tbody tr th {\n",
       "        vertical-align: top;\n",
       "    }\n",
       "\n",
       "    .dataframe thead th {\n",
       "        text-align: right;\n",
       "    }\n",
       "<\/style>\n",
       "<table border=\"1\" class=\"dataframe\">\n",
       "  <thead>\n",
       "    <tr style=\"text-align: right;\">\n",
       "      <th><\/th>\n",
       "      <th>Feature1<\/th>\n",
       "      <th>Feature2<\/th>\n",
       "    <\/tr>\n",
       "  <\/thead>\n",
       "  <tbody>\n",
       "    <tr>\n",
       "      <th>0<\/th>\n",
       "      <td>-6.428841<\/td>\n",
       "      <td>10.141117<\/td>\n",
       "    <\/tr>\n",
       "    <tr>\n",
       "      <th>1<\/th>\n",
       "      <td>5.868679<\/td>\n",
       "      <td>5.201104<\/td>\n",
       "    <\/tr>\n",
       "    <tr>\n",
       "      <th>2<\/th>\n",
       "      <td>-0.376109<\/td>\n",
       "      <td>3.264279<\/td>\n",
       "    <\/tr>\n",
       "    <tr>\n",
       "      <th>3<\/th>\n",
       "      <td>2.166792<\/td>\n",
       "      <td>9.563005<\/td>\n",
       "    <\/tr>\n",
       "    <tr>\n",
       "      <th>4<\/th>\n",
       "      <td>5.095086<\/td>\n",
       "      <td>7.207527<\/td>\n",
       "    <\/tr>\n",
       "  <\/tbody>\n",
       "<\/table>\n",
       "<\/div>"
      ]
     },
     "metadata":{
      
     },
     "output_type":"display_data"
    }
   ],
   "metadata":{
    "datalore":{
     "node_id":"xFLM7fPri9sOLW0NgSWhoJ",
     "type":"CODE",
     "hide_input_from_viewers":true,
     "hide_output_from_viewers":true
    }
   }
  },
  {
   "cell_type":"code",
   "source":[
    "# Original data\n",
    "plt.scatter(data[0][:,0], data[0][:,1], c=data[1], cmap='rainbow') # Get all rows in the first column, and rows in the second columm"
   ],
   "execution_count":31,
   "outputs":[
    {
     "data":{
      "text\/plain":[
       "<matplotlib.collections.PathCollection at 0x7fcc49802f10>"
      ]
     },
     "metadata":{
      
     },
     "output_type":"display_data"
    },
    {
     "data":{
      "image\/png":"[encoded data removed]"
     },
     "metadata":{
      "image\/png":{
       
      }
     },
     "output_type":"display_data"
    }
   ],
   "metadata":{
    "datalore":{
     "node_id":"rJ0RvbVwCTESJXg4owb82s",
     "type":"CODE",
     "hide_input_from_viewers":true,
     "hide_output_from_viewers":true
    }
   }
  },
  {
   "cell_type":"code",
   "source":[
    "plt.scatter(data[0][:,0], data[0][:,1], c=data[1], cmap='rainbow')\n",
    "plt.title('Original Data Visualization')\n",
    "plt.xlabel('Feature 1')\n",
    "plt.ylabel('Feature 2')\n",
    "plt.show() "
   ],
   "execution_count":32,
   "outputs":[
    {
     "data":{
      "image\/png":"[encoded data removed]"
     },
     "metadata":{
      "image\/png":{
       
      }
     },
     "output_type":"display_data"
    }
   ],
   "metadata":{
    "datalore":{
     "node_id":"lGEvStLPRYnnVCBV3LEYbt",
     "type":"CODE",
     "hide_input_from_viewers":true,
     "hide_output_from_viewers":true
    }
   }
  },
  {
   "cell_type":"code",
   "source":[
    "from sklearn.cluster import KMeans"
   ],
   "execution_count":33,
   "outputs":[
    
   ],
   "metadata":{
    "datalore":{
     "node_id":"w3xVE9oVYDraUM9FD4EImy",
     "type":"CODE",
     "hide_input_from_viewers":true,
     "hide_output_from_viewers":true
    }
   }
  },
  {
   "cell_type":"code",
   "source":[
    "kmeans = KMeans(n_clusters=4)\n",
    "kmeans.fit(data[0]) # Fit to your features"
   ],
   "execution_count":34,
   "outputs":[
    {
     "name":"stderr",
     "text":[
      "\/opt\/python\/envs\/default\/lib\/python3.8\/site-packages\/sklearn\/cluster\/_kmeans.py:870: FutureWarning: The default value of `n_init` will change from 10 to 'auto' in 1.4. Set the value of `n_init` explicitly to suppress the warning\n",
      "  warnings.warn(\n"
     ],
     "output_type":"stream"
    },
    {
     "data":{
      "text\/html":[
       "<style>#sk-container-id-1 {color: black;background-color: white;}#sk-container-id-1 pre{padding: 0;}#sk-container-id-1 div.sk-toggleable {background-color: white;}#sk-container-id-1 label.sk-toggleable__label {cursor: pointer;display: block;width: 100%;margin-bottom: 0;padding: 0.3em;box-sizing: border-box;text-align: center;}#sk-container-id-1 label.sk-toggleable__label-arrow:before {content: \"▸\";float: left;margin-right: 0.25em;color: #696969;}#sk-container-id-1 label.sk-toggleable__label-arrow:hover:before {color: black;}#sk-container-id-1 div.sk-estimator:hover label.sk-toggleable__label-arrow:before {color: black;}#sk-container-id-1 div.sk-toggleable__content {max-height: 0;max-width: 0;overflow: hidden;text-align: left;background-color: #f0f8ff;}#sk-container-id-1 div.sk-toggleable__content pre {margin: 0.2em;color: black;border-radius: 0.25em;background-color: #f0f8ff;}#sk-container-id-1 input.sk-toggleable__control:checked~div.sk-toggleable__content {max-height: 200px;max-width: 100%;overflow: auto;}#sk-container-id-1 input.sk-toggleable__control:checked~label.sk-toggleable__label-arrow:before {content: \"▾\";}#sk-container-id-1 div.sk-estimator input.sk-toggleable__control:checked~label.sk-toggleable__label {background-color: #d4ebff;}#sk-container-id-1 div.sk-label input.sk-toggleable__control:checked~label.sk-toggleable__label {background-color: #d4ebff;}#sk-container-id-1 input.sk-hidden--visually {border: 0;clip: rect(1px 1px 1px 1px);clip: rect(1px, 1px, 1px, 1px);height: 1px;margin: -1px;overflow: hidden;padding: 0;position: absolute;width: 1px;}#sk-container-id-1 div.sk-estimator {font-family: monospace;background-color: #f0f8ff;border: 1px dotted black;border-radius: 0.25em;box-sizing: border-box;margin-bottom: 0.5em;}#sk-container-id-1 div.sk-estimator:hover {background-color: #d4ebff;}#sk-container-id-1 div.sk-parallel-item::after {content: \"\";width: 100%;border-bottom: 1px solid gray;flex-grow: 1;}#sk-container-id-1 div.sk-label:hover label.sk-toggleable__label {background-color: #d4ebff;}#sk-container-id-1 div.sk-serial::before {content: \"\";position: absolute;border-left: 1px solid gray;box-sizing: border-box;top: 0;bottom: 0;left: 50%;z-index: 0;}#sk-container-id-1 div.sk-serial {display: flex;flex-direction: column;align-items: center;background-color: white;padding-right: 0.2em;padding-left: 0.2em;position: relative;}#sk-container-id-1 div.sk-item {position: relative;z-index: 1;}#sk-container-id-1 div.sk-parallel {display: flex;align-items: stretch;justify-content: center;background-color: white;position: relative;}#sk-container-id-1 div.sk-item::before, #sk-container-id-1 div.sk-parallel-item::before {content: \"\";position: absolute;border-left: 1px solid gray;box-sizing: border-box;top: 0;bottom: 0;left: 50%;z-index: -1;}#sk-container-id-1 div.sk-parallel-item {display: flex;flex-direction: column;z-index: 1;position: relative;background-color: white;}#sk-container-id-1 div.sk-parallel-item:first-child::after {align-self: flex-end;width: 50%;}#sk-container-id-1 div.sk-parallel-item:last-child::after {align-self: flex-start;width: 50%;}#sk-container-id-1 div.sk-parallel-item:only-child::after {width: 0;}#sk-container-id-1 div.sk-dashed-wrapped {border: 1px dashed gray;margin: 0 0.4em 0.5em 0.4em;box-sizing: border-box;padding-bottom: 0.4em;background-color: white;}#sk-container-id-1 div.sk-label label {font-family: monospace;font-weight: bold;display: inline-block;line-height: 1.2em;}#sk-container-id-1 div.sk-label-container {text-align: center;}#sk-container-id-1 div.sk-container {\/* jupyter's `normalize.less` sets `[hidden] { display: none; }` but bootstrap.min.css set `[hidden] { display: none !important; }` so we also need the `!important` here to be able to override the default hidden behavior on the sphinx rendered scikit-learn.org. See: https:\/\/github.com\/scikit-learn\/scikit-learn\/issues\/21755 *\/display: inline-block !important;position: relative;}#sk-container-id-1 div.sk-text-repr-fallback {display: none;}<\/style><div id=\"sk-container-id-1\" class=\"sk-top-container\"><div class=\"sk-text-repr-fallback\"><pre>KMeans(n_clusters=4)<\/pre><b>In a Jupyter environment, please rerun this cell to show the HTML representation or trust the notebook. <br \/>On GitHub, the HTML representation is unable to render, please try loading this page with nbviewer.org.<\/b><\/div><div class=\"sk-container\" hidden><div class=\"sk-item\"><div class=\"sk-estimator sk-toggleable\"><input class=\"sk-toggleable__control sk-hidden--visually\" id=\"sk-estimator-id-1\" type=\"checkbox\" checked><label for=\"sk-estimator-id-1\" class=\"sk-toggleable__label sk-toggleable__label-arrow\">KMeans<\/label><div class=\"sk-toggleable__content\"><pre>KMeans(n_clusters=4)<\/pre><\/div><\/div><\/div><\/div><\/div>"
      ]
     },
     "metadata":{
      
     },
     "output_type":"display_data"
    }
   ],
   "metadata":{
    "datalore":{
     "node_id":"zSoTfPt5CXlqrLX0mknRM6",
     "type":"CODE",
     "hide_input_from_viewers":true,
     "hide_output_from_viewers":true
    }
   }
  },
  {
   "cell_type":"code",
   "source":[
    "kmeans.cluster_centers_"
   ],
   "execution_count":35,
   "outputs":[
    {
     "data":{
      "text\/html":[
       "<pre>array([[ 3.71749226,  7.01388735],\n",
       "       [-9.46941837, -6.56081545],\n",
       "       [-0.0123077 ,  2.13407664],\n",
       "       [-4.13591321,  7.95389851]])<\/pre>"
      ]
     },
     "metadata":{
      
     },
     "output_type":"display_data"
    }
   ],
   "metadata":{
    "datalore":{
     "node_id":"Y3AyUqkxZE3vX0N1RaEV6l",
     "type":"CODE",
     "hide_input_from_viewers":true,
     "hide_output_from_viewers":true
    }
   }
  },
  {
   "cell_type":"code",
   "source":[
    "# Original data\n",
    "plt.scatter(data[0][:,0], data[0][:,1], c=data[1], cmap='rainbow')\n",
    "plt.scatter(kmeans.cluster_centers_[:, 0], kmeans.cluster_centers_[:, 1], color='black')  # add the cluster centers"
   ],
   "execution_count":36,
   "outputs":[
    {
     "data":{
      "text\/plain":[
       "<matplotlib.collections.PathCollection at 0x7fcc7b8b7ee0>"
      ]
     },
     "metadata":{
      
     },
     "output_type":"display_data"
    },
    {
     "data":{
      "image\/png":"[encoded data removed]"
     },
     "metadata":{
      "image\/png":{
       
      }
     },
     "output_type":"display_data"
    }
   ],
   "metadata":{
    "datalore":{
     "node_id":"IraptxYcfumkiW8xz5wCQu",
     "type":"CODE",
     "hide_input_from_viewers":true,
     "hide_output_from_viewers":true
    }
   }
  },
  {
   "cell_type":"code",
   "source":[
    "# K means\n",
    "plt.scatter(data[0][:,0], data[0][:,1], c=kmeans.labels_, cmap='rainbow')\n",
    "plt.scatter(kmeans.cluster_centers_[:, 0], kmeans.cluster_centers_[:, 1], color='black')  # add the cluster centers"
   ],
   "execution_count":37,
   "outputs":[
    {
     "data":{
      "text\/plain":[
       "<matplotlib.collections.PathCollection at 0x7fcc46e1e760>"
      ]
     },
     "metadata":{
      
     },
     "output_type":"display_data"
    },
    {
     "data":{
      "image\/png":"[encoded data removed]"
     },
     "metadata":{
      "image\/png":{
       
      }
     },
     "output_type":"display_data"
    }
   ],
   "metadata":{
    "datalore":{
     "node_id":"pNbRKXHJFtg7zpC7ZH2jo5",
     "type":"CODE",
     "hide_input_from_viewers":true,
     "hide_output_from_viewers":true
    }
   }
  },
  {
   "cell_type":"markdown",
   "source":[
    "# K Means Clustering - Cluster universities into Private and Public"
   ],
   "attachments":{
    
   },
   "metadata":{
    "datalore":{
     "node_id":"u5XPwU0Ze3D3Psgg8CTrAn",
     "type":"MD",
     "hide_input_from_viewers":true,
     "hide_output_from_viewers":true
    }
   }
  },
  {
   "cell_type":"code",
   "source":[
    "import pandas as pd\n",
    "from sklearn.cluster import KMeans\n",
    "import matplotlib.pyplot as plt\n",
    "from sklearn.preprocessing import MinMaxScaler\n",
    "import numpy as np"
   ],
   "execution_count":64,
   "outputs":[
    
   ],
   "metadata":{
    "datalore":{
     "node_id":"RbrZZaPN3bOxcwff2x3KtL",
     "type":"CODE",
     "hide_input_from_viewers":true,
     "hide_output_from_viewers":true
    }
   }
  },
  {
   "cell_type":"code",
   "source":[
    "data = pd.read_csv('\/data\/notebook_files\/College_Data')\n",
    "data"
   ],
   "execution_count":65,
   "outputs":[
    {
     "data":{
      "text\/html":[
       "<div>\n",
       "<style scoped>\n",
       "    .dataframe tbody tr th:only-of-type {\n",
       "        vertical-align: middle;\n",
       "    }\n",
       "\n",
       "    .dataframe tbody tr th {\n",
       "        vertical-align: top;\n",
       "    }\n",
       "\n",
       "    .dataframe thead th {\n",
       "        text-align: right;\n",
       "    }\n",
       "<\/style>\n",
       "<table border=\"1\" class=\"dataframe\">\n",
       "  <thead>\n",
       "    <tr style=\"text-align: right;\">\n",
       "      <th><\/th>\n",
       "      <th>Unnamed: 0<\/th>\n",
       "      <th>Private<\/th>\n",
       "      <th>Apps<\/th>\n",
       "      <th>Accept<\/th>\n",
       "      <th>Enroll<\/th>\n",
       "      <th>Top10perc<\/th>\n",
       "      <th>Top25perc<\/th>\n",
       "      <th>F.Undergrad<\/th>\n",
       "      <th>P.Undergrad<\/th>\n",
       "      <th>Outstate<\/th>\n",
       "      <th>Room.Board<\/th>\n",
       "      <th>Books<\/th>\n",
       "      <th>Personal<\/th>\n",
       "      <th>PhD<\/th>\n",
       "      <th>Terminal<\/th>\n",
       "      <th>S.F.Ratio<\/th>\n",
       "      <th>perc.alumni<\/th>\n",
       "      <th>Expend<\/th>\n",
       "      <th>Grad.Rate<\/th>\n",
       "    <\/tr>\n",
       "  <\/thead>\n",
       "  <tbody>\n",
       "    <tr>\n",
       "      <th>0<\/th>\n",
       "      <td>Abilene Christian University<\/td>\n",
       "      <td>Yes<\/td>\n",
       "      <td>1660<\/td>\n",
       "      <td>1232<\/td>\n",
       "      <td>721<\/td>\n",
       "      <td>23<\/td>\n",
       "      <td>52<\/td>\n",
       "      <td>2885<\/td>\n",
       "      <td>537<\/td>\n",
       "      <td>7440<\/td>\n",
       "      <td>3300<\/td>\n",
       "      <td>450<\/td>\n",
       "      <td>2200<\/td>\n",
       "      <td>70<\/td>\n",
       "      <td>78<\/td>\n",
       "      <td>18.1<\/td>\n",
       "      <td>12<\/td>\n",
       "      <td>7041<\/td>\n",
       "      <td>60<\/td>\n",
       "    <\/tr>\n",
       "    <tr>\n",
       "      <th>1<\/th>\n",
       "      <td>Adelphi University<\/td>\n",
       "      <td>Yes<\/td>\n",
       "      <td>2186<\/td>\n",
       "      <td>1924<\/td>\n",
       "      <td>512<\/td>\n",
       "      <td>16<\/td>\n",
       "      <td>29<\/td>\n",
       "      <td>2683<\/td>\n",
       "      <td>1227<\/td>\n",
       "      <td>12280<\/td>\n",
       "      <td>6450<\/td>\n",
       "      <td>750<\/td>\n",
       "      <td>1500<\/td>\n",
       "      <td>29<\/td>\n",
       "      <td>30<\/td>\n",
       "      <td>12.2<\/td>\n",
       "      <td>16<\/td>\n",
       "      <td>10527<\/td>\n",
       "      <td>56<\/td>\n",
       "    <\/tr>\n",
       "    <tr>\n",
       "      <th>2<\/th>\n",
       "      <td>Adrian College<\/td>\n",
       "      <td>Yes<\/td>\n",
       "      <td>1428<\/td>\n",
       "      <td>1097<\/td>\n",
       "      <td>336<\/td>\n",
       "      <td>22<\/td>\n",
       "      <td>50<\/td>\n",
       "      <td>1036<\/td>\n",
       "      <td>99<\/td>\n",
       "      <td>11250<\/td>\n",
       "      <td>3750<\/td>\n",
       "      <td>400<\/td>\n",
       "      <td>1165<\/td>\n",
       "      <td>53<\/td>\n",
       "      <td>66<\/td>\n",
       "      <td>12.9<\/td>\n",
       "      <td>30<\/td>\n",
       "      <td>8735<\/td>\n",
       "      <td>54<\/td>\n",
       "    <\/tr>\n",
       "    <tr>\n",
       "      <th>3<\/th>\n",
       "      <td>Agnes Scott College<\/td>\n",
       "      <td>Yes<\/td>\n",
       "      <td>417<\/td>\n",
       "      <td>349<\/td>\n",
       "      <td>137<\/td>\n",
       "      <td>60<\/td>\n",
       "      <td>89<\/td>\n",
       "      <td>510<\/td>\n",
       "      <td>63<\/td>\n",
       "      <td>12960<\/td>\n",
       "      <td>5450<\/td>\n",
       "      <td>450<\/td>\n",
       "      <td>875<\/td>\n",
       "      <td>92<\/td>\n",
       "      <td>97<\/td>\n",
       "      <td>7.7<\/td>\n",
       "      <td>37<\/td>\n",
       "      <td>19016<\/td>\n",
       "      <td>59<\/td>\n",
       "    <\/tr>\n",
       "    <tr>\n",
       "      <th>4<\/th>\n",
       "      <td>Alaska Pacific University<\/td>\n",
       "      <td>Yes<\/td>\n",
       "      <td>193<\/td>\n",
       "      <td>146<\/td>\n",
       "      <td>55<\/td>\n",
       "      <td>16<\/td>\n",
       "      <td>44<\/td>\n",
       "      <td>249<\/td>\n",
       "      <td>869<\/td>\n",
       "      <td>7560<\/td>\n",
       "      <td>4120<\/td>\n",
       "      <td>800<\/td>\n",
       "      <td>1500<\/td>\n",
       "      <td>76<\/td>\n",
       "      <td>72<\/td>\n",
       "      <td>11.9<\/td>\n",
       "      <td>2<\/td>\n",
       "      <td>10922<\/td>\n",
       "      <td>15<\/td>\n",
       "    <\/tr>\n",
       "    <tr>\n",
       "      <th>...<\/th>\n",
       "      <td>...<\/td>\n",
       "      <td>...<\/td>\n",
       "      <td>...<\/td>\n",
       "      <td>...<\/td>\n",
       "      <td>...<\/td>\n",
       "      <td>...<\/td>\n",
       "      <td>...<\/td>\n",
       "      <td>...<\/td>\n",
       "      <td>...<\/td>\n",
       "      <td>...<\/td>\n",
       "      <td>...<\/td>\n",
       "      <td>...<\/td>\n",
       "      <td>...<\/td>\n",
       "      <td>...<\/td>\n",
       "      <td>...<\/td>\n",
       "      <td>...<\/td>\n",
       "      <td>...<\/td>\n",
       "      <td>...<\/td>\n",
       "      <td>...<\/td>\n",
       "    <\/tr>\n",
       "    <tr>\n",
       "      <th>772<\/th>\n",
       "      <td>Worcester State College<\/td>\n",
       "      <td>No<\/td>\n",
       "      <td>2197<\/td>\n",
       "      <td>1515<\/td>\n",
       "      <td>543<\/td>\n",
       "      <td>4<\/td>\n",
       "      <td>26<\/td>\n",
       "      <td>3089<\/td>\n",
       "      <td>2029<\/td>\n",
       "      <td>6797<\/td>\n",
       "      <td>3900<\/td>\n",
       "      <td>500<\/td>\n",
       "      <td>1200<\/td>\n",
       "      <td>60<\/td>\n",
       "      <td>60<\/td>\n",
       "      <td>21.0<\/td>\n",
       "      <td>14<\/td>\n",
       "      <td>4469<\/td>\n",
       "      <td>40<\/td>\n",
       "    <\/tr>\n",
       "    <tr>\n",
       "      <th>773<\/th>\n",
       "      <td>Xavier University<\/td>\n",
       "      <td>Yes<\/td>\n",
       "      <td>1959<\/td>\n",
       "      <td>1805<\/td>\n",
       "      <td>695<\/td>\n",
       "      <td>24<\/td>\n",
       "      <td>47<\/td>\n",
       "      <td>2849<\/td>\n",
       "      <td>1107<\/td>\n",
       "      <td>11520<\/td>\n",
       "      <td>4960<\/td>\n",
       "      <td>600<\/td>\n",
       "      <td>1250<\/td>\n",
       "      <td>73<\/td>\n",
       "      <td>75<\/td>\n",
       "      <td>13.3<\/td>\n",
       "      <td>31<\/td>\n",
       "      <td>9189<\/td>\n",
       "      <td>83<\/td>\n",
       "    <\/tr>\n",
       "    <tr>\n",
       "      <th>774<\/th>\n",
       "      <td>Xavier University of Louisiana<\/td>\n",
       "      <td>Yes<\/td>\n",
       "      <td>2097<\/td>\n",
       "      <td>1915<\/td>\n",
       "      <td>695<\/td>\n",
       "      <td>34<\/td>\n",
       "      <td>61<\/td>\n",
       "      <td>2793<\/td>\n",
       "      <td>166<\/td>\n",
       "      <td>6900<\/td>\n",
       "      <td>4200<\/td>\n",
       "      <td>617<\/td>\n",
       "      <td>781<\/td>\n",
       "      <td>67<\/td>\n",
       "      <td>75<\/td>\n",
       "      <td>14.4<\/td>\n",
       "      <td>20<\/td>\n",
       "      <td>8323<\/td>\n",
       "      <td>49<\/td>\n",
       "    <\/tr>\n",
       "    <tr>\n",
       "      <th>775<\/th>\n",
       "      <td>Yale University<\/td>\n",
       "      <td>Yes<\/td>\n",
       "      <td>10705<\/td>\n",
       "      <td>2453<\/td>\n",
       "      <td>1317<\/td>\n",
       "      <td>95<\/td>\n",
       "      <td>99<\/td>\n",
       "      <td>5217<\/td>\n",
       "      <td>83<\/td>\n",
       "      <td>19840<\/td>\n",
       "      <td>6510<\/td>\n",
       "      <td>630<\/td>\n",
       "      <td>2115<\/td>\n",
       "      <td>96<\/td>\n",
       "      <td>96<\/td>\n",
       "      <td>5.8<\/td>\n",
       "      <td>49<\/td>\n",
       "      <td>40386<\/td>\n",
       "      <td>99<\/td>\n",
       "    <\/tr>\n",
       "    <tr>\n",
       "      <th>776<\/th>\n",
       "      <td>York College of Pennsylvania<\/td>\n",
       "      <td>Yes<\/td>\n",
       "      <td>2989<\/td>\n",
       "      <td>1855<\/td>\n",
       "      <td>691<\/td>\n",
       "      <td>28<\/td>\n",
       "      <td>63<\/td>\n",
       "      <td>2988<\/td>\n",
       "      <td>1726<\/td>\n",
       "      <td>4990<\/td>\n",
       "      <td>3560<\/td>\n",
       "      <td>500<\/td>\n",
       "      <td>1250<\/td>\n",
       "      <td>75<\/td>\n",
       "      <td>75<\/td>\n",
       "      <td>18.1<\/td>\n",
       "      <td>28<\/td>\n",
       "      <td>4509<\/td>\n",
       "      <td>99<\/td>\n",
       "    <\/tr>\n",
       "  <\/tbody>\n",
       "<\/table>\n",
       "<p>777 rows × 19 columns<\/p>\n",
       "<\/div>"
      ]
     },
     "metadata":{
      
     },
     "output_type":"display_data"
    }
   ],
   "metadata":{
    "datalore":{
     "node_id":"HMXZff85yDL67bbQEtt0WR",
     "type":"CODE",
     "hide_input_from_viewers":true,
     "hide_output_from_viewers":true
    }
   }
  },
  {
   "cell_type":"code",
   "source":[
    "private_counts = data['Private'].value_counts()\n",
    "private_counts"
   ],
   "execution_count":66,
   "outputs":[
    {
     "data":{
      "text\/html":[
       "<pre>Yes    565\n",
       "No     212\n",
       "Name: Private, dtype: int64<\/pre>"
      ]
     },
     "metadata":{
      
     },
     "output_type":"display_data"
    }
   ],
   "metadata":{
    "datalore":{
     "node_id":"H9uQilNRl534pAfwKgSr0P",
     "type":"CODE",
     "hide_input_from_viewers":true,
     "hide_output_from_viewers":true
    }
   }
  },
  {
   "cell_type":"markdown",
   "source":[
    "We will use a data frame with 777 observations on the following 18 variables.\n",
    "* Private A factor with levels No and Yes indicating private or public university\n",
    "* Apps Number of applications received\n",
    "* Accept Number of applications accepted\n",
    "* Enroll Number of new students enrolled\n",
    "* Top10perc Pct. new students from top 10% of H.S. class\n",
    "* Top25perc Pct. new students from top 25% of H.S. class\n",
    "* F.Undergrad Number of fulltime undergraduates\n",
    "* P.Undergrad Number of parttime undergraduates\n",
    "* Outstate Out-of-state tuition\n",
    "* Room.Board Room and board costs\n",
    "* Books Estimated book costs\n",
    "* Personal Estimated personal spending\n",
    "* PhD Pct. of faculty with Ph.D.’s\n",
    "* Terminal Pct. of faculty with terminal degree\n",
    "* S.F.Ratio Student\/faculty ratio\n",
    "* perc.alumni Pct. alumni who donate\n",
    "* Expend Instructional expenditure per student\n",
    "* Grad.Rate Graduation rate"
   ],
   "attachments":{
    
   },
   "metadata":{
    "datalore":{
     "node_id":"ZOGBeW9YygOjq7vij5oeux",
     "type":"MD",
     "hide_input_from_viewers":true,
     "hide_output_from_viewers":true
    }
   }
  },
  {
   "cell_type":"code",
   "source":[
    "data.info()"
   ],
   "execution_count":67,
   "outputs":[
    {
     "name":"stdout",
     "text":[
      "<class 'pandas.core.frame.DataFrame'>\n",
      "RangeIndex: 777 entries, 0 to 776\n",
      "Data columns (total 19 columns):\n",
      " #   Column       Non-Null Count  Dtype  \n",
      "---  ------       --------------  -----  \n",
      " 0   Unnamed: 0   777 non-null    object \n",
      " 1   Private      777 non-null    object \n",
      " 2   Apps         777 non-null    int64  \n",
      " 3   Accept       777 non-null    int64  \n",
      " 4   Enroll       777 non-null    int64  \n",
      " 5   Top10perc    777 non-null    int64  \n",
      " 6   Top25perc    777 non-null    int64  \n",
      " 7   F.Undergrad  777 non-null    int64  \n",
      " 8   P.Undergrad  777 non-null    int64  \n",
      " 9   Outstate     777 non-null    int64  \n",
      " 10  Room.Board   777 non-null    int64  \n",
      " 11  Books        777 non-null    int64  \n",
      " 12  Personal     777 non-null    int64  \n",
      " 13  PhD          777 non-null    int64  \n",
      " 14  Terminal     777 non-null    int64  \n",
      " 15  S.F.Ratio    777 non-null    float64\n",
      " 16  perc.alumni  777 non-null    int64  \n",
      " 17  Expend       777 non-null    int64  \n",
      " 18  Grad.Rate    777 non-null    int64  \n",
      "dtypes: float64(1), int64(16), object(2)\n",
      "memory usage: 115.5+ KB\n"
     ],
     "output_type":"stream"
    }
   ],
   "metadata":{
    "datalore":{
     "node_id":"jARYJkbtogPEsdAdKGbOF8",
     "type":"CODE",
     "hide_input_from_viewers":true,
     "hide_output_from_viewers":true
    }
   }
  },
  {
   "cell_type":"code",
   "source":[
    "data.columns"
   ],
   "execution_count":68,
   "outputs":[
    {
     "data":{
      "text\/plain":[
       "Index(['Unnamed: 0', 'Private', 'Apps', 'Accept', 'Enroll', 'Top10perc',\n",
       "       'Top25perc', 'F.Undergrad', 'P.Undergrad', 'Outstate', 'Room.Board',\n",
       "       'Books', 'Personal', 'PhD', 'Terminal', 'S.F.Ratio', 'perc.alumni',\n",
       "       'Expend', 'Grad.Rate'],\n",
       "      dtype='object')"
      ]
     },
     "metadata":{
      
     },
     "output_type":"display_data"
    }
   ],
   "metadata":{
    "datalore":{
     "node_id":"Z6NDQrLiNg3UjOeQKRYnco",
     "type":"CODE",
     "hide_input_from_viewers":true,
     "hide_output_from_viewers":true
    }
   }
  },
  {
   "cell_type":"code",
   "source":[
    "features = ['Apps', 'Accept', 'Enroll', 'Top10perc',\n",
    "       'Top25perc', 'F.Undergrad', 'P.Undergrad', 'Outstate', 'Room.Board',\n",
    "       'Books', 'Personal', 'PhD', 'Terminal', 'S.F.Ratio', 'perc.alumni',\n",
    "       'Expend', 'Grad.Rate']"
   ],
   "execution_count":69,
   "outputs":[
    
   ],
   "metadata":{
    "datalore":{
     "node_id":"kiwohgMYbyTJdu8KT4ZsWo",
     "type":"CODE",
     "hide_input_from_viewers":true,
     "hide_output_from_viewers":true
    }
   }
  },
  {
   "cell_type":"code",
   "source":[
    "data = data.drop('Private', axis = 1)\n",
    "school_name = data.pop('Unnamed: 0')\n",
    "data"
   ],
   "execution_count":70,
   "outputs":[
    {
     "data":{
      "text\/html":[
       "<div>\n",
       "<style scoped>\n",
       "    .dataframe tbody tr th:only-of-type {\n",
       "        vertical-align: middle;\n",
       "    }\n",
       "\n",
       "    .dataframe tbody tr th {\n",
       "        vertical-align: top;\n",
       "    }\n",
       "\n",
       "    .dataframe thead th {\n",
       "        text-align: right;\n",
       "    }\n",
       "<\/style>\n",
       "<table border=\"1\" class=\"dataframe\">\n",
       "  <thead>\n",
       "    <tr style=\"text-align: right;\">\n",
       "      <th><\/th>\n",
       "      <th>Apps<\/th>\n",
       "      <th>Accept<\/th>\n",
       "      <th>Enroll<\/th>\n",
       "      <th>Top10perc<\/th>\n",
       "      <th>Top25perc<\/th>\n",
       "      <th>F.Undergrad<\/th>\n",
       "      <th>P.Undergrad<\/th>\n",
       "      <th>Outstate<\/th>\n",
       "      <th>Room.Board<\/th>\n",
       "      <th>Books<\/th>\n",
       "      <th>Personal<\/th>\n",
       "      <th>PhD<\/th>\n",
       "      <th>Terminal<\/th>\n",
       "      <th>S.F.Ratio<\/th>\n",
       "      <th>perc.alumni<\/th>\n",
       "      <th>Expend<\/th>\n",
       "      <th>Grad.Rate<\/th>\n",
       "    <\/tr>\n",
       "  <\/thead>\n",
       "  <tbody>\n",
       "    <tr>\n",
       "      <th>0<\/th>\n",
       "      <td>1660<\/td>\n",
       "      <td>1232<\/td>\n",
       "      <td>721<\/td>\n",
       "      <td>23<\/td>\n",
       "      <td>52<\/td>\n",
       "      <td>2885<\/td>\n",
       "      <td>537<\/td>\n",
       "      <td>7440<\/td>\n",
       "      <td>3300<\/td>\n",
       "      <td>450<\/td>\n",
       "      <td>2200<\/td>\n",
       "      <td>70<\/td>\n",
       "      <td>78<\/td>\n",
       "      <td>18.1<\/td>\n",
       "      <td>12<\/td>\n",
       "      <td>7041<\/td>\n",
       "      <td>60<\/td>\n",
       "    <\/tr>\n",
       "    <tr>\n",
       "      <th>1<\/th>\n",
       "      <td>2186<\/td>\n",
       "      <td>1924<\/td>\n",
       "      <td>512<\/td>\n",
       "      <td>16<\/td>\n",
       "      <td>29<\/td>\n",
       "      <td>2683<\/td>\n",
       "      <td>1227<\/td>\n",
       "      <td>12280<\/td>\n",
       "      <td>6450<\/td>\n",
       "      <td>750<\/td>\n",
       "      <td>1500<\/td>\n",
       "      <td>29<\/td>\n",
       "      <td>30<\/td>\n",
       "      <td>12.2<\/td>\n",
       "      <td>16<\/td>\n",
       "      <td>10527<\/td>\n",
       "      <td>56<\/td>\n",
       "    <\/tr>\n",
       "    <tr>\n",
       "      <th>2<\/th>\n",
       "      <td>1428<\/td>\n",
       "      <td>1097<\/td>\n",
       "      <td>336<\/td>\n",
       "      <td>22<\/td>\n",
       "      <td>50<\/td>\n",
       "      <td>1036<\/td>\n",
       "      <td>99<\/td>\n",
       "      <td>11250<\/td>\n",
       "      <td>3750<\/td>\n",
       "      <td>400<\/td>\n",
       "      <td>1165<\/td>\n",
       "      <td>53<\/td>\n",
       "      <td>66<\/td>\n",
       "      <td>12.9<\/td>\n",
       "      <td>30<\/td>\n",
       "      <td>8735<\/td>\n",
       "      <td>54<\/td>\n",
       "    <\/tr>\n",
       "    <tr>\n",
       "      <th>3<\/th>\n",
       "      <td>417<\/td>\n",
       "      <td>349<\/td>\n",
       "      <td>137<\/td>\n",
       "      <td>60<\/td>\n",
       "      <td>89<\/td>\n",
       "      <td>510<\/td>\n",
       "      <td>63<\/td>\n",
       "      <td>12960<\/td>\n",
       "      <td>5450<\/td>\n",
       "      <td>450<\/td>\n",
       "      <td>875<\/td>\n",
       "      <td>92<\/td>\n",
       "      <td>97<\/td>\n",
       "      <td>7.7<\/td>\n",
       "      <td>37<\/td>\n",
       "      <td>19016<\/td>\n",
       "      <td>59<\/td>\n",
       "    <\/tr>\n",
       "    <tr>\n",
       "      <th>4<\/th>\n",
       "      <td>193<\/td>\n",
       "      <td>146<\/td>\n",
       "      <td>55<\/td>\n",
       "      <td>16<\/td>\n",
       "      <td>44<\/td>\n",
       "      <td>249<\/td>\n",
       "      <td>869<\/td>\n",
       "      <td>7560<\/td>\n",
       "      <td>4120<\/td>\n",
       "      <td>800<\/td>\n",
       "      <td>1500<\/td>\n",
       "      <td>76<\/td>\n",
       "      <td>72<\/td>\n",
       "      <td>11.9<\/td>\n",
       "      <td>2<\/td>\n",
       "      <td>10922<\/td>\n",
       "      <td>15<\/td>\n",
       "    <\/tr>\n",
       "    <tr>\n",
       "      <th>...<\/th>\n",
       "      <td>...<\/td>\n",
       "      <td>...<\/td>\n",
       "      <td>...<\/td>\n",
       "      <td>...<\/td>\n",
       "      <td>...<\/td>\n",
       "      <td>...<\/td>\n",
       "      <td>...<\/td>\n",
       "      <td>...<\/td>\n",
       "      <td>...<\/td>\n",
       "      <td>...<\/td>\n",
       "      <td>...<\/td>\n",
       "      <td>...<\/td>\n",
       "      <td>...<\/td>\n",
       "      <td>...<\/td>\n",
       "      <td>...<\/td>\n",
       "      <td>...<\/td>\n",
       "      <td>...<\/td>\n",
       "    <\/tr>\n",
       "    <tr>\n",
       "      <th>772<\/th>\n",
       "      <td>2197<\/td>\n",
       "      <td>1515<\/td>\n",
       "      <td>543<\/td>\n",
       "      <td>4<\/td>\n",
       "      <td>26<\/td>\n",
       "      <td>3089<\/td>\n",
       "      <td>2029<\/td>\n",
       "      <td>6797<\/td>\n",
       "      <td>3900<\/td>\n",
       "      <td>500<\/td>\n",
       "      <td>1200<\/td>\n",
       "      <td>60<\/td>\n",
       "      <td>60<\/td>\n",
       "      <td>21.0<\/td>\n",
       "      <td>14<\/td>\n",
       "      <td>4469<\/td>\n",
       "      <td>40<\/td>\n",
       "    <\/tr>\n",
       "    <tr>\n",
       "      <th>773<\/th>\n",
       "      <td>1959<\/td>\n",
       "      <td>1805<\/td>\n",
       "      <td>695<\/td>\n",
       "      <td>24<\/td>\n",
       "      <td>47<\/td>\n",
       "      <td>2849<\/td>\n",
       "      <td>1107<\/td>\n",
       "      <td>11520<\/td>\n",
       "      <td>4960<\/td>\n",
       "      <td>600<\/td>\n",
       "      <td>1250<\/td>\n",
       "      <td>73<\/td>\n",
       "      <td>75<\/td>\n",
       "      <td>13.3<\/td>\n",
       "      <td>31<\/td>\n",
       "      <td>9189<\/td>\n",
       "      <td>83<\/td>\n",
       "    <\/tr>\n",
       "    <tr>\n",
       "      <th>774<\/th>\n",
       "      <td>2097<\/td>\n",
       "      <td>1915<\/td>\n",
       "      <td>695<\/td>\n",
       "      <td>34<\/td>\n",
       "      <td>61<\/td>\n",
       "      <td>2793<\/td>\n",
       "      <td>166<\/td>\n",
       "      <td>6900<\/td>\n",
       "      <td>4200<\/td>\n",
       "      <td>617<\/td>\n",
       "      <td>781<\/td>\n",
       "      <td>67<\/td>\n",
       "      <td>75<\/td>\n",
       "      <td>14.4<\/td>\n",
       "      <td>20<\/td>\n",
       "      <td>8323<\/td>\n",
       "      <td>49<\/td>\n",
       "    <\/tr>\n",
       "    <tr>\n",
       "      <th>775<\/th>\n",
       "      <td>10705<\/td>\n",
       "      <td>2453<\/td>\n",
       "      <td>1317<\/td>\n",
       "      <td>95<\/td>\n",
       "      <td>99<\/td>\n",
       "      <td>5217<\/td>\n",
       "      <td>83<\/td>\n",
       "      <td>19840<\/td>\n",
       "      <td>6510<\/td>\n",
       "      <td>630<\/td>\n",
       "      <td>2115<\/td>\n",
       "      <td>96<\/td>\n",
       "      <td>96<\/td>\n",
       "      <td>5.8<\/td>\n",
       "      <td>49<\/td>\n",
       "      <td>40386<\/td>\n",
       "      <td>99<\/td>\n",
       "    <\/tr>\n",
       "    <tr>\n",
       "      <th>776<\/th>\n",
       "      <td>2989<\/td>\n",
       "      <td>1855<\/td>\n",
       "      <td>691<\/td>\n",
       "      <td>28<\/td>\n",
       "      <td>63<\/td>\n",
       "      <td>2988<\/td>\n",
       "      <td>1726<\/td>\n",
       "      <td>4990<\/td>\n",
       "      <td>3560<\/td>\n",
       "      <td>500<\/td>\n",
       "      <td>1250<\/td>\n",
       "      <td>75<\/td>\n",
       "      <td>75<\/td>\n",
       "      <td>18.1<\/td>\n",
       "      <td>28<\/td>\n",
       "      <td>4509<\/td>\n",
       "      <td>99<\/td>\n",
       "    <\/tr>\n",
       "  <\/tbody>\n",
       "<\/table>\n",
       "<p>777 rows × 17 columns<\/p>\n",
       "<\/div>"
      ]
     },
     "metadata":{
      
     },
     "output_type":"display_data"
    }
   ],
   "metadata":{
    "datalore":{
     "node_id":"CdjYsFRMbjDo5WsWe5OiGU",
     "type":"CODE",
     "hide_input_from_viewers":true,
     "hide_output_from_viewers":true
    }
   }
  },
  {
   "cell_type":"markdown",
   "source":[
    "1. Scale the large data, so that the data could be more central, ensure that no one column dominates the other\n",
    "2. Initialize random centroids\n",
    "3. Label each data point\n",
    "4. Update centroids\n",
    "5. Repeat step 3 and 4 until centroids stop changing"
   ],
   "attachments":{
    
   },
   "metadata":{
    "datalore":{
     "node_id":"97E7hbp0wyvEJwzNxeyVZ0",
     "type":"MD",
     "hide_input_from_viewers":true,
     "hide_output_from_viewers":true
    }
   }
  },
  {
   "cell_type":"code",
   "source":[
    "# Scale data using min max scaling\n",
    "data = ((data - data.min()) \/ (data.max() - data.min())) * 9 + 1\n",
    "# Make all the minimum values to zero, by subtracting min values from each item\n",
    "# Rescale everything from 0 to 1\n",
    "# Rescale so that it could be from 1 to 10 scale"
   ],
   "execution_count":71,
   "outputs":[
    
   ],
   "metadata":{
    "datalore":{
     "node_id":"Z4beDAsCsqPP9o40CGu5h8",
     "type":"CODE",
     "hide_input_from_viewers":true,
     "hide_output_from_viewers":true
    }
   }
  },
  {
   "cell_type":"code",
   "source":[
    "data.describe()\n",
    "# Everything now is on 1 to 10 scale"
   ],
   "execution_count":72,
   "outputs":[
    {
     "data":{
      "text\/html":[
       "<div>\n",
       "<style scoped>\n",
       "    .dataframe tbody tr th:only-of-type {\n",
       "        vertical-align: middle;\n",
       "    }\n",
       "\n",
       "    .dataframe tbody tr th {\n",
       "        vertical-align: top;\n",
       "    }\n",
       "\n",
       "    .dataframe thead th {\n",
       "        text-align: right;\n",
       "    }\n",
       "<\/style>\n",
       "<table border=\"1\" class=\"dataframe\">\n",
       "  <thead>\n",
       "    <tr style=\"text-align: right;\">\n",
       "      <th><\/th>\n",
       "      <th>Apps<\/th>\n",
       "      <th>Accept<\/th>\n",
       "      <th>Enroll<\/th>\n",
       "      <th>Top10perc<\/th>\n",
       "      <th>Top25perc<\/th>\n",
       "      <th>F.Undergrad<\/th>\n",
       "      <th>P.Undergrad<\/th>\n",
       "      <th>Outstate<\/th>\n",
       "      <th>Room.Board<\/th>\n",
       "      <th>Books<\/th>\n",
       "      <th>Personal<\/th>\n",
       "      <th>PhD<\/th>\n",
       "      <th>Terminal<\/th>\n",
       "      <th>S.F.Ratio<\/th>\n",
       "      <th>perc.alumni<\/th>\n",
       "      <th>Expend<\/th>\n",
       "      <th>Grad.Rate<\/th>\n",
       "    <\/tr>\n",
       "  <\/thead>\n",
       "  <tbody>\n",
       "    <tr>\n",
       "      <th>count<\/th>\n",
       "      <td>777.000000<\/td>\n",
       "      <td>777.000000<\/td>\n",
       "      <td>777.000000<\/td>\n",
       "      <td>777.000000<\/td>\n",
       "      <td>777.000000<\/td>\n",
       "      <td>777.000000<\/td>\n",
       "      <td>777.000000<\/td>\n",
       "      <td>777.000000<\/td>\n",
       "      <td>777.000000<\/td>\n",
       "      <td>777.000000<\/td>\n",
       "      <td>777.000000<\/td>\n",
       "      <td>777.000000<\/td>\n",
       "      <td>777.000000<\/td>\n",
       "      <td>777.000000<\/td>\n",
       "      <td>777.000000<\/td>\n",
       "      <td>777.000000<\/td>\n",
       "      <td>777.000000<\/td>\n",
       "    <\/tr>\n",
       "    <tr>\n",
       "      <th>mean<\/th>\n",
       "      <td>1.547471<\/td>\n",
       "      <td>1.667272<\/td>\n",
       "      <td>2.054705<\/td>\n",
       "      <td>3.516074<\/td>\n",
       "      <td>5.628240<\/td>\n",
       "      <td>2.017273<\/td>\n",
       "      <td>1.352127<\/td>\n",
       "      <td>4.765807<\/td>\n",
       "      <td>4.656642<\/td>\n",
       "      <td>2.818373<\/td>\n",
       "      <td>2.498592<\/td>\n",
       "      <td>7.125706<\/td>\n",
       "      <td>7.596373<\/td>\n",
       "      <td>3.796443<\/td>\n",
       "      <td>4.198359<\/td>\n",
       "      <td>2.098413<\/td>\n",
       "      <td>5.621943<\/td>\n",
       "    <\/tr>\n",
       "    <tr>\n",
       "      <th>std<\/th>\n",
       "      <td>0.725466<\/td>\n",
       "      <td>0.840126<\/td>\n",
       "      <td>1.315492<\/td>\n",
       "      <td>1.671192<\/td>\n",
       "      <td>1.958714<\/td>\n",
       "      <td>1.385658<\/td>\n",
       "      <td>0.627519<\/td>\n",
       "      <td>1.870204<\/td>\n",
       "      <td>1.555843<\/td>\n",
       "      <td>0.662187<\/td>\n",
       "      <td>0.930327<\/td>\n",
       "      <td>1.546878<\/td>\n",
       "      <td>1.743437<\/td>\n",
       "      <td>0.955098<\/td>\n",
       "      <td>1.742597<\/td>\n",
       "      <td>0.885930<\/td>\n",
       "      <td>1.431476<\/td>\n",
       "    <\/tr>\n",
       "    <tr>\n",
       "      <th>min<\/th>\n",
       "      <td>1.000000<\/td>\n",
       "      <td>1.000000<\/td>\n",
       "      <td>1.000000<\/td>\n",
       "      <td>1.000000<\/td>\n",
       "      <td>1.000000<\/td>\n",
       "      <td>1.000000<\/td>\n",
       "      <td>1.000000<\/td>\n",
       "      <td>1.000000<\/td>\n",
       "      <td>1.000000<\/td>\n",
       "      <td>1.000000<\/td>\n",
       "      <td>1.000000<\/td>\n",
       "      <td>1.000000<\/td>\n",
       "      <td>1.000000<\/td>\n",
       "      <td>1.000000<\/td>\n",
       "      <td>1.000000<\/td>\n",
       "      <td>1.000000<\/td>\n",
       "      <td>1.000000<\/td>\n",
       "    <\/tr>\n",
       "    <tr>\n",
       "      <th>25%<\/th>\n",
       "      <td>1.130277<\/td>\n",
       "      <td>1.182344<\/td>\n",
       "      <td>1.293063<\/td>\n",
       "      <td>2.326316<\/td>\n",
       "      <td>4.164835<\/td>\n",
       "      <td>1.243683<\/td>\n",
       "      <td>1.038745<\/td>\n",
       "      <td>3.315083<\/td>\n",
       "      <td>3.577711<\/td>\n",
       "      <td>2.500000<\/td>\n",
       "      <td>1.824427<\/td>\n",
       "      <td>6.115789<\/td>\n",
       "      <td>6.565789<\/td>\n",
       "      <td>3.171582<\/td>\n",
       "      <td>2.828125<\/td>\n",
       "      <td>1.604841<\/td>\n",
       "      <td>4.583333<\/td>\n",
       "    <\/tr>\n",
       "    <tr>\n",
       "      <th>50%<\/th>\n",
       "      <td>1.276863<\/td>\n",
       "      <td>1.355777<\/td>\n",
       "      <td>1.564889<\/td>\n",
       "      <td>3.084211<\/td>\n",
       "      <td>5.450549<\/td>\n",
       "      <td>1.447943<\/td>\n",
       "      <td>1.145088<\/td>\n",
       "      <td>4.556302<\/td>\n",
       "      <td>4.433165<\/td>\n",
       "      <td>2.620321<\/td>\n",
       "      <td>2.305344<\/td>\n",
       "      <td>7.347368<\/td>\n",
       "      <td>7.868421<\/td>\n",
       "      <td>3.678284<\/td>\n",
       "      <td>3.953125<\/td>\n",
       "      <td>1.880710<\/td>\n",
       "      <td>5.583333<\/td>\n",
       "    <\/tr>\n",
       "    <tr>\n",
       "      <th>75%<\/th>\n",
       "      <td>1.664133<\/td>\n",
       "      <td>1.806154<\/td>\n",
       "      <td>2.227466<\/td>\n",
       "      <td>4.221053<\/td>\n",
       "      <td>6.934066<\/td>\n",
       "      <td>2.104431<\/td>\n",
       "      <td>1.398168<\/td>\n",
       "      <td>5.920713<\/td>\n",
       "      <td>5.639029<\/td>\n",
       "      <td>3.021390<\/td>\n",
       "      <td>2.992366<\/td>\n",
       "      <td>8.294737<\/td>\n",
       "      <td>9.052632<\/td>\n",
       "      <td>4.378016<\/td>\n",
       "      <td>5.359375<\/td>\n",
       "      <td>2.296888<\/td>\n",
       "      <td>6.666667<\/td>\n",
       "    <\/tr>\n",
       "    <tr>\n",
       "      <th>max<\/th>\n",
       "      <td>10.000000<\/td>\n",
       "      <td>10.000000<\/td>\n",
       "      <td>10.000000<\/td>\n",
       "      <td>10.000000<\/td>\n",
       "      <td>10.000000<\/td>\n",
       "      <td>10.000000<\/td>\n",
       "      <td>10.000000<\/td>\n",
       "      <td>10.000000<\/td>\n",
       "      <td>10.000000<\/td>\n",
       "      <td>10.000000<\/td>\n",
       "      <td>10.000000<\/td>\n",
       "      <td>10.000000<\/td>\n",
       "      <td>10.000000<\/td>\n",
       "      <td>10.000000<\/td>\n",
       "      <td>10.000000<\/td>\n",
       "      <td>10.000000<\/td>\n",
       "      <td>10.000000<\/td>\n",
       "    <\/tr>\n",
       "  <\/tbody>\n",
       "<\/table>\n",
       "<\/div>"
      ]
     },
     "metadata":{
      
     },
     "output_type":"display_data"
    }
   ],
   "metadata":{
    "datalore":{
     "node_id":"gaPmrAneNZtL8H8EEBwCT6",
     "type":"CODE",
     "hide_input_from_viewers":true,
     "hide_output_from_viewers":true
    }
   }
  },
  {
   "cell_type":"code",
   "source":[
    "data"
   ],
   "execution_count":73,
   "outputs":[
    {
     "data":{
      "text\/html":[
       "<div>\n",
       "<style scoped>\n",
       "    .dataframe tbody tr th:only-of-type {\n",
       "        vertical-align: middle;\n",
       "    }\n",
       "\n",
       "    .dataframe tbody tr th {\n",
       "        vertical-align: top;\n",
       "    }\n",
       "\n",
       "    .dataframe thead th {\n",
       "        text-align: right;\n",
       "    }\n",
       "<\/style>\n",
       "<table border=\"1\" class=\"dataframe\">\n",
       "  <thead>\n",
       "    <tr style=\"text-align: right;\">\n",
       "      <th><\/th>\n",
       "      <th>Apps<\/th>\n",
       "      <th>Accept<\/th>\n",
       "      <th>Enroll<\/th>\n",
       "      <th>Top10perc<\/th>\n",
       "      <th>Top25perc<\/th>\n",
       "      <th>F.Undergrad<\/th>\n",
       "      <th>P.Undergrad<\/th>\n",
       "      <th>Outstate<\/th>\n",
       "      <th>Room.Board<\/th>\n",
       "      <th>Books<\/th>\n",
       "      <th>Personal<\/th>\n",
       "      <th>PhD<\/th>\n",
       "      <th>Terminal<\/th>\n",
       "      <th>S.F.Ratio<\/th>\n",
       "      <th>perc.alumni<\/th>\n",
       "      <th>Expend<\/th>\n",
       "      <th>Grad.Rate<\/th>\n",
       "    <\/tr>\n",
       "  <\/thead>\n",
       "  <tbody>\n",
       "    <tr>\n",
       "      <th>0<\/th>\n",
       "      <td>1.295982<\/td>\n",
       "      <td>1.397593<\/td>\n",
       "      <td>1.971213<\/td>\n",
       "      <td>3.084211<\/td>\n",
       "      <td>5.252747<\/td>\n",
       "      <td>1.784472<\/td>\n",
       "      <td>1.220930<\/td>\n",
       "      <td>3.370868<\/td>\n",
       "      <td>3.156368<\/td>\n",
       "      <td>2.419786<\/td>\n",
       "      <td>3.679389<\/td>\n",
       "      <td>6.873684<\/td>\n",
       "      <td>7.394737<\/td>\n",
       "      <td>4.764075<\/td>\n",
       "      <td>2.687500<\/td>\n",
       "      <td>1.654043<\/td>\n",
       "      <td>5.166667<\/td>\n",
       "    <\/tr>\n",
       "    <tr>\n",
       "      <th>1<\/th>\n",
       "      <td>1.394581<\/td>\n",
       "      <td>1.634778<\/td>\n",
       "      <td>1.675319<\/td>\n",
       "      <td>2.421053<\/td>\n",
       "      <td>2.978022<\/td>\n",
       "      <td>1.726765<\/td>\n",
       "      <td>1.505335<\/td>\n",
       "      <td>5.620868<\/td>\n",
       "      <td>7.625158<\/td>\n",
       "      <td>3.622995<\/td>\n",
       "      <td>2.717557<\/td>\n",
       "      <td>2.989474<\/td>\n",
       "      <td>1.710526<\/td>\n",
       "      <td>3.340483<\/td>\n",
       "      <td>3.250000<\/td>\n",
       "      <td>2.245480<\/td>\n",
       "      <td>4.833333<\/td>\n",
       "    <\/tr>\n",
       "    <tr>\n",
       "      <th>2<\/th>\n",
       "      <td>1.252494<\/td>\n",
       "      <td>1.351322<\/td>\n",
       "      <td>1.426144<\/td>\n",
       "      <td>2.989474<\/td>\n",
       "      <td>5.054945<\/td>\n",
       "      <td>1.256253<\/td>\n",
       "      <td>1.040394<\/td>\n",
       "      <td>5.142045<\/td>\n",
       "      <td>3.794767<\/td>\n",
       "      <td>2.219251<\/td>\n",
       "      <td>2.257252<\/td>\n",
       "      <td>5.263158<\/td>\n",
       "      <td>5.973684<\/td>\n",
       "      <td>3.509383<\/td>\n",
       "      <td>5.218750<\/td>\n",
       "      <td>1.941448<\/td>\n",
       "      <td>4.666667<\/td>\n",
       "    <\/tr>\n",
       "    <tr>\n",
       "      <th>3<\/th>\n",
       "      <td>1.062983<\/td>\n",
       "      <td>1.094942<\/td>\n",
       "      <td>1.144408<\/td>\n",
       "      <td>6.589474<\/td>\n",
       "      <td>8.912088<\/td>\n",
       "      <td>1.105987<\/td>\n",
       "      <td>1.025555<\/td>\n",
       "      <td>5.936983<\/td>\n",
       "      <td>6.206494<\/td>\n",
       "      <td>2.419786<\/td>\n",
       "      <td>1.858779<\/td>\n",
       "      <td>8.957895<\/td>\n",
       "      <td>9.644737<\/td>\n",
       "      <td>2.254692<\/td>\n",
       "      <td>6.203125<\/td>\n",
       "      <td>3.685732<\/td>\n",
       "      <td>5.083333<\/td>\n",
       "    <\/tr>\n",
       "    <tr>\n",
       "      <th>4<\/th>\n",
       "      <td>1.020994<\/td>\n",
       "      <td>1.025364<\/td>\n",
       "      <td>1.028315<\/td>\n",
       "      <td>2.421053<\/td>\n",
       "      <td>4.461538<\/td>\n",
       "      <td>1.031425<\/td>\n",
       "      <td>1.357774<\/td>\n",
       "      <td>3.426653<\/td>\n",
       "      <td>4.319672<\/td>\n",
       "      <td>3.823529<\/td>\n",
       "      <td>2.717557<\/td>\n",
       "      <td>7.442105<\/td>\n",
       "      <td>6.684211<\/td>\n",
       "      <td>3.268097<\/td>\n",
       "      <td>1.281250<\/td>\n",
       "      <td>2.312496<\/td>\n",
       "      <td>1.416667<\/td>\n",
       "    <\/tr>\n",
       "    <tr>\n",
       "      <th>...<\/th>\n",
       "      <td>...<\/td>\n",
       "      <td>...<\/td>\n",
       "      <td>...<\/td>\n",
       "      <td>...<\/td>\n",
       "      <td>...<\/td>\n",
       "      <td>...<\/td>\n",
       "      <td>...<\/td>\n",
       "      <td>...<\/td>\n",
       "      <td>...<\/td>\n",
       "      <td>...<\/td>\n",
       "      <td>...<\/td>\n",
       "      <td>...<\/td>\n",
       "      <td>...<\/td>\n",
       "      <td>...<\/td>\n",
       "      <td>...<\/td>\n",
       "      <td>...<\/td>\n",
       "      <td>...<\/td>\n",
       "    <\/tr>\n",
       "    <tr>\n",
       "      <th>772<\/th>\n",
       "      <td>1.396643<\/td>\n",
       "      <td>1.494592<\/td>\n",
       "      <td>1.719207<\/td>\n",
       "      <td>1.284211<\/td>\n",
       "      <td>2.681319<\/td>\n",
       "      <td>1.842750<\/td>\n",
       "      <td>1.835906<\/td>\n",
       "      <td>3.071952<\/td>\n",
       "      <td>4.007566<\/td>\n",
       "      <td>2.620321<\/td>\n",
       "      <td>2.305344<\/td>\n",
       "      <td>5.926316<\/td>\n",
       "      <td>5.263158<\/td>\n",
       "      <td>5.463807<\/td>\n",
       "      <td>2.968750<\/td>\n",
       "      <td>1.217675<\/td>\n",
       "      <td>3.500000<\/td>\n",
       "    <\/tr>\n",
       "    <tr>\n",
       "      <th>773<\/th>\n",
       "      <td>1.352030<\/td>\n",
       "      <td>1.593990<\/td>\n",
       "      <td>1.934403<\/td>\n",
       "      <td>3.178947<\/td>\n",
       "      <td>4.758242<\/td>\n",
       "      <td>1.774187<\/td>\n",
       "      <td>1.455874<\/td>\n",
       "      <td>5.267562<\/td>\n",
       "      <td>5.511349<\/td>\n",
       "      <td>3.021390<\/td>\n",
       "      <td>2.374046<\/td>\n",
       "      <td>7.157895<\/td>\n",
       "      <td>7.039474<\/td>\n",
       "      <td>3.605898<\/td>\n",
       "      <td>5.359375<\/td>\n",
       "      <td>2.018474<\/td>\n",
       "      <td>7.083333<\/td>\n",
       "    <\/tr>\n",
       "    <tr>\n",
       "      <th>774<\/th>\n",
       "      <td>1.377898<\/td>\n",
       "      <td>1.631693<\/td>\n",
       "      <td>1.934403<\/td>\n",
       "      <td>4.126316<\/td>\n",
       "      <td>6.142857<\/td>\n",
       "      <td>1.758189<\/td>\n",
       "      <td>1.068010<\/td>\n",
       "      <td>3.119835<\/td>\n",
       "      <td>4.433165<\/td>\n",
       "      <td>3.089572<\/td>\n",
       "      <td>1.729618<\/td>\n",
       "      <td>6.589474<\/td>\n",
       "      <td>7.039474<\/td>\n",
       "      <td>3.871314<\/td>\n",
       "      <td>3.812500<\/td>\n",
       "      <td>1.871548<\/td>\n",
       "      <td>4.250000<\/td>\n",
       "    <\/tr>\n",
       "    <tr>\n",
       "      <th>775<\/th>\n",
       "      <td>2.991461<\/td>\n",
       "      <td>1.816094<\/td>\n",
       "      <td>2.815007<\/td>\n",
       "      <td>9.905263<\/td>\n",
       "      <td>9.901099<\/td>\n",
       "      <td>2.450673<\/td>\n",
       "      <td>1.033799<\/td>\n",
       "      <td>9.135331<\/td>\n",
       "      <td>7.710277<\/td>\n",
       "      <td>3.141711<\/td>\n",
       "      <td>3.562595<\/td>\n",
       "      <td>9.336842<\/td>\n",
       "      <td>9.526316<\/td>\n",
       "      <td>1.796247<\/td>\n",
       "      <td>7.890625<\/td>\n",
       "      <td>7.311384<\/td>\n",
       "      <td>8.416667<\/td>\n",
       "    <\/tr>\n",
       "    <tr>\n",
       "      <th>776<\/th>\n",
       "      <td>1.545102<\/td>\n",
       "      <td>1.611128<\/td>\n",
       "      <td>1.928740<\/td>\n",
       "      <td>3.557895<\/td>\n",
       "      <td>6.340659<\/td>\n",
       "      <td>1.813897<\/td>\n",
       "      <td>1.711014<\/td>\n",
       "      <td>2.231921<\/td>\n",
       "      <td>3.525221<\/td>\n",
       "      <td>2.620321<\/td>\n",
       "      <td>2.374046<\/td>\n",
       "      <td>7.347368<\/td>\n",
       "      <td>7.039474<\/td>\n",
       "      <td>4.764075<\/td>\n",
       "      <td>4.937500<\/td>\n",
       "      <td>1.224461<\/td>\n",
       "      <td>8.416667<\/td>\n",
       "    <\/tr>\n",
       "  <\/tbody>\n",
       "<\/table>\n",
       "<p>777 rows × 17 columns<\/p>\n",
       "<\/div>"
      ]
     },
     "metadata":{
      
     },
     "output_type":"display_data"
    }
   ],
   "metadata":{
    "datalore":{
     "node_id":"KH9rQ2AKsNqjv5EDztYGuY",
     "type":"CODE",
     "hide_input_from_viewers":true,
     "hide_output_from_viewers":true
    }
   }
  },
  {
   "cell_type":"code",
   "source":[
    "# Initialize random centroids\n",
    "def random_centroids(data, k):\n",
    "    centroids = []\n",
    "    for i in range(k):\n",
    "        centroid = data.apply(lambda x: float(x.sample())) # Iterate through each col, pick a random value\n",
    "        centroids.append(centroid)\n",
    "    return pd.concat(centroids, axis=1)   # Combine the pandas series into a dataframe"
   ],
   "execution_count":74,
   "outputs":[
    
   ],
   "metadata":{
    "datalore":{
     "node_id":"OoBNyKUHXvJoetH6qEuSN9",
     "type":"CODE",
     "hide_input_from_viewers":true,
     "hide_output_from_viewers":true
    }
   }
  },
  {
   "cell_type":"code",
   "source":[
    "centroids = random_centroids(data, 2) # Create 2 centroids\n",
    "centroids"
   ],
   "execution_count":75,
   "outputs":[
    {
     "data":{
      "text\/html":[
       "<div>\n",
       "<style scoped>\n",
       "    .dataframe tbody tr th:only-of-type {\n",
       "        vertical-align: middle;\n",
       "    }\n",
       "\n",
       "    .dataframe tbody tr th {\n",
       "        vertical-align: top;\n",
       "    }\n",
       "\n",
       "    .dataframe thead th {\n",
       "        text-align: right;\n",
       "    }\n",
       "<\/style>\n",
       "<table border=\"1\" class=\"dataframe\">\n",
       "  <thead>\n",
       "    <tr style=\"text-align: right;\">\n",
       "      <th><\/th>\n",
       "      <th>0<\/th>\n",
       "      <th>1<\/th>\n",
       "    <\/tr>\n",
       "  <\/thead>\n",
       "  <tbody>\n",
       "    <tr>\n",
       "      <th>Apps<\/th>\n",
       "      <td>2.075396<\/td>\n",
       "      <td>1.115844<\/td>\n",
       "    <\/tr>\n",
       "    <tr>\n",
       "      <th>Accept<\/th>\n",
       "      <td>1.688590<\/td>\n",
       "      <td>1.217648<\/td>\n",
       "    <\/tr>\n",
       "    <tr>\n",
       "      <th>Enroll<\/th>\n",
       "      <td>2.049080<\/td>\n",
       "      <td>1.569136<\/td>\n",
       "    <\/tr>\n",
       "    <tr>\n",
       "      <th>Top10perc<\/th>\n",
       "      <td>2.231579<\/td>\n",
       "      <td>9.431579<\/td>\n",
       "    <\/tr>\n",
       "    <tr>\n",
       "      <th>Top25perc<\/th>\n",
       "      <td>10.000000<\/td>\n",
       "      <td>7.725275<\/td>\n",
       "    <\/tr>\n",
       "    <tr>\n",
       "      <th>F.Undergrad<\/th>\n",
       "      <td>2.240414<\/td>\n",
       "      <td>1.282250<\/td>\n",
       "    <\/tr>\n",
       "    <tr>\n",
       "      <th>P.Undergrad<\/th>\n",
       "      <td>1.011953<\/td>\n",
       "      <td>1.002061<\/td>\n",
       "    <\/tr>\n",
       "    <tr>\n",
       "      <th>Outstate<\/th>\n",
       "      <td>3.128667<\/td>\n",
       "      <td>3.076136<\/td>\n",
       "    <\/tr>\n",
       "    <tr>\n",
       "      <th>Room.Board<\/th>\n",
       "      <td>7.812421<\/td>\n",
       "      <td>4.787831<\/td>\n",
       "    <\/tr>\n",
       "    <tr>\n",
       "      <th>Books<\/th>\n",
       "      <td>3.021390<\/td>\n",
       "      <td>3.021390<\/td>\n",
       "    <\/tr>\n",
       "    <tr>\n",
       "      <th>Personal<\/th>\n",
       "      <td>3.473282<\/td>\n",
       "      <td>1.893130<\/td>\n",
       "    <\/tr>\n",
       "    <tr>\n",
       "      <th>PhD<\/th>\n",
       "      <td>6.115789<\/td>\n",
       "      <td>8.957895<\/td>\n",
       "    <\/tr>\n",
       "    <tr>\n",
       "      <th>Terminal<\/th>\n",
       "      <td>10.000000<\/td>\n",
       "      <td>6.921053<\/td>\n",
       "    <\/tr>\n",
       "    <tr>\n",
       "      <th>S.F.Ratio<\/th>\n",
       "      <td>3.750670<\/td>\n",
       "      <td>3.412869<\/td>\n",
       "    <\/tr>\n",
       "    <tr>\n",
       "      <th>perc.alumni<\/th>\n",
       "      <td>3.671875<\/td>\n",
       "      <td>7.750000<\/td>\n",
       "    <\/tr>\n",
       "    <tr>\n",
       "      <th>Expend<\/th>\n",
       "      <td>1.608574<\/td>\n",
       "      <td>1.471997<\/td>\n",
       "    <\/tr>\n",
       "    <tr>\n",
       "      <th>Grad.Rate<\/th>\n",
       "      <td>8.500000<\/td>\n",
       "      <td>7.250000<\/td>\n",
       "    <\/tr>\n",
       "  <\/tbody>\n",
       "<\/table>\n",
       "<\/div>"
      ]
     },
     "metadata":{
      
     },
     "output_type":"display_data"
    }
   ],
   "metadata":{
    "datalore":{
     "node_id":"P2PJOlBSQccdRx1LI4ccHA",
     "type":"CODE",
     "hide_input_from_viewers":true,
     "hide_output_from_viewers":true
    }
   }
  },
  {
   "cell_type":"code",
   "source":[
    "# A function to label each data point according to the centroids\n",
    "def get_labels(data, centroids):\n",
    "    distances = centroids.apply(lambda x: np.sqrt(((data - x) ** 2).sum(axis=1)))\n",
    "    return distances.idxmin(axis=1)"
   ],
   "execution_count":76,
   "outputs":[
    
   ],
   "metadata":{
    "datalore":{
     "node_id":"6rGcqcEgnBh8ZD90KsTaYG",
     "type":"CODE",
     "hide_input_from_viewers":true,
     "hide_output_from_viewers":true
    }
   }
  },
  {
   "cell_type":"code",
   "source":[
    "labels = get_labels(data, centroids)\n",
    "labels  # Assign the school to each cluster"
   ],
   "execution_count":77,
   "outputs":[
    {
     "data":{
      "text\/html":[
       "<pre>0      0\n",
       "1      0\n",
       "2      1\n",
       "3      1\n",
       "4      0\n",
       "      ..\n",
       "772    0\n",
       "773    0\n",
       "774    0\n",
       "775    1\n",
       "776    0\n",
       "Length: 777, dtype: int64<\/pre>"
      ]
     },
     "metadata":{
      
     },
     "output_type":"display_data"
    }
   ],
   "metadata":{
    "datalore":{
     "node_id":"fU5WjTzCExnGTeQ11nBG0g",
     "type":"CODE",
     "hide_input_from_viewers":true,
     "hide_output_from_viewers":true
    }
   }
  },
  {
   "cell_type":"code",
   "source":[
    "# Convert labels Series to DataFrame\n",
    "labels_df = pd.DataFrame(labels)\n",
    "\n",
    "# Concatenate school_name to labels_df along the column axis\n",
    "combined_df = pd.concat([labels_df, school_name], axis=1)\n",
    "\n",
    "combined_df"
   ],
   "execution_count":78,
   "outputs":[
    {
     "data":{
      "text\/html":[
       "<div>\n",
       "<style scoped>\n",
       "    .dataframe tbody tr th:only-of-type {\n",
       "        vertical-align: middle;\n",
       "    }\n",
       "\n",
       "    .dataframe tbody tr th {\n",
       "        vertical-align: top;\n",
       "    }\n",
       "\n",
       "    .dataframe thead th {\n",
       "        text-align: right;\n",
       "    }\n",
       "<\/style>\n",
       "<table border=\"1\" class=\"dataframe\">\n",
       "  <thead>\n",
       "    <tr style=\"text-align: right;\">\n",
       "      <th><\/th>\n",
       "      <th>0<\/th>\n",
       "      <th>Unnamed: 0<\/th>\n",
       "    <\/tr>\n",
       "  <\/thead>\n",
       "  <tbody>\n",
       "    <tr>\n",
       "      <th>0<\/th>\n",
       "      <td>0<\/td>\n",
       "      <td>Abilene Christian University<\/td>\n",
       "    <\/tr>\n",
       "    <tr>\n",
       "      <th>1<\/th>\n",
       "      <td>0<\/td>\n",
       "      <td>Adelphi University<\/td>\n",
       "    <\/tr>\n",
       "    <tr>\n",
       "      <th>2<\/th>\n",
       "      <td>1<\/td>\n",
       "      <td>Adrian College<\/td>\n",
       "    <\/tr>\n",
       "    <tr>\n",
       "      <th>3<\/th>\n",
       "      <td>1<\/td>\n",
       "      <td>Agnes Scott College<\/td>\n",
       "    <\/tr>\n",
       "    <tr>\n",
       "      <th>4<\/th>\n",
       "      <td>0<\/td>\n",
       "      <td>Alaska Pacific University<\/td>\n",
       "    <\/tr>\n",
       "    <tr>\n",
       "      <th>...<\/th>\n",
       "      <td>...<\/td>\n",
       "      <td>...<\/td>\n",
       "    <\/tr>\n",
       "    <tr>\n",
       "      <th>772<\/th>\n",
       "      <td>0<\/td>\n",
       "      <td>Worcester State College<\/td>\n",
       "    <\/tr>\n",
       "    <tr>\n",
       "      <th>773<\/th>\n",
       "      <td>0<\/td>\n",
       "      <td>Xavier University<\/td>\n",
       "    <\/tr>\n",
       "    <tr>\n",
       "      <th>774<\/th>\n",
       "      <td>0<\/td>\n",
       "      <td>Xavier University of Louisiana<\/td>\n",
       "    <\/tr>\n",
       "    <tr>\n",
       "      <th>775<\/th>\n",
       "      <td>1<\/td>\n",
       "      <td>Yale University<\/td>\n",
       "    <\/tr>\n",
       "    <tr>\n",
       "      <th>776<\/th>\n",
       "      <td>0<\/td>\n",
       "      <td>York College of Pennsylvania<\/td>\n",
       "    <\/tr>\n",
       "  <\/tbody>\n",
       "<\/table>\n",
       "<p>777 rows × 2 columns<\/p>\n",
       "<\/div>"
      ]
     },
     "metadata":{
      
     },
     "output_type":"display_data"
    }
   ],
   "metadata":{
    "datalore":{
     "node_id":"X2RM8qDFfW6aZPNiuqa37E",
     "type":"CODE",
     "hide_input_from_viewers":true,
     "hide_output_from_viewers":true
    }
   }
  },
  {
   "cell_type":"code",
   "source":[
    "# Rename the 'labels' column to 'cluster_label'\n",
    "combined_df = combined_df.rename(columns={0: 'cluster_label'})"
   ],
   "execution_count":79,
   "outputs":[
    
   ],
   "metadata":{
    "datalore":{
     "node_id":"UoTY0Vf4klhz1RZPoKBOk5",
     "type":"CODE",
     "hide_input_from_viewers":true,
     "hide_output_from_viewers":true
    }
   }
  },
  {
   "cell_type":"code",
   "source":[
    "combined_df['cluster_label'].value_counts()"
   ],
   "execution_count":80,
   "outputs":[
    {
     "data":{
      "text\/html":[
       "<pre>0    568\n",
       "1    209\n",
       "Name: cluster_label, dtype: int64<\/pre>"
      ]
     },
     "metadata":{
      
     },
     "output_type":"display_data"
    }
   ],
   "metadata":{
    "datalore":{
     "node_id":"oUuQY7lX2lsKRYlIzrQqXO",
     "type":"CODE",
     "hide_input_from_viewers":true,
     "hide_output_from_viewers":true
    }
   }
  },
  {
   "cell_type":"code",
   "source":[
    "plt.figure(figsize=(10,6))\n",
    "plt.scatter(combined_df['cluster_label'], combined_df['Unnamed: 0'], cmap='rainbow', alpha=0.6)\n",
    "plt.xlabel('Label')\n",
    "plt.ylabel('School')\n",
    "plt.title('Scatter Plot: Labels vs School')\n",
    "plt.show()\n",
    "# We are clearly no where near to the correct prediction, but this is just 2 random centroids"
   ],
   "execution_count":81,
   "outputs":[
    {
     "name":"stderr",
     "text":[
      "<ipython-input-81-51b98de33ceb>:2: UserWarning: No data for colormapping provided via 'c'. Parameters 'cmap' will be ignored\n",
      "  plt.scatter(combined_df['cluster_label'], combined_df['Unnamed: 0'], cmap='rainbow', alpha=0.6)\n"
     ],
     "output_type":"stream"
    },
    {
     "data":{
      "image\/png":"[encoded data removed]"
     },
     "metadata":{
      "image\/png":{
       
      }
     },
     "output_type":"display_data"
    }
   ],
   "metadata":{
    "datalore":{
     "node_id":"ndpvxUyZ6E4t87HUgQZowh",
     "type":"CODE",
     "hide_input_from_viewers":true,
     "hide_output_from_viewers":true
    }
   }
  },
  {
   "cell_type":"code",
   "source":[
    "# We're going to update the centroids\n",
    "def new_centroids(data, labels, k):\n",
    "    centroids = data.groupby(labels).apply(lambda x: np.exp(np.log(x).mean())).T\n",
    "    return centroids\n",
    "# Re-calculating centroids using the mean of log values in each label group.\n",
    "# np.log(x).mean() calculates the mean of the log values in each group, np.exp then transforms the mean log values back to their original scale\n",
    "# .T tranposes the resulting DataFrame matching our original centroids structure. If not, the row and col labels would switch\n",
    "\n",
    "centroids"
   ],
   "execution_count":82,
   "outputs":[
    {
     "data":{
      "text\/html":[
       "<div>\n",
       "<style scoped>\n",
       "    .dataframe tbody tr th:only-of-type {\n",
       "        vertical-align: middle;\n",
       "    }\n",
       "\n",
       "    .dataframe tbody tr th {\n",
       "        vertical-align: top;\n",
       "    }\n",
       "\n",
       "    .dataframe thead th {\n",
       "        text-align: right;\n",
       "    }\n",
       "<\/style>\n",
       "<table border=\"1\" class=\"dataframe\">\n",
       "  <thead>\n",
       "    <tr style=\"text-align: right;\">\n",
       "      <th><\/th>\n",
       "      <th>0<\/th>\n",
       "      <th>1<\/th>\n",
       "    <\/tr>\n",
       "  <\/thead>\n",
       "  <tbody>\n",
       "    <tr>\n",
       "      <th>Apps<\/th>\n",
       "      <td>2.075396<\/td>\n",
       "      <td>1.115844<\/td>\n",
       "    <\/tr>\n",
       "    <tr>\n",
       "      <th>Accept<\/th>\n",
       "      <td>1.688590<\/td>\n",
       "      <td>1.217648<\/td>\n",
       "    <\/tr>\n",
       "    <tr>\n",
       "      <th>Enroll<\/th>\n",
       "      <td>2.049080<\/td>\n",
       "      <td>1.569136<\/td>\n",
       "    <\/tr>\n",
       "    <tr>\n",
       "      <th>Top10perc<\/th>\n",
       "      <td>2.231579<\/td>\n",
       "      <td>9.431579<\/td>\n",
       "    <\/tr>\n",
       "    <tr>\n",
       "      <th>Top25perc<\/th>\n",
       "      <td>10.000000<\/td>\n",
       "      <td>7.725275<\/td>\n",
       "    <\/tr>\n",
       "    <tr>\n",
       "      <th>F.Undergrad<\/th>\n",
       "      <td>2.240414<\/td>\n",
       "      <td>1.282250<\/td>\n",
       "    <\/tr>\n",
       "    <tr>\n",
       "      <th>P.Undergrad<\/th>\n",
       "      <td>1.011953<\/td>\n",
       "      <td>1.002061<\/td>\n",
       "    <\/tr>\n",
       "    <tr>\n",
       "      <th>Outstate<\/th>\n",
       "      <td>3.128667<\/td>\n",
       "      <td>3.076136<\/td>\n",
       "    <\/tr>\n",
       "    <tr>\n",
       "      <th>Room.Board<\/th>\n",
       "      <td>7.812421<\/td>\n",
       "      <td>4.787831<\/td>\n",
       "    <\/tr>\n",
       "    <tr>\n",
       "      <th>Books<\/th>\n",
       "      <td>3.021390<\/td>\n",
       "      <td>3.021390<\/td>\n",
       "    <\/tr>\n",
       "    <tr>\n",
       "      <th>Personal<\/th>\n",
       "      <td>3.473282<\/td>\n",
       "      <td>1.893130<\/td>\n",
       "    <\/tr>\n",
       "    <tr>\n",
       "      <th>PhD<\/th>\n",
       "      <td>6.115789<\/td>\n",
       "      <td>8.957895<\/td>\n",
       "    <\/tr>\n",
       "    <tr>\n",
       "      <th>Terminal<\/th>\n",
       "      <td>10.000000<\/td>\n",
       "      <td>6.921053<\/td>\n",
       "    <\/tr>\n",
       "    <tr>\n",
       "      <th>S.F.Ratio<\/th>\n",
       "      <td>3.750670<\/td>\n",
       "      <td>3.412869<\/td>\n",
       "    <\/tr>\n",
       "    <tr>\n",
       "      <th>perc.alumni<\/th>\n",
       "      <td>3.671875<\/td>\n",
       "      <td>7.750000<\/td>\n",
       "    <\/tr>\n",
       "    <tr>\n",
       "      <th>Expend<\/th>\n",
       "      <td>1.608574<\/td>\n",
       "      <td>1.471997<\/td>\n",
       "    <\/tr>\n",
       "    <tr>\n",
       "      <th>Grad.Rate<\/th>\n",
       "      <td>8.500000<\/td>\n",
       "      <td>7.250000<\/td>\n",
       "    <\/tr>\n",
       "  <\/tbody>\n",
       "<\/table>\n",
       "<\/div>"
      ]
     },
     "metadata":{
      
     },
     "output_type":"display_data"
    }
   ],
   "metadata":{
    "datalore":{
     "node_id":"o47JiXsC9eZ7JsmzCaUjft",
     "type":"CODE",
     "hide_input_from_viewers":true,
     "hide_output_from_viewers":true
    }
   }
  },
  {
   "cell_type":"code",
   "source":[
    "# Plot out the changes in each step of our iterations\n",
    "from sklearn.decomposition import PCA # Principle component analysis, because several features, turning into 2D \n",
    "from IPython.display import clear_output  # Clear the output then put a new graph in"
   ],
   "execution_count":83,
   "outputs":[
    
   ],
   "metadata":{
    "datalore":{
     "node_id":"KFaXPk3OlR879ZxM0fUk5r",
     "type":"CODE",
     "hide_input_from_viewers":true,
     "hide_output_from_viewers":true
    }
   }
  },
  {
   "cell_type":"code",
   "source":[
    "def plot_clusters(data, labels, centroids, iterations):\n",
    "    pca = PCA(n_components=2)  # we're passing in several column, and expecting to return 2 dimensional\n",
    "    data_2d = pca.fit_transform(data)\n",
    "    centroids_2d = pca.transform(centroids.T)\n",
    "    clear_output(wait=True)\n",
    "    plt.title(f'Iteration{iterations}')\n",
    "    plt.scatter(x=data_2d[:, 0], y=data_2d[:, 1], c=labels)\n",
    "    plt.scatter(x=centroids_2d[:,0], y=centroids_2d[:,1])\n",
    "    plt.show()"
   ],
   "execution_count":84,
   "outputs":[
    
   ],
   "metadata":{
    "datalore":{
     "node_id":"QBIJr26UhclHiTZCmfeySK",
     "type":"CODE",
     "hide_input_from_viewers":true,
     "hide_output_from_viewers":true
    }
   }
  },
  {
   "cell_type":"code",
   "source":[
    "# Body of our algorithm\n",
    "max_iterations = 100\n",
    "k = 2 # Number of clusters\n",
    "\n",
    "centroids = random_centroids(data, k)\n",
    "old_centroids = pd.DataFrame()   # Stop the iteration when values aren't changing anymore\n",
    "iteration = 1  # Starting iteration #1\n",
    "\n",
    "while iteration < max_iterations and not centroids.equals(old_centroids):\n",
    "    old_centroids = centroids\n",
    "    \n",
    "    labels = get_labels(data, centroids)\n",
    "    centroids = new_centroids(data, labels, k)\n",
    "    plot_clusters(data, labels, centroids, iteration)\n",
    "    iteration += 1"
   ],
   "execution_count":86,
   "outputs":[
    {
     "data":{
      "image\/png":"[encoded data removed]"
     },
     "metadata":{
      "image\/png":{
       
      }
     },
     "output_type":"display_data"
    }
   ],
   "metadata":{
    "datalore":{
     "node_id":"h9RvVYlZasdOqvymObIQYu",
     "type":"CODE",
     "hide_input_from_viewers":true,
     "hide_output_from_viewers":true
    }
   }
  },
  {
   "cell_type":"code",
   "source":[
    "centroids"
   ],
   "execution_count":90,
   "outputs":[
    {
     "data":{
      "text\/html":[
       "<div>\n",
       "<style scoped>\n",
       "    .dataframe tbody tr th:only-of-type {\n",
       "        vertical-align: middle;\n",
       "    }\n",
       "\n",
       "    .dataframe tbody tr th {\n",
       "        vertical-align: top;\n",
       "    }\n",
       "\n",
       "    .dataframe thead th {\n",
       "        text-align: right;\n",
       "    }\n",
       "<\/style>\n",
       "<table border=\"1\" class=\"dataframe\">\n",
       "  <thead>\n",
       "    <tr style=\"text-align: right;\">\n",
       "      <th><\/th>\n",
       "      <th>0<\/th>\n",
       "      <th>1<\/th>\n",
       "    <\/tr>\n",
       "  <\/thead>\n",
       "  <tbody>\n",
       "    <tr>\n",
       "      <th>Apps<\/th>\n",
       "      <td>1.288750<\/td>\n",
       "      <td>1.596773<\/td>\n",
       "    <\/tr>\n",
       "    <tr>\n",
       "      <th>Accept<\/th>\n",
       "      <td>1.378258<\/td>\n",
       "      <td>1.699706<\/td>\n",
       "    <\/tr>\n",
       "    <tr>\n",
       "      <th>Enroll<\/th>\n",
       "      <td>1.633214<\/td>\n",
       "      <td>1.976460<\/td>\n",
       "    <\/tr>\n",
       "    <tr>\n",
       "      <th>Top10perc<\/th>\n",
       "      <td>2.324953<\/td>\n",
       "      <td>4.214996<\/td>\n",
       "    <\/tr>\n",
       "    <tr>\n",
       "      <th>Top25perc<\/th>\n",
       "      <td>4.016537<\/td>\n",
       "      <td>6.694546<\/td>\n",
       "    <\/tr>\n",
       "    <tr>\n",
       "      <th>F.Undergrad<\/th>\n",
       "      <td>1.609811<\/td>\n",
       "      <td>1.875908<\/td>\n",
       "    <\/tr>\n",
       "    <tr>\n",
       "      <th>P.Undergrad<\/th>\n",
       "      <td>1.298741<\/td>\n",
       "      <td>1.258881<\/td>\n",
       "    <\/tr>\n",
       "    <tr>\n",
       "      <th>Outstate<\/th>\n",
       "      <td>3.405681<\/td>\n",
       "      <td>5.513524<\/td>\n",
       "    <\/tr>\n",
       "    <tr>\n",
       "      <th>Room.Board<\/th>\n",
       "      <td>3.668561<\/td>\n",
       "      <td>5.156899<\/td>\n",
       "    <\/tr>\n",
       "    <tr>\n",
       "      <th>Books<\/th>\n",
       "      <td>2.691003<\/td>\n",
       "      <td>2.815954<\/td>\n",
       "    <\/tr>\n",
       "    <tr>\n",
       "      <th>Personal<\/th>\n",
       "      <td>2.473946<\/td>\n",
       "      <td>2.249622<\/td>\n",
       "    <\/tr>\n",
       "    <tr>\n",
       "      <th>PhD<\/th>\n",
       "      <td>5.899036<\/td>\n",
       "      <td>7.960814<\/td>\n",
       "    <\/tr>\n",
       "    <tr>\n",
       "      <th>Terminal<\/th>\n",
       "      <td>6.190931<\/td>\n",
       "      <td>8.543137<\/td>\n",
       "    <\/tr>\n",
       "    <tr>\n",
       "      <th>S.F.Ratio<\/th>\n",
       "      <td>3.997380<\/td>\n",
       "      <td>3.409150<\/td>\n",
       "    <\/tr>\n",
       "    <tr>\n",
       "      <th>perc.alumni<\/th>\n",
       "      <td>3.093890<\/td>\n",
       "      <td>4.650030<\/td>\n",
       "    <\/tr>\n",
       "    <tr>\n",
       "      <th>Expend<\/th>\n",
       "      <td>1.628337<\/td>\n",
       "      <td>2.350755<\/td>\n",
       "    <\/tr>\n",
       "    <tr>\n",
       "      <th>Grad.Rate<\/th>\n",
       "      <td>4.628295<\/td>\n",
       "      <td>6.229847<\/td>\n",
       "    <\/tr>\n",
       "  <\/tbody>\n",
       "<\/table>\n",
       "<\/div>"
      ]
     },
     "metadata":{
      
     },
     "output_type":"display_data"
    }
   ],
   "metadata":{
    "datalore":{
     "node_id":"684FLWavHJwvCFOOnyKC2y",
     "type":"CODE",
     "hide_input_from_viewers":true,
     "hide_output_from_viewers":true
    }
   }
  },
  {
   "cell_type":"code",
   "source":[
    "# Uses K Means algo to compare with our result\n",
    " \n",
    "from sklearn.cluster import KMeans\n",
    "\n",
    "kmeans = KMeans(n_clusters=2)\n",
    "\n",
    "kmeans.fit(data[features])\n",
    "\n",
    "data['kmeans_labels'] = kmeans.labels_"
   ],
   "execution_count":96,
   "outputs":[
    {
     "name":"stderr",
     "text":[
      "\/opt\/python\/envs\/default\/lib\/python3.8\/site-packages\/sklearn\/cluster\/_kmeans.py:870: FutureWarning: The default value of `n_init` will change from 10 to 'auto' in 1.4. Set the value of `n_init` explicitly to suppress the warning\n",
      "  warnings.warn(\n"
     ],
     "output_type":"stream"
    }
   ],
   "metadata":{
    "datalore":{
     "node_id":"RxbEKSUTTapK980N4ayg7R",
     "type":"CODE",
     "hide_input_from_viewers":true,
     "hide_output_from_viewers":true
    }
   }
  },
  {
   "cell_type":"code",
   "source":[
    
   ],
   "execution_count":101,
   "outputs":[
    {
     "ename":"AttributeError",
     "evalue":"AttributeError: 'numpy.ndarray' object has no attribute 'value_counts'",
     "traceback":[
      "\u001b[0;31m---------------------------------------------------------------------------",
      "Traceback (most recent call last)",
      "    at line 1 in <module>",
      "AttributeError: 'numpy.ndarray' object has no attribute 'value_counts'"
     ],
     "output_type":"error"
    }
   ],
   "metadata":{
    "datalore":{
     "node_id":"kwO3qaEdkDL0k1G8PXFZh2",
     "type":"CODE",
     "hide_input_from_viewers":true,
     "hide_output_from_viewers":true
    }
   }
  },
  {
   "cell_type":"code",
   "source":[
    "# Use scatter plot to  visualize these points and its centroids \n",
    "from sklearn.decomposition import PCA\n",
    "\n",
    "# Instantiate a PCA object with n_components=2\n",
    "pca = PCA(n_components=2)\n",
    "\n",
    "# Fit and transform the multi-dimensional dataset to 2D\n",
    "data_2d = pca.fit_transform(data[features])\n",
    "\n",
    "# Transform Centroids from multi-dimension to 2D using PCA\n",
    "centroids_2d = pca.transform(centroids.T)\n",
    "\n",
    "# Create a scatterplot for the 2D representation of our data\n",
    "plt.figure(figsize=(10,6))\n",
    "\n",
    "# Scatter Plot for the data points\n",
    "plt.scatter(data_2d[:, 0], data_2d[:, 1], c=data['kmeans_labels'], alpha=0.5, cmap='rainbow')\n",
    "\n",
    "# Scatter Plot for the Centroids points\n",
    "plt.scatter(centroids_2d[:, 0], centroids_2d[:, 1], color='black')\n",
    "\n",
    "plt.xlabel('Principal Component 1') \n",
    "plt.ylabel('Principal Component 2')\n",
    "plt.title('Clusters and Centroids plot in 2D using PCA')\n",
    "plt.show()"
   ],
   "execution_count":97,
   "outputs":[
    {
     "data":{
      "image\/png":"[encoded data removed]"
     },
     "metadata":{
      "image\/png":{
       
      }
     },
     "output_type":"display_data"
    }
   ],
   "metadata":{
    "datalore":{
     "node_id":"Qa2wUAT56WTdGN4n7RCSZg",
     "type":"CODE",
     "hide_input_from_viewers":true,
     "hide_output_from_viewers":true
    }
   }
  },
  {
   "cell_type":"code",
   "source":[
    
   ],
   "execution_count":null,
   "outputs":[
    
   ],
   "metadata":{
    "datalore":{
     "node_id":"PTYn4PZJQQLhMpaDoJ8s4Y",
     "type":"CODE",
     "hide_input_from_viewers":true,
     "hide_output_from_viewers":true
    }
   }
  }
 ],
 "metadata":{
  "kernelspec":{
   "display_name":"Python",
   "language":"python",
   "name":"python"
  },
  "datalore":{
   "computation_mode":"JUPYTER",
   "package_manager":"pip",
   "base_environment":"default",
   "packages":[
    
   ],
   "report_row_ids":[
    
   ],
   "version":3
  }
 },
 "nbformat":4,
 "nbformat_minor":4
}